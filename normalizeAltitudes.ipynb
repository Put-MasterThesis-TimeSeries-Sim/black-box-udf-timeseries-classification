{
 "cells": [
  {
   "cell_type": "code",
   "execution_count": null,
   "metadata": {
    "collapsed": false,
    "pycharm": {
     "name": "#%%\n"
    }
   },
   "outputs": [],
   "source": [
    "import pandas as pd\n",
    "from plotnine import *\n",
    "import os"
   ]
  },
  {
   "cell_type": "code",
   "execution_count": null,
   "metadata": {},
   "outputs": [],
   "source": [
    "entry_directory = \"Raw\"\n",
    "prepared_directory = \"Prepared\"\n",
    "organised_directory = \"Organised\""
   ]
  },
  {
   "cell_type": "markdown",
   "metadata": {},
   "source": [
    "## standardise joined files for each udf type"
   ]
  },
  {
   "cell_type": "code",
   "execution_count": null,
   "metadata": {},
   "outputs": [],
   "source": [
    "%matplotlib inline\n",
    "udf_types = ['aggregation', 'filtration', 'filtration-aggregation', 'filtration-aggregation-join', 'filtration-join']\n",
    "for udf_type in udf_types:\n",
    "  \n",
    "  full_df = pd.read_csv(f\"{organised_directory}/{udf_type}/joined_{udf_type}.csv\")\n",
    "  means_df = full_df[[\"CPU\", \"RAM\"]].groupby(full_df[\"snapshot\"]).mean().rename(columns={\"CPU\" : \"Mean_CPU\", \"RAM\" : \"Mean_RAM\"}).reset_index()\n",
    "  std_df = full_df[[\"CPU\", \"RAM\"]].groupby(full_df[\"snapshot\"]).std().rename(columns={\"CPU\" : \"Std_CPU\", \"RAM\" : \"Std_RAM\"}).reset_index()\n",
    "  full_df = full_df.join(means_df, on=\"snapshot\", rsuffix=\"_means\",  how =\"left\").join(std_df, on=\"snapshot\", rsuffix=\"_stds\", how =\"left\")\n",
    "  full_df[\"CPU\"] = (full_df[\"CPU\"]-full_df[\"Mean_CPU\"])/full_df[\"Std_CPU\"]\n",
    "  full_df[\"RAM\"] = (full_df[\"RAM\"]-full_df[\"Mean_RAM\"])/full_df[\"Std_RAM\"]\n",
    "\n",
    "  if not os.path.exists(f\"{organised_directory}/{udf_type}\"):\n",
    "      os.makedirs(f\"{organised_directory}/{udf_type}\")\n",
    "  full_df[[\"snapshot\", \"label\", \"udf\", \"epoch\", \"CPU\", \"RAM\"]].to_csv(f\"./{organised_directory}/{udf_type}/standardised_{udf_type}.csv\", index = False)\n"
   ]
  },
  {
   "cell_type": "markdown",
   "metadata": {},
   "source": [
    "## normalize joined files for each udf type"
   ]
  },
  {
   "cell_type": "code",
   "execution_count": null,
   "metadata": {},
   "outputs": [],
   "source": [
    "%matplotlib inline\n",
    "udf_types = ['aggregation', 'filtration', 'filtration-aggregation', 'filtration-aggregation-join', 'filtration-join']\n",
    "full_df = pd.DataFrame()\n",
    "for udf_type in udf_types:\n",
    "    full_df = pd.concat([full_df, pd.read_csv(f\"{organised_directory}/{udf_type}/joined_{udf_type}.csv\")])\n",
    "\n",
    "full_df.CPU = (full_df.CPU-full_df.CPU.min())/(full_df.CPU.max() - full_df.CPU.min())\n",
    "full_df.RAM = (full_df.RAM-full_df.RAM.min())/(full_df.RAM.max() - full_df.RAM.min())\n",
    "for udf_type in udf_types:\n",
    "    if not os.path.exists(f\"{organised_directory}/{udf_type}\"):\n",
    "        os.makedirs(f\"{organised_directory}/{udf_type}\")\n",
    "    full_df[full_df.label == udf_type].to_csv(f\"./{organised_directory}/{udf_type}/normalized_{udf_type}.csv\", index = False)"
   ]
  }
 ],
 "metadata": {
  "kernelspec": {
   "display_name": "Python 3",
   "language": "python",
   "name": "python3"
  },
  "language_info": {
   "codemirror_mode": {
    "name": "ipython",
    "version": 3
   },
   "file_extension": ".py",
   "mimetype": "text/x-python",
   "name": "python",
   "nbconvert_exporter": "python",
   "pygments_lexer": "ipython3",
   "version": "3.10.2"
  }
 },
 "nbformat": 4,
 "nbformat_minor": 0
}
