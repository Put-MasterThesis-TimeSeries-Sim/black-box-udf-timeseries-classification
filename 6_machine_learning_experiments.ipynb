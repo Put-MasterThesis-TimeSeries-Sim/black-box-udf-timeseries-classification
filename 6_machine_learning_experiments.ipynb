{
 "cells": [
  {
   "cell_type": "markdown",
   "metadata": {},
   "source": [
    "# Notebook with machine learning experiments, trying out TSLearn and SKTime python modlues\n",
    "\n",
    "## Utility Functions"
   ]
  },
  {
   "cell_type": "code",
   "execution_count": 6,
   "metadata": {},
   "outputs": [],
   "source": [
    "import time\n",
    "import pandas as pd\n",
    "import numpy as np\n",
    "from os.path import exists\n",
    "from os import makedirs\n",
    "from datetime import datetime\n",
    "from sklearn.metrics import classification_report\n",
    "from sktime.datatypes._panel._convert import (\n",
    "    from_multi_index_to_nested,\n",
    ")\n",
    "entry_directory = \"Raw\"\n",
    "prepared_directory = \"Prepared\"\n",
    "organised_directory = \"Organised\"\n",
    "ml_directory = \"MachineLearning\"\n",
    "RESULTS_PATH = \"MachineLearning/results\"\n",
    "DATA_PATH = \"MachineLearning/ts_datasets\"\n",
    "seed = 42\n",
    "\n",
    "def remap_labels(label):\n",
    "    \"\"\"Remap labels from string to numeric\n",
    "\n",
    "    Args:\n",
    "        label string: label to remap\n",
    "\n",
    "    Returns:\n",
    "        int: return number for each label:\n",
    "            0 - aggregation\n",
    "            1 - filtration\n",
    "            2 - filtration-aggregation\n",
    "            3 - filtration-aggregation-join\n",
    "            4 - flitration-join\n",
    "    \"\"\"\n",
    "    if label == \"aggregation\":\n",
    "        return 0\n",
    "    elif label == \"filtration\":\n",
    "        return 1\n",
    "    elif label == \"filtration-aggregation\":\n",
    "        return 2\n",
    "    elif label == \"filtration-aggregation-join\":\n",
    "        return 3\n",
    "    else:\n",
    "        return 4\n",
    "\n",
    "def grow_snapshots(snapshot, label, snapshots):\n",
    "    \"\"\"Grow snapshot numbers incrementally for joined dataframe.\n",
    "\n",
    "    Args:\n",
    "        snapshot int: original snapshot number\n",
    "        label string: label of the snapshot\n",
    "        snapshots int: number of snapshots in each class.\n",
    "\n",
    "    Returns:\n",
    "        int: increased snapshot.\n",
    "    \"\"\"\n",
    "    if label == \"aggregation\":\n",
    "        return snapshot\n",
    "    elif label == \"filtration\":\n",
    "        return snapshot + snapshots\n",
    "    elif label == \"filtration-aggregation\":\n",
    "        return snapshot + 2*snapshots\n",
    "    elif label == \"filtration-aggregation-join\":\n",
    "        return snapshot + 3*snapshots\n",
    "    else:\n",
    "        return snapshot + 4*snapshots\n",
    "\n",
    "def read_dataset_TSLearn(udf_types, organised_directory, num_of_samples = 0, include_RAM = False, file_type = \"joined\"):\n",
    "    \"\"\"Reads csv files and converts them into TSLearn friendly format.\n",
    "\n",
    "    Args:\n",
    "        udf_types array: requested udf types\n",
    "        organised_directory string: path to organised directory\n",
    "        num_of_samples (int, optional): How many samples to read from csvs. Defaults to 0 if all snapshots are to be read.\n",
    "        include_RAM (bool, optional): Shold RAM dimension be included in the dataset. Defaults to False.\n",
    "        file_type (str, optional): Type of dataset. Defaults to \"joined\".\n",
    "\n",
    "    Returns:\n",
    "        typle(numpy.array, pandas.dataframe): label array in order, pandas dataframe in tslearn format of CPU and RAM.\n",
    "    \"\"\"\n",
    "    from tslearn.utils import to_time_series_dataset, to_time_series\n",
    "\n",
    "    full_df = pd.DataFrame()\n",
    "    for udf_type in udf_types:\n",
    "        full_df = pd.concat([full_df, pd.read_csv(f\"{organised_directory}/{udf_type}/{file_type}_{udf_type}.csv\")])\n",
    "    if num_of_samples > 0:\n",
    "        full_df = full_df[full_df.snapshot < num_of_samples]\n",
    "    \n",
    "    if include_RAM:\n",
    "        full_df[\"timeseries\"] = full_df.apply(lambda x: np.array([x.CPU, x.RAM]), axis=1)\n",
    "        full_df = full_df[full_df.snapshot < 200].groupby([\"label\", \"snapshot\"]).timeseries.apply(list).reset_index()\n",
    "        ts_series = full_df.timeseries.apply(to_time_series).to_numpy()\n",
    "    else:\n",
    "        full_df = full_df.groupby([\"label\", \"snapshot\"]).CPU.apply(np.array).reset_index()\n",
    "        ts_series = full_df.CPU.to_numpy()\n",
    "    ts_labels_str = full_df.label.to_numpy()\n",
    "    ts_labels = full_df.label.apply(remap_labels).to_numpy()\n",
    "    ts_series = to_time_series_dataset(ts_series)\n",
    "\n",
    "    return ts_labels, ts_series\n",
    "\n",
    "def read_dataset_sktime_zeros(udf_types, organised_directory, num_of_samples = 0, include_RAM = False, file_type = \"joined\"):\n",
    "    \"\"\"Reads csv files and converts them into SKTime friendly format padded with zeros.  \n",
    "\n",
    "    Args:\n",
    "        udf_types array: requested udf types\n",
    "        organised_directory string: path to organised directory\n",
    "        num_of_samples (int, optional): How many samples to read from csvs. Defaults to 0 if all snapshots are to be read.\n",
    "        include_RAM (bool, optional): Shold RAM dimension be included in the dataset. Defaults to False.\n",
    "        file_type (str, optional): Type of dataset. Defaults to \"joined\".\n",
    "\n",
    "    Returns:\n",
    "        typle(numpy.array, pandas.dataframe): label array in order, pandas dataframe in tslearn format of CPU and RAM.\n",
    "    \"\"\"\n",
    "    full_df = pd.DataFrame()\n",
    "    for udf_type in udf_types:\n",
    "        full_df = pd.concat([full_df, pd.read_csv(f\"{organised_directory}/{udf_type}/{file_type}_{udf_type}.csv\")])\n",
    "    if num_of_samples > 0:\n",
    "        full_df = full_df[full_df.snapshot < num_of_samples]\n",
    "\n",
    "    ts_y = full_df[full_df.epoch == 0.0].label.apply(remap_labels).to_numpy()\n",
    "    full_df[\"snapshot\"] = full_df.apply(lambda x: grow_snapshots(x.snapshot, x.label, num_of_samples), axis=1)\n",
    "    df = full_df.set_index([\"snapshot\", full_df.groupby(\"snapshot\").cumcount()])\n",
    "    index = pd.MultiIndex.from_product(df.index.levels, names=df.index.names)\n",
    "    output = df.reindex(index, fill_value=0).reset_index(level=1, drop=True).reset_index()\n",
    "    output[\"row_number\"] = output.groupby(\"snapshot\").cumcount()\n",
    "    if include_RAM:\n",
    "        ts_x = output[[\"snapshot\", \"row_number\", \"CPU\", \"RAM\"]].set_index([\"snapshot\", \"row_number\"])\n",
    "    else:\n",
    "        ts_x = output[[\"snapshot\", \"row_number\", \"CPU\"]].set_index([\"snapshot\", \"row_number\"])\n",
    "\n",
    "    return ts_y, from_multi_index_to_nested(ts_x)\n",
    "\n",
    "def wrap_classification_timer(clf, X_train, y_train, x_test, y_test):\n",
    "    \"\"\"Wraps classification process in a simple timer\n",
    "\n",
    "    Args:\n",
    "        clf : classificator from sklearn library\n",
    "        X_train pandas.dataframe: X for train dataset\n",
    "        y_train numpy.array: y for train dataset\n",
    "        x_test pandas.dataframe: X for test dataset\n",
    "        y_test numpy.array: y for test dataset\n",
    "\n",
    "    Returns:\n",
    "        sklearn classificator after learning.\n",
    "    \"\"\"\n",
    "    start = time.time()\n",
    "    print(f\"start time: {datetime.fromtimestamp(start)}\")\n",
    "    clf.fit(X_train, y_train)\n",
    "    print(classification_report(y_test, clf.predict(x_test)))\n",
    "    end = time.time()\n",
    "    print(f\"end time: {datetime.fromtimestamp(end)}\")\n",
    "    time_elapsed = (end - start)/60\n",
    "    print(f\"time elapsed: {time_elapsed} minutes.\")\n",
    "\n",
    "    return clf\n",
    "\n",
    "def write_ts_file(base_path, dataset_name, possible_labels, X_train, X_test, y_train, y_test):\n",
    "    \"\"\"Writes file in ts format that is easy to read for tslearn library.\n",
    "\n",
    "    Args:\n",
    "        base_path string: base path for the dataset files\n",
    "        dataset_name string: name of the dataset\n",
    "        possible_labels string: list of possible labels delimited with space\n",
    "        X_train pandas.dataframe: X for train dataset\n",
    "        X_test pandas.dataframe: X for test dataset\n",
    "        y_train numpy.array: y for train dataset\n",
    "        y_test numpy.array: y for test dataset\n",
    "    \"\"\"\n",
    "    if not exists(f\"{base_path}/{dataset_name}\"):\n",
    "        makedirs(f\"{base_path}/{dataset_name}\")\n",
    "    text_file = open(f\"{base_path}/{dataset_name}/{dataset_name}_TRAIN.ts\", \"w\")\n",
    "    header = f\"@problemName {dataset_name}\\n@timeStamps false\\n@classLabel true {possible_labels}\\n@univariate false\\n@data\\n\"\n",
    "    text_file.write(header)\n",
    "    i = 0\n",
    "    for _, dataset in X_train.iterrows():\n",
    "        ram = ','.join(str(e) for e in dataset.RAM.to_list())\n",
    "        cpu = ','.join(str(e) for e in dataset.CPU.to_list())\n",
    "        label = y_train[i]\n",
    "        i += 1\n",
    "        output = cpu + ':' + ram + ':' + str(label) + \"\\n\"\n",
    "        text_file.write(output)\n",
    "    text_file.close()\n",
    "\n",
    "    text_file = open(f\"{base_path}/{dataset_name}/{dataset_name}_TEST.ts\", \"w\")\n",
    "    text_file.write(header)\n",
    "    i = 0\n",
    "    for _, dataset in X_test.iterrows():\n",
    "        ram = ','.join(str(e) for e in dataset.RAM.to_list())\n",
    "        cpu = ','.join(str(e) for e in dataset.CPU.to_list())\n",
    "        label = y_test[i]\n",
    "        i += 1\n",
    "        output = cpu + ':' + ram + ':' + str(label) + \"\\n\"\n",
    "        text_file.write(output)\n",
    "    text_file.close()"
   ]
  },
  {
   "cell_type": "markdown",
   "metadata": {},
   "source": [
    "# TSLearn experiments"
   ]
  },
  {
   "cell_type": "code",
   "execution_count": 2,
   "metadata": {},
   "outputs": [],
   "source": [
    "from sklearn.model_selection import train_test_split\n",
    "from sklearn.metrics import classification_report\n",
    "udf_types = ['aggregation', 'filtration', 'filtration-aggregation']\n",
    "number_of_samples = 300\n",
    "\n",
    "joined_ts_labels, joined_ts_series, joined_ts_labels_str = read_dataset_TSLearn(udf_types, organised_directory, number_of_samples, True, \"joined\")\n",
    "normalized_ts_labels, normalized_ts_series, normalized_ts_labels_str = read_dataset_TSLearn(udf_types, organised_directory, number_of_samples, True, \"normalized\")\n",
    "smooth_ts_labels, smooth_ts_series, smooth_ts_labels_str = read_dataset_TSLearn(udf_types, organised_directory, number_of_samples, True, \"12_normalized_smooth\")\n",
    "\n",
    "joined_X_train, joined_X_test, joined_y_train, joined_y_test = train_test_split(joined_ts_series, joined_ts_labels, test_size=0.33, random_state=seed)\n",
    "normalized_X_train, normalized_X_test, normalized_y_train, normalized_y_test = train_test_split(normalized_ts_series, normalized_ts_labels, test_size=0.33, random_state=seed)\n",
    "smooth_X_train, smooth_X_test, smooth_y_train, smooth_y_test = train_test_split(smooth_ts_series, smooth_ts_labels, test_size=0.33, random_state=seed)\n"
   ]
  },
  {
   "cell_type": "markdown",
   "metadata": {},
   "source": [
    "## KNN"
   ]
  },
  {
   "cell_type": "code",
   "execution_count": 34,
   "metadata": {},
   "outputs": [
    {
     "name": "stdout",
     "output_type": "stream",
     "text": [
      "start time: 2022-04-30 13:45:37.624882\n",
      "              precision    recall  f1-score   support\n",
      "\n",
      "           0       0.99      0.94      0.96        71\n",
      "           1       0.98      1.00      0.99        61\n",
      "           2       0.94      0.97      0.96        66\n",
      "\n",
      "    accuracy                           0.97       198\n",
      "   macro avg       0.97      0.97      0.97       198\n",
      "weighted avg       0.97      0.97      0.97       198\n",
      "\n",
      "end time: 2022-04-30 14:01:01.625050\n",
      "time elapsed: 15.400002797444662 minutes.\n"
     ]
    }
   ],
   "source": [
    "\n",
    "from tslearn.neighbors import KNeighborsTimeSeriesClassifier\n",
    "\n",
    "# joined dataset\n",
    "path_to_model = f\"./{ml_directory}/knn_trained_joined.hdf5\"\n",
    "if exists(path_to_model):\n",
    "    knn_joined = KNeighborsTimeSeriesClassifier.from_hdf5(path_to_model)\n",
    "    print(classification_report(joined_y_test, knn_joined.predict(joined_X_test)))\n",
    "else:\n",
    "    knn_joined = wrap_classification_timer(KNeighborsTimeSeriesClassifier(n_neighbors=3, metric=\"dtw\", n_jobs=4), joined_X_train, joined_y_train, joined_X_test, joined_y_test)\n",
    "    knn_joined.to_hdf5(path_to_model)"
   ]
  },
  {
   "cell_type": "code",
   "execution_count": 35,
   "metadata": {},
   "outputs": [
    {
     "name": "stdout",
     "output_type": "stream",
     "text": [
      "start time: 2022-04-30 14:01:01.741091\n",
      "              precision    recall  f1-score   support\n",
      "\n",
      "           0       0.94      0.96      0.95        71\n",
      "           1       0.98      1.00      0.99        61\n",
      "           2       0.95      0.92      0.94        66\n",
      "\n",
      "    accuracy                           0.96       198\n",
      "   macro avg       0.96      0.96      0.96       198\n",
      "weighted avg       0.96      0.96      0.96       198\n",
      "\n",
      "end time: 2022-04-30 14:16:18.656087\n",
      "time elapsed: 15.281916602452595 minutes.\n"
     ]
    }
   ],
   "source": [
    "# normalized dataset\n",
    "path_to_model = f\"./{ml_directory}/knn_trained_normalized.hdf5\"\n",
    "if exists(path_to_model):\n",
    "    knn_normalized = KNeighborsTimeSeriesClassifier.from_hdf5(path_to_model)\n",
    "    print(classification_report(normalized_y_test, knn_normalized.predict(normalized_X_test)))\n",
    "else:\n",
    "    knn_normalized = wrap_classification_timer(KNeighborsTimeSeriesClassifier(n_neighbors=3, metric=\"dtw\", n_jobs=4), normalized_X_train, normalized_y_train, normalized_X_test, normalized_y_test)\n",
    "    knn_normalized.to_hdf5(path_to_model)\n"
   ]
  },
  {
   "cell_type": "code",
   "execution_count": 36,
   "metadata": {},
   "outputs": [
    {
     "name": "stdout",
     "output_type": "stream",
     "text": [
      "start time: 2022-04-30 14:16:18.745089\n",
      "              precision    recall  f1-score   support\n",
      "\n",
      "           0       0.89      0.93      0.91        71\n",
      "           1       0.98      1.00      0.99        61\n",
      "           2       0.92      0.86      0.89        66\n",
      "\n",
      "    accuracy                           0.93       198\n",
      "   macro avg       0.93      0.93      0.93       198\n",
      "weighted avg       0.93      0.93      0.93       198\n",
      "\n",
      "end time: 2022-04-30 14:31:28.770088\n",
      "time elapsed: 15.167083323001862 minutes.\n"
     ]
    }
   ],
   "source": [
    "# smooth dataset\n",
    "path_to_model = f\"./{ml_directory}/knn_trained_smooth.hdf5\"\n",
    "if exists(path_to_model):\n",
    "    knn_smooth = KNeighborsTimeSeriesClassifier.from_hdf5(path_to_model)\n",
    "    print(classification_report(smooth_y_test, knn_smooth.predict(smooth_X_test)))\n",
    "else:\n",
    "    knn_smooth = wrap_classification_timer(KNeighborsTimeSeriesClassifier(n_neighbors=3, metric=\"dtw\", n_jobs=4), smooth_X_train, smooth_y_train, smooth_X_test, smooth_y_test)\n",
    "    knn_smooth.to_hdf5(path_to_model)\n"
   ]
  },
  {
   "cell_type": "markdown",
   "metadata": {},
   "source": [
    "## Shapelets"
   ]
  },
  {
   "cell_type": "code",
   "execution_count": 44,
   "metadata": {},
   "outputs": [
    {
     "name": "stderr",
     "output_type": "stream",
     "text": [
      "C:\\Users\\Miket\\AppData\\Local\\Programs\\Python\\Python310\\lib\\site-packages\\tslearn\\shapelets\\shapelets.py:354: FutureWarning: The default value for 'scale' is set to False in version 0.4 to ensure backward compatibility, but is likely to change in a future version.\n"
     ]
    },
    {
     "name": "stdout",
     "output_type": "stream",
     "text": [
      "start time: 2022-04-30 14:41:35.713545\n",
      "              precision    recall  f1-score   support\n",
      "\n",
      "           0       0.36      1.00      0.53        71\n",
      "           1       0.00      0.00      0.00        61\n",
      "           2       0.00      0.00      0.00        66\n",
      "\n",
      "    accuracy                           0.36       198\n",
      "   macro avg       0.12      0.33      0.18       198\n",
      "weighted avg       0.13      0.36      0.19       198\n",
      "\n",
      "end time: 2022-04-30 14:47:08.344848\n",
      "time elapsed: 5.543855047225952 minutes.\n"
     ]
    },
    {
     "name": "stderr",
     "output_type": "stream",
     "text": [
      "C:\\Users\\Miket\\AppData\\Local\\Programs\\Python\\Python310\\lib\\site-packages\\sklearn\\metrics\\_classification.py:1318: UndefinedMetricWarning: Precision and F-score are ill-defined and being set to 0.0 in labels with no predicted samples. Use `zero_division` parameter to control this behavior.\n",
      "C:\\Users\\Miket\\AppData\\Local\\Programs\\Python\\Python310\\lib\\site-packages\\sklearn\\metrics\\_classification.py:1318: UndefinedMetricWarning: Precision and F-score are ill-defined and being set to 0.0 in labels with no predicted samples. Use `zero_division` parameter to control this behavior.\n",
      "C:\\Users\\Miket\\AppData\\Local\\Programs\\Python\\Python310\\lib\\site-packages\\sklearn\\metrics\\_classification.py:1318: UndefinedMetricWarning: Precision and F-score are ill-defined and being set to 0.0 in labels with no predicted samples. Use `zero_division` parameter to control this behavior.\n"
     ]
    }
   ],
   "source": [
    "from tslearn.shapelets import LearningShapelets, grabocka_params_to_shapelet_size_dict\n",
    "from tensorflow import optimizers as opt\n",
    "\n",
    "path_to_model = f\"./{ml_directory}/shp_trained_joined.hdf5\"\n",
    "if exists(path_to_model):\n",
    "    shp_joined = LearningShapelets.from_hdf5(path_to_model)\n",
    "    print(classification_report(joined_y_test, shp_joined.predict(joined_X_test)))\n",
    "else:\n",
    "    n_ts, ts_sz = joined_X_train.shape[:2]\n",
    "    n_classes = len(set(joined_y_train))\n",
    "    shapelet_sizes = grabocka_params_to_shapelet_size_dict(n_ts=n_ts,\n",
    "                                                        ts_sz=ts_sz,\n",
    "                                                        n_classes=n_classes,\n",
    "                                                        l=0.06,\n",
    "                                                        r=1)\n",
    "    shp_joined = wrap_classification_timer(LearningShapelets(n_shapelets_per_size=shapelet_sizes,\n",
    "                            optimizer=opt.Adam(.01),\n",
    "                            batch_size=16,\n",
    "                            weight_regularizer=.01,\n",
    "                            max_iter=200,\n",
    "                            random_state=seed,\n",
    "                            verbose=0), joined_X_train, joined_y_train, joined_X_test, joined_y_test)\n",
    "\n"
   ]
  },
  {
   "cell_type": "code",
   "execution_count": 45,
   "metadata": {},
   "outputs": [
    {
     "name": "stderr",
     "output_type": "stream",
     "text": [
      "C:\\Users\\Miket\\AppData\\Local\\Programs\\Python\\Python310\\lib\\site-packages\\tslearn\\shapelets\\shapelets.py:354: FutureWarning: The default value for 'scale' is set to False in version 0.4 to ensure backward compatibility, but is likely to change in a future version.\n"
     ]
    },
    {
     "name": "stdout",
     "output_type": "stream",
     "text": [
      "start time: 2022-04-30 14:47:08.467856\n",
      "              precision    recall  f1-score   support\n",
      "\n",
      "           0       0.36      1.00      0.53        71\n",
      "           1       0.00      0.00      0.00        61\n",
      "           2       0.00      0.00      0.00        66\n",
      "\n",
      "    accuracy                           0.36       198\n",
      "   macro avg       0.12      0.33      0.18       198\n",
      "weighted avg       0.13      0.36      0.19       198\n",
      "\n",
      "end time: 2022-04-30 14:53:23.806428\n",
      "time elapsed: 6.2556428670883175 minutes.\n"
     ]
    },
    {
     "name": "stderr",
     "output_type": "stream",
     "text": [
      "C:\\Users\\Miket\\AppData\\Local\\Programs\\Python\\Python310\\lib\\site-packages\\sklearn\\metrics\\_classification.py:1318: UndefinedMetricWarning: Precision and F-score are ill-defined and being set to 0.0 in labels with no predicted samples. Use `zero_division` parameter to control this behavior.\n",
      "C:\\Users\\Miket\\AppData\\Local\\Programs\\Python\\Python310\\lib\\site-packages\\sklearn\\metrics\\_classification.py:1318: UndefinedMetricWarning: Precision and F-score are ill-defined and being set to 0.0 in labels with no predicted samples. Use `zero_division` parameter to control this behavior.\n",
      "C:\\Users\\Miket\\AppData\\Local\\Programs\\Python\\Python310\\lib\\site-packages\\sklearn\\metrics\\_classification.py:1318: UndefinedMetricWarning: Precision and F-score are ill-defined and being set to 0.0 in labels with no predicted samples. Use `zero_division` parameter to control this behavior.\n"
     ]
    }
   ],
   "source": [
    "path_to_model = f\"./{ml_directory}/shp_trained_normalized.hdf5\"\n",
    "if exists(path_to_model):\n",
    "    shp_normalized = LearningShapelets.from_hdf5(path_to_model)\n",
    "    print(classification_report(normalized_y_test, shp_normalized.predict(normalized_X_test)))\n",
    "else:\n",
    "    n_ts, ts_sz = normalized_X_train.shape[:2]\n",
    "    n_classes = len(set(normalized_y_train))\n",
    "    shapelet_sizes = grabocka_params_to_shapelet_size_dict(n_ts=n_ts,\n",
    "                                                        ts_sz=ts_sz,\n",
    "                                                        n_classes=n_classes,\n",
    "                                                        l=0.06,\n",
    "                                                        r=1)\n",
    "    shp_normalized = wrap_classification_timer(LearningShapelets(n_shapelets_per_size=shapelet_sizes,\n",
    "                            optimizer=opt.Adam(.01),\n",
    "                            batch_size=16,\n",
    "                            weight_regularizer=.01,\n",
    "                            max_iter=200,\n",
    "                            random_state=seed,\n",
    "                            verbose=0), normalized_X_train, normalized_y_train, normalized_X_test, normalized_y_test)\n",
    "    # shp_normalized.to_hdf5(path_to_model)\n"
   ]
  },
  {
   "cell_type": "code",
   "execution_count": 46,
   "metadata": {},
   "outputs": [
    {
     "name": "stderr",
     "output_type": "stream",
     "text": [
      "C:\\Users\\Miket\\AppData\\Local\\Programs\\Python\\Python310\\lib\\site-packages\\tslearn\\shapelets\\shapelets.py:354: FutureWarning: The default value for 'scale' is set to False in version 0.4 to ensure backward compatibility, but is likely to change in a future version.\n"
     ]
    },
    {
     "name": "stdout",
     "output_type": "stream",
     "text": [
      "start time: 2022-04-30 14:53:23.887428\n",
      "              precision    recall  f1-score   support\n",
      "\n",
      "           0       0.36      1.00      0.53        71\n",
      "           1       0.00      0.00      0.00        61\n",
      "           2       0.00      0.00      0.00        66\n",
      "\n",
      "    accuracy                           0.36       198\n",
      "   macro avg       0.12      0.33      0.18       198\n",
      "weighted avg       0.13      0.36      0.19       198\n",
      "\n",
      "end time: 2022-04-30 14:59:10.185378\n",
      "time elapsed: 5.77163249651591 minutes.\n"
     ]
    },
    {
     "name": "stderr",
     "output_type": "stream",
     "text": [
      "C:\\Users\\Miket\\AppData\\Local\\Programs\\Python\\Python310\\lib\\site-packages\\sklearn\\metrics\\_classification.py:1318: UndefinedMetricWarning: Precision and F-score are ill-defined and being set to 0.0 in labels with no predicted samples. Use `zero_division` parameter to control this behavior.\n",
      "C:\\Users\\Miket\\AppData\\Local\\Programs\\Python\\Python310\\lib\\site-packages\\sklearn\\metrics\\_classification.py:1318: UndefinedMetricWarning: Precision and F-score are ill-defined and being set to 0.0 in labels with no predicted samples. Use `zero_division` parameter to control this behavior.\n",
      "C:\\Users\\Miket\\AppData\\Local\\Programs\\Python\\Python310\\lib\\site-packages\\sklearn\\metrics\\_classification.py:1318: UndefinedMetricWarning: Precision and F-score are ill-defined and being set to 0.0 in labels with no predicted samples. Use `zero_division` parameter to control this behavior.\n"
     ]
    }
   ],
   "source": [
    "path_to_model = f\"./{ml_directory}/shp_trained_smooth.hdf5\"\n",
    "if exists(path_to_model):\n",
    "    shp_smooth = LearningShapelets.from_hdf5(path_to_model)\n",
    "    print(classification_report(smooth_y_test, shp_smooth.predict(smooth_X_test)))\n",
    "else:\n",
    "    n_ts, ts_sz = smooth_X_train.shape[:2]\n",
    "    n_classes = len(set(smooth_y_train))\n",
    "    shapelet_sizes = grabocka_params_to_shapelet_size_dict(n_ts=n_ts,\n",
    "                                                        ts_sz=ts_sz,\n",
    "                                                        n_classes=n_classes,\n",
    "                                                        l=0.06,\n",
    "                                                        r=1)\n",
    "    shp_smooth = wrap_classification_timer(LearningShapelets(n_shapelets_per_size=shapelet_sizes,\n",
    "                            optimizer=opt.Adam(.01),\n",
    "                            batch_size=16,\n",
    "                            weight_regularizer=.01,\n",
    "                            max_iter=200,\n",
    "                            random_state=seed,\n",
    "                            verbose=0), smooth_X_train, smooth_y_train, smooth_X_test, smooth_y_test)\n",
    "    # shp_smooth.to_hdf5(path_to_model)\n"
   ]
  },
  {
   "cell_type": "markdown",
   "metadata": {},
   "source": [
    "## KMeans"
   ]
  },
  {
   "cell_type": "code",
   "execution_count": 47,
   "metadata": {},
   "outputs": [
    {
     "name": "stdout",
     "output_type": "stream",
     "text": [
      "start time: 2022-04-30 14:59:10.283377\n",
      "              precision    recall  f1-score   support\n",
      "\n",
      "           0       1.00      0.01      0.03        71\n",
      "           1       1.00      0.08      0.15        61\n",
      "           2       0.34      1.00      0.51        66\n",
      "\n",
      "    accuracy                           0.36       198\n",
      "   macro avg       0.78      0.37      0.23       198\n",
      "weighted avg       0.78      0.36      0.23       198\n",
      "\n",
      "end time: 2022-04-30 15:21:10.238334\n",
      "time elapsed: 21.99924928744634 minutes.\n"
     ]
    }
   ],
   "source": [
    "from tslearn.clustering import TimeSeriesKMeans\n",
    "\n",
    "# joined dataset\n",
    "path_to_model = f\"./{ml_directory}/km_trained_joined.hdf5\"\n",
    "if exists(path_to_model):\n",
    "    km_joined = TimeSeriesKMeans.from_hdf5(path_to_model)\n",
    "    print(classification_report(joined_y_test, km_joined.predict(joined_X_test)))\n",
    "else:\n",
    "    km_joined = wrap_classification_timer(TimeSeriesKMeans(n_clusters=3, metric=\"dtw\", n_jobs=4, random_state = seed, max_iter_barycenter=5), joined_X_train, joined_y_train, joined_X_test, joined_y_test)\n",
    "    km_joined.to_hdf5(path_to_model)\n"
   ]
  },
  {
   "cell_type": "code",
   "execution_count": 8,
   "metadata": {},
   "outputs": [
    {
     "name": "stdout",
     "output_type": "stream",
     "text": [
      "              precision    recall  f1-score   support\n",
      "\n",
      "           0       0.43      0.31      0.36        71\n",
      "           1       0.53      0.13      0.21        61\n",
      "           2       0.44      0.88      0.59        66\n",
      "\n",
      "    accuracy                           0.44       198\n",
      "   macro avg       0.47      0.44      0.39       198\n",
      "weighted avg       0.47      0.44      0.39       198\n",
      "\n"
     ]
    }
   ],
   "source": [
    "from tslearn.clustering import TimeSeriesKMeans\n",
    "# normalized dataset\n",
    "path_to_model = f\"./{ml_directory}/km_trained_normalized.hdf5\"\n",
    "if exists(path_to_model):\n",
    "    km_normalized = TimeSeriesKMeans.from_hdf5(path_to_model)\n",
    "    print(classification_report(normalized_y_test, km_normalized.predict(normalized_X_test)))\n",
    "else:\n",
    "    km_normalized = wrap_classification_timer(TimeSeriesKMeans(n_clusters=3, metric=\"dtw\", n_jobs=4, random_state = seed, max_iter_barycenter=5), normalized_X_train, normalized_y_train, normalized_X_test, normalized_y_test)\n",
    "    km_normalized.to_hdf5(path_to_model)\n"
   ]
  },
  {
   "cell_type": "code",
   "execution_count": null,
   "metadata": {},
   "outputs": [],
   "source": [
    "# smooth dataset\n",
    "path_to_model = f\"./{ml_directory}/km_trained_smooth.hdf5\"\n",
    "if exists(path_to_model):\n",
    "    km_smooth = TimeSeriesKMeans.from_hdf5(path_to_model)\n",
    "    print(classification_report(smooth_y_test, km_smooth.predict(smooth_X_test)))\n",
    "else:\n",
    "    km_smooth = wrap_classification_timer(TimeSeriesKMeans(n_clusters=3, metric=\"dtw\", n_jobs=4, random_state = seed, max_iter_barycenter=5), smooth_X_train, smooth_y_train, smooth_X_test, smooth_y_test)\n",
    "    km_smooth.to_hdf5(path_to_model)"
   ]
  },
  {
   "cell_type": "markdown",
   "metadata": {},
   "source": [
    "# SKTime experiments"
   ]
  },
  {
   "cell_type": "code",
   "execution_count": 7,
   "metadata": {},
   "outputs": [],
   "source": [
    "from sklearn.model_selection import train_test_split\n",
    "\n",
    "udf_types = ['aggregation', 'filtration', 'filtration-aggregation']\n",
    "number_of_samples = 300\n",
    "joined_sk_labels, joined_sk_series = read_dataset_sktime_zeros(udf_types, organised_directory, number_of_samples, True, \"joined\")\n",
    "normalized_sk_labels, normalized_sk_series = read_dataset_sktime_zeros(udf_types, organised_directory, number_of_samples, True, \"normalized\")\n",
    "smooth_sk_labels, smooth_sk_series = read_dataset_sktime_zeros(udf_types, organised_directory, number_of_samples, True, \"12_normalized_smooth\")\n",
    "\n",
    "joined_X_train, joined_X_test, joined_y_train, joined_y_test = train_test_split(joined_sk_series, joined_sk_labels, test_size=0.33, random_state=seed)\n",
    "normalized_X_train, normalized_X_test, normalized_y_train, normalized_y_test = train_test_split(normalized_sk_series, normalized_sk_labels, test_size=0.33, random_state=seed)\n",
    "smooth_X_train, smooth_X_test, smooth_y_train, smooth_y_test = train_test_split(smooth_sk_series, smooth_sk_labels, test_size=0.33, random_state=seed)"
   ]
  },
  {
   "cell_type": "markdown",
   "metadata": {},
   "source": [
    "## Rocket"
   ]
  },
  {
   "cell_type": "code",
   "execution_count": 3,
   "metadata": {},
   "outputs": [
    {
     "name": "stdout",
     "output_type": "stream",
     "text": [
      "start time: 2022-05-04 14:56:26.150203\n",
      "              precision    recall  f1-score   support\n",
      "\n",
      "           0       0.96      1.00      0.98        94\n",
      "           1       1.00      0.99      1.00       117\n",
      "           2       1.00      0.97      0.98        86\n",
      "\n",
      "    accuracy                           0.99       297\n",
      "   macro avg       0.99      0.99      0.99       297\n",
      "weighted avg       0.99      0.99      0.99       297\n",
      "\n",
      "end time: 2022-05-04 14:59:10.370637\n",
      "time elapsed: 2.737007224559784 minutes.\n"
     ]
    }
   ],
   "source": [
    "from sktime.classification.kernel_based import RocketClassifier\n",
    "\n",
    "rocket = wrap_classification_timer(RocketClassifier(rocket_transform=\"multirocket\", random_state = seed, n_jobs = 8), joined_X_train, joined_y_train, joined_X_test, joined_y_test)"
   ]
  },
  {
   "cell_type": "code",
   "execution_count": 14,
   "metadata": {},
   "outputs": [
    {
     "name": "stdout",
     "output_type": "stream",
     "text": [
      "start time: 2022-05-16 19:30:17.444951\n",
      "              precision    recall  f1-score   support\n",
      "\n",
      "           0       0.98      0.99      0.98        94\n",
      "           1       1.00      1.00      1.00       117\n",
      "           2       0.99      0.98      0.98        86\n",
      "\n",
      "    accuracy                           0.99       297\n",
      "   macro avg       0.99      0.99      0.99       297\n",
      "weighted avg       0.99      0.99      0.99       297\n",
      "\n",
      "end time: 2022-05-16 19:30:58.554698\n",
      "time elapsed: 0.6851624449094137 minutes.\n"
     ]
    }
   ],
   "source": [
    "\n",
    "rocket = wrap_classification_timer(RocketClassifier(rocket_transform=\"multirocket\", random_state = seed, n_jobs = 8), joined_X_train, joined_y_train, joined_X_test, joined_y_test)"
   ]
  },
  {
   "cell_type": "code",
   "execution_count": 15,
   "metadata": {},
   "outputs": [
    {
     "name": "stdout",
     "output_type": "stream",
     "text": [
      "start time: 2022-05-16 19:30:58.641702\n",
      "              precision    recall  f1-score   support\n",
      "\n",
      "           0       0.98      0.97      0.97        94\n",
      "           1       1.00      1.00      1.00       117\n",
      "           2       0.97      0.98      0.97        86\n",
      "\n",
      "    accuracy                           0.98       297\n",
      "   macro avg       0.98      0.98      0.98       297\n",
      "weighted avg       0.98      0.98      0.98       297\n",
      "\n",
      "end time: 2022-05-16 19:31:36.592855\n",
      "time elapsed: 0.6325192054112753 minutes.\n"
     ]
    }
   ],
   "source": [
    "rocket = wrap_classification_timer(RocketClassifier(rocket_transform=\"multirocket\", random_state = seed, n_jobs = 8), normalized_X_train, normalized_y_train, normalized_X_test, normalized_y_test)"
   ]
  },
  {
   "cell_type": "code",
   "execution_count": 16,
   "metadata": {},
   "outputs": [
    {
     "name": "stdout",
     "output_type": "stream",
     "text": [
      "start time: 2022-05-16 19:31:36.728854\n",
      "              precision    recall  f1-score   support\n",
      "\n",
      "           0       0.98      0.99      0.98        94\n",
      "           1       1.00      0.99      1.00       117\n",
      "           2       0.98      0.98      0.98        86\n",
      "\n",
      "    accuracy                           0.99       297\n",
      "   macro avg       0.99      0.99      0.99       297\n",
      "weighted avg       0.99      0.99      0.99       297\n",
      "\n",
      "end time: 2022-05-16 19:32:14.072307\n",
      "time elapsed: 0.622390882174174 minutes.\n"
     ]
    }
   ],
   "source": [
    "rocket = wrap_classification_timer(RocketClassifier(rocket_transform=\"multirocket\", random_state = seed, n_jobs = 8), smooth_X_train, smooth_y_train, smooth_X_test, smooth_y_test)"
   ]
  },
  {
   "cell_type": "markdown",
   "metadata": {},
   "source": [
    "### More classes"
   ]
  },
  {
   "cell_type": "code",
   "execution_count": 23,
   "metadata": {},
   "outputs": [],
   "source": [
    "from sklearn.model_selection import train_test_split\n",
    "\n",
    "udf_types = ['aggregation', 'filtration', 'filtration-aggregation', 'filtration-aggregation-join', 'filtration-join']\n",
    "number_of_samples = 300\n",
    "joined_sk_labels, joined_sk_series = read_dataset_sktime_zeros(udf_types, organised_directory, number_of_samples, True, \"joined\")\n",
    "normalized_sk_labels, normalized_sk_series = read_dataset_sktime_zeros(udf_types, organised_directory, number_of_samples, True, \"normalized\")\n",
    "smooth_sk_labels, smooth_sk_series = read_dataset_sktime_zeros(udf_types, organised_directory, number_of_samples, True, \"12_normalized_smooth\")\n",
    "\n",
    "joined_X_train, joined_X_test, joined_y_train, joined_y_test = train_test_split(joined_sk_series, joined_sk_labels, test_size=0.33, random_state=seed)\n",
    "normalized_X_train, normalized_X_test, normalized_y_train, normalized_y_test = train_test_split(normalized_sk_series, normalized_sk_labels, test_size=0.33, random_state=seed)\n",
    "smooth_X_train, smooth_X_test, smooth_y_train, smooth_y_test = train_test_split(smooth_sk_series, smooth_sk_labels, test_size=0.33, random_state=seed)"
   ]
  },
  {
   "cell_type": "code",
   "execution_count": 7,
   "metadata": {},
   "outputs": [
    {
     "name": "stdout",
     "output_type": "stream",
     "text": [
      "start time: 2022-05-07 11:31:03.962736\n",
      "              precision    recall  f1-score   support\n",
      "\n",
      "           0       0.99      0.98      0.98        92\n",
      "           1       1.00      1.00      1.00       103\n",
      "           2       0.98      0.99      0.98        88\n",
      "           3       1.00      1.00      1.00       114\n",
      "           4       1.00      1.00      1.00        98\n",
      "\n",
      "    accuracy                           0.99       495\n",
      "   macro avg       0.99      0.99      0.99       495\n",
      "weighted avg       0.99      0.99      0.99       495\n",
      "\n",
      "end time: 2022-05-07 11:33:22.580651\n",
      "time elapsed: 2.3102985898653667 minutes.\n"
     ]
    }
   ],
   "source": [
    "rocket = wrap_classification_timer(RocketClassifier(rocket_transform=\"multirocket\", random_state = seed, n_jobs = 8), joined_X_train, joined_y_train, joined_X_test, joined_y_test)"
   ]
  },
  {
   "cell_type": "code",
   "execution_count": 5,
   "metadata": {},
   "outputs": [
    {
     "name": "stdout",
     "output_type": "stream",
     "text": [
      "start time: 2022-05-07 11:26:18.830970\n",
      "              precision    recall  f1-score   support\n",
      "\n",
      "           0       0.99      0.98      0.98        92\n",
      "           1       1.00      1.00      1.00       103\n",
      "           2       0.98      0.99      0.98        88\n",
      "           3       1.00      1.00      1.00       114\n",
      "           4       1.00      1.00      1.00        98\n",
      "\n",
      "    accuracy                           0.99       495\n",
      "   macro avg       0.99      0.99      0.99       495\n",
      "weighted avg       0.99      0.99      0.99       495\n",
      "\n",
      "end time: 2022-05-07 11:28:36.355485\n",
      "time elapsed: 2.29207524061203 minutes.\n"
     ]
    }
   ],
   "source": [
    "rocket = wrap_classification_timer(RocketClassifier(rocket_transform=\"multirocket\", random_state = seed, n_jobs = 8), normalized_X_train, normalized_y_train, normalized_X_test, normalized_y_test)"
   ]
  },
  {
   "cell_type": "code",
   "execution_count": 17,
   "metadata": {},
   "outputs": [
    {
     "name": "stdout",
     "output_type": "stream",
     "text": [
      "start time: 2022-05-16 19:38:23.971686\n",
      "              precision    recall  f1-score   support\n",
      "\n",
      "           0       0.97      1.00      0.98        94\n",
      "           1       1.00      0.99      1.00       117\n",
      "           2       0.99      0.97      0.98        86\n",
      "\n",
      "    accuracy                           0.99       297\n",
      "   macro avg       0.99      0.99      0.99       297\n",
      "weighted avg       0.99      0.99      0.99       297\n",
      "\n",
      "end time: 2022-05-16 19:39:01.024201\n",
      "time elapsed: 0.6175419211387634 minutes.\n"
     ]
    }
   ],
   "source": [
    "rocket = wrap_classification_timer(RocketClassifier(rocket_transform=\"multirocket\", random_state = seed, n_jobs = 8), smooth_X_train, smooth_y_train, smooth_X_test, smooth_y_test)"
   ]
  },
  {
   "cell_type": "markdown",
   "metadata": {},
   "source": [
    "## HIVECOTEV2"
   ]
  },
  {
   "cell_type": "code",
   "execution_count": 19,
   "metadata": {},
   "outputs": [
    {
     "name": "stdout",
     "output_type": "stream",
     "text": [
      "start time: 2022-05-16 21:00:27.643878\n",
      "              precision    recall  f1-score   support\n",
      "\n",
      "           0       0.98      0.87      0.92        94\n",
      "           1       1.00      1.00      1.00       117\n",
      "           2       0.88      0.98      0.92        86\n",
      "\n",
      "    accuracy                           0.95       297\n",
      "   macro avg       0.95      0.95      0.95       297\n",
      "weighted avg       0.96      0.95      0.95       297\n",
      "\n",
      "end time: 2022-05-16 21:07:05.990389\n",
      "time elapsed: 6.6391085108121235 minutes.\n"
     ]
    }
   ],
   "source": [
    "from sktime.classification.hybrid import HIVECOTEV2\n",
    "\n",
    "hive = wrap_classification_timer(HIVECOTEV2(time_limit_in_minutes=2, random_state = seed), joined_X_train, joined_y_train, joined_X_test, joined_y_test)"
   ]
  },
  {
   "cell_type": "code",
   "execution_count": 8,
   "metadata": {},
   "outputs": [
    {
     "name": "stdout",
     "output_type": "stream",
     "text": [
      "start time: 2022-05-03 12:24:47.439320\n",
      "              precision    recall  f1-score   support\n",
      "\n",
      "           0       0.98      0.95      0.96        94\n",
      "           1       1.00      1.00      1.00       117\n",
      "           2       0.94      0.98      0.96        86\n",
      "\n",
      "    accuracy                           0.98       297\n",
      "   macro avg       0.97      0.97      0.97       297\n",
      "weighted avg       0.98      0.98      0.98       297\n",
      "\n",
      "end time: 2022-05-03 12:32:58.088857\n",
      "time elapsed: 8.177492296695709 minutes.\n"
     ]
    }
   ],
   "source": [
    "hive = wrap_classification_timer(HIVECOTEV2(time_limit_in_minutes=2, n_jobs = 8, random_state = seed), normalized_X_train, normalized_y_train, normalized_X_test, normalized_y_test)"
   ]
  },
  {
   "cell_type": "code",
   "execution_count": 9,
   "metadata": {},
   "outputs": [
    {
     "name": "stdout",
     "output_type": "stream",
     "text": [
      "start time: 2022-05-03 12:32:58.231866\n",
      "              precision    recall  f1-score   support\n",
      "\n",
      "           0       0.96      0.97      0.96        94\n",
      "           1       1.00      1.00      1.00       117\n",
      "           2       0.96      0.95      0.96        86\n",
      "\n",
      "    accuracy                           0.98       297\n",
      "   macro avg       0.97      0.97      0.97       297\n",
      "weighted avg       0.98      0.98      0.98       297\n",
      "\n",
      "end time: 2022-05-03 12:41:02.038855\n",
      "time elapsed: 8.063449827829997 minutes.\n"
     ]
    }
   ],
   "source": [
    "hive = wrap_classification_timer(HIVECOTEV2(time_limit_in_minutes=2, n_jobs = 8, random_state = seed), smooth_X_train, smooth_y_train, smooth_X_test, smooth_y_test)"
   ]
  },
  {
   "cell_type": "markdown",
   "metadata": {},
   "source": [
    "## DrCIF"
   ]
  },
  {
   "cell_type": "code",
   "execution_count": 16,
   "metadata": {},
   "outputs": [
    {
     "name": "stdout",
     "output_type": "stream",
     "text": [
      "start time: 2022-05-03 12:56:14.889016\n",
      "              precision    recall  f1-score   support\n",
      "\n",
      "           0       0.96      0.99      0.97        94\n",
      "           1       1.00      1.00      1.00       117\n",
      "           2       0.99      0.95      0.97        86\n",
      "\n",
      "    accuracy                           0.98       297\n",
      "   macro avg       0.98      0.98      0.98       297\n",
      "weighted avg       0.98      0.98      0.98       297\n",
      "\n",
      "end time: 2022-05-03 13:19:53.938897\n",
      "time elapsed: 23.650831345717112 minutes.\n"
     ]
    }
   ],
   "source": [
    "from sklearn.pipeline import Pipeline\n",
    "from sktime.transformations.panel.compose import ColumnConcatenator\n",
    "from sktime.classification.interval_based import DrCIF\n",
    "\n",
    "steps = [\n",
    "    (\"concatenate\", ColumnConcatenator()),\n",
    "    (\"classify\", DrCIF(n_estimators=10, n_jobs = 8, random_state = seed)),\n",
    "]\n",
    "\n",
    "cif = wrap_classification_timer(Pipeline(steps), joined_X_train, joined_y_train, joined_X_test, joined_y_test)"
   ]
  },
  {
   "cell_type": "code",
   "execution_count": 17,
   "metadata": {},
   "outputs": [
    {
     "name": "stdout",
     "output_type": "stream",
     "text": [
      "start time: 2022-05-03 13:21:49.250322\n",
      "              precision    recall  f1-score   support\n",
      "\n",
      "           0       0.97      0.97      0.97        94\n",
      "           1       1.00      1.00      1.00       117\n",
      "           2       0.97      0.97      0.97        86\n",
      "\n",
      "    accuracy                           0.98       297\n",
      "   macro avg       0.98      0.98      0.98       297\n",
      "weighted avg       0.98      0.98      0.98       297\n",
      "\n",
      "end time: 2022-05-03 13:40:37.700886\n",
      "time elapsed: 18.807509406407675 minutes.\n"
     ]
    }
   ],
   "source": [
    "cif = wrap_classification_timer(Pipeline(steps), normalized_X_train, normalized_y_train, normalized_X_test, normalized_y_test)"
   ]
  },
  {
   "cell_type": "code",
   "execution_count": 18,
   "metadata": {},
   "outputs": [
    {
     "name": "stdout",
     "output_type": "stream",
     "text": [
      "start time: 2022-05-03 13:40:37.800889\n",
      "              precision    recall  f1-score   support\n",
      "\n",
      "           0       0.96      0.97      0.96        94\n",
      "           1       1.00      1.00      1.00       117\n",
      "           2       0.96      0.95      0.96        86\n",
      "\n",
      "    accuracy                           0.98       297\n",
      "   macro avg       0.97      0.97      0.97       297\n",
      "weighted avg       0.98      0.98      0.98       297\n",
      "\n",
      "end time: 2022-05-03 13:59:39.859255\n",
      "time elapsed: 19.03430610895157 minutes.\n"
     ]
    }
   ],
   "source": [
    "cif = wrap_classification_timer(Pipeline(steps), smooth_X_train, smooth_y_train, smooth_X_test, smooth_y_test)"
   ]
  },
  {
   "cell_type": "markdown",
   "metadata": {},
   "source": [
    "# Benchmark"
   ]
  },
  {
   "cell_type": "code",
   "execution_count": 30,
   "metadata": {},
   "outputs": [],
   "source": [
    "from sklearn.metrics import accuracy_score\n",
    "from sktime.classification.kernel_based import RocketClassifier\n",
    "from sktime.classification.hybrid import HIVECOTEV2\n",
    "from sktime.classification.distance_based import KNeighborsTimeSeriesClassifier as SKTimeKNN\n",
    "from sktime.benchmarking.data import UEADataset, make_datasets\n",
    "from sktime.benchmarking.evaluation import Evaluator\n",
    "from sktime.benchmarking.metrics import PairwiseMetric\n",
    "from sktime.benchmarking.orchestration import Orchestrator\n",
    "from sktime.benchmarking.results import HDDResults\n",
    "from sktime.benchmarking.strategies import TSCStrategy\n",
    "from sktime.benchmarking.tasks import TSCTask\n",
    "from sktime.series_as_features.model_selection import PresplitFilesCV"
   ]
  },
  {
   "cell_type": "code",
   "execution_count": 2,
   "metadata": {},
   "outputs": [],
   "source": [
    "from sklearn.model_selection import train_test_split\n",
    "\n",
    "udf_types = ['aggregation', 'filtration', 'filtration-aggregation']\n",
    "number_of_samples = 300\n",
    "joined_sk_labels, joined_sk_series = read_dataset_sktime_zeros(udf_types, organised_directory, number_of_samples, True, \"joined\")\n",
    "normalized_sk_labels, normalized_sk_series = read_dataset_sktime_zeros(udf_types, organised_directory, number_of_samples, True, \"normalized\")\n",
    "smooth_sk_labels, smooth_sk_series = read_dataset_sktime_zeros(udf_types, organised_directory, number_of_samples, True, \"12_normalized_smooth\")\n",
    "\n",
    "joined_X_train, joined_X_test, joined_y_train, joined_y_test = train_test_split(joined_sk_series, joined_sk_labels, test_size=0.33, random_state=seed)\n",
    "normalized_X_train, normalized_X_test, normalized_y_train, normalized_y_test = train_test_split(normalized_sk_series, normalized_sk_labels, test_size=0.33, random_state=seed)\n",
    "smooth_X_train, smooth_X_test, smooth_y_train, smooth_y_test = train_test_split(smooth_sk_series, smooth_sk_labels, test_size=0.33, random_state=seed)\n"
   ]
  },
  {
   "cell_type": "code",
   "execution_count": 5,
   "metadata": {},
   "outputs": [],
   "source": [
    "possible_labels = \"0 1 2 3 4\"\n",
    "datasets = [\"joined\", \"smooth\", \"norm\"]\n",
    "for dataset in datasets:\n",
    "    write_ts_file(DATA_PATH, dataset, possible_labels, joined_X_train, joined_X_test, joined_y_train, joined_y_test)\n",
    "\n",
    "datasets = make_datasets(\n",
    "    path=DATA_PATH, dataset_cls=UEADataset, names=datasets\n",
    ")\n",
    "tasks = [TSCTask(target=\"target\") for _ in range(len(datasets))]\n",
    "\n",
    "strategies = [\n",
    "    TSCStrategy(RocketClassifier(rocket_transform=\"multirocket\", random_state = seed, n_jobs = 8), name=\"rocket_multi\"),\n",
    "    TSCStrategy(RocketClassifier(random_state = seed, n_jobs = 8), name=\"rocket\"),\n",
    "    TSCStrategy(HIVECOTEV2(time_limit_in_minutes=2, n_jobs = 8, random_state = seed), name=\"HIVE_2_mintues\"),\n",
    "    TSCStrategy(HIVECOTEV2(time_limit_in_minutes=1, n_jobs = 8, random_state = seed), name=\"HIVE_1_mintue\"),\n",
    "    TSCStrategy(SKTimeKNN(n_neighbors=3, distance=\"euclidean\", n_jobs = 8, random_state = seed), name=\"KNNEculidan\"),\n",
    "    TSCStrategy(SKTimeKNN(n_neighbors=3, distance=\"dtw\", n_jobs = 8, random_state = seed), name=\"KNNDTW\")\n",
    "]\n",
    "results = HDDResults(path=RESULTS_PATH)"
   ]
  },
  {
   "cell_type": "code",
   "execution_count": 17,
   "metadata": {},
   "outputs": [
    {
     "name": "stderr",
     "output_type": "stream",
     "text": [
      "strategy: 1/6 - rocket_multi on CV-fold: 0/0 of dataset: 1/3 - joined\n",
      "strategy: 2/6 - rocket on CV-fold: 0/0 of dataset: 1/3 - joined\n",
      "strategy: 3/6 - HIVE_2_mintues on CV-fold: 0/0 of dataset: 1/3 - joined\n",
      "strategy: 4/6 - HIVE_1_mintue on CV-fold: 0/0 of dataset: 1/3 - joined\n",
      "strategy: 5/6 - KNNEculidan on CV-fold: 0/0 of dataset: 1/3 - joined\n",
      "strategy: 6/6 - KNNDTW on CV-fold: 0/0 of dataset: 1/3 - joined\n",
      "strategy: 1/6 - rocket_multi on CV-fold: 0/0 of dataset: 2/3 - smooth\n",
      "strategy: 2/6 - rocket on CV-fold: 0/0 of dataset: 2/3 - smooth\n",
      "strategy: 3/6 - HIVE_2_mintues on CV-fold: 0/0 of dataset: 2/3 - smooth\n",
      "strategy: 4/6 - HIVE_1_mintue on CV-fold: 0/0 of dataset: 2/3 - smooth\n",
      "strategy: 5/6 - KNNEculidan on CV-fold: 0/0 of dataset: 2/3 - smooth\n",
      "strategy: 6/6 - KNNDTW on CV-fold: 0/0 of dataset: 2/3 - smooth\n",
      "strategy: 1/6 - rocket_multi on CV-fold: 0/0 of dataset: 3/3 - norm\n",
      "strategy: 2/6 - rocket on CV-fold: 0/0 of dataset: 3/3 - norm\n",
      "strategy: 3/6 - HIVE_2_mintues on CV-fold: 0/0 of dataset: 3/3 - norm\n",
      "strategy: 4/6 - HIVE_1_mintue on CV-fold: 0/0 of dataset: 3/3 - norm\n",
      "strategy: 5/6 - KNNEculidan on CV-fold: 0/0 of dataset: 3/3 - norm\n",
      "strategy: 6/6 - KNNDTW on CV-fold: 0/0 of dataset: 3/3 - norm\n"
     ]
    }
   ],
   "source": [
    "orchestrator = Orchestrator(\n",
    "    datasets=datasets,\n",
    "    tasks=tasks,\n",
    "    strategies=strategies,\n",
    "    cv=PresplitFilesCV(),\n",
    "    results=results,\n",
    ")\n",
    "orchestrator.fit_predict(save_fitted_strategies=True, overwrite_predictions=True, verbose = True)"
   ]
  },
  {
   "cell_type": "code",
   "execution_count": 36,
   "metadata": {},
   "outputs": [
    {
     "data": {
      "text/html": [
       "<div>\n",
       "<style scoped>\n",
       "    .dataframe tbody tr th:only-of-type {\n",
       "        vertical-align: middle;\n",
       "    }\n",
       "\n",
       "    .dataframe tbody tr th {\n",
       "        vertical-align: top;\n",
       "    }\n",
       "\n",
       "    .dataframe thead th {\n",
       "        text-align: right;\n",
       "    }\n",
       "</style>\n",
       "<table border=\"1\" class=\"dataframe\">\n",
       "  <thead>\n",
       "    <tr style=\"text-align: right;\">\n",
       "      <th></th>\n",
       "      <th>strategy</th>\n",
       "      <th>accuracy_mean</th>\n",
       "      <th>accuracy_stderr</th>\n",
       "    </tr>\n",
       "  </thead>\n",
       "  <tbody>\n",
       "    <tr>\n",
       "      <th>0</th>\n",
       "      <td>HIVE_1_mintue</td>\n",
       "      <td>0.969697</td>\n",
       "      <td>0.009919</td>\n",
       "    </tr>\n",
       "    <tr>\n",
       "      <th>1</th>\n",
       "      <td>HIVE_2_mintues</td>\n",
       "      <td>0.971942</td>\n",
       "      <td>0.009521</td>\n",
       "    </tr>\n",
       "    <tr>\n",
       "      <th>2</th>\n",
       "      <td>KNNDTW</td>\n",
       "      <td>0.969697</td>\n",
       "      <td>0.009964</td>\n",
       "    </tr>\n",
       "    <tr>\n",
       "      <th>3</th>\n",
       "      <td>KNNEculidan</td>\n",
       "      <td>0.909091</td>\n",
       "      <td>0.016709</td>\n",
       "    </tr>\n",
       "    <tr>\n",
       "      <th>4</th>\n",
       "      <td>rocket</td>\n",
       "      <td>0.988777</td>\n",
       "      <td>0.006108</td>\n",
       "    </tr>\n",
       "    <tr>\n",
       "      <th>5</th>\n",
       "      <td>rocket_multi</td>\n",
       "      <td>0.991021</td>\n",
       "      <td>0.005459</td>\n",
       "    </tr>\n",
       "  </tbody>\n",
       "</table>\n",
       "</div>"
      ],
      "text/plain": [
       "         strategy  accuracy_mean  accuracy_stderr\n",
       "0   HIVE_1_mintue       0.969697         0.009919\n",
       "1  HIVE_2_mintues       0.971942         0.009521\n",
       "2          KNNDTW       0.969697         0.009964\n",
       "3     KNNEculidan       0.909091         0.016709\n",
       "4          rocket       0.988777         0.006108\n",
       "5    rocket_multi       0.991021         0.005459"
      ]
     },
     "execution_count": 36,
     "metadata": {},
     "output_type": "execute_result"
    }
   ],
   "source": [
    "evaluator = Evaluator(results)\n",
    "metric = PairwiseMetric(func=accuracy_score, name=\"accuracy\")\n",
    "metrics_by_strategy = evaluator.evaluate(metric=metric)\n",
    "metrics_by_strategy.head(6)"
   ]
  },
  {
   "cell_type": "code",
   "execution_count": 24,
   "metadata": {},
   "outputs": [
    {
     "data": {
      "text/html": [
       "<div>\n",
       "<style scoped>\n",
       "    .dataframe tbody tr th:only-of-type {\n",
       "        vertical-align: middle;\n",
       "    }\n",
       "\n",
       "    .dataframe tbody tr th {\n",
       "        vertical-align: top;\n",
       "    }\n",
       "\n",
       "    .dataframe thead th {\n",
       "        text-align: right;\n",
       "    }\n",
       "</style>\n",
       "<table border=\"1\" class=\"dataframe\">\n",
       "  <thead>\n",
       "    <tr style=\"text-align: right;\">\n",
       "      <th></th>\n",
       "      <th>strategy</th>\n",
       "      <th>accuracy_mean_rank</th>\n",
       "    </tr>\n",
       "  </thead>\n",
       "  <tbody>\n",
       "    <tr>\n",
       "      <th>5</th>\n",
       "      <td>rocket_multi</td>\n",
       "      <td>1.166667</td>\n",
       "    </tr>\n",
       "    <tr>\n",
       "      <th>4</th>\n",
       "      <td>rocket</td>\n",
       "      <td>1.833333</td>\n",
       "    </tr>\n",
       "    <tr>\n",
       "      <th>1</th>\n",
       "      <td>HIVE_2_mintues</td>\n",
       "      <td>3.666667</td>\n",
       "    </tr>\n",
       "    <tr>\n",
       "      <th>0</th>\n",
       "      <td>HIVE_1_mintue</td>\n",
       "      <td>4.166667</td>\n",
       "    </tr>\n",
       "    <tr>\n",
       "      <th>2</th>\n",
       "      <td>KNNDTW</td>\n",
       "      <td>4.166667</td>\n",
       "    </tr>\n",
       "    <tr>\n",
       "      <th>3</th>\n",
       "      <td>KNNEculidan</td>\n",
       "      <td>6.000000</td>\n",
       "    </tr>\n",
       "  </tbody>\n",
       "</table>\n",
       "</div>"
      ],
      "text/plain": [
       "         strategy  accuracy_mean_rank\n",
       "5    rocket_multi            1.166667\n",
       "4          rocket            1.833333\n",
       "1  HIVE_2_mintues            3.666667\n",
       "0   HIVE_1_mintue            4.166667\n",
       "2          KNNDTW            4.166667\n",
       "3     KNNEculidan            6.000000"
      ]
     },
     "execution_count": 24,
     "metadata": {},
     "output_type": "execute_result"
    }
   ],
   "source": [
    "evaluator.rank().sort_values(\"accuracy_mean_rank\")"
   ]
  },
  {
   "cell_type": "code",
   "execution_count": 19,
   "metadata": {},
   "outputs": [
    {
     "data": {
      "text/plain": [
       "(<Figure size 432x288 with 1 Axes>,\n",
       " <AxesSubplot:title={'center':'accuracy by strategy'}, xlabel='strategies', ylabel='accuracy'>)"
      ]
     },
     "execution_count": 19,
     "metadata": {},
     "output_type": "execute_result"
    },
    {
     "data": {
      "image/png": "[encoded data removed]",
      "text/plain": [
       "<Figure size 432x288 with 1 Axes>"
      ]
     },
     "metadata": {},
     "output_type": "display_data"
    }
   ],
   "source": [
    "evaluator.plot_boxplots()"
   ]
  },
  {
   "cell_type": "code",
   "execution_count": 28,
   "metadata": {},
   "outputs": [
    {
     "data": {
      "text/plain": [
       "(FriedmanchisquareResult(statistic=13.446601941747574, pvalue=0.019534407598811847),\n",
       "    statistic   p_value\n",
       " 0  13.446602  0.019534)"
      ]
     },
     "execution_count": 28,
     "metadata": {},
     "output_type": "execute_result"
    }
   ],
   "source": [
    "evaluator.friedman_test()"
   ]
  }
 ],
 "metadata": {
  "interpreter": {
   "hash": "f7d812b6b0ae132ddf009a87a46d9f35cc0a6e0343f7e24aabc62c05919a2e18"
  },
  "kernelspec": {
   "display_name": "Python 3.9.12 ('base')",
   "language": "python",
   "name": "python3"
  },
  "language_info": {
   "codemirror_mode": {
    "name": "ipython",
    "version": 3
   },
   "file_extension": ".py",
   "mimetype": "text/x-python",
   "name": "python",
   "nbconvert_exporter": "python",
   "pygments_lexer": "ipython3",
   "version": "3.9.12"
  },
  "orig_nbformat": 4
 },
 "nbformat": 4,
 "nbformat_minor": 2
}
