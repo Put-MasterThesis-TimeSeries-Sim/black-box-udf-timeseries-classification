{
 "cells": [
  {
   "cell_type": "code",
   "execution_count": 58,
   "metadata": {
    "pycharm": {
     "name": "#%%\n"
    }
   },
   "outputs": [],
   "source": [
    "from plotnine import *\n",
    "from scipy.spatial import distance\n",
    "import pandas as pd\n",
    "from dtw import *\n",
    "import dtaidistance as dd\n",
    "from tslearn import metrics\n",
    "from tssearch import plot_alignment\n",
    "from tssearch.search.query_search import time_series_search\n",
    "from dtaidistance import dtw_visualisation as dtwvis\n",
    "import matplotlib.pyplot as plt"
   ]
  },
  {
   "cell_type": "code",
   "execution_count": 78,
   "metadata": {
    "pycharm": {
     "name": "#%%\n"
    }
   },
   "outputs": [],
   "source": [
    "time_series_udf_dataset = pd.read_csv(\"Organised/Time_series_udf_dataset.csv\")\n",
    "time_series_udf_dataset_normalised = pd.read_csv(\"Organised/Time_series_udf_dataset_normalized.csv\")\n",
    "time_series_udf_dataset_normalised_smooth = pd.read_csv(\"Organised/Time_series_udf_dataset_normalized_smooth_6.csv\")\n",
    "time_series_udf_dataset_smooth = pd.read_csv(\"Organised/Time_series_udf_dataset_smooth_6.csv\")\n",
    "\n",
    "time_series_aggregation = time_series_udf_dataset[time_series_udf_dataset[\"label\"]==\"aggregation\"]\n",
    "time_series_filtration = time_series_udf_dataset[time_series_udf_dataset[\"label\"]==\"filtration\"]\n",
    "time_series_filtration_aggregation = time_series_udf_dataset[time_series_udf_dataset[\"label\"]==\"filtration-aggregation\"]\n",
    "time_series_filtration_aggregation_join = time_series_udf_dataset[time_series_udf_dataset[\"label\"]==\"filtration-aggregation-join\"]\n",
    "time_series_filtration_join = time_series_udf_dataset[time_series_udf_dataset[\"label\"]==\"filtration-join\"]\n",
    "\n",
    "time_series_aggregation_normalised = time_series_udf_dataset[time_series_udf_dataset_normalised[\"label\"]==\"aggregation\"]\n",
    "time_series_filtration_normalised = time_series_udf_dataset[time_series_udf_dataset_normalised[\"label\"]==\"filtration\"]\n",
    "time_series_filtration_aggregation_normalised = time_series_udf_dataset[time_series_udf_dataset_normalised[\"label\"]==\"filtration-aggregation\"]\n",
    "time_series_filtration_aggregation_join_normalised = time_series_udf_dataset[time_series_udf_dataset_normalised[\"label\"]==\"filtration-aggregation-join\"]\n",
    "time_series_filtration_join_normalised = time_series_udf_dataset[time_series_udf_dataset_normalised[\"label\"]==\"filtration-join\"]\n",
    "\n",
    "time_series_aggregation_normalised_smooth = time_series_udf_dataset[time_series_udf_dataset_normalised_smooth[\"label\"]==\"aggregation\"]\n",
    "time_series_filtration_normalised_smooth = time_series_udf_dataset[time_series_udf_dataset_normalised_smooth[\"label\"]==\"filtration\"]\n",
    "time_series_filtration_aggregation_normalised_smooth = time_series_udf_dataset[time_series_udf_dataset_normalised_smooth[\"label\"]==\"filtration-aggregation\"]\n",
    "time_series_filtration_aggregation_join_normalised_smooth = time_series_udf_dataset[time_series_udf_dataset_normalised_smooth[\"label\"]==\"filtration-aggregation-join\"]\n",
    "time_series_filtration_join_normalised_smooth = time_series_udf_dataset[time_series_udf_dataset_normalised_smooth[\"label\"]==\"filtration-join\"]\n",
    "\n",
    "time_series_aggregation_smooth = time_series_udf_dataset[time_series_udf_dataset_smooth[\"label\"]==\"aggregation\"]\n",
    "time_series_filtration_smooth = time_series_udf_dataset[time_series_udf_dataset_smooth[\"label\"]==\"filtration\"]\n",
    "time_series_filtration_aggregation_smooth = time_series_udf_dataset[time_series_udf_dataset_smooth[\"label\"]==\"filtration-aggregation\"]\n",
    "time_series_filtration_aggregation_join_smooth = time_series_udf_dataset[time_series_udf_dataset_smooth[\"label\"]==\"filtration-aggregation-join\"]\n",
    "time_series_filtration_join_smooth = time_series_udf_dataset[time_series_udf_dataset_smooth[\"label\"]==\"filtration-join\"]"
   ]
  },
  {
   "cell_type": "code",
   "execution_count": 79,
   "metadata": {
    "pycharm": {
     "name": "#%%\n"
    }
   },
   "outputs": [],
   "source": [
    "def calculate_euclidean_distance(a_cpu, b_cpu, a_ram, b_ram):\n",
    "    cpu_dst = distance.euclidean(a_cpu, b_cpu)\n",
    "    ram_dst = distance.euclidean(a_ram, b_ram)\n",
    "    return cpu_dst, ram_dst\n",
    "\n",
    "def calculate_dtw_dtw_library(a_cpu, b_cpu, a_ram, b_ram):\n",
    "    step_pattern = symmetric2\n",
    "\n",
    "    alignment_cpu = dtw(a_cpu, b_cpu, step_pattern=step_pattern, keep_internals=True)\n",
    "    alignment_ram = dtw(a_ram, b_ram, step_pattern=step_pattern, keep_internals=True)\n",
    "    #alignment_cpu.plot(type=\"twoway\", offset=80)\n",
    "    #plt.show()\n",
    "    return alignment_cpu.normalizedDistance, alignment_cpu.distance, alignment_ram.normalizedDistance, alignment_ram.distance\n",
    "\n",
    "def calculate_dtw_dtaidistance_library(a_cpu, b_cpu, a_ram, b_ram):\n",
    "    d_cpu = dd.dtw.distance(numpy.array(a_cpu), numpy.array(b_cpu), None, None, None, None, None, None, None, True)\n",
    "    path = dd.dtw.warping_path(numpy.array(a_cpu), numpy.array(b_cpu))\n",
    "    #dtwvis.plot_warping(numpy.array(a_cpu), numpy.array(b_cpu), path)\n",
    "\n",
    "    d_ram = dd.dtw.distance(numpy.array(a_ram), numpy.array(b_ram))\n",
    "    return d_cpu, d_ram\n",
    "\n",
    "def calculate_lcss(a_cpu, b_cpu, a_ram, b_ram):\n",
    "    lcss_path_cpu, sim_lcss_cpu = metrics.lcss_path(a_cpu, b_cpu, eps=2.0)\n",
    "    lcss_path_ram, sim_lcss_ram = metrics.lcss_path(a_ram, b_ram, eps=1.5)\n",
    "    return sim_lcss_cpu, sim_lcss_ram\n",
    "\n",
    "def calculate_lcss2(a_cpu, b_cpu, a_ram, b_ram):\n",
    "    dict_distances = {\n",
    "        \"elastic\": {\"Longest Common Subsequence\": {\n",
    "            \"multivariate\": \"yes\",\n",
    "            \"description\": \"\",\n",
    "            \"function\": \"lcss\",\n",
    "            \"parameters\": {\"eps\": 1.5, \"report\": \"distance\"},\n",
    "            \"use\": \"yes\"}\n",
    "        }\n",
    "    }\n",
    "    sim_lcss_cpu = time_series_search(dict_distances, numpy.array(a_cpu), numpy.array(b_cpu), output=(\"number\", 1))[\"Longest Common Subsequence\"][\"distance\"]\n",
    "    sim_lcss_ram = time_series_search(dict_distances, numpy.array(a_ram), numpy.array(b_ram), output=(\"number\", 1))[\"Longest Common Subsequence\"][\"distance\"]\n",
    "\n",
    "    #result = time_series_search(dict_distances, numpy.array(a_ram), numpy.array(b_ram), output=(\"number\", 1))\n",
    "    #plt.figure()\n",
    "    #plt.title(\"Longest Common Subsequence\")\n",
    "    #plot_alignment(a_ram, b_ram, result[\"Longest Common Subsequence\"][\"path\"][0])\n",
    "    return sim_lcss_cpu, sim_lcss_ram"
   ]
  },
  {
   "cell_type": "markdown",
   "metadata": {},
   "source": [
    "## Creating comparison dataFrame"
   ]
  },
  {
   "cell_type": "code",
   "execution_count": 86,
   "metadata": {
    "pycharm": {
     "name": "#%%\n"
    }
   },
   "outputs": [],
   "source": [
    "def calculate_distance_and_save_as_df(df, data, snapshot1, snapshot2, normalized=0, smoothed=0, data2=pd.DataFrame()):\n",
    "    if data2.empty:\n",
    "        data2 = data\n",
    "    a = data[data[\"snapshot\"] == snapshot1]\n",
    "    b = data2[data2[\"snapshot\"] == snapshot2]\n",
    "    max_length = max(len(a.index), len(b.index))\n",
    "\n",
    "    a_cpu = list(a['CPU'])\n",
    "    b_cpu = list(b['CPU'])\n",
    "    a_ram = list(a['RAM'])\n",
    "    b_ram = list(b['RAM'])\n",
    "\n",
    "    a_cpu = a_cpu + [0]*(max_length - len(a_cpu))\n",
    "    b_cpu = b_cpu + [0]*(max_length - len(b_cpu))\n",
    "    a_ram = a_ram + [0]*(max_length - len(a_ram))\n",
    "    b_ram = b_ram + [0]*(max_length - len(b_ram))\n",
    "\n",
    "    euc_cpu_dist, euc_ram_dist = calculate_euclidean_distance(a_cpu, b_cpu, a_ram, b_ram)\n",
    "    dtw_cpu_dist_normalized, dtw_cpu_dist, dtw_ram_dist_normalized, dtw_ram_dist = \\\n",
    "        calculate_dtw_dtw_library(a_cpu, b_cpu, a_ram, b_ram)\n",
    "    dtaidistance_cpu, dtaidistance_ram = calculate_dtw_dtaidistance_library(a_cpu, b_cpu, a_ram, b_ram)\n",
    "    lcss_distance_cpu, lcss_distance_ram = calculate_lcss(a_cpu, b_cpu, a_ram, b_ram)\n",
    "    new_cpu_row = {\n",
    "        'dataType' : 'CPU',\n",
    "        'function1' : a['label'].max(),\n",
    "        'snapshot1' : snapshot1,\n",
    "        'udf1' : a['udf'].max(),\n",
    "        'function2' : b['label'].max(),\n",
    "        'snapshot2': snapshot2,\n",
    "        'udf2' : b['udf'].max(),\n",
    "        'euclidean': euc_cpu_dist,\n",
    "        'dtw-python-distance': dtw_cpu_dist,\n",
    "        'dtw-python-normalizedDistance': dtw_cpu_dist_normalized,\n",
    "        'dtaidistance': dtaidistance_cpu,\n",
    "        'lcss_similarity': lcss_distance_cpu,\n",
    "        'is_normalized': normalized,\n",
    "        'is_smoothed': smoothed,\n",
    "        'size1': a['size'].max(),\n",
    "        'size2': b['size'].max(),\n",
    "    }\n",
    "    new_ram_row = {\n",
    "        'dataType' : 'RAM',\n",
    "        'function1' : a['label'].max(),\n",
    "        'snapshot1' : snapshot1,\n",
    "        'udf1' : a['udf'].max(),\n",
    "        'function2' : b['label'].max(),\n",
    "        'snapshot2': snapshot2,\n",
    "        'udf2' : b['udf'].max(),\n",
    "        'euclidean': euc_ram_dist,\n",
    "        'dtw-python-distance': dtw_ram_dist,\n",
    "        'dtw-python-normalizedDistance': dtw_ram_dist_normalized,\n",
    "        'dtaidistance': dtaidistance_ram,\n",
    "        'lcss_similarity': lcss_distance_ram,\n",
    "        'is_normalized': normalized,\n",
    "        'is_smoothed': smoothed,\n",
    "        'size1': a['size'].max(),\n",
    "        'size2': b['size'].max(),\n",
    "    }\n",
    "    df = df.append(new_cpu_row, ignore_index = True)\n",
    "    df = df.append(new_ram_row, ignore_index = True)\n",
    "    return df"
   ]
  },
  {
   "cell_type": "code",
   "execution_count": 87,
   "metadata": {},
   "outputs": [],
   "source": [
    "columns = ['dataType', 'function1', 'snapshot1','function2', 'snapshot2', 'euclidean', 'dtw-python-distance', 'dtw-python-normalizedDistance',\n",
    "           'dtaidistance', 'lcss_similarity', 'is_normalized', 'is_smoothed']\n",
    "dataFrame = pd.DataFrame([], columns = columns)"
   ]
  },
  {
   "cell_type": "code",
   "execution_count": null,
   "metadata": {},
   "outputs": [],
   "source": [
    "\n",
    "dataFrame = calculate_distance_and_save_as_df(dataFrame, time_series_aggregation, 0,0)\n",
    "dataFrame = calculate_distance_and_save_as_df(dataFrame, time_series_aggregation, 0,5)\n",
    "dataFrame = calculate_distance_and_save_as_df(dataFrame, time_series_aggregation, 0,150)\n",
    "dataFrame = calculate_distance_and_save_as_df(dataFrame, time_series_aggregation, 0, 0, 0, 0, time_series_filtration)\n",
    "dataFrame = calculate_distance_and_save_as_df(dataFrame, time_series_aggregation, 0, 0, 0, 0, time_series_filtration_aggregation)\n",
    "dataFrame = calculate_distance_and_save_as_df(dataFrame, time_series_aggregation, 0, 0, 0, 0, time_series_filtration_aggregation_join)\n",
    "dataFrame = calculate_distance_and_save_as_df(dataFrame, time_series_aggregation, 0, 0, 0, 0, time_series_filtration_join)\n",
    "\n",
    "dataFrame = calculate_distance_and_save_as_df(dataFrame, time_series_aggregation_smooth, 0,0, 0, 1)\n",
    "dataFrame = calculate_distance_and_save_as_df(dataFrame, time_series_aggregation_smooth, 0,5, 0, 1)\n",
    "dataFrame = calculate_distance_and_save_as_df(dataFrame, time_series_aggregation_smooth, 0,150, 0, 1)\n",
    "dataFrame = calculate_distance_and_save_as_df(dataFrame, time_series_aggregation_smooth, 0, 0, 0, 1, time_series_filtration_smooth)\n",
    "dataFrame = calculate_distance_and_save_as_df(dataFrame, time_series_aggregation_smooth, 0, 0, 0, 1, time_series_filtration_aggregation_smooth)\n",
    "dataFrame = calculate_distance_and_save_as_df(dataFrame, time_series_aggregation_smooth, 0, 0, 0, 1, time_series_filtration_aggregation_join_smooth)\n",
    "dataFrame = calculate_distance_and_save_as_df(dataFrame, time_series_aggregation_smooth, 0, 0, 0, 1, time_series_filtration_join_smooth)\n",
    "\n",
    "dataFrame = calculate_distance_and_save_as_df(dataFrame, time_series_aggregation_normalised, 0,0, 1)\n",
    "dataFrame = calculate_distance_and_save_as_df(dataFrame, time_series_aggregation_normalised, 0,5, 1)\n",
    "dataFrame = calculate_distance_and_save_as_df(dataFrame, time_series_aggregation_normalised, 0,150, 1)\n",
    "dataFrame = calculate_distance_and_save_as_df(dataFrame, time_series_aggregation_normalised, 0, 0, 1, 0, time_series_filtration_normalised)\n",
    "dataFrame = calculate_distance_and_save_as_df(dataFrame, time_series_aggregation_normalised, 0, 0, 1, 0, time_series_filtration_aggregation_normalised)\n",
    "dataFrame = calculate_distance_and_save_as_df(dataFrame, time_series_aggregation_normalised, 0, 0, 1, 0, time_series_filtration_aggregation_join_normalised)\n",
    "dataFrame = calculate_distance_and_save_as_df(dataFrame, time_series_aggregation_normalised, 0, 0, 1, 0, time_series_filtration_join_normalised)\n",
    "\n",
    "dataFrame = calculate_distance_and_save_as_df(dataFrame, time_series_aggregation_normalised_smooth, 0,0, 1, 1)\n",
    "dataFrame = calculate_distance_and_save_as_df(dataFrame, time_series_aggregation_normalised_smooth, 0,5, 1, 1)\n",
    "dataFrame = calculate_distance_and_save_as_df(dataFrame, time_series_aggregation_normalised_smooth, 0,150, 1, 1)\n",
    "dataFrame = calculate_distance_and_save_as_df(dataFrame, time_series_aggregation_normalised_smooth, 0, 0, 1, 1, time_series_filtration_normalised_smooth)\n",
    "dataFrame = calculate_distance_and_save_as_df(dataFrame, time_series_aggregation_normalised_smooth, 0, 0, 1, 1, time_series_filtration_aggregation_normalised_smooth)\n",
    "dataFrame = calculate_distance_and_save_as_df(dataFrame, time_series_aggregation_normalised_smooth, 0, 0, 1, 1, time_series_filtration_aggregation_join_normalised_smooth)\n",
    "dataFrame = calculate_distance_and_save_as_df(dataFrame, time_series_aggregation_normalised_smooth, 0, 0, 1, 1, time_series_filtration_join_normalised_smooth)"
   ]
  },
  {
   "cell_type": "code",
   "execution_count": null,
   "metadata": {},
   "outputs": [],
   "source": [
    "dataFrame = calculate_distance_and_save_as_df(dataFrame, time_series_filtration, 0,0)\n",
    "dataFrame = calculate_distance_and_save_as_df(dataFrame, time_series_filtration, 0,5)\n",
    "dataFrame = calculate_distance_and_save_as_df(dataFrame, time_series_filtration, 0,150)\n",
    "dataFrame = calculate_distance_and_save_as_df(dataFrame, time_series_filtration, 0, 0, 0, 0, time_series_aggregation)\n",
    "dataFrame = calculate_distance_and_save_as_df(dataFrame, time_series_filtration, 0, 0, 0, 0, time_series_filtration_aggregation)\n",
    "dataFrame = calculate_distance_and_save_as_df(dataFrame, time_series_filtration, 0, 0, 0, 0, time_series_filtration_aggregation_join)\n",
    "dataFrame = calculate_distance_and_save_as_df(dataFrame, time_series_filtration, 0, 0, 0, 0, time_series_filtration_join)\n",
    "\n",
    "dataFrame = calculate_distance_and_save_as_df(dataFrame, time_series_filtration_smooth, 0,0, 0, 1)\n",
    "dataFrame = calculate_distance_and_save_as_df(dataFrame, time_series_filtration_smooth, 0,5, 0, 1)\n",
    "dataFrame = calculate_distance_and_save_as_df(dataFrame, time_series_filtration_smooth, 0,150, 0, 1)\n",
    "dataFrame = calculate_distance_and_save_as_df(dataFrame, time_series_filtration_smooth, 0, 0, 0, 1, time_series_aggregation_smooth)\n",
    "dataFrame = calculate_distance_and_save_as_df(dataFrame, time_series_filtration_smooth, 0, 0, 0, 1, time_series_filtration_aggregation_smooth)\n",
    "dataFrame = calculate_distance_and_save_as_df(dataFrame, time_series_filtration_smooth, 0, 0, 0, 1, time_series_filtration_aggregation_join_smooth)\n",
    "dataFrame = calculate_distance_and_save_as_df(dataFrame, time_series_filtration_smooth, 0, 0, 0, 1, time_series_filtration_join_smooth)\n",
    "\n",
    "dataFrame = calculate_distance_and_save_as_df(dataFrame, time_series_filtration_normalised, 0,0, 1)\n",
    "dataFrame = calculate_distance_and_save_as_df(dataFrame, time_series_filtration_normalised, 0,5, 1)\n",
    "dataFrame = calculate_distance_and_save_as_df(dataFrame, time_series_filtration_normalised, 0,150, 1)\n",
    "dataFrame = calculate_distance_and_save_as_df(dataFrame, time_series_filtration_normalised, 0, 0, 1, 0, time_series_aggregation_normalised)\n",
    "dataFrame = calculate_distance_and_save_as_df(dataFrame, time_series_filtration_normalised, 0, 0, 1, 0, time_series_filtration_aggregation_normalised)\n",
    "dataFrame = calculate_distance_and_save_as_df(dataFrame, time_series_filtration_normalised, 0, 0, 1, 0, time_series_filtration_aggregation_join_normalised)\n",
    "dataFrame = calculate_distance_and_save_as_df(dataFrame, time_series_filtration_normalised, 0, 0, 1, 0, time_series_filtration_join_normalised)\n",
    "\n",
    "dataFrame = calculate_distance_and_save_as_df(dataFrame, time_series_filtration_normalised_smooth, 0,0, 1, 1)\n",
    "dataFrame = calculate_distance_and_save_as_df(dataFrame, time_series_filtration_normalised_smooth, 0,5, 1, 1)\n",
    "dataFrame = calculate_distance_and_save_as_df(dataFrame, time_series_filtration_normalised_smooth, 0,150, 1, 1)\n",
    "dataFrame = calculate_distance_and_save_as_df(dataFrame, time_series_filtration_normalised_smooth, 0, 0, 1, 1, time_series_aggregation_normalised_smooth)\n",
    "dataFrame = calculate_distance_and_save_as_df(dataFrame, time_series_filtration_normalised_smooth, 0, 0, 1, 1, time_series_filtration_aggregation_normalised_smooth)\n",
    "dataFrame = calculate_distance_and_save_as_df(dataFrame, time_series_filtration_normalised_smooth, 0, 0, 1, 1, time_series_filtration_aggregation_join_normalised_smooth)\n",
    "dataFrame = calculate_distance_and_save_as_df(dataFrame, time_series_filtration_normalised_smooth, 0, 0, 1, 1, time_series_filtration_join_normalised_smooth)"
   ]
  },
  {
   "cell_type": "code",
   "execution_count": null,
   "metadata": {
    "pycharm": {
     "name": "#%%\n"
    }
   },
   "outputs": [],
   "source": [
    "dataFrame.to_csv(\"comparison_distance.csv\", index=False)\n",
    "dataFrame\n"
   ]
  },
  {
   "cell_type": "code",
   "execution_count": null,
   "metadata": {},
   "outputs": [],
   "source": []
  }
 ],
 "metadata": {
  "kernelspec": {
   "display_name": "Python 3 (ipykernel)",
   "language": "python",
   "name": "python3"
  },
  "language_info": {
   "codemirror_mode": {
    "name": "ipython",
    "version": 3
   },
   "file_extension": ".py",
   "mimetype": "text/x-python",
   "name": "python",
   "nbconvert_exporter": "python",
   "pygments_lexer": "ipython3",
   "version": "3.8.5"
  }
 },
 "nbformat": 4,
 "nbformat_minor": 1
}
