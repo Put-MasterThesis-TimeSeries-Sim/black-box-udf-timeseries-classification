{
 "cells": [
  {
   "cell_type": "markdown",
   "metadata": {},
   "source": [
    "# Sumowanie zużycia zasobów\n",
    "Notatnik w którym łączone jest zużycie procesora i ramu dla jednego znacznika czasowego.\n",
    "Utworzone pliki lądują w folderze prepared."
   ]
  },
  {
   "cell_type": "code",
   "execution_count": null,
   "metadata": {},
   "outputs": [],
   "source": [
    "import pandas as pd\n",
    "import os\n",
    "import re\n",
    "from datetime import datetime\n",
    "import glob\n",
    "entry_directory = \"Raw\"\n",
    "prepared_directory = \"Prepared\"\n",
    "\n",
    "files = glob.glob(f\".\\..\\{entry_directory}\" + '/**/*.csv', recursive=True)\n",
    "file_count = len(files)\n",
    "print(f\"znaleziono {file_count} plików.\")\n",
    "i = 0\n",
    "progress = 1\n",
    "progress_interval = file_count*0.05\n",
    "for file_path in files:\n",
    "    if i > progress_interval*progress:\n",
    "        progress_string = \"#\".rjust(progress, \"#\").ljust(20, '-')\n",
    "        print(f\"{progress_string} ({i}/{file_count})\")\n",
    "        progress += 1\n",
    "    i+=1\n",
    "    if re.search(\"\\d\\d_\\d\\d_\\d\\d\\d\\d_\\d\\d_\\d\\d_\\d\\d.csv$\", file_path):\n",
    "        \n",
    "        if os.path.exists(file_path.replace(entry_directory, prepared_directory)):\n",
    "            continue\n",
    "\n",
    "        node_data_df = pd.read_csv(file_path, dtype = {'timestamp' : 'string', 'PID' : 'int', 'CPU': 'float64', 'RAM': 'float64'})\n",
    "        node_data_df['timestamp'] = node_data_df['timestamp'].apply(lambda x: x if len(x.split(\".\")) > 1 else x + \".000000\" )\n",
    "        node_data_df['epoch'] = node_data_df['timestamp'] \\\n",
    "            .apply(lambda x: (datetime.strptime(x, \"%Y-%m-%d %H:%M:%S.%f\") - datetime(1970, 1, 1)).total_seconds())\n",
    "        min_timestamp = node_data_df['epoch'].min()\n",
    "        node_data_df['epoch'] = node_data_df['epoch'].apply(lambda x: x - min_timestamp)\n",
    "        node_data_df.drop(['timestamp', 'PID'], axis=1, inplace=True)\n",
    "        node_data_df = node_data_df.groupby(\"epoch\").sum()\n",
    "        root_dir = \"/\".join(file_path.split(\"\\\\\")[:-1])\n",
    "        if not os.path.exists(root_dir.replace(entry_directory, prepared_directory)):\n",
    "            os.makedirs(root_dir.replace(entry_directory, prepared_directory))\n",
    "        node_data_df.to_csv(file_path.replace(entry_directory, prepared_directory))\n",
    "print(\"skończone.\")"
   ]
  }
 ],
 "metadata": {
  "interpreter": {
   "hash": "f7d812b6b0ae132ddf009a87a46d9f35cc0a6e0343f7e24aabc62c05919a2e18"
  },
  "kernelspec": {
   "display_name": "Python 3.9.12 ('base')",
   "language": "python",
   "name": "python3"
  },
  "language_info": {
   "codemirror_mode": {
    "name": "ipython",
    "version": 3
   },
   "file_extension": ".py",
   "mimetype": "text/x-python",
   "name": "python",
   "nbconvert_exporter": "python",
   "pygments_lexer": "ipython3",
   "version": "3.9.12"
  },
  "orig_nbformat": 4
 },
 "nbformat": 4,
 "nbformat_minor": 2
}
