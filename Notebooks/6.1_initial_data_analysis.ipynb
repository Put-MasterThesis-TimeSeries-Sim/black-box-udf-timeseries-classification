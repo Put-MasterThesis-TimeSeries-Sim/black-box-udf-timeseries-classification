{
 "cells": [
  {
   "cell_type": "markdown",
   "metadata": {
    "collapsed": false,
    "pycharm": {
     "name": "#%% md\n"
    }
   },
   "source": [
    "# Wstępna analiza danych"
   ]
  },
  {
   "cell_type": "markdown",
   "metadata": {
    "collapsed": false,
    "pycharm": {
     "name": "#%% md\n"
    }
   },
   "source": [
    "## Import bibliotek"
   ]
  },
  {
   "cell_type": "code",
   "execution_count": null,
   "metadata": {
    "pycharm": {
     "name": "#%%\n"
    }
   },
   "outputs": [],
   "source": [
    "import pandas as pd\n",
    "import os\n",
    "import warnings\n",
    "from plotnine import *\n",
    "\n",
    "warnings.filterwarnings('ignore')"
   ]
  },
  {
   "cell_type": "markdown",
   "metadata": {
    "collapsed": false,
    "pycharm": {
     "name": "#%% md\n"
    }
   },
   "source": [
    "## Odczyt plików"
   ]
  },
  {
   "cell_type": "markdown",
   "metadata": {
    "collapsed": false,
    "pycharm": {
     "name": "#%% md\n"
    }
   },
   "source": [
    "Odczytanie pliku z uporządkowanymi szeregami czasowymi"
   ]
  },
  {
   "cell_type": "code",
   "execution_count": null,
   "metadata": {
    "pycharm": {
     "name": "#%%\n"
    }
   },
   "outputs": [],
   "source": [
    "time_series_udf_dataset = pd.read_csv(\"../Organised/Time_series_udf_dataset.csv\")"
   ]
  },
  {
   "cell_type": "markdown",
   "metadata": {
    "collapsed": false,
    "pycharm": {
     "name": "#%% md\n"
    }
   },
   "source": [
    "Odczytanie plików wszystkich węzłów dla jednego ekspermentu"
   ]
  },
  {
   "cell_type": "code",
   "execution_count": null,
   "metadata": {
    "collapsed": false,
    "pycharm": {
     "name": "#%%\n"
    }
   },
   "outputs": [],
   "source": [
    "node1 = pd.read_csv(\"../Prepared/aggregation/avgNetProfitGroupedBySoldDate/CPU-data-vol-1GB-5nodes/source-data/node-11/07_08_2021_23_43_34.csv\")\n",
    "node1['node'] = 1\n",
    "node2 = pd.read_csv(\"../Prepared/aggregation/avgNetProfitGroupedBySoldDate/CPU-data-vol-1GB-5nodes/source-data/node-12/07_08_2021_23_46_44.csv\")\n",
    "node2['node'] = 2\n",
    "node3 = pd.read_csv(\"../Prepared/aggregation/avgNetProfitGroupedBySoldDate/CPU-data-vol-1GB-5nodes/source-data/node-13/07_08_2021_23_43_33.csv\")\n",
    "node3['node'] = 3\n",
    "node4 = pd.read_csv(\"../Prepared/aggregation/avgNetProfitGroupedBySoldDate/CPU-data-vol-1GB-5nodes/source-data/node-14/07_08_2021_23_45_13.csv\")\n",
    "node4['node'] = 4\n",
    "node5 = pd.read_csv(\"../Prepared/aggregation/avgNetProfitGroupedBySoldDate/CPU-data-vol-1GB-5nodes/source-data/node-15/07_08_2021_23_55_41.csv\")\n",
    "node5['node'] = 5\n",
    "node6 = pd.read_csv(\"../Prepared/aggregation/avgNetProfitGroupedBySoldDate/CPU-data-vol-1GB-5nodes/source-data/node-20/07_08_2021_23_43_43.csv\")\n",
    "node6['node'] = 6"
   ]
  },
  {
   "cell_type": "markdown",
   "metadata": {
    "collapsed": false,
    "pycharm": {
     "name": "#%% md\n"
    }
   },
   "source": [
    "## Wykresy dla przykładowego eksperymentu"
   ]
  },
  {
   "cell_type": "markdown",
   "metadata": {
    "collapsed": false,
    "pycharm": {
     "name": "#%% md\n"
    }
   },
   "source": [
    "Przebieg zużycia RAM dla jednego eksperymentu z podziałem na węzły"
   ]
  },
  {
   "cell_type": "code",
   "execution_count": null,
   "metadata": {
    "pycharm": {
     "name": "#%%\n"
    }
   },
   "outputs": [],
   "source": [
    "path = \"../plots/initial_analysis/\"\n",
    "if not os.path.exists(path):\n",
    "  os.makedirs(path)\n",
    "\n",
    "\n",
    "nodes = pd.concat([node1, node2, node3, node4, node5, node6])\n",
    "\n",
    "p = (ggplot(nodes, aes(x='epoch', y = \"RAM\"))\n",
    "    + geom_line(color = \"orange\")\n",
    "    + facet_wrap('node', ncol=2)\n",
    "    + labs(title=f\"Przebieg zużycia RAM\", y=\"Zużycie ram (%)\", x = \"Czas (s)\")\n",
    "  )\n",
    "\n",
    "ggsave(plot=p, filename=f\"{path}nodes_ram.pdf\", dpi=1000)"
   ]
  },
  {
   "cell_type": "markdown",
   "metadata": {
    "collapsed": false,
    "pycharm": {
     "name": "#%% md\n"
    }
   },
   "source": [
    "Przebieg zużycia CPU dla jednego eksperymentu z podziałem na węzły"
   ]
  },
  {
   "cell_type": "code",
   "execution_count": null,
   "metadata": {
    "pycharm": {
     "name": "#%%\n"
    }
   },
   "outputs": [],
   "source": [
    "nodes = pd.concat([node1, node2, node3, node4, node5, node6])\n",
    "p = (ggplot(nodes)\n",
    "    + aes(x='epoch', y = \"CPU\")\n",
    "    + geom_line(size=0.5, color = \"red\")\n",
    "    + facet_wrap('node', ncol=2)\n",
    "    + labs(title=f\"Przebieg zużycia CPU\", y=\"Zużycie procesora (%)\", x = \"Czas (s)\")\n",
    "  )\n",
    "ggsave(plot=p, filename=f\"{path}nodes_cpu.pdf\", dpi=1000)\n"
   ]
  },
  {
   "cell_type": "markdown",
   "metadata": {
    "collapsed": false,
    "pycharm": {
     "name": "#%% md\n"
    }
   },
   "source": [
    "## Analiza dla agregacji"
   ]
  },
  {
   "cell_type": "markdown",
   "metadata": {
    "collapsed": false,
    "pycharm": {
     "name": "#%% md\n"
    }
   },
   "source": [
    "Długość szeregu dla poszczególnych eksperymentów"
   ]
  },
  {
   "cell_type": "code",
   "execution_count": null,
   "metadata": {
    "pycharm": {
     "name": "#%%\n"
    }
   },
   "outputs": [],
   "source": [
    "joined_aggregation_all = time_series_udf_dataset[time_series_udf_dataset[\"label\"]==\"aggregation\"]"
   ]
  },
  {
   "cell_type": "code",
   "execution_count": null,
   "metadata": {
    "pycharm": {
     "name": "#%%\n"
    }
   },
   "outputs": [],
   "source": [
    "aggregation_snapshot_plot = (ggplot(joined_aggregation_all, aes(x='snapshot'))\n",
    "  + geom_histogram(size=0.5, binwidth=1.0)\n",
    "  + labs(title=f\"Agregacja - długość szeregu/eksperyment\", y=\"Długość szeregu\", x = \"Eksperyment\")\n",
    ")\n",
    "ggsave(plot=aggregation_snapshot_plot, filename=f\"{path}aggregation_count_per_snapshot.pdf\", dpi=1000)"
   ]
  },
  {
   "cell_type": "markdown",
   "metadata": {
    "collapsed": false,
    "pycharm": {
     "name": "#%% md\n"
    }
   },
   "source": [
    "Maksymalne wartości CPU i RAM dla poszczególnych eksperymentów"
   ]
  },
  {
   "cell_type": "code",
   "execution_count": null,
   "metadata": {
    "pycharm": {
     "name": "#%%\n"
    }
   },
   "outputs": [],
   "source": [
    "joined_aggregation_by_snapshots_max = joined_aggregation_all.groupby('snapshot')[['snapshot', 'CPU', 'RAM']].max()\n",
    "aggregation_snapshot_max_plot = (ggplot(joined_aggregation_by_snapshots_max, aes(x='snapshot', y='CPU'))\n",
    "  + geom_line(size=0.5, color='red')\n",
    "  + labs(y=\"CPU\", x = \"Eksperyment\")\n",
    ")\n",
    "ggsave(plot=aggregation_snapshot_max_plot, filename=f\"{path}aggregation_max_cpu.png\", dpi=1000)\n",
    "aggregation_snapshot_max_plot = (ggplot(joined_aggregation_by_snapshots_max, aes(x='snapshot', y='RAM'))\n",
    "  + geom_line(size=0.5, color='orange')\n",
    "  + labs(y=\"RAM\", x = \"Eksperyment\")\n",
    ")\n",
    "ggsave(plot=aggregation_snapshot_max_plot, filename=f\"{path}aggregation_max_ram.pdf\", dpi=1000)"
   ]
  },
  {
   "cell_type": "markdown",
   "metadata": {
    "collapsed": false,
    "pycharm": {
     "name": "#%% md\n"
    }
   },
   "source": [
    "Średnie wartości CPU i RAM dla poszczególnych eksperymentów"
   ]
  },
  {
   "cell_type": "code",
   "execution_count": null,
   "metadata": {
    "pycharm": {
     "name": "#%%\n"
    }
   },
   "outputs": [],
   "source": [
    "joined_aggregation_by_snapshots_mean = joined_aggregation_all.groupby('snapshot')[['snapshot', 'CPU', 'RAM']].mean()\n",
    "aggregation_snapshot_mean_plot = (ggplot(joined_aggregation_by_snapshots_mean, aes(x='snapshot', y='CPU'))\n",
    "  + geom_line(size=0.5, color='red')\n",
    "  + labs(y=\"CPU\", x = \"Eksperyment\")\n",
    ")\n",
    "ggsave(plot=aggregation_snapshot_mean_plot, filename=f\"{path}aggregation_mean_cpu.pdf\", dpi=1000)\n",
    "aggregation_snapshot_mean_plot = (ggplot(joined_aggregation_by_snapshots_mean, aes(x='snapshot', y='RAM'))\n",
    "  + geom_line(size=0.5, color='orange')\n",
    "  + labs(y=\"RAM\", x = \"Eksperyment\")\n",
    ")\n",
    "ggsave(plot=aggregation_snapshot_mean_plot, filename=f\"{path}aggregation_mean_ram.pdf\", dpi=1000)"
   ]
  },
  {
   "cell_type": "markdown",
   "metadata": {
    "collapsed": false,
    "pycharm": {
     "name": "#%% md\n"
    }
   },
   "source": [
    "Maksymalne wartości CPU i RAM dla poszczególnych eksperymentów na jednym wykresie"
   ]
  },
  {
   "cell_type": "code",
   "execution_count": null,
   "metadata": {
    "pycharm": {
     "name": "#%%\n"
    }
   },
   "outputs": [],
   "source": [
    "import matplotlib.pyplot as plt\n",
    "plt.rcParams[\"figure.figsize\"] = [15, 7]\n",
    "plt.rcParams[\"figure.autolayout\"] = True\n",
    "cpu = joined_aggregation_by_snapshots_max['CPU']\n",
    "ram = joined_aggregation_by_snapshots_max['RAM']\n",
    "ax1 = plt.subplot()\n",
    "l1, = ax1.plot(cpu, color='red')\n",
    "ax2 = ax1.twinx()\n",
    "l2, = ax2.plot(ram, color='orange')\n",
    "plt.legend([l1, l2], [\"cpu\", \"ram\"])\n",
    "plt.show()"
   ]
  },
  {
   "cell_type": "markdown",
   "metadata": {
    "collapsed": false,
    "pycharm": {
     "name": "#%% md\n"
    }
   },
   "source": [
    "## Analiza poszczególnych typów funkcji dla wszystkich eksperymentów"
   ]
  },
  {
   "cell_type": "code",
   "execution_count": null,
   "metadata": {
    "pycharm": {
     "name": "#%%\n"
    }
   },
   "outputs": [],
   "source": [
    "joined_aggregation_filtration_all = time_series_udf_dataset[time_series_udf_dataset[\"label\"]==\"filtration-aggregation\"]\n",
    "joined_filtration_aggregation_join_all = time_series_udf_dataset[time_series_udf_dataset[\"label\"]==\"filtration-aggregation-join\"]\n",
    "joined_filtration_join_all = time_series_udf_dataset[time_series_udf_dataset[\"label\"]==\"filtration-join\"]\n",
    "joined_filtration_all = time_series_udf_dataset[time_series_udf_dataset[\"label\"]==\"filtration\"]\n",
    "all_df = pd.concat([joined_aggregation_all, joined_filtration_all, joined_aggregation_filtration_all, joined_filtration_aggregation_join_all, joined_filtration_join_all])\n",
    "all_df"
   ]
  },
  {
   "cell_type": "markdown",
   "metadata": {
    "collapsed": false,
    "pycharm": {
     "name": "#%% md\n"
    }
   },
   "source": [
    "Histogram długości szeregów\n"
   ]
  },
  {
   "cell_type": "code",
   "execution_count": null,
   "metadata": {
    "pycharm": {
     "name": "#%%\n"
    }
   },
   "outputs": [],
   "source": [
    "histogram_snapshot_plot = (ggplot(all_df, aes(x='snapshot'))\n",
    "  + geom_histogram(size=0.5, binwidth=1.0)\n",
    "  + facet_wrap('label', ncol=1)\n",
    "  + labs(title=f\"Długość szeregu w kolejnych eksperymentach\", y=\"Długość szeregu\", x = \"Eksperyment\")\n",
    ")\n",
    "ggsave(plot=histogram_snapshot_plot, filename=f\"{path}all_count.pdf\", dpi=1000)"
   ]
  },
  {
   "cell_type": "markdown",
   "metadata": {
    "collapsed": false,
    "pycharm": {
     "name": "#%% md\n"
    }
   },
   "source": [
    "Maksymalne wartości CPU i RAM dla poszczególnych eksperymentów"
   ]
  },
  {
   "cell_type": "code",
   "execution_count": null,
   "metadata": {
    "collapsed": false,
    "pycharm": {
     "name": "#%%\n"
    }
   },
   "outputs": [],
   "source": [
    "joined_all_by_snapshots_max = all_df.groupby(['label', 'snapshot'])[['label', 'snapshot', 'CPU', 'RAM']].max()\n",
    "joined_all_by_snapshots_max = joined_all_by_snapshots_max.reset_index(drop=True)\n",
    "all_snapshot_max_plot = (ggplot(joined_all_by_snapshots_max, aes(x='snapshot', y='RAM'))\n",
    "  + geom_line(color='orange')\n",
    "  + facet_wrap('label', ncol=1)\n",
    "  + labs(y=\"RAM\", x = \"Eksperyment\")\n",
    ")\n",
    "ggsave(plot=all_snapshot_max_plot, filename=f\"{path}all_max_ram.pdf\", dpi=1000)\n",
    "\n",
    "all_snapshot_max_plot = (ggplot(joined_all_by_snapshots_max, aes(x='snapshot', y='CPU'))\n",
    "  + geom_line(color='red')\n",
    "  + facet_wrap('label', ncol=1)\n",
    "  + labs(y=\"CPU\", x = \"Eksperyment\")\n",
    ")\n",
    "ggsave(plot=all_snapshot_max_plot, filename=f\"{path}all_max_cpu.pdf\", dpi=1000)"
   ]
  },
  {
   "cell_type": "markdown",
   "metadata": {
    "collapsed": false,
    "pycharm": {
     "name": "#%% md\n"
    }
   },
   "source": [
    "Średnie wartości CPU i RAM dla poszczególnych eksperymentów"
   ]
  },
  {
   "cell_type": "code",
   "execution_count": null,
   "metadata": {
    "collapsed": false,
    "pycharm": {
     "name": "#%%\n"
    }
   },
   "outputs": [],
   "source": [
    "joined_all_by_snapshots_mean = all_df.groupby(['label', 'snapshot'])[['label', 'snapshot', 'CPU', 'RAM']].mean()\n",
    "joined_all_by_snapshots_mean = joined_all_by_snapshots_mean.reset_index(level=0)\n",
    "all_snapshot_mean_plot = (ggplot(joined_all_by_snapshots_mean, aes(x='snapshot', y='RAM'))\n",
    "  + geom_line(color='orange')\n",
    "  + facet_wrap('label', ncol=1)\n",
    "  + labs(y=\"RAM\", x = \"Eksperyment\")\n",
    ")\n",
    "ggsave(plot=all_snapshot_mean_plot, filename=f\"{path}all_mean_ram.pdf\", dpi=1000)\n",
    "\n",
    "all_snapshot_mean_plot = (ggplot(joined_all_by_snapshots_mean, aes(x='snapshot', y='CPU'))\n",
    "  + geom_line(color='red')\n",
    "  + facet_wrap('label', ncol=1)\n",
    "  + labs(y=\"CPU\", x = \"Eksperyment\")\n",
    ")\n",
    "ggsave(plot=all_snapshot_mean_plot, filename=f\"{path}all_mean_cpu.pdf\", dpi=1000)"
   ]
  }
 ],
 "metadata": {
  "kernelspec": {
   "display_name": "Python 3.9.12 ('base')",
   "language": "python",
   "name": "python3"
  },
  "language_info": {
   "codemirror_mode": {
    "name": "ipython",
    "version": 3
   },
   "file_extension": ".py",
   "mimetype": "text/x-python",
   "name": "python",
   "nbconvert_exporter": "python",
   "pygments_lexer": "ipython3",
   "version": "3.9.12"
  },
  "vscode": {
   "interpreter": {
    "hash": "f7d812b6b0ae132ddf009a87a46d9f35cc0a6e0343f7e24aabc62c05919a2e18"
   }
  }
 },
 "nbformat": 4,
 "nbformat_minor": 1
}
