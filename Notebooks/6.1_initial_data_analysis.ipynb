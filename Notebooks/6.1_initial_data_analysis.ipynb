{
 "cells": [
  {
   "cell_type": "code",
   "execution_count": 1,
   "metadata": {},
   "outputs": [],
   "source": [
    "import pandas as pd\n",
    "from plotnine import *"
   ]
  },
  {
   "cell_type": "code",
   "execution_count": 57,
   "metadata": {},
   "outputs": [
    {
     "data": {
      "text/html": [
       "<div>\n",
       "<style scoped>\n",
       "    .dataframe tbody tr th:only-of-type {\n",
       "        vertical-align: middle;\n",
       "    }\n",
       "\n",
       "    .dataframe tbody tr th {\n",
       "        vertical-align: top;\n",
       "    }\n",
       "\n",
       "    .dataframe thead th {\n",
       "        text-align: right;\n",
       "    }\n",
       "</style>\n",
       "<table border=\"1\" class=\"dataframe\">\n",
       "  <thead>\n",
       "    <tr style=\"text-align: right;\">\n",
       "      <th></th>\n",
       "      <th>epoch</th>\n",
       "      <th>CPU</th>\n",
       "      <th>RAM</th>\n",
       "      <th>node</th>\n",
       "    </tr>\n",
       "  </thead>\n",
       "  <tbody>\n",
       "    <tr>\n",
       "      <th>0</th>\n",
       "      <td>0.000000</td>\n",
       "      <td>0.0</td>\n",
       "      <td>1.8</td>\n",
       "      <td>6</td>\n",
       "    </tr>\n",
       "    <tr>\n",
       "      <th>1</th>\n",
       "      <td>0.158088</td>\n",
       "      <td>0.0</td>\n",
       "      <td>1.8</td>\n",
       "      <td>6</td>\n",
       "    </tr>\n",
       "    <tr>\n",
       "      <th>2</th>\n",
       "      <td>0.314673</td>\n",
       "      <td>0.0</td>\n",
       "      <td>1.8</td>\n",
       "      <td>6</td>\n",
       "    </tr>\n",
       "    <tr>\n",
       "      <th>3</th>\n",
       "      <td>0.473272</td>\n",
       "      <td>0.0</td>\n",
       "      <td>1.8</td>\n",
       "      <td>6</td>\n",
       "    </tr>\n",
       "    <tr>\n",
       "      <th>4</th>\n",
       "      <td>0.632178</td>\n",
       "      <td>0.0</td>\n",
       "      <td>1.8</td>\n",
       "      <td>6</td>\n",
       "    </tr>\n",
       "    <tr>\n",
       "      <th>5</th>\n",
       "      <td>0.790976</td>\n",
       "      <td>0.0</td>\n",
       "      <td>1.8</td>\n",
       "      <td>6</td>\n",
       "    </tr>\n",
       "    <tr>\n",
       "      <th>6</th>\n",
       "      <td>0.950184</td>\n",
       "      <td>0.0</td>\n",
       "      <td>1.8</td>\n",
       "      <td>6</td>\n",
       "    </tr>\n",
       "    <tr>\n",
       "      <th>7</th>\n",
       "      <td>1.108159</td>\n",
       "      <td>0.0</td>\n",
       "      <td>1.8</td>\n",
       "      <td>6</td>\n",
       "    </tr>\n",
       "    <tr>\n",
       "      <th>8</th>\n",
       "      <td>1.262963</td>\n",
       "      <td>0.0</td>\n",
       "      <td>1.8</td>\n",
       "      <td>6</td>\n",
       "    </tr>\n",
       "    <tr>\n",
       "      <th>9</th>\n",
       "      <td>1.421794</td>\n",
       "      <td>0.0</td>\n",
       "      <td>1.8</td>\n",
       "      <td>6</td>\n",
       "    </tr>\n",
       "    <tr>\n",
       "      <th>10</th>\n",
       "      <td>1.580556</td>\n",
       "      <td>0.0</td>\n",
       "      <td>1.8</td>\n",
       "      <td>6</td>\n",
       "    </tr>\n",
       "    <tr>\n",
       "      <th>11</th>\n",
       "      <td>1.739413</td>\n",
       "      <td>0.0</td>\n",
       "      <td>1.8</td>\n",
       "      <td>6</td>\n",
       "    </tr>\n",
       "    <tr>\n",
       "      <th>12</th>\n",
       "      <td>1.898759</td>\n",
       "      <td>0.0</td>\n",
       "      <td>1.8</td>\n",
       "      <td>6</td>\n",
       "    </tr>\n",
       "    <tr>\n",
       "      <th>13</th>\n",
       "      <td>2.058200</td>\n",
       "      <td>6.7</td>\n",
       "      <td>1.8</td>\n",
       "      <td>6</td>\n",
       "    </tr>\n",
       "    <tr>\n",
       "      <th>14</th>\n",
       "      <td>2.217329</td>\n",
       "      <td>0.0</td>\n",
       "      <td>1.8</td>\n",
       "      <td>6</td>\n",
       "    </tr>\n",
       "    <tr>\n",
       "      <th>15</th>\n",
       "      <td>2.376168</td>\n",
       "      <td>0.0</td>\n",
       "      <td>1.8</td>\n",
       "      <td>6</td>\n",
       "    </tr>\n",
       "    <tr>\n",
       "      <th>16</th>\n",
       "      <td>2.535012</td>\n",
       "      <td>0.0</td>\n",
       "      <td>1.8</td>\n",
       "      <td>6</td>\n",
       "    </tr>\n",
       "    <tr>\n",
       "      <th>17</th>\n",
       "      <td>2.693643</td>\n",
       "      <td>0.0</td>\n",
       "      <td>1.8</td>\n",
       "      <td>6</td>\n",
       "    </tr>\n",
       "    <tr>\n",
       "      <th>18</th>\n",
       "      <td>2.852548</td>\n",
       "      <td>0.0</td>\n",
       "      <td>1.8</td>\n",
       "      <td>6</td>\n",
       "    </tr>\n",
       "    <tr>\n",
       "      <th>19</th>\n",
       "      <td>3.011559</td>\n",
       "      <td>0.0</td>\n",
       "      <td>1.8</td>\n",
       "      <td>6</td>\n",
       "    </tr>\n",
       "  </tbody>\n",
       "</table>\n",
       "</div>"
      ],
      "text/plain": [
       "       epoch  CPU  RAM  node\n",
       "0   0.000000  0.0  1.8     6\n",
       "1   0.158088  0.0  1.8     6\n",
       "2   0.314673  0.0  1.8     6\n",
       "3   0.473272  0.0  1.8     6\n",
       "4   0.632178  0.0  1.8     6\n",
       "5   0.790976  0.0  1.8     6\n",
       "6   0.950184  0.0  1.8     6\n",
       "7   1.108159  0.0  1.8     6\n",
       "8   1.262963  0.0  1.8     6\n",
       "9   1.421794  0.0  1.8     6\n",
       "10  1.580556  0.0  1.8     6\n",
       "11  1.739413  0.0  1.8     6\n",
       "12  1.898759  0.0  1.8     6\n",
       "13  2.058200  6.7  1.8     6\n",
       "14  2.217329  0.0  1.8     6\n",
       "15  2.376168  0.0  1.8     6\n",
       "16  2.535012  0.0  1.8     6\n",
       "17  2.693643  0.0  1.8     6\n",
       "18  2.852548  0.0  1.8     6\n",
       "19  3.011559  0.0  1.8     6"
      ]
     },
     "execution_count": 57,
     "metadata": {},
     "output_type": "execute_result"
    }
   ],
   "source": [
    "node1 = pd.read_csv(\"Prepared/aggregation/avgNetProfitGroupedBySoldDate/CPU-data-vol-1GB-5nodes/source-data/node-11/07_08_2021_23_43_34.csv\")\n",
    "node1['node'] = 1\n",
    "node2 = pd.read_csv(\"Prepared/aggregation/avgNetProfitGroupedBySoldDate/CPU-data-vol-1GB-5nodes/source-data/node-12/07_08_2021_23_46_44.csv\")\n",
    "node2['node'] = 2\n",
    "node3 = pd.read_csv(\"Prepared/aggregation/avgNetProfitGroupedBySoldDate/CPU-data-vol-1GB-5nodes/source-data/node-13/07_08_2021_23_43_33.csv\")\n",
    "node3['node'] = 3\n",
    "node4 = pd.read_csv(\"Prepared/aggregation/avgNetProfitGroupedBySoldDate/CPU-data-vol-1GB-5nodes/source-data/node-14/07_08_2021_23_45_13.csv\")\n",
    "node4['node'] = 4\n",
    "node5 = pd.read_csv(\"Prepared/aggregation/avgNetProfitGroupedBySoldDate/CPU-data-vol-1GB-5nodes/source-data/node-15/07_08_2021_23_55_41.csv\")\n",
    "node5['node'] = 5\n",
    "node6 = pd.read_csv(\"Prepared/aggregation/avgNetProfitGroupedBySoldDate/CPU-data-vol-1GB-5nodes/source-data/node-20/07_08_2021_23_43_43.csv\")\n",
    "node6['node'] = 6\n",
    "node6.head(20)"
   ]
  },
  {
   "cell_type": "code",
   "execution_count": 71,
   "metadata": {
    "pycharm": {
     "is_executing": true
    }
   },
   "outputs": [
    {
     "name": "stderr",
     "output_type": "stream",
     "text": [
      "C:\\Users\\anna\\miniconda3\\lib\\site-packages\\plotnine\\ggplot.py:719: PlotnineWarning: Saving 6.4 x 4.8 in image.\n",
      "C:\\Users\\anna\\miniconda3\\lib\\site-packages\\plotnine\\ggplot.py:722: PlotnineWarning: Filename: C:/Users/anna/OneDrive/Nauka/Magisterka-DESKTOP-LB7L5NR/wykresy/nodes_ram.png\n"
     ]
    }
   ],
   "source": [
    "path = \"C:/Users/anna/OneDrive/Nauka/Magisterka-DESKTOP-LB7L5NR/wykresy/\"\n",
    "nodes = pd.concat([node1, node2, node3, node4, node5, node6])\n",
    "\n",
    "p = (ggplot(nodes, aes(x='epoch', y = \"RAM\"))\n",
    "    + geom_line(color = \"orange\")\n",
    "    + facet_wrap('node', ncol=2)\n",
    "    + labs(title=f\"Przebieg zużycia RAM\", y=\"Zużycie ram (%)\", x = \"Czas (s)\")\n",
    "  )\n",
    "\n",
    "ggsave(plot=p, filename=f\"{path}nodes_ram.png\", dpi=1000)"
   ]
  },
  {
   "cell_type": "code",
   "execution_count": 69,
   "metadata": {
    "pycharm": {
     "is_executing": true
    }
   },
   "outputs": [
    {
     "name": "stderr",
     "output_type": "stream",
     "text": [
      "C:\\Users\\anna\\miniconda3\\lib\\site-packages\\plotnine\\ggplot.py:719: PlotnineWarning: Saving 6.4 x 4.8 in image.\n",
      "C:\\Users\\anna\\miniconda3\\lib\\site-packages\\plotnine\\ggplot.py:722: PlotnineWarning: Filename: C:/Users/anna/OneDrive/Nauka/Magisterka-DESKTOP-LB7L5NR/wykresy/nodes_cpu.png\n"
     ]
    }
   ],
   "source": [
    "nodes = pd.concat([node1, node2, node3, node4, node5, node6])\n",
    "p = (ggplot(nodes)\n",
    "    + aes(x='epoch', y = \"CPU\")\n",
    "    + geom_line(size=0.5, color = \"red\")\n",
    "    + facet_wrap('node', ncol=2)\n",
    "    + labs(title=f\"Przebieg zużycia CPU\", y=\"Zużycie procesora (%)\", x = \"Czas (s)\")\n",
    "  )\n",
    "ggsave(plot=p, filename=f\"{path}nodes_cpu.png\", dpi=1000)\n"
   ]
  },
  {
   "cell_type": "markdown",
   "metadata": {},
   "source": [
    "## Agregation"
   ]
  },
  {
   "cell_type": "code",
   "execution_count": 107,
   "metadata": {
    "pycharm": {
     "name": "#%%\n"
    }
   },
   "outputs": [
    {
     "data": {
      "text/html": [
       "<div>\n",
       "<style scoped>\n",
       "    .dataframe tbody tr th:only-of-type {\n",
       "        vertical-align: middle;\n",
       "    }\n",
       "\n",
       "    .dataframe tbody tr th {\n",
       "        vertical-align: top;\n",
       "    }\n",
       "\n",
       "    .dataframe thead th {\n",
       "        text-align: right;\n",
       "    }\n",
       "</style>\n",
       "<table border=\"1\" class=\"dataframe\">\n",
       "  <thead>\n",
       "    <tr style=\"text-align: right;\">\n",
       "      <th></th>\n",
       "      <th>snapshot</th>\n",
       "      <th>label</th>\n",
       "      <th>udf</th>\n",
       "      <th>epoch</th>\n",
       "      <th>CPU</th>\n",
       "      <th>RAM</th>\n",
       "    </tr>\n",
       "  </thead>\n",
       "  <tbody>\n",
       "    <tr>\n",
       "      <th>0</th>\n",
       "      <td>0</td>\n",
       "      <td>aggregation</td>\n",
       "      <td>avgNetProfitGroupedBySoldDate</td>\n",
       "      <td>0.000000</td>\n",
       "      <td>206.7</td>\n",
       "      <td>4.8</td>\n",
       "    </tr>\n",
       "    <tr>\n",
       "      <th>1</th>\n",
       "      <td>0</td>\n",
       "      <td>aggregation</td>\n",
       "      <td>avgNetProfitGroupedBySoldDate</td>\n",
       "      <td>0.156270</td>\n",
       "      <td>220.0</td>\n",
       "      <td>5.0</td>\n",
       "    </tr>\n",
       "    <tr>\n",
       "      <th>2</th>\n",
       "      <td>0</td>\n",
       "      <td>aggregation</td>\n",
       "      <td>avgNetProfitGroupedBySoldDate</td>\n",
       "      <td>0.314010</td>\n",
       "      <td>133.3</td>\n",
       "      <td>5.2</td>\n",
       "    </tr>\n",
       "    <tr>\n",
       "      <th>3</th>\n",
       "      <td>0</td>\n",
       "      <td>aggregation</td>\n",
       "      <td>avgNetProfitGroupedBySoldDate</td>\n",
       "      <td>0.471593</td>\n",
       "      <td>146.7</td>\n",
       "      <td>5.3</td>\n",
       "    </tr>\n",
       "    <tr>\n",
       "      <th>4</th>\n",
       "      <td>0</td>\n",
       "      <td>aggregation</td>\n",
       "      <td>avgNetProfitGroupedBySoldDate</td>\n",
       "      <td>0.628038</td>\n",
       "      <td>126.7</td>\n",
       "      <td>5.4</td>\n",
       "    </tr>\n",
       "    <tr>\n",
       "      <th>...</th>\n",
       "      <td>...</td>\n",
       "      <td>...</td>\n",
       "      <td>...</td>\n",
       "      <td>...</td>\n",
       "      <td>...</td>\n",
       "      <td>...</td>\n",
       "    </tr>\n",
       "    <tr>\n",
       "      <th>1789849</th>\n",
       "      <td>1808</td>\n",
       "      <td>aggregation</td>\n",
       "      <td>sumWholeSaleCostGroupedBySoldDate</td>\n",
       "      <td>190.090420</td>\n",
       "      <td>0.0</td>\n",
       "      <td>3.1</td>\n",
       "    </tr>\n",
       "    <tr>\n",
       "      <th>1789850</th>\n",
       "      <td>1808</td>\n",
       "      <td>aggregation</td>\n",
       "      <td>sumWholeSaleCostGroupedBySoldDate</td>\n",
       "      <td>190.247566</td>\n",
       "      <td>0.0</td>\n",
       "      <td>3.1</td>\n",
       "    </tr>\n",
       "    <tr>\n",
       "      <th>1789851</th>\n",
       "      <td>1808</td>\n",
       "      <td>aggregation</td>\n",
       "      <td>sumWholeSaleCostGroupedBySoldDate</td>\n",
       "      <td>190.404787</td>\n",
       "      <td>0.0</td>\n",
       "      <td>3.1</td>\n",
       "    </tr>\n",
       "    <tr>\n",
       "      <th>1789852</th>\n",
       "      <td>1808</td>\n",
       "      <td>aggregation</td>\n",
       "      <td>sumWholeSaleCostGroupedBySoldDate</td>\n",
       "      <td>190.562113</td>\n",
       "      <td>0.0</td>\n",
       "      <td>3.1</td>\n",
       "    </tr>\n",
       "    <tr>\n",
       "      <th>1789853</th>\n",
       "      <td>1808</td>\n",
       "      <td>aggregation</td>\n",
       "      <td>sumWholeSaleCostGroupedBySoldDate</td>\n",
       "      <td>190.719420</td>\n",
       "      <td>0.0</td>\n",
       "      <td>3.1</td>\n",
       "    </tr>\n",
       "  </tbody>\n",
       "</table>\n",
       "<p>1789854 rows × 6 columns</p>\n",
       "</div>"
      ],
      "text/plain": [
       "         snapshot        label                                udf       epoch  \\\n",
       "0               0  aggregation      avgNetProfitGroupedBySoldDate    0.000000   \n",
       "1               0  aggregation      avgNetProfitGroupedBySoldDate    0.156270   \n",
       "2               0  aggregation      avgNetProfitGroupedBySoldDate    0.314010   \n",
       "3               0  aggregation      avgNetProfitGroupedBySoldDate    0.471593   \n",
       "4               0  aggregation      avgNetProfitGroupedBySoldDate    0.628038   \n",
       "...           ...          ...                                ...         ...   \n",
       "1789849      1808  aggregation  sumWholeSaleCostGroupedBySoldDate  190.090420   \n",
       "1789850      1808  aggregation  sumWholeSaleCostGroupedBySoldDate  190.247566   \n",
       "1789851      1808  aggregation  sumWholeSaleCostGroupedBySoldDate  190.404787   \n",
       "1789852      1808  aggregation  sumWholeSaleCostGroupedBySoldDate  190.562113   \n",
       "1789853      1808  aggregation  sumWholeSaleCostGroupedBySoldDate  190.719420   \n",
       "\n",
       "           CPU  RAM  \n",
       "0        206.7  4.8  \n",
       "1        220.0  5.0  \n",
       "2        133.3  5.2  \n",
       "3        146.7  5.3  \n",
       "4        126.7  5.4  \n",
       "...        ...  ...  \n",
       "1789849    0.0  3.1  \n",
       "1789850    0.0  3.1  \n",
       "1789851    0.0  3.1  \n",
       "1789852    0.0  3.1  \n",
       "1789853    0.0  3.1  \n",
       "\n",
       "[1789854 rows x 6 columns]"
      ]
     },
     "execution_count": 107,
     "metadata": {},
     "output_type": "execute_result"
    }
   ],
   "source": [
    "joined_aggregation_all = pd.read_csv(\"Organised/aggregation/joined_aggregation.csv\")\n",
    "joined_aggregation_all"
   ]
  },
  {
   "cell_type": "code",
   "execution_count": 108,
   "metadata": {
    "pycharm": {
     "name": "#%%\n"
    }
   },
   "outputs": [
    {
     "data": {
      "text/plain": [
       "snapshot\n",
       "0        563\n",
       "1        496\n",
       "2        557\n",
       "3        583\n",
       "4        759\n",
       "        ... \n",
       "1804    1188\n",
       "1805    1224\n",
       "1806    1265\n",
       "1807    1169\n",
       "1808    1213\n",
       "Name: epoch, Length: 1809, dtype: int64"
      ]
     },
     "execution_count": 108,
     "metadata": {},
     "output_type": "execute_result"
    }
   ],
   "source": [
    "joined_aggregation_by_snapshots_count = joined_aggregation_all.groupby('snapshot')['epoch'].count()\n",
    "joined_aggregation_by_snapshots_count"
   ]
  },
  {
   "cell_type": "code",
   "execution_count": 144,
   "metadata": {
    "pycharm": {
     "name": "#%%\n"
    }
   },
   "outputs": [
    {
     "name": "stderr",
     "output_type": "stream",
     "text": [
      "C:\\Users\\anna\\miniconda3\\lib\\site-packages\\plotnine\\ggplot.py:719: PlotnineWarning: Saving 6.4 x 4.8 in image.\n",
      "C:\\Users\\anna\\miniconda3\\lib\\site-packages\\plotnine\\ggplot.py:722: PlotnineWarning: Filename: C:/Users/anna/OneDrive/Nauka/Magisterka-DESKTOP-LB7L5NR/wykresy/aggregation_count_per_snapshot.png\n"
     ]
    }
   ],
   "source": [
    "aggregation_snapshot_plot = (ggplot(joined_aggregation_all, aes(x='snapshot'))\n",
    "  + geom_histogram(size=0.5, binwidth=1.0)\n",
    "  + labs(title=f\"Agregacja - długość szeregu/eksperyment\", y=\"Długość szeregu\", x = \"Eksperyment\")\n",
    ")\n",
    "ggsave(plot=aggregation_snapshot_plot, filename=f\"{path}aggregation_count_per_snapshot.png\", dpi=1000)"
   ]
  },
  {
   "cell_type": "code",
   "execution_count": 110,
   "metadata": {},
   "outputs": [
    {
     "data": {
      "text/html": [
       "<div>\n",
       "<style scoped>\n",
       "    .dataframe tbody tr th:only-of-type {\n",
       "        vertical-align: middle;\n",
       "    }\n",
       "\n",
       "    .dataframe tbody tr th {\n",
       "        vertical-align: top;\n",
       "    }\n",
       "\n",
       "    .dataframe thead th {\n",
       "        text-align: right;\n",
       "    }\n",
       "</style>\n",
       "<table border=\"1\" class=\"dataframe\">\n",
       "  <thead>\n",
       "    <tr style=\"text-align: right;\">\n",
       "      <th></th>\n",
       "      <th>snapshot</th>\n",
       "      <th>CPU</th>\n",
       "      <th>RAM</th>\n",
       "    </tr>\n",
       "    <tr>\n",
       "      <th>snapshot</th>\n",
       "      <th></th>\n",
       "      <th></th>\n",
       "      <th></th>\n",
       "    </tr>\n",
       "  </thead>\n",
       "  <tbody>\n",
       "    <tr>\n",
       "      <th>0</th>\n",
       "      <td>0</td>\n",
       "      <td>360.0</td>\n",
       "      <td>10.5</td>\n",
       "    </tr>\n",
       "    <tr>\n",
       "      <th>1</th>\n",
       "      <td>1</td>\n",
       "      <td>366.7</td>\n",
       "      <td>10.3</td>\n",
       "    </tr>\n",
       "    <tr>\n",
       "      <th>2</th>\n",
       "      <td>2</td>\n",
       "      <td>373.3</td>\n",
       "      <td>10.3</td>\n",
       "    </tr>\n",
       "    <tr>\n",
       "      <th>3</th>\n",
       "      <td>3</td>\n",
       "      <td>386.7</td>\n",
       "      <td>11.8</td>\n",
       "    </tr>\n",
       "    <tr>\n",
       "      <th>4</th>\n",
       "      <td>4</td>\n",
       "      <td>386.7</td>\n",
       "      <td>10.6</td>\n",
       "    </tr>\n",
       "    <tr>\n",
       "      <th>...</th>\n",
       "      <td>...</td>\n",
       "      <td>...</td>\n",
       "      <td>...</td>\n",
       "    </tr>\n",
       "    <tr>\n",
       "      <th>1804</th>\n",
       "      <td>1804</td>\n",
       "      <td>373.3</td>\n",
       "      <td>9.3</td>\n",
       "    </tr>\n",
       "    <tr>\n",
       "      <th>1805</th>\n",
       "      <td>1805</td>\n",
       "      <td>373.3</td>\n",
       "      <td>9.7</td>\n",
       "    </tr>\n",
       "    <tr>\n",
       "      <th>1806</th>\n",
       "      <td>1806</td>\n",
       "      <td>360.0</td>\n",
       "      <td>9.3</td>\n",
       "    </tr>\n",
       "    <tr>\n",
       "      <th>1807</th>\n",
       "      <td>1807</td>\n",
       "      <td>360.0</td>\n",
       "      <td>9.6</td>\n",
       "    </tr>\n",
       "    <tr>\n",
       "      <th>1808</th>\n",
       "      <td>1808</td>\n",
       "      <td>386.7</td>\n",
       "      <td>9.3</td>\n",
       "    </tr>\n",
       "  </tbody>\n",
       "</table>\n",
       "<p>1809 rows × 3 columns</p>\n",
       "</div>"
      ],
      "text/plain": [
       "          snapshot    CPU   RAM\n",
       "snapshot                       \n",
       "0                0  360.0  10.5\n",
       "1                1  366.7  10.3\n",
       "2                2  373.3  10.3\n",
       "3                3  386.7  11.8\n",
       "4                4  386.7  10.6\n",
       "...            ...    ...   ...\n",
       "1804          1804  373.3   9.3\n",
       "1805          1805  373.3   9.7\n",
       "1806          1806  360.0   9.3\n",
       "1807          1807  360.0   9.6\n",
       "1808          1808  386.7   9.3\n",
       "\n",
       "[1809 rows x 3 columns]"
      ]
     },
     "execution_count": 110,
     "metadata": {},
     "output_type": "execute_result"
    }
   ],
   "source": [
    "joined_aggregation_by_snapshots_max = joined_aggregation_all.groupby('snapshot')[['snapshot', 'CPU', 'RAM']].max()\n",
    "joined_aggregation_by_snapshots_max"
   ]
  },
  {
   "cell_type": "code",
   "execution_count": 111,
   "metadata": {},
   "outputs": [
    {
     "data": {
      "text/html": [
       "<div>\n",
       "<style scoped>\n",
       "    .dataframe tbody tr th:only-of-type {\n",
       "        vertical-align: middle;\n",
       "    }\n",
       "\n",
       "    .dataframe tbody tr th {\n",
       "        vertical-align: top;\n",
       "    }\n",
       "\n",
       "    .dataframe thead th {\n",
       "        text-align: right;\n",
       "    }\n",
       "</style>\n",
       "<table border=\"1\" class=\"dataframe\">\n",
       "  <thead>\n",
       "    <tr style=\"text-align: right;\">\n",
       "      <th></th>\n",
       "      <th>snapshot</th>\n",
       "      <th>CPU</th>\n",
       "      <th>RAM</th>\n",
       "    </tr>\n",
       "    <tr>\n",
       "      <th>snapshot</th>\n",
       "      <th></th>\n",
       "      <th></th>\n",
       "      <th></th>\n",
       "    </tr>\n",
       "  </thead>\n",
       "  <tbody>\n",
       "    <tr>\n",
       "      <th>0</th>\n",
       "      <td>0.0</td>\n",
       "      <td>34.912611</td>\n",
       "      <td>9.710480</td>\n",
       "    </tr>\n",
       "    <tr>\n",
       "      <th>1</th>\n",
       "      <td>1.0</td>\n",
       "      <td>38.645363</td>\n",
       "      <td>9.426613</td>\n",
       "    </tr>\n",
       "    <tr>\n",
       "      <th>2</th>\n",
       "      <td>2.0</td>\n",
       "      <td>34.191382</td>\n",
       "      <td>9.507361</td>\n",
       "    </tr>\n",
       "    <tr>\n",
       "      <th>3</th>\n",
       "      <td>3.0</td>\n",
       "      <td>32.059177</td>\n",
       "      <td>10.967410</td>\n",
       "    </tr>\n",
       "    <tr>\n",
       "      <th>4</th>\n",
       "      <td>4.0</td>\n",
       "      <td>25.046904</td>\n",
       "      <td>10.041502</td>\n",
       "    </tr>\n",
       "    <tr>\n",
       "      <th>...</th>\n",
       "      <td>...</td>\n",
       "      <td>...</td>\n",
       "      <td>...</td>\n",
       "    </tr>\n",
       "    <tr>\n",
       "      <th>1804</th>\n",
       "      <td>1804.0</td>\n",
       "      <td>16.726515</td>\n",
       "      <td>8.929798</td>\n",
       "    </tr>\n",
       "    <tr>\n",
       "      <th>1805</th>\n",
       "      <td>1805.0</td>\n",
       "      <td>16.541176</td>\n",
       "      <td>9.195915</td>\n",
       "    </tr>\n",
       "    <tr>\n",
       "      <th>1806</th>\n",
       "      <td>1806.0</td>\n",
       "      <td>15.575336</td>\n",
       "      <td>8.757470</td>\n",
       "    </tr>\n",
       "    <tr>\n",
       "      <th>1807</th>\n",
       "      <td>1807.0</td>\n",
       "      <td>17.131993</td>\n",
       "      <td>9.018991</td>\n",
       "    </tr>\n",
       "    <tr>\n",
       "      <th>1808</th>\n",
       "      <td>1808.0</td>\n",
       "      <td>17.429101</td>\n",
       "      <td>8.811377</td>\n",
       "    </tr>\n",
       "  </tbody>\n",
       "</table>\n",
       "<p>1809 rows × 3 columns</p>\n",
       "</div>"
      ],
      "text/plain": [
       "          snapshot        CPU        RAM\n",
       "snapshot                                \n",
       "0              0.0  34.912611   9.710480\n",
       "1              1.0  38.645363   9.426613\n",
       "2              2.0  34.191382   9.507361\n",
       "3              3.0  32.059177  10.967410\n",
       "4              4.0  25.046904  10.041502\n",
       "...            ...        ...        ...\n",
       "1804        1804.0  16.726515   8.929798\n",
       "1805        1805.0  16.541176   9.195915\n",
       "1806        1806.0  15.575336   8.757470\n",
       "1807        1807.0  17.131993   9.018991\n",
       "1808        1808.0  17.429101   8.811377\n",
       "\n",
       "[1809 rows x 3 columns]"
      ]
     },
     "execution_count": 111,
     "metadata": {},
     "output_type": "execute_result"
    }
   ],
   "source": [
    "joined_aggregation_by_snapshots_mean = joined_aggregation_all.groupby('snapshot')[['snapshot', 'CPU', 'RAM']].mean()\n",
    "joined_aggregation_by_snapshots_mean"
   ]
  },
  {
   "cell_type": "code",
   "execution_count": 112,
   "metadata": {},
   "outputs": [
    {
     "name": "stderr",
     "output_type": "stream",
     "text": [
      "C:\\Users\\anna\\miniconda3\\lib\\site-packages\\plotnine\\ggplot.py:719: PlotnineWarning: Saving 6.4 x 4.8 in image.\n",
      "C:\\Users\\anna\\miniconda3\\lib\\site-packages\\plotnine\\ggplot.py:722: PlotnineWarning: Filename: C:/Users/anna/OneDrive/Nauka/Magisterka-DESKTOP-LB7L5NR/wykresy/aggregation_max_cpu.png\n"
     ]
    }
   ],
   "source": [
    "aggregation_snapshot_max_plot = (ggplot(joined_aggregation_by_snapshots_max, aes(x='snapshot', y='CPU'))\n",
    "  + geom_line(size=0.5, color='red')\n",
    "  + labs(y=\"CPU\", x = \"Eksperyment\")\n",
    ")\n",
    "ggsave(plot=aggregation_snapshot_max_plot, filename=f\"{path}aggregation_max_cpu.png\", dpi=1000)"
   ]
  },
  {
   "cell_type": "code",
   "execution_count": 113,
   "metadata": {},
   "outputs": [
    {
     "name": "stderr",
     "output_type": "stream",
     "text": [
      "C:\\Users\\anna\\miniconda3\\lib\\site-packages\\plotnine\\ggplot.py:719: PlotnineWarning: Saving 6.4 x 4.8 in image.\n",
      "C:\\Users\\anna\\miniconda3\\lib\\site-packages\\plotnine\\ggplot.py:722: PlotnineWarning: Filename: C:/Users/anna/OneDrive/Nauka/Magisterka-DESKTOP-LB7L5NR/wykresy/aggregation_max_ram.png\n"
     ]
    }
   ],
   "source": [
    "aggregation_snapshot_max_plot = (ggplot(joined_aggregation_by_snapshots_max, aes(x='snapshot', y='RAM'))\n",
    "  + geom_line(size=0.5, color='orange')\n",
    "  + labs(y=\"RAM\", x = \"Eksperyment\")\n",
    ")\n",
    "ggsave(plot=aggregation_snapshot_max_plot, filename=f\"{path}aggregation_max_ram.png\", dpi=1000)"
   ]
  },
  {
   "cell_type": "code",
   "execution_count": 114,
   "metadata": {},
   "outputs": [
    {
     "name": "stderr",
     "output_type": "stream",
     "text": [
      "C:\\Users\\anna\\miniconda3\\lib\\site-packages\\plotnine\\ggplot.py:719: PlotnineWarning: Saving 6.4 x 4.8 in image.\n",
      "C:\\Users\\anna\\miniconda3\\lib\\site-packages\\plotnine\\ggplot.py:722: PlotnineWarning: Filename: C:/Users/anna/OneDrive/Nauka/Magisterka-DESKTOP-LB7L5NR/wykresy/aggregation_mean_cpu.png\n"
     ]
    }
   ],
   "source": [
    "aggregation_snapshot_mean_plot = (ggplot(joined_aggregation_by_snapshots_mean, aes(x='snapshot', y='CPU'))\n",
    "  + geom_line(size=0.5, color='red')\n",
    "  + labs(y=\"CPU\", x = \"Eksperyment\")\n",
    ")\n",
    "ggsave(plot=aggregation_snapshot_mean_plot, filename=f\"{path}aggregation_mean_cpu.png\", dpi=1000)"
   ]
  },
  {
   "cell_type": "code",
   "execution_count": 115,
   "metadata": {},
   "outputs": [
    {
     "name": "stderr",
     "output_type": "stream",
     "text": [
      "C:\\Users\\anna\\miniconda3\\lib\\site-packages\\plotnine\\ggplot.py:719: PlotnineWarning: Saving 6.4 x 4.8 in image.\n",
      "C:\\Users\\anna\\miniconda3\\lib\\site-packages\\plotnine\\ggplot.py:722: PlotnineWarning: Filename: C:/Users/anna/OneDrive/Nauka/Magisterka-DESKTOP-LB7L5NR/wykresy/aggregation_mean_ram.png\n"
     ]
    }
   ],
   "source": [
    "aggregation_snapshot_mean_plot = (ggplot(joined_aggregation_by_snapshots_mean, aes(x='snapshot', y='RAM'))\n",
    "  + geom_line(size=0.5, color='orange')\n",
    "  + labs(y=\"RAM\", x = \"Eksperyment\")\n",
    ")\n",
    "ggsave(plot=aggregation_snapshot_mean_plot, filename=f\"{path}aggregation_mean_ram.png\", dpi=1000)"
   ]
  },
  {
   "cell_type": "code",
   "execution_count": 116,
   "metadata": {},
   "outputs": [
    {
     "data": {
      "image/png": "[encoded data removed]",
      "text/plain": [
       "<Figure size 1080x504 with 2 Axes>"
      ]
     },
     "metadata": {
      "needs_background": "light"
     },
     "output_type": "display_data"
    }
   ],
   "source": [
    "import matplotlib.pyplot as plt\n",
    "import numpy as np\n",
    "\n",
    "plt.rcParams[\"figure.figsize\"] = [15, 7]\n",
    "plt.rcParams[\"figure.autolayout\"] = True\n",
    "\n",
    "cpu =joined_aggregation_by_snapshots_max['CPU']\n",
    "ram = joined_aggregation_by_snapshots_max['RAM']\n",
    "\n",
    "ax1 = plt.subplot()\n",
    "l1, = ax1.plot(cpu, color='red')\n",
    "ax2 = ax1.twinx()\n",
    "l2, = ax2.plot(ram, color='orange')\n",
    "\n",
    "plt.legend([l1, l2], [\"cpu\", \"ram\"])\n",
    "\n",
    "plt.show()"
   ]
  },
  {
   "cell_type": "markdown",
   "metadata": {},
   "source": [
    "## Filtration"
   ]
  },
  {
   "cell_type": "code",
   "execution_count": 117,
   "metadata": {
    "pycharm": {
     "name": "#%%\n"
    }
   },
   "outputs": [],
   "source": [
    "joined_filtration_all = pd.read_csv(\"Organised/filtration/joined_filtration.csv\")"
   ]
  },
  {
   "cell_type": "code",
   "execution_count": 118,
   "metadata": {
    "pycharm": {
     "name": "#%%\n"
    }
   },
   "outputs": [
    {
     "name": "stderr",
     "output_type": "stream",
     "text": [
      "C:\\Users\\anna\\miniconda3\\lib\\site-packages\\plotnine\\ggplot.py:719: PlotnineWarning: Saving 6.4 x 4.8 in image.\n",
      "C:\\Users\\anna\\miniconda3\\lib\\site-packages\\plotnine\\ggplot.py:722: PlotnineWarning: Filename: C:/Users/anna/OneDrive/Nauka/Magisterka-DESKTOP-LB7L5NR/wykresy/filtration_count_per_snapshot.png\n"
     ]
    }
   ],
   "source": [
    "filtration_snapshot_plot = (ggplot(joined_filtration_all, aes(x='snapshot'))\n",
    "  + geom_histogram(size=0.5, binwidth=1.0)\n",
    "  + labs(y=\"Długość szeregu\", x = \"Eksperyment\")\n",
    ")\n",
    "ggsave(plot=filtration_snapshot_plot, filename=f\"{path}filtration_count_per_snapshot.png\", dpi=1000)"
   ]
  },
  {
   "cell_type": "code",
   "execution_count": 119,
   "metadata": {},
   "outputs": [
    {
     "data": {
      "text/html": [
       "<div>\n",
       "<style scoped>\n",
       "    .dataframe tbody tr th:only-of-type {\n",
       "        vertical-align: middle;\n",
       "    }\n",
       "\n",
       "    .dataframe tbody tr th {\n",
       "        vertical-align: top;\n",
       "    }\n",
       "\n",
       "    .dataframe thead th {\n",
       "        text-align: right;\n",
       "    }\n",
       "</style>\n",
       "<table border=\"1\" class=\"dataframe\">\n",
       "  <thead>\n",
       "    <tr style=\"text-align: right;\">\n",
       "      <th></th>\n",
       "      <th>snapshot</th>\n",
       "      <th>CPU</th>\n",
       "      <th>RAM</th>\n",
       "    </tr>\n",
       "    <tr>\n",
       "      <th>snapshot</th>\n",
       "      <th></th>\n",
       "      <th></th>\n",
       "      <th></th>\n",
       "    </tr>\n",
       "  </thead>\n",
       "  <tbody>\n",
       "    <tr>\n",
       "      <th>0</th>\n",
       "      <td>0</td>\n",
       "      <td>346.7</td>\n",
       "      <td>11.9</td>\n",
       "    </tr>\n",
       "    <tr>\n",
       "      <th>1</th>\n",
       "      <td>1</td>\n",
       "      <td>360.0</td>\n",
       "      <td>11.0</td>\n",
       "    </tr>\n",
       "    <tr>\n",
       "      <th>2</th>\n",
       "      <td>2</td>\n",
       "      <td>346.7</td>\n",
       "      <td>10.9</td>\n",
       "    </tr>\n",
       "    <tr>\n",
       "      <th>3</th>\n",
       "      <td>3</td>\n",
       "      <td>386.7</td>\n",
       "      <td>11.2</td>\n",
       "    </tr>\n",
       "    <tr>\n",
       "      <th>4</th>\n",
       "      <td>4</td>\n",
       "      <td>360.0</td>\n",
       "      <td>11.0</td>\n",
       "    </tr>\n",
       "    <tr>\n",
       "      <th>...</th>\n",
       "      <td>...</td>\n",
       "      <td>...</td>\n",
       "      <td>...</td>\n",
       "    </tr>\n",
       "    <tr>\n",
       "      <th>296</th>\n",
       "      <td>296</td>\n",
       "      <td>360.0</td>\n",
       "      <td>11.0</td>\n",
       "    </tr>\n",
       "    <tr>\n",
       "      <th>297</th>\n",
       "      <td>297</td>\n",
       "      <td>360.0</td>\n",
       "      <td>11.3</td>\n",
       "    </tr>\n",
       "    <tr>\n",
       "      <th>298</th>\n",
       "      <td>298</td>\n",
       "      <td>366.7</td>\n",
       "      <td>11.2</td>\n",
       "    </tr>\n",
       "    <tr>\n",
       "      <th>299</th>\n",
       "      <td>299</td>\n",
       "      <td>340.0</td>\n",
       "      <td>11.3</td>\n",
       "    </tr>\n",
       "    <tr>\n",
       "      <th>300</th>\n",
       "      <td>300</td>\n",
       "      <td>360.0</td>\n",
       "      <td>11.3</td>\n",
       "    </tr>\n",
       "  </tbody>\n",
       "</table>\n",
       "<p>301 rows × 3 columns</p>\n",
       "</div>"
      ],
      "text/plain": [
       "          snapshot    CPU   RAM\n",
       "snapshot                       \n",
       "0                0  346.7  11.9\n",
       "1                1  360.0  11.0\n",
       "2                2  346.7  10.9\n",
       "3                3  386.7  11.2\n",
       "4                4  360.0  11.0\n",
       "...            ...    ...   ...\n",
       "296            296  360.0  11.0\n",
       "297            297  360.0  11.3\n",
       "298            298  366.7  11.2\n",
       "299            299  340.0  11.3\n",
       "300            300  360.0  11.3\n",
       "\n",
       "[301 rows x 3 columns]"
      ]
     },
     "execution_count": 119,
     "metadata": {},
     "output_type": "execute_result"
    }
   ],
   "source": [
    "joined_filtration_by_snapshots_max = joined_filtration_all.groupby('snapshot')[['snapshot', 'CPU', 'RAM']].max()\n",
    "joined_filtration_by_snapshots_max"
   ]
  },
  {
   "cell_type": "code",
   "execution_count": 120,
   "metadata": {},
   "outputs": [
    {
     "data": {
      "text/html": [
       "<div>\n",
       "<style scoped>\n",
       "    .dataframe tbody tr th:only-of-type {\n",
       "        vertical-align: middle;\n",
       "    }\n",
       "\n",
       "    .dataframe tbody tr th {\n",
       "        vertical-align: top;\n",
       "    }\n",
       "\n",
       "    .dataframe thead th {\n",
       "        text-align: right;\n",
       "    }\n",
       "</style>\n",
       "<table border=\"1\" class=\"dataframe\">\n",
       "  <thead>\n",
       "    <tr style=\"text-align: right;\">\n",
       "      <th></th>\n",
       "      <th>snapshot</th>\n",
       "      <th>CPU</th>\n",
       "      <th>RAM</th>\n",
       "    </tr>\n",
       "    <tr>\n",
       "      <th>snapshot</th>\n",
       "      <th></th>\n",
       "      <th></th>\n",
       "      <th></th>\n",
       "    </tr>\n",
       "  </thead>\n",
       "  <tbody>\n",
       "    <tr>\n",
       "      <th>0</th>\n",
       "      <td>0.0</td>\n",
       "      <td>91.598026</td>\n",
       "      <td>9.530263</td>\n",
       "    </tr>\n",
       "    <tr>\n",
       "      <th>1</th>\n",
       "      <td>1.0</td>\n",
       "      <td>86.482781</td>\n",
       "      <td>8.896026</td>\n",
       "    </tr>\n",
       "    <tr>\n",
       "      <th>2</th>\n",
       "      <td>2.0</td>\n",
       "      <td>95.264748</td>\n",
       "      <td>8.728058</td>\n",
       "    </tr>\n",
       "    <tr>\n",
       "      <th>3</th>\n",
       "      <td>3.0</td>\n",
       "      <td>97.697842</td>\n",
       "      <td>8.861871</td>\n",
       "    </tr>\n",
       "    <tr>\n",
       "      <th>4</th>\n",
       "      <td>4.0</td>\n",
       "      <td>90.278767</td>\n",
       "      <td>8.889726</td>\n",
       "    </tr>\n",
       "    <tr>\n",
       "      <th>...</th>\n",
       "      <td>...</td>\n",
       "      <td>...</td>\n",
       "      <td>...</td>\n",
       "    </tr>\n",
       "    <tr>\n",
       "      <th>296</th>\n",
       "      <td>296.0</td>\n",
       "      <td>44.203762</td>\n",
       "      <td>9.784013</td>\n",
       "    </tr>\n",
       "    <tr>\n",
       "      <th>297</th>\n",
       "      <td>297.0</td>\n",
       "      <td>56.723108</td>\n",
       "      <td>9.790040</td>\n",
       "    </tr>\n",
       "    <tr>\n",
       "      <th>298</th>\n",
       "      <td>298.0</td>\n",
       "      <td>56.447656</td>\n",
       "      <td>9.922656</td>\n",
       "    </tr>\n",
       "    <tr>\n",
       "      <th>299</th>\n",
       "      <td>299.0</td>\n",
       "      <td>56.928862</td>\n",
       "      <td>9.928455</td>\n",
       "    </tr>\n",
       "    <tr>\n",
       "      <th>300</th>\n",
       "      <td>300.0</td>\n",
       "      <td>57.755645</td>\n",
       "      <td>9.884677</td>\n",
       "    </tr>\n",
       "  </tbody>\n",
       "</table>\n",
       "<p>301 rows × 3 columns</p>\n",
       "</div>"
      ],
      "text/plain": [
       "          snapshot        CPU       RAM\n",
       "snapshot                               \n",
       "0              0.0  91.598026  9.530263\n",
       "1              1.0  86.482781  8.896026\n",
       "2              2.0  95.264748  8.728058\n",
       "3              3.0  97.697842  8.861871\n",
       "4              4.0  90.278767  8.889726\n",
       "...            ...        ...       ...\n",
       "296          296.0  44.203762  9.784013\n",
       "297          297.0  56.723108  9.790040\n",
       "298          298.0  56.447656  9.922656\n",
       "299          299.0  56.928862  9.928455\n",
       "300          300.0  57.755645  9.884677\n",
       "\n",
       "[301 rows x 3 columns]"
      ]
     },
     "execution_count": 120,
     "metadata": {},
     "output_type": "execute_result"
    }
   ],
   "source": [
    "joined_filtration_by_snapshots_mean = joined_filtration_all.groupby('snapshot')[['snapshot', 'CPU', 'RAM']].mean()\n",
    "joined_filtration_by_snapshots_mean"
   ]
  },
  {
   "cell_type": "code",
   "execution_count": 121,
   "metadata": {},
   "outputs": [
    {
     "name": "stderr",
     "output_type": "stream",
     "text": [
      "C:\\Users\\anna\\miniconda3\\lib\\site-packages\\plotnine\\ggplot.py:719: PlotnineWarning: Saving 6.4 x 4.8 in image.\n",
      "C:\\Users\\anna\\miniconda3\\lib\\site-packages\\plotnine\\ggplot.py:722: PlotnineWarning: Filename: C:/Users/anna/OneDrive/Nauka/Magisterka-DESKTOP-LB7L5NR/wykresy/filtration_max_cpu.png\n"
     ]
    }
   ],
   "source": [
    "filtration_snapshot_max_plot = (ggplot(joined_filtration_by_snapshots_max, aes(x='snapshot', y='CPU'))\n",
    "  + geom_line(size=0.5, color='red')\n",
    "  + labs(y=\"CPU\", x = \"Eksperyment\")\n",
    ")\n",
    "ggsave(plot=filtration_snapshot_max_plot, filename=f\"{path}filtration_max_cpu.png\", dpi=1000)"
   ]
  },
  {
   "cell_type": "code",
   "execution_count": 122,
   "metadata": {},
   "outputs": [
    {
     "name": "stderr",
     "output_type": "stream",
     "text": [
      "C:\\Users\\anna\\miniconda3\\lib\\site-packages\\plotnine\\ggplot.py:719: PlotnineWarning: Saving 6.4 x 4.8 in image.\n",
      "C:\\Users\\anna\\miniconda3\\lib\\site-packages\\plotnine\\ggplot.py:722: PlotnineWarning: Filename: C:/Users/anna/OneDrive/Nauka/Magisterka-DESKTOP-LB7L5NR/wykresy/filtration_max_ram.png\n"
     ]
    }
   ],
   "source": [
    "filtration_snapshot_max_plot = (ggplot(joined_filtration_by_snapshots_max, aes(x='snapshot', y='RAM'))\n",
    "  + geom_line(size=0.5, color='orange')\n",
    "  + labs(y=\"RAM\", x = \"Eksperyment\")\n",
    ")\n",
    "ggsave(plot=filtration_snapshot_max_plot, filename=f\"{path}filtration_max_ram.png\", dpi=1000)"
   ]
  },
  {
   "cell_type": "code",
   "execution_count": 123,
   "metadata": {},
   "outputs": [
    {
     "name": "stderr",
     "output_type": "stream",
     "text": [
      "C:\\Users\\anna\\miniconda3\\lib\\site-packages\\plotnine\\ggplot.py:719: PlotnineWarning: Saving 6.4 x 4.8 in image.\n",
      "C:\\Users\\anna\\miniconda3\\lib\\site-packages\\plotnine\\ggplot.py:722: PlotnineWarning: Filename: C:/Users/anna/OneDrive/Nauka/Magisterka-DESKTOP-LB7L5NR/wykresy/filtration_mean_cpu.png\n"
     ]
    }
   ],
   "source": [
    "filtration_snapshot_mean_plot = (ggplot(joined_filtration_by_snapshots_mean, aes(x='snapshot', y='CPU'))\n",
    "  + geom_line(size=0.5, color='red')\n",
    "  + labs(y=\"CPU\", x = \"Eksperyment\")\n",
    ")\n",
    "ggsave(plot=filtration_snapshot_mean_plot, filename=f\"{path}filtration_mean_cpu.png\", dpi=1000)"
   ]
  },
  {
   "cell_type": "code",
   "execution_count": 124,
   "metadata": {},
   "outputs": [
    {
     "name": "stderr",
     "output_type": "stream",
     "text": [
      "C:\\Users\\anna\\miniconda3\\lib\\site-packages\\plotnine\\ggplot.py:719: PlotnineWarning: Saving 6.4 x 4.8 in image.\n",
      "C:\\Users\\anna\\miniconda3\\lib\\site-packages\\plotnine\\ggplot.py:722: PlotnineWarning: Filename: C:/Users/anna/OneDrive/Nauka/Magisterka-DESKTOP-LB7L5NR/wykresy/filtration_mean_ram.png\n"
     ]
    }
   ],
   "source": [
    "filtration_snapshot_mean_plot = (ggplot(joined_filtration_by_snapshots_mean, aes(x='snapshot', y='RAM'))\n",
    "  + geom_line(size=0.5, color='red')\n",
    "  + labs(y=\"RAM\", x = \"Eksperyment\")\n",
    ")\n",
    "ggsave(plot=filtration_snapshot_mean_plot, filename=f\"{path}filtration_mean_ram.png\", dpi=1000)"
   ]
  },
  {
   "cell_type": "markdown",
   "metadata": {},
   "source": [
    "## Agregation_Filtration"
   ]
  },
  {
   "cell_type": "code",
   "execution_count": 125,
   "metadata": {
    "pycharm": {
     "name": "#%%\n"
    }
   },
   "outputs": [],
   "source": [
    "joined_aggregation_filtration_all = pd.read_csv(\"Organised/filtration-aggregation/joined_filtration-aggregation.csv\")"
   ]
  },
  {
   "cell_type": "code",
   "execution_count": 126,
   "metadata": {
    "pycharm": {
     "name": "#%%\n"
    }
   },
   "outputs": [
    {
     "data": {
      "image/png": "[encoded data removed]",
      "text/plain": [
       "<Figure size 640x480 with 1 Axes>"
      ]
     },
     "metadata": {},
     "output_type": "display_data"
    },
    {
     "data": {
      "text/plain": [
       "<ggplot: (152736236258)>"
      ]
     },
     "execution_count": 126,
     "metadata": {},
     "output_type": "execute_result"
    }
   ],
   "source": [
    "aggregation_filtration_snapshot_plot = (ggplot(joined_aggregation_filtration_all, aes(x='snapshot'))\n",
    "  + geom_histogram(size=0.5, binwidth=1.0)\n",
    "  + labs(y=\"Długość szeregu\", x = \"Eksperyment\")\n",
    ")\n",
    "aggregation_filtration_snapshot_plot"
   ]
  },
  {
   "cell_type": "code",
   "execution_count": 127,
   "metadata": {},
   "outputs": [
    {
     "data": {
      "text/html": [
       "<div>\n",
       "<style scoped>\n",
       "    .dataframe tbody tr th:only-of-type {\n",
       "        vertical-align: middle;\n",
       "    }\n",
       "\n",
       "    .dataframe tbody tr th {\n",
       "        vertical-align: top;\n",
       "    }\n",
       "\n",
       "    .dataframe thead th {\n",
       "        text-align: right;\n",
       "    }\n",
       "</style>\n",
       "<table border=\"1\" class=\"dataframe\">\n",
       "  <thead>\n",
       "    <tr style=\"text-align: right;\">\n",
       "      <th></th>\n",
       "      <th>snapshot</th>\n",
       "      <th>CPU</th>\n",
       "      <th>RAM</th>\n",
       "    </tr>\n",
       "    <tr>\n",
       "      <th>snapshot</th>\n",
       "      <th></th>\n",
       "      <th></th>\n",
       "      <th></th>\n",
       "    </tr>\n",
       "  </thead>\n",
       "  <tbody>\n",
       "    <tr>\n",
       "      <th>0</th>\n",
       "      <td>0</td>\n",
       "      <td>360.0</td>\n",
       "      <td>12.1</td>\n",
       "    </tr>\n",
       "    <tr>\n",
       "      <th>1</th>\n",
       "      <td>1</td>\n",
       "      <td>353.3</td>\n",
       "      <td>12.3</td>\n",
       "    </tr>\n",
       "    <tr>\n",
       "      <th>2</th>\n",
       "      <td>2</td>\n",
       "      <td>360.0</td>\n",
       "      <td>13.8</td>\n",
       "    </tr>\n",
       "    <tr>\n",
       "      <th>3</th>\n",
       "      <td>3</td>\n",
       "      <td>360.0</td>\n",
       "      <td>12.3</td>\n",
       "    </tr>\n",
       "    <tr>\n",
       "      <th>4</th>\n",
       "      <td>4</td>\n",
       "      <td>360.0</td>\n",
       "      <td>12.1</td>\n",
       "    </tr>\n",
       "    <tr>\n",
       "      <th>...</th>\n",
       "      <td>...</td>\n",
       "      <td>...</td>\n",
       "      <td>...</td>\n",
       "    </tr>\n",
       "    <tr>\n",
       "      <th>747</th>\n",
       "      <td>747</td>\n",
       "      <td>373.3</td>\n",
       "      <td>11.9</td>\n",
       "    </tr>\n",
       "    <tr>\n",
       "      <th>748</th>\n",
       "      <td>748</td>\n",
       "      <td>346.7</td>\n",
       "      <td>11.9</td>\n",
       "    </tr>\n",
       "    <tr>\n",
       "      <th>749</th>\n",
       "      <td>749</td>\n",
       "      <td>366.7</td>\n",
       "      <td>11.8</td>\n",
       "    </tr>\n",
       "    <tr>\n",
       "      <th>750</th>\n",
       "      <td>750</td>\n",
       "      <td>366.7</td>\n",
       "      <td>11.9</td>\n",
       "    </tr>\n",
       "    <tr>\n",
       "      <th>751</th>\n",
       "      <td>751</td>\n",
       "      <td>366.7</td>\n",
       "      <td>12.0</td>\n",
       "    </tr>\n",
       "  </tbody>\n",
       "</table>\n",
       "<p>752 rows × 3 columns</p>\n",
       "</div>"
      ],
      "text/plain": [
       "          snapshot    CPU   RAM\n",
       "snapshot                       \n",
       "0                0  360.0  12.1\n",
       "1                1  353.3  12.3\n",
       "2                2  360.0  13.8\n",
       "3                3  360.0  12.3\n",
       "4                4  360.0  12.1\n",
       "...            ...    ...   ...\n",
       "747            747  373.3  11.9\n",
       "748            748  346.7  11.9\n",
       "749            749  366.7  11.8\n",
       "750            750  366.7  11.9\n",
       "751            751  366.7  12.0\n",
       "\n",
       "[752 rows x 3 columns]"
      ]
     },
     "execution_count": 127,
     "metadata": {},
     "output_type": "execute_result"
    }
   ],
   "source": [
    "joined_aggregation_filtration_by_snapshots_max = joined_aggregation_filtration_all.groupby('snapshot')[['snapshot', 'CPU', 'RAM']].max()\n",
    "joined_aggregation_filtration_by_snapshots_max"
   ]
  },
  {
   "cell_type": "code",
   "execution_count": 128,
   "metadata": {},
   "outputs": [
    {
     "data": {
      "text/html": [
       "<div>\n",
       "<style scoped>\n",
       "    .dataframe tbody tr th:only-of-type {\n",
       "        vertical-align: middle;\n",
       "    }\n",
       "\n",
       "    .dataframe tbody tr th {\n",
       "        vertical-align: top;\n",
       "    }\n",
       "\n",
       "    .dataframe thead th {\n",
       "        text-align: right;\n",
       "    }\n",
       "</style>\n",
       "<table border=\"1\" class=\"dataframe\">\n",
       "  <thead>\n",
       "    <tr style=\"text-align: right;\">\n",
       "      <th></th>\n",
       "      <th>snapshot</th>\n",
       "      <th>CPU</th>\n",
       "      <th>RAM</th>\n",
       "    </tr>\n",
       "    <tr>\n",
       "      <th>snapshot</th>\n",
       "      <th></th>\n",
       "      <th></th>\n",
       "      <th></th>\n",
       "    </tr>\n",
       "  </thead>\n",
       "  <tbody>\n",
       "    <tr>\n",
       "      <th>0</th>\n",
       "      <td>0.0</td>\n",
       "      <td>29.406619</td>\n",
       "      <td>11.468777</td>\n",
       "    </tr>\n",
       "    <tr>\n",
       "      <th>1</th>\n",
       "      <td>1.0</td>\n",
       "      <td>36.585397</td>\n",
       "      <td>11.537708</td>\n",
       "    </tr>\n",
       "    <tr>\n",
       "      <th>2</th>\n",
       "      <td>2.0</td>\n",
       "      <td>37.067675</td>\n",
       "      <td>12.608696</td>\n",
       "    </tr>\n",
       "    <tr>\n",
       "      <th>3</th>\n",
       "      <td>3.0</td>\n",
       "      <td>38.433333</td>\n",
       "      <td>11.384663</td>\n",
       "    </tr>\n",
       "    <tr>\n",
       "      <th>4</th>\n",
       "      <td>4.0</td>\n",
       "      <td>26.364917</td>\n",
       "      <td>11.605525</td>\n",
       "    </tr>\n",
       "    <tr>\n",
       "      <th>...</th>\n",
       "      <td>...</td>\n",
       "      <td>...</td>\n",
       "      <td>...</td>\n",
       "    </tr>\n",
       "    <tr>\n",
       "      <th>747</th>\n",
       "      <td>747.0</td>\n",
       "      <td>18.237325</td>\n",
       "      <td>11.347053</td>\n",
       "    </tr>\n",
       "    <tr>\n",
       "      <th>748</th>\n",
       "      <td>748.0</td>\n",
       "      <td>15.936591</td>\n",
       "      <td>11.343182</td>\n",
       "    </tr>\n",
       "    <tr>\n",
       "      <th>749</th>\n",
       "      <td>749.0</td>\n",
       "      <td>20.014453</td>\n",
       "      <td>11.243359</td>\n",
       "    </tr>\n",
       "    <tr>\n",
       "      <th>750</th>\n",
       "      <td>750.0</td>\n",
       "      <td>22.181107</td>\n",
       "      <td>11.328990</td>\n",
       "    </tr>\n",
       "    <tr>\n",
       "      <th>751</th>\n",
       "      <td>751.0</td>\n",
       "      <td>19.633167</td>\n",
       "      <td>11.333666</td>\n",
       "    </tr>\n",
       "  </tbody>\n",
       "</table>\n",
       "<p>752 rows × 3 columns</p>\n",
       "</div>"
      ],
      "text/plain": [
       "          snapshot        CPU        RAM\n",
       "snapshot                                \n",
       "0              0.0  29.406619  11.468777\n",
       "1              1.0  36.585397  11.537708\n",
       "2              2.0  37.067675  12.608696\n",
       "3              3.0  38.433333  11.384663\n",
       "4              4.0  26.364917  11.605525\n",
       "...            ...        ...        ...\n",
       "747          747.0  18.237325  11.347053\n",
       "748          748.0  15.936591  11.343182\n",
       "749          749.0  20.014453  11.243359\n",
       "750          750.0  22.181107  11.328990\n",
       "751          751.0  19.633167  11.333666\n",
       "\n",
       "[752 rows x 3 columns]"
      ]
     },
     "execution_count": 128,
     "metadata": {},
     "output_type": "execute_result"
    }
   ],
   "source": [
    "joined_aggregation_filtration_by_snapshots_mean = joined_aggregation_filtration_all.groupby('snapshot')[['snapshot', 'CPU', 'RAM']].mean()\n",
    "joined_aggregation_filtration_by_snapshots_mean"
   ]
  },
  {
   "cell_type": "code",
   "execution_count": 129,
   "metadata": {},
   "outputs": [
    {
     "data": {
      "image/png": "[encoded data removed]",
      "text/plain": [
       "<Figure size 640x480 with 1 Axes>"
      ]
     },
     "metadata": {},
     "output_type": "display_data"
    },
    {
     "data": {
      "text/plain": [
       "<ggplot: (152607729761)>"
      ]
     },
     "execution_count": 129,
     "metadata": {},
     "output_type": "execute_result"
    }
   ],
   "source": [
    "aggregation_filtration_snapshot_max_plot = (ggplot(joined_aggregation_filtration_by_snapshots_max, aes(x='snapshot', y='CPU'))\n",
    "  + geom_line(size=0.5, color='red')\n",
    "  + labs(y=\"CPU\", x = \"Eksperyment\")\n",
    ")\n",
    "aggregation_filtration_snapshot_max_plot"
   ]
  },
  {
   "cell_type": "code",
   "execution_count": 130,
   "metadata": {},
   "outputs": [
    {
     "data": {
      "image/png": "[encoded data removed]",
      "text/plain": [
       "<Figure size 640x480 with 1 Axes>"
      ]
     },
     "metadata": {},
     "output_type": "display_data"
    },
    {
     "data": {
      "text/plain": [
       "<ggplot: (152610953274)>"
      ]
     },
     "execution_count": 130,
     "metadata": {},
     "output_type": "execute_result"
    }
   ],
   "source": [
    "aggregation_filtration_snapshot_max_plot = (ggplot(joined_aggregation_filtration_by_snapshots_max, aes(x='snapshot', y='RAM'))\n",
    "  + geom_line(size=0.5, color='orange')\n",
    "  + labs(y=\"RAM\", x = \"Eksperyment\")\n",
    ")\n",
    "aggregation_filtration_snapshot_max_plot"
   ]
  },
  {
   "cell_type": "code",
   "execution_count": 131,
   "metadata": {},
   "outputs": [
    {
     "data": {
      "image/png": "[encoded data removed]",
      "text/plain": [
       "<Figure size 640x480 with 1 Axes>"
      ]
     },
     "metadata": {},
     "output_type": "display_data"
    },
    {
     "data": {
      "text/plain": [
       "<ggplot: (152736373495)>"
      ]
     },
     "execution_count": 131,
     "metadata": {},
     "output_type": "execute_result"
    }
   ],
   "source": [
    "aggregation_filtration_snapshot_mean_plot = (ggplot(joined_aggregation_filtration_by_snapshots_mean, aes(x='snapshot', y='CPU'))\n",
    "  + geom_line(size=0.5, color='red')\n",
    "  + labs(y=\"CPU\", x = \"Eksperyment\")\n",
    ")\n",
    "aggregation_filtration_snapshot_mean_plot"
   ]
  },
  {
   "cell_type": "code",
   "execution_count": 132,
   "metadata": {},
   "outputs": [
    {
     "data": {
      "image/png": "[encoded data removed]",
      "text/plain": [
       "<Figure size 640x480 with 1 Axes>"
      ]
     },
     "metadata": {},
     "output_type": "display_data"
    },
    {
     "data": {
      "text/plain": [
       "<ggplot: (152735069130)>"
      ]
     },
     "execution_count": 132,
     "metadata": {},
     "output_type": "execute_result"
    }
   ],
   "source": [
    "aggregation_filtration_snapshot_mean_plot = (ggplot(joined_aggregation_filtration_by_snapshots_mean, aes(x='snapshot', y='RAM'))\n",
    "  + geom_line(size=0.5, color='orange')\n",
    "  + labs(y=\"RAM\", x = \"Eksperyment\")\n",
    ")\n",
    "aggregation_filtration_snapshot_mean_plot"
   ]
  },
  {
   "cell_type": "code",
   "execution_count": 133,
   "metadata": {},
   "outputs": [],
   "source": [
    "joined_filtration_aggregation_join_all = pd.read_csv(\"Organised/filtration-aggregation-join/joined_filtration-aggregation-join.csv\")\n",
    "joined_filtration_join_all = pd.read_csv(\"Organised/filtration-join/joined_filtration-join.csv\")\n"
   ]
  },
  {
   "cell_type": "code",
   "execution_count": 134,
   "metadata": {},
   "outputs": [
    {
     "data": {
      "text/html": [
       "<div>\n",
       "<style scoped>\n",
       "    .dataframe tbody tr th:only-of-type {\n",
       "        vertical-align: middle;\n",
       "    }\n",
       "\n",
       "    .dataframe tbody tr th {\n",
       "        vertical-align: top;\n",
       "    }\n",
       "\n",
       "    .dataframe thead th {\n",
       "        text-align: right;\n",
       "    }\n",
       "</style>\n",
       "<table border=\"1\" class=\"dataframe\">\n",
       "  <thead>\n",
       "    <tr style=\"text-align: right;\">\n",
       "      <th></th>\n",
       "      <th>snapshot</th>\n",
       "      <th>label</th>\n",
       "      <th>udf</th>\n",
       "      <th>epoch</th>\n",
       "      <th>CPU</th>\n",
       "      <th>RAM</th>\n",
       "    </tr>\n",
       "  </thead>\n",
       "  <tbody>\n",
       "    <tr>\n",
       "      <th>0</th>\n",
       "      <td>0</td>\n",
       "      <td>aggregation</td>\n",
       "      <td>avgNetProfitGroupedBySoldDate</td>\n",
       "      <td>0.000000</td>\n",
       "      <td>206.7</td>\n",
       "      <td>4.8</td>\n",
       "    </tr>\n",
       "    <tr>\n",
       "      <th>1</th>\n",
       "      <td>0</td>\n",
       "      <td>aggregation</td>\n",
       "      <td>avgNetProfitGroupedBySoldDate</td>\n",
       "      <td>0.156270</td>\n",
       "      <td>220.0</td>\n",
       "      <td>5.0</td>\n",
       "    </tr>\n",
       "    <tr>\n",
       "      <th>2</th>\n",
       "      <td>0</td>\n",
       "      <td>aggregation</td>\n",
       "      <td>avgNetProfitGroupedBySoldDate</td>\n",
       "      <td>0.314010</td>\n",
       "      <td>133.3</td>\n",
       "      <td>5.2</td>\n",
       "    </tr>\n",
       "    <tr>\n",
       "      <th>3</th>\n",
       "      <td>0</td>\n",
       "      <td>aggregation</td>\n",
       "      <td>avgNetProfitGroupedBySoldDate</td>\n",
       "      <td>0.471593</td>\n",
       "      <td>146.7</td>\n",
       "      <td>5.3</td>\n",
       "    </tr>\n",
       "    <tr>\n",
       "      <th>4</th>\n",
       "      <td>0</td>\n",
       "      <td>aggregation</td>\n",
       "      <td>avgNetProfitGroupedBySoldDate</td>\n",
       "      <td>0.628038</td>\n",
       "      <td>126.7</td>\n",
       "      <td>5.4</td>\n",
       "    </tr>\n",
       "    <tr>\n",
       "      <th>...</th>\n",
       "      <td>...</td>\n",
       "      <td>...</td>\n",
       "      <td>...</td>\n",
       "      <td>...</td>\n",
       "      <td>...</td>\n",
       "      <td>...</td>\n",
       "    </tr>\n",
       "    <tr>\n",
       "      <th>128320</th>\n",
       "      <td>599</td>\n",
       "      <td>filtration-join</td>\n",
       "      <td>filterStoreSalesWhereYearAfter2000</td>\n",
       "      <td>36.625042</td>\n",
       "      <td>0.0</td>\n",
       "      <td>5.6</td>\n",
       "    </tr>\n",
       "    <tr>\n",
       "      <th>128321</th>\n",
       "      <td>599</td>\n",
       "      <td>filtration-join</td>\n",
       "      <td>filterStoreSalesWhereYearAfter2000</td>\n",
       "      <td>36.780466</td>\n",
       "      <td>0.0</td>\n",
       "      <td>5.6</td>\n",
       "    </tr>\n",
       "    <tr>\n",
       "      <th>128322</th>\n",
       "      <td>599</td>\n",
       "      <td>filtration-join</td>\n",
       "      <td>filterStoreSalesWhereYearAfter2000</td>\n",
       "      <td>36.935759</td>\n",
       "      <td>0.0</td>\n",
       "      <td>5.6</td>\n",
       "    </tr>\n",
       "    <tr>\n",
       "      <th>128323</th>\n",
       "      <td>599</td>\n",
       "      <td>filtration-join</td>\n",
       "      <td>filterStoreSalesWhereYearAfter2000</td>\n",
       "      <td>37.091189</td>\n",
       "      <td>0.0</td>\n",
       "      <td>5.6</td>\n",
       "    </tr>\n",
       "    <tr>\n",
       "      <th>128324</th>\n",
       "      <td>599</td>\n",
       "      <td>filtration-join</td>\n",
       "      <td>filterStoreSalesWhereYearAfter2000</td>\n",
       "      <td>37.246571</td>\n",
       "      <td>0.0</td>\n",
       "      <td>5.6</td>\n",
       "    </tr>\n",
       "  </tbody>\n",
       "</table>\n",
       "<p>3250349 rows × 6 columns</p>\n",
       "</div>"
      ],
      "text/plain": [
       "        snapshot            label                                 udf  \\\n",
       "0              0      aggregation       avgNetProfitGroupedBySoldDate   \n",
       "1              0      aggregation       avgNetProfitGroupedBySoldDate   \n",
       "2              0      aggregation       avgNetProfitGroupedBySoldDate   \n",
       "3              0      aggregation       avgNetProfitGroupedBySoldDate   \n",
       "4              0      aggregation       avgNetProfitGroupedBySoldDate   \n",
       "...          ...              ...                                 ...   \n",
       "128320       599  filtration-join  filterStoreSalesWhereYearAfter2000   \n",
       "128321       599  filtration-join  filterStoreSalesWhereYearAfter2000   \n",
       "128322       599  filtration-join  filterStoreSalesWhereYearAfter2000   \n",
       "128323       599  filtration-join  filterStoreSalesWhereYearAfter2000   \n",
       "128324       599  filtration-join  filterStoreSalesWhereYearAfter2000   \n",
       "\n",
       "            epoch    CPU  RAM  \n",
       "0        0.000000  206.7  4.8  \n",
       "1        0.156270  220.0  5.0  \n",
       "2        0.314010  133.3  5.2  \n",
       "3        0.471593  146.7  5.3  \n",
       "4        0.628038  126.7  5.4  \n",
       "...           ...    ...  ...  \n",
       "128320  36.625042    0.0  5.6  \n",
       "128321  36.780466    0.0  5.6  \n",
       "128322  36.935759    0.0  5.6  \n",
       "128323  37.091189    0.0  5.6  \n",
       "128324  37.246571    0.0  5.6  \n",
       "\n",
       "[3250349 rows x 6 columns]"
      ]
     },
     "execution_count": 134,
     "metadata": {},
     "output_type": "execute_result"
    }
   ],
   "source": [
    "all_df = pd.concat([joined_aggregation_all, joined_filtration_all, joined_aggregation_filtration_all, joined_filtration_aggregation_join_all, joined_filtration_join_all])\n",
    "all_df"
   ]
  },
  {
   "cell_type": "code",
   "execution_count": 135,
   "metadata": {},
   "outputs": [
    {
     "name": "stderr",
     "output_type": "stream",
     "text": [
      "C:\\Users\\anna\\miniconda3\\lib\\site-packages\\plotnine\\ggplot.py:719: PlotnineWarning: Saving 6.4 x 4.8 in image.\n",
      "C:\\Users\\anna\\miniconda3\\lib\\site-packages\\plotnine\\ggplot.py:722: PlotnineWarning: Filename: C:/Users/anna/OneDrive/Nauka/Magisterka-DESKTOP-LB7L5NR/wykresy/all_count.png\n",
      "C:\\Users\\anna\\miniconda3\\lib\\site-packages\\plotnine\\ggplot.py:729: UserWarning: Tight layout not applied. tight_layout cannot make axes height small enough to accommodate all axes decorations\n"
     ]
    }
   ],
   "source": [
    "histogram_snapshot_plot = (ggplot(all_df, aes(x='snapshot'))\n",
    "  + geom_histogram(size=0.5, binwidth=1.0)\n",
    "  + facet_wrap('label', ncol=1)\n",
    "  + labs(title=f\"Długość szeregu w kolejnych eksperymentach\", y=\"Długość szeregu\", x = \"Eksperyment\")\n",
    ")\n",
    "ggsave(plot=histogram_snapshot_plot, filename=f\"{path}all_count.png\", dpi=1000)"
   ]
  },
  {
   "cell_type": "code",
   "execution_count": 136,
   "metadata": {},
   "outputs": [
    {
     "data": {
      "text/html": [
       "<div>\n",
       "<style scoped>\n",
       "    .dataframe tbody tr th:only-of-type {\n",
       "        vertical-align: middle;\n",
       "    }\n",
       "\n",
       "    .dataframe tbody tr th {\n",
       "        vertical-align: top;\n",
       "    }\n",
       "\n",
       "    .dataframe thead th {\n",
       "        text-align: right;\n",
       "    }\n",
       "</style>\n",
       "<table border=\"1\" class=\"dataframe\">\n",
       "  <thead>\n",
       "    <tr style=\"text-align: right;\">\n",
       "      <th></th>\n",
       "      <th>label</th>\n",
       "      <th>snapshot</th>\n",
       "      <th>CPU</th>\n",
       "      <th>RAM</th>\n",
       "    </tr>\n",
       "  </thead>\n",
       "  <tbody>\n",
       "    <tr>\n",
       "      <th>0</th>\n",
       "      <td>aggregation</td>\n",
       "      <td>0</td>\n",
       "      <td>360.0</td>\n",
       "      <td>10.5</td>\n",
       "    </tr>\n",
       "    <tr>\n",
       "      <th>1</th>\n",
       "      <td>aggregation</td>\n",
       "      <td>1</td>\n",
       "      <td>366.7</td>\n",
       "      <td>10.3</td>\n",
       "    </tr>\n",
       "    <tr>\n",
       "      <th>2</th>\n",
       "      <td>aggregation</td>\n",
       "      <td>2</td>\n",
       "      <td>373.3</td>\n",
       "      <td>10.3</td>\n",
       "    </tr>\n",
       "    <tr>\n",
       "      <th>3</th>\n",
       "      <td>aggregation</td>\n",
       "      <td>3</td>\n",
       "      <td>386.7</td>\n",
       "      <td>11.8</td>\n",
       "    </tr>\n",
       "    <tr>\n",
       "      <th>4</th>\n",
       "      <td>aggregation</td>\n",
       "      <td>4</td>\n",
       "      <td>386.7</td>\n",
       "      <td>10.6</td>\n",
       "    </tr>\n",
       "    <tr>\n",
       "      <th>...</th>\n",
       "      <td>...</td>\n",
       "      <td>...</td>\n",
       "      <td>...</td>\n",
       "      <td>...</td>\n",
       "    </tr>\n",
       "    <tr>\n",
       "      <th>4207</th>\n",
       "      <td>filtration-join</td>\n",
       "      <td>595</td>\n",
       "      <td>346.7</td>\n",
       "      <td>11.8</td>\n",
       "    </tr>\n",
       "    <tr>\n",
       "      <th>4208</th>\n",
       "      <td>filtration-join</td>\n",
       "      <td>596</td>\n",
       "      <td>366.7</td>\n",
       "      <td>11.7</td>\n",
       "    </tr>\n",
       "    <tr>\n",
       "      <th>4209</th>\n",
       "      <td>filtration-join</td>\n",
       "      <td>597</td>\n",
       "      <td>380.0</td>\n",
       "      <td>11.6</td>\n",
       "    </tr>\n",
       "    <tr>\n",
       "      <th>4210</th>\n",
       "      <td>filtration-join</td>\n",
       "      <td>598</td>\n",
       "      <td>386.7</td>\n",
       "      <td>12.1</td>\n",
       "    </tr>\n",
       "    <tr>\n",
       "      <th>4211</th>\n",
       "      <td>filtration-join</td>\n",
       "      <td>599</td>\n",
       "      <td>373.3</td>\n",
       "      <td>11.7</td>\n",
       "    </tr>\n",
       "  </tbody>\n",
       "</table>\n",
       "<p>4212 rows × 4 columns</p>\n",
       "</div>"
      ],
      "text/plain": [
       "                label  snapshot    CPU   RAM\n",
       "0         aggregation         0  360.0  10.5\n",
       "1         aggregation         1  366.7  10.3\n",
       "2         aggregation         2  373.3  10.3\n",
       "3         aggregation         3  386.7  11.8\n",
       "4         aggregation         4  386.7  10.6\n",
       "...               ...       ...    ...   ...\n",
       "4207  filtration-join       595  346.7  11.8\n",
       "4208  filtration-join       596  366.7  11.7\n",
       "4209  filtration-join       597  380.0  11.6\n",
       "4210  filtration-join       598  386.7  12.1\n",
       "4211  filtration-join       599  373.3  11.7\n",
       "\n",
       "[4212 rows x 4 columns]"
      ]
     },
     "execution_count": 136,
     "metadata": {},
     "output_type": "execute_result"
    }
   ],
   "source": [
    "joined_all_by_snapshots_max = all_df.groupby(['label', 'snapshot'])[['label', 'snapshot', 'CPU', 'RAM']].max()\n",
    "joined_all_by_snapshots_max = joined_all_by_snapshots_max.reset_index(drop=True)\n",
    "joined_all_by_snapshots_max"
   ]
  },
  {
   "cell_type": "code",
   "execution_count": 137,
   "metadata": {},
   "outputs": [
    {
     "data": {
      "text/html": [
       "<div>\n",
       "<style scoped>\n",
       "    .dataframe tbody tr th:only-of-type {\n",
       "        vertical-align: middle;\n",
       "    }\n",
       "\n",
       "    .dataframe tbody tr th {\n",
       "        vertical-align: top;\n",
       "    }\n",
       "\n",
       "    .dataframe thead th {\n",
       "        text-align: right;\n",
       "    }\n",
       "</style>\n",
       "<table border=\"1\" class=\"dataframe\">\n",
       "  <thead>\n",
       "    <tr style=\"text-align: right;\">\n",
       "      <th></th>\n",
       "      <th>label</th>\n",
       "      <th>snapshot</th>\n",
       "      <th>CPU</th>\n",
       "      <th>RAM</th>\n",
       "    </tr>\n",
       "    <tr>\n",
       "      <th>snapshot</th>\n",
       "      <th></th>\n",
       "      <th></th>\n",
       "      <th></th>\n",
       "      <th></th>\n",
       "    </tr>\n",
       "  </thead>\n",
       "  <tbody>\n",
       "    <tr>\n",
       "      <th>0</th>\n",
       "      <td>aggregation</td>\n",
       "      <td>0.0</td>\n",
       "      <td>34.912611</td>\n",
       "      <td>9.710480</td>\n",
       "    </tr>\n",
       "    <tr>\n",
       "      <th>1</th>\n",
       "      <td>aggregation</td>\n",
       "      <td>1.0</td>\n",
       "      <td>38.645363</td>\n",
       "      <td>9.426613</td>\n",
       "    </tr>\n",
       "    <tr>\n",
       "      <th>2</th>\n",
       "      <td>aggregation</td>\n",
       "      <td>2.0</td>\n",
       "      <td>34.191382</td>\n",
       "      <td>9.507361</td>\n",
       "    </tr>\n",
       "    <tr>\n",
       "      <th>3</th>\n",
       "      <td>aggregation</td>\n",
       "      <td>3.0</td>\n",
       "      <td>32.059177</td>\n",
       "      <td>10.967410</td>\n",
       "    </tr>\n",
       "    <tr>\n",
       "      <th>4</th>\n",
       "      <td>aggregation</td>\n",
       "      <td>4.0</td>\n",
       "      <td>25.046904</td>\n",
       "      <td>10.041502</td>\n",
       "    </tr>\n",
       "    <tr>\n",
       "      <th>...</th>\n",
       "      <td>...</td>\n",
       "      <td>...</td>\n",
       "      <td>...</td>\n",
       "      <td>...</td>\n",
       "    </tr>\n",
       "    <tr>\n",
       "      <th>595</th>\n",
       "      <td>filtration-join</td>\n",
       "      <td>595.0</td>\n",
       "      <td>75.843421</td>\n",
       "      <td>10.180702</td>\n",
       "    </tr>\n",
       "    <tr>\n",
       "      <th>596</th>\n",
       "      <td>filtration-join</td>\n",
       "      <td>596.0</td>\n",
       "      <td>77.053306</td>\n",
       "      <td>10.121488</td>\n",
       "    </tr>\n",
       "    <tr>\n",
       "      <th>597</th>\n",
       "      <td>filtration-join</td>\n",
       "      <td>597.0</td>\n",
       "      <td>61.382192</td>\n",
       "      <td>10.459247</td>\n",
       "    </tr>\n",
       "    <tr>\n",
       "      <th>598</th>\n",
       "      <td>filtration-join</td>\n",
       "      <td>598.0</td>\n",
       "      <td>76.312121</td>\n",
       "      <td>10.457576</td>\n",
       "    </tr>\n",
       "    <tr>\n",
       "      <th>599</th>\n",
       "      <td>filtration-join</td>\n",
       "      <td>599.0</td>\n",
       "      <td>74.521667</td>\n",
       "      <td>10.275000</td>\n",
       "    </tr>\n",
       "  </tbody>\n",
       "</table>\n",
       "<p>4212 rows × 4 columns</p>\n",
       "</div>"
      ],
      "text/plain": [
       "                    label  snapshot        CPU        RAM\n",
       "snapshot                                                 \n",
       "0             aggregation       0.0  34.912611   9.710480\n",
       "1             aggregation       1.0  38.645363   9.426613\n",
       "2             aggregation       2.0  34.191382   9.507361\n",
       "3             aggregation       3.0  32.059177  10.967410\n",
       "4             aggregation       4.0  25.046904  10.041502\n",
       "...                   ...       ...        ...        ...\n",
       "595       filtration-join     595.0  75.843421  10.180702\n",
       "596       filtration-join     596.0  77.053306  10.121488\n",
       "597       filtration-join     597.0  61.382192  10.459247\n",
       "598       filtration-join     598.0  76.312121  10.457576\n",
       "599       filtration-join     599.0  74.521667  10.275000\n",
       "\n",
       "[4212 rows x 4 columns]"
      ]
     },
     "execution_count": 137,
     "metadata": {},
     "output_type": "execute_result"
    }
   ],
   "source": [
    "joined_all_by_snapshots_mean = all_df.groupby(['label', 'snapshot'])[['label', 'snapshot', 'CPU', 'RAM']].mean()\n",
    "joined_all_by_snapshots_mean = joined_all_by_snapshots_mean.reset_index(level=0)\n",
    "joined_all_by_snapshots_mean"
   ]
  },
  {
   "cell_type": "code",
   "execution_count": 138,
   "metadata": {},
   "outputs": [
    {
     "name": "stderr",
     "output_type": "stream",
     "text": [
      "C:\\Users\\anna\\miniconda3\\lib\\site-packages\\plotnine\\ggplot.py:719: PlotnineWarning: Saving 6.4 x 4.8 in image.\n",
      "C:\\Users\\anna\\miniconda3\\lib\\site-packages\\plotnine\\ggplot.py:722: PlotnineWarning: Filename: C:/Users/anna/OneDrive/Nauka/Magisterka-DESKTOP-LB7L5NR/wykresy/all_max_ram.png\n",
      "C:\\Users\\anna\\miniconda3\\lib\\site-packages\\plotnine\\ggplot.py:729: UserWarning: Tight layout not applied. tight_layout cannot make axes height small enough to accommodate all axes decorations\n"
     ]
    }
   ],
   "source": [
    "all_snapshot_max_plot = (ggplot(joined_all_by_snapshots_max, aes(x='snapshot', y='RAM'))\n",
    "  + geom_line(color='orange')\n",
    "  + facet_wrap('label', ncol=1)\n",
    "  + labs(y=\"RAM\", x = \"Eksperyment\")\n",
    ")\n",
    "ggsave(plot=all_snapshot_max_plot, filename=f\"{path}all_max_ram.png\", dpi=1000)"
   ]
  },
  {
   "cell_type": "code",
   "execution_count": 139,
   "metadata": {},
   "outputs": [
    {
     "name": "stderr",
     "output_type": "stream",
     "text": [
      "C:\\Users\\anna\\miniconda3\\lib\\site-packages\\plotnine\\ggplot.py:719: PlotnineWarning: Saving 6.4 x 4.8 in image.\n",
      "C:\\Users\\anna\\miniconda3\\lib\\site-packages\\plotnine\\ggplot.py:722: PlotnineWarning: Filename: C:/Users/anna/OneDrive/Nauka/Magisterka-DESKTOP-LB7L5NR/wykresy/all_mean_ram.png\n",
      "C:\\Users\\anna\\miniconda3\\lib\\site-packages\\plotnine\\ggplot.py:729: UserWarning: Tight layout not applied. tight_layout cannot make axes height small enough to accommodate all axes decorations\n"
     ]
    }
   ],
   "source": [
    "all_snapshot_mean_plot = (ggplot(joined_all_by_snapshots_mean, aes(x='snapshot', y='RAM'))\n",
    "  + geom_line(color='orange')\n",
    "  + facet_wrap('label', ncol=1)\n",
    "  + labs(y=\"RAM\", x = \"Eksperyment\")\n",
    ")\n",
    "ggsave(plot=all_snapshot_mean_plot, filename=f\"{path}all_mean_ram.png\", dpi=1000)"
   ]
  },
  {
   "cell_type": "code",
   "execution_count": 140,
   "metadata": {},
   "outputs": [
    {
     "name": "stderr",
     "output_type": "stream",
     "text": [
      "C:\\Users\\anna\\miniconda3\\lib\\site-packages\\plotnine\\ggplot.py:719: PlotnineWarning: Saving 6.4 x 4.8 in image.\n",
      "C:\\Users\\anna\\miniconda3\\lib\\site-packages\\plotnine\\ggplot.py:722: PlotnineWarning: Filename: C:/Users/anna/OneDrive/Nauka/Magisterka-DESKTOP-LB7L5NR/wykresy/all_max_cpu.png\n",
      "C:\\Users\\anna\\miniconda3\\lib\\site-packages\\plotnine\\ggplot.py:729: UserWarning: Tight layout not applied. tight_layout cannot make axes height small enough to accommodate all axes decorations\n"
     ]
    }
   ],
   "source": [
    "all_snapshot_max_plot = (ggplot(joined_all_by_snapshots_max, aes(x='snapshot', y='CPU'))\n",
    "  + geom_line(color='red')\n",
    "  + facet_wrap('label', ncol=1)\n",
    "  + labs(y=\"CPU\", x = \"Eksperyment\")\n",
    ")\n",
    "ggsave(plot=all_snapshot_max_plot, filename=f\"{path}all_max_cpu.png\", dpi=1000)"
   ]
  },
  {
   "cell_type": "code",
   "execution_count": 141,
   "metadata": {},
   "outputs": [
    {
     "name": "stderr",
     "output_type": "stream",
     "text": [
      "C:\\Users\\anna\\miniconda3\\lib\\site-packages\\plotnine\\ggplot.py:719: PlotnineWarning: Saving 6.4 x 4.8 in image.\n",
      "C:\\Users\\anna\\miniconda3\\lib\\site-packages\\plotnine\\ggplot.py:722: PlotnineWarning: Filename: C:/Users/anna/OneDrive/Nauka/Magisterka-DESKTOP-LB7L5NR/wykresy/all_mean_cpu.png\n",
      "C:\\Users\\anna\\miniconda3\\lib\\site-packages\\plotnine\\ggplot.py:729: UserWarning: Tight layout not applied. tight_layout cannot make axes height small enough to accommodate all axes decorations\n"
     ]
    }
   ],
   "source": [
    "all_snapshot_mean_plot = (ggplot(joined_all_by_snapshots_mean, aes(x='snapshot', y='CPU'))\n",
    "  + geom_line(color='red')\n",
    "  + facet_wrap('label', ncol=1)\n",
    "  + labs(y=\"CPU\", x = \"Eksperyment\")\n",
    ")\n",
    "ggsave(plot=all_snapshot_mean_plot, filename=f\"{path}all_mean_cpu.png\", dpi=1000)"
   ]
  },
  {
   "cell_type": "code",
   "execution_count": 142,
   "metadata": {
    "pycharm": {
     "name": "#%%\n"
    }
   },
   "outputs": [],
   "source": [
    "joined_aggregation_smooth_all = pd.read_csv(\"Organised/aggregation/12_joined_smooth_aggregation.csv\")\n",
    "normalized_joined_aggregation_smooth_all = pd.read_csv(\"Organised/aggregation/6_normalized_smooth_aggregation.csv\")\n",
    "normalized_aggregation = pd.read_csv(\"Organised/aggregation/normalized_aggregation.csv\")\n",
    "\n",
    "joined_filtration_smooth_all = pd.read_csv(\"Organised/filtration/6_joined_smooth_filtration.csv\")\n",
    "normalized_joined_filtration_smooth_all = pd.read_csv(\"Organised/filtration/6_normalized_smooth_filtration.csv\")\n",
    "normalized_joined_filtration = pd.read_csv(\"Organised/filtration/normalized_filtration.csv\")\n",
    "\n",
    "joined_aggregation_filtration_smooth_all = pd.read_csv(\"Organised/filtration-aggregation/6_joined_smooth_filtration-aggregation.csv\")\n",
    "normalized_joined_aggregation_filtration_smooth_all = pd.read_csv(\"Organised/filtration-aggregation/6_normalized_smooth_filtration-aggregation.csv\")\n",
    "normalized_joined_aggregation_filtration = pd.read_csv(\"Organised/filtration-aggregation/normalized_filtration-aggregation.csv\")"
   ]
  }
 ],
 "metadata": {
  "kernelspec": {
   "display_name": "Python 3 (ipykernel)",
   "language": "python",
   "name": "python3"
  },
  "language_info": {
   "codemirror_mode": {
    "name": "ipython",
    "version": 3
   },
   "file_extension": ".py",
   "mimetype": "text/x-python",
   "name": "python",
   "nbconvert_exporter": "python",
   "pygments_lexer": "ipython3",
   "version": "3.8.5"
  }
 },
 "nbformat": 4,
 "nbformat_minor": 1
}