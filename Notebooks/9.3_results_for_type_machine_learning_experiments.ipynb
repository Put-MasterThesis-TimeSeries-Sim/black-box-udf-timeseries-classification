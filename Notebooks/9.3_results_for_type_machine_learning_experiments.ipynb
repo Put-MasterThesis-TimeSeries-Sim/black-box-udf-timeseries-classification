{
 "cells": [
  {
   "cell_type": "markdown",
   "metadata": {},
   "source": [
    "# Zanalizowanie i wizualizacja wyników eksperymentów badających podobieństwo między typami UDF\n",
    "\n",
    "Każdy z algorytmów został poddany takiej samej analizie. Wpierw liczona jest średnia dla każdego z typów algorytmów. Następnie tworzony jest boxplot sprawdzający wpływ wartości losowej na wyniki. Na końcu liczona jest macierz pomyłek dla wyników, który jest najbardziej zbliżony do wyniku średniego.\n",
    "\n",
    "Dodatkowo, na końcu wykonana jest analiza porównawcza każdego z badanych algorytmów.\n",
    "### Deklaracja zmiennych użytkowych"
   ]
  },
  {
   "cell_type": "code",
   "execution_count": null,
   "metadata": {},
   "outputs": [],
   "source": [
    "import pandas as pd\n",
    "import os\n",
    "import numpy as np\n",
    "import matplotlib.pyplot as plt\n",
    "from sklearn.metrics import ConfusionMatrixDisplay\n",
    "from plotnine import *\n",
    "\n",
    "RESULTS_PATH = \"./../MachineLearning/results/type\"\n",
    "PLOTS = \"./../Plots/MachineLearning\"\n",
    "datasets = [\"Default\", \"Default_smooth\", \"Normalized\", \"Normalized_smooth\"]\n",
    "class_names = [\"aggregation\", \"filtering\", \"filtering-aggregation\", \"filtering-aggregation-join\", \"filtering-join\"]"
   ]
  },
  {
   "cell_type": "markdown",
   "metadata": {},
   "source": [
    "# ROCKET"
   ]
  },
  {
   "cell_type": "code",
   "execution_count": null,
   "metadata": {},
   "outputs": [],
   "source": [
    "algorythm = \"Rocket\"\n",
    "if not os.path.exists(f\"{PLOTS}/{algorythm}\"):\n",
    "    os.makedirs(f\"{PLOTS}/{algorythm}\")\n",
    "dataframes = []\n",
    "for dataset in datasets:\n",
    "    path_to_files = f\"{RESULTS_PATH}/{dataset}/{algorythm}\"\n",
    "    file_names = os.listdir(f\"{RESULTS_PATH}/{dataset}/{algorythm}\")\n",
    "    for file_name in file_names:\n",
    "        df = pd.read_csv(f\"{path_to_files}/{file_name}\", index_col=None, header=0)\n",
    "        df.y_predict = df.y_predict.apply(lambda x: np.array(x.replace(\"\\n\", \"\").replace(\"\\r\", \"\").replace(\"'\", \"\")[1:-1].split(\" \")))\n",
    "        df.y_true = df.y_true.apply(lambda x: np.array(x.replace(\"\\n\", \"\").replace(\"\\r\", \"\").replace(\"'\", \"\")[1:-1].split(\" \")))\n",
    "        df[\"F-miara\"] = df.f1_measure\n",
    "        df[\"trafność\"] = df.accuracy_score\n",
    "        df[\"czas_wykonywania\"] = df.execution_time\n",
    "        dataframes.append(df[[\"dataset\", \"seed\", \"trafność\", \"F-miara\", \"czas_wykonywania\", \"y_predict\", \"y_true\"]])\n",
    "rocket_df = pd.concat(dataframes, axis=0, ignore_index=True)"
   ]
  },
  {
   "cell_type": "markdown",
   "metadata": {},
   "source": [
    "## Rocket średnie miar  "
   ]
  },
  {
   "cell_type": "code",
   "execution_count": null,
   "metadata": {},
   "outputs": [],
   "source": [
    "rocket_means_df = rocket_df.groupby(\"dataset\")[[\"trafność\", \"F-miara\", \"czas_wykonywania\"]].mean().apply(lambda x: np.round(x, decimals=3))\n",
    "rocket_means_df.head()\n",
    "\n",
    "rocket_accuracy_plot = (\n",
    "    ggplot(rocket_df)\n",
    "    + geom_boxplot(aes(x='factor(dataset)', y='trafność'))\n",
    "    + scale_x_discrete(labels=rocket_df.dataset.unique(), name='dataset')  +\n",
    "    labs(title='Wykres wartości trafności ROCKET.\\n Klasyfikacja typu funkcji.')\n",
    "    + theme_classic()\n",
    "    + theme(panel_grid=element_line(color=\"lightgrey\"),\n",
    "        panel_grid_major=element_line(size=1.4, alpha=1), \n",
    "        panel_grid_major_y=element_line(linetype='dashed'), \n",
    "        panel_grid_minor=element_line(alpha=.25),\n",
    "        panel_grid_minor_y = element_line(linetype='dashed'))\n",
    ")\n",
    "\n",
    "rocket_fmeasure_plot = (\n",
    "    ggplot(rocket_df)\n",
    "    + geom_boxplot(aes(x='factor(dataset)', y='F-miara'))\n",
    "    + scale_x_discrete(labels=rocket_df.dataset.unique(), name='dataset')  +\n",
    "    labs(title='Wykres wartości F-miary ROCKET.\\n Klasyfikacja typu funkcji.')\n",
    "    + theme_classic()\n",
    "    + theme(panel_grid=element_line(color=\"lightgrey\"),\n",
    "        panel_grid_major=element_line(size=1.4, alpha=1), \n",
    "        panel_grid_major_y=element_line(linetype='dashed'), \n",
    "        panel_grid_minor=element_line(alpha=.25),\n",
    "        panel_grid_minor_y = element_line(linetype='dashed'))\n",
    ")\n",
    "print(rocket_accuracy_plot)\n",
    "rocket_accuracy_plot.save(f\"{PLOTS}/{algorythm}/rocket_accuracy_boxplot.pdf\", dpi=600, verbose = False)\n",
    "print(rocket_fmeasure_plot)\n",
    "rocket_fmeasure_plot.save(f\"{PLOTS}/{algorythm}/rocket_fmeasure_boxplot.pdf\", dpi=600, verbose = False)\n",
    "rocket_means_df.head()\n"
   ]
  },
  {
   "cell_type": "markdown",
   "metadata": {},
   "source": [
    "## Rocket macierz pomyłek"
   ]
  },
  {
   "cell_type": "code",
   "execution_count": null,
   "metadata": {},
   "outputs": [],
   "source": [
    "testing_df = rocket_df.copy()\n",
    "result = {}\n",
    "for dataset in datasets:    \n",
    "    testing_df[\"closest_acc\"] = np.abs(testing_df[testing_df.dataset == dataset].trafność - rocket_means_df[rocket_means_df.index == dataset].trafność[0])\n",
    "    local_min = testing_df[testing_df.dataset == dataset].closest_acc.min()\n",
    "    results_df = testing_df.loc[testing_df.closest_acc == local_min].head(1).copy()\n",
    "    result[dataset] = results_df\n",
    "    titles_options = [\n",
    "        (\"Macierz pomyłek: algorytm ROCKET,\\n\" +f\"zbiór danych {dataset}\", None)\n",
    "    ]\n",
    "    for title, normalize in titles_options:\n",
    "        disp = ConfusionMatrixDisplay.from_predictions(\n",
    "            results_df.y_true.iloc[0],\n",
    "            results_df.y_predict.iloc[0],\n",
    "            display_labels=class_names,\n",
    "            cmap=plt.cm.Blues,\n",
    "            normalize=normalize,\n",
    "            xticks_rotation=\"vertical\",\n",
    "        )   \n",
    "        disp.ax_.set_title(title)\n",
    "        disp.ax_.set_ylabel(\"Faktyczna klasa\")\n",
    "        disp.ax_.set_xlabel(\"Przewidzana klasa\")\n",
    "        if normalize:\n",
    "            normalized = \"_normalized\"\n",
    "        else:\n",
    "            normalized = \"\"\n",
    "        disp.figure_.savefig(f\"{PLOTS}/{algorythm}/{dataset}{normalized}_confusion_matrix.pdf\", dpi=600, bbox_inches = \"tight\")"
   ]
  },
  {
   "cell_type": "markdown",
   "metadata": {},
   "source": [
    "# HIVECOTEV2"
   ]
  },
  {
   "cell_type": "code",
   "execution_count": null,
   "metadata": {},
   "outputs": [],
   "source": [
    "algorythm = \"HIVE\"\n",
    "if not os.path.exists(f\"{PLOTS}/{algorythm}\"):\n",
    "    os.makedirs(f\"{PLOTS}/{algorythm}\")\n",
    "dataframes = []\n",
    "for dataset in datasets:\n",
    "    path_to_files = f\"{RESULTS_PATH}/{dataset}/{algorythm}\"\n",
    "    file_names = os.listdir(f\"{RESULTS_PATH}/{dataset}/{algorythm}\")\n",
    "    for file_name in file_names:\n",
    "        df = pd.read_csv(f\"{path_to_files}/{file_name}\", index_col=None, header=0)\n",
    "        df.y_predict = df.y_predict.apply(lambda x: np.array(x.replace(\"\\n\", \"\").replace(\"\\r\", \"\").replace(\"'\", \"\")[1:-1].split(\" \")))\n",
    "        df.y_true = df.y_true.apply(lambda x: np.array(x.replace(\"\\n\", \"\").replace(\"\\r\", \"\").replace(\"'\", \"\")[1:-1].split(\" \")))\n",
    "        df[\"F-miara\"] = df.f1_measure\n",
    "        df[\"trafność\"] = df.accuracy_score\n",
    "        df[\"czas_wykonywania\"] = df.execution_time\n",
    "        dataframes.append(df[[\"dataset\", \"seed\", \"trafność\", \"F-miara\", \"czas_wykonywania\", \"y_predict\", \"y_true\"]])\n",
    "hive_df = pd.concat(dataframes, axis=0, ignore_index=True)"
   ]
  },
  {
   "cell_type": "markdown",
   "metadata": {},
   "source": [
    "## HIVECOTEV2 średnie miar  "
   ]
  },
  {
   "cell_type": "code",
   "execution_count": null,
   "metadata": {},
   "outputs": [],
   "source": [
    "hive_means_df = hive_df.groupby(\"dataset\")[[\"trafność\", \"F-miara\", \"czas_wykonywania\"]].mean().apply(lambda x: np.round(x, decimals=3))\n",
    "hive_means_df.head()\n",
    "\n",
    "hive_accuracy_plot = (\n",
    "    ggplot(hive_df)\n",
    "    + geom_boxplot(aes(x='factor(dataset)', y='trafność'))\n",
    "    + scale_x_discrete(labels=hive_df.dataset.unique(), name='dataset') +\n",
    "    labs(title='Wykres wartości trafności HIVECOTEV2.\\n Klasyfikacja typu funkcji.')\n",
    "    + theme_classic()\n",
    "    + theme(panel_grid=element_line(color=\"lightgrey\"),\n",
    "        panel_grid_major=element_line(size=1.4, alpha=1), \n",
    "        panel_grid_major_y=element_line(linetype='dashed'), \n",
    "        panel_grid_minor=element_line(alpha=.25),\n",
    "        panel_grid_minor_y = element_line(linetype='dashed'))\n",
    ")\n",
    "\n",
    "hive_fmeasure_plot = (\n",
    "    ggplot(hive_df)\n",
    "    + geom_boxplot(aes(x='factor(dataset)', y='F-miara'))\n",
    "    + scale_x_discrete(labels=hive_df.dataset.unique(), name='dataset') +\n",
    "    labs(title='Wykres wartości F-miary HIVECOTEV2.\\n Klasyfikacja typu funkcji.')\n",
    "    + theme_classic()\n",
    "    + theme(panel_grid=element_line(color=\"lightgrey\"),\n",
    "        panel_grid_major=element_line(size=1.4, alpha=1), \n",
    "        panel_grid_major_y=element_line(linetype='dashed'), \n",
    "        panel_grid_minor=element_line(alpha=.25),\n",
    "        panel_grid_minor_y = element_line(linetype='dashed'))\n",
    ")\n",
    "print(hive_accuracy_plot)\n",
    "hive_accuracy_plot.save(f\"{PLOTS}/{algorythm}/hive_accuracy_boxplot.pdf\", dpi=600, verbose = False)\n",
    "print(hive_fmeasure_plot)\n",
    "hive_fmeasure_plot.save(f\"{PLOTS}/{algorythm}/hive_fmeasure_boxplot.pdf\", dpi=600, verbose = False)\n",
    "hive_means_df.head()\n"
   ]
  },
  {
   "cell_type": "markdown",
   "metadata": {},
   "source": [
    "## HIVECOTEV2 macierz pomyłek"
   ]
  },
  {
   "cell_type": "code",
   "execution_count": null,
   "metadata": {},
   "outputs": [],
   "source": [
    "testing_df = hive_df.copy()\n",
    "result = {}\n",
    "for dataset in datasets:    \n",
    "    testing_df[\"closest_acc\"] = np.abs(testing_df[testing_df.dataset == dataset].trafność - hive_means_df[hive_means_df.index == dataset].trafność[0])\n",
    "    local_min = testing_df[testing_df.dataset == dataset].closest_acc.min()\n",
    "    results_df = testing_df.loc[testing_df.closest_acc == local_min].head(1).copy()\n",
    "    result[dataset] = results_df\n",
    "    titles_options = [\n",
    "        (\"Macierz pomyłek: algorytm HIVECOTEV2,\\n\" +f\"zbiór danych {dataset}\", None)\n",
    "    ]\n",
    "    for title, normalize in titles_options:\n",
    "        disp = ConfusionMatrixDisplay.from_predictions(\n",
    "            results_df.y_true.iloc[0],\n",
    "            results_df.y_predict.iloc[0],\n",
    "            display_labels=class_names,\n",
    "            cmap=plt.cm.Blues,\n",
    "            normalize=normalize,\n",
    "            xticks_rotation=\"vertical\",\n",
    "        )\n",
    "        disp.ax_.set_title(title)\n",
    "        disp.ax_.set_ylabel(\"Faktyczna klasa\")\n",
    "        disp.ax_.set_xlabel(\"Przewidzana klasa\")\n",
    "        if not os.path.exists(f\"{PLOTS}/{algorythm}\"):\n",
    "            os.makedirs(f\"{PLOTS}/{algorythm}\")\n",
    "        if normalize:\n",
    "            normalized = \"_normalized\"\n",
    "        else:\n",
    "            normalized = \"\"\n",
    "        disp.figure_.savefig(f\"{PLOTS}/{algorythm}/{dataset}{normalized}_confusion_matrix.pdf\", dpi=600, bbox_inches = \"tight\")\n"
   ]
  },
  {
   "cell_type": "markdown",
   "metadata": {},
   "source": [
    "# KNN-DTW"
   ]
  },
  {
   "cell_type": "code",
   "execution_count": null,
   "metadata": {},
   "outputs": [],
   "source": [
    "algorythm = \"KNN\"\n",
    "if not os.path.exists(f\"{PLOTS}/{algorythm}/size\"):\n",
    "    os.makedirs(f\"{PLOTS}/{algorythm}/size\")\n",
    "dataframes = []\n",
    "for dataset in datasets:\n",
    "    path_to_files = f\"{RESULTS_PATH}/{dataset}/{algorythm}\"\n",
    "    file_names = os.listdir(f\"{RESULTS_PATH}/{dataset}/{algorythm}\")\n",
    "    for file_name in file_names:\n",
    "        df = pd.read_csv(f\"{path_to_files}/{file_name}\", index_col=None, header=0)\n",
    "        df.y_predict = df.y_predict.apply(lambda x: np.array(x.replace(\"\\n\", \"\").replace(\"\\r\", \"\").replace(\"'\", \"\")[1:-1].split(\" \")))\n",
    "        df.y_true = df.y_true.apply(lambda x: np.array(x.replace(\"\\n\", \"\").replace(\"\\r\", \"\").replace(\"'\", \"\")[1:-1].split(\" \")))\n",
    "        df[\"F-miara\"] = df.f1_measure\n",
    "        df[\"trafność\"] = df.accuracy_score\n",
    "        df[\"czas_wykonywania\"] = df.execution_time\n",
    "        df[\"k\"] = df[\"seed\"]\n",
    "        dataframes.append(df[[\"dataset\", \"k\", \"trafność\", \"F-miara\", \"czas_wykonywania\", \"y_predict\", \"y_true\"]])\n",
    "knn_df = pd.concat(dataframes, axis=0, ignore_index=True)\n",
    "knn_df"
   ]
  },
  {
   "cell_type": "markdown",
   "metadata": {},
   "source": [
    "## KNN-DTW średnie miar  "
   ]
  },
  {
   "cell_type": "code",
   "execution_count": null,
   "metadata": {},
   "outputs": [],
   "source": [
    "knn_means_df = knn_df.groupby(\"dataset\")[[\"trafność\", \"F-miara\", \"czas_wykonywania\"]].mean().apply(lambda x: np.round(x, decimals=3))\n",
    "knn_means_df.head()\n",
    "\n",
    "knn_accuracy_plot = (\n",
    "    ggplot(knn_df)\n",
    "    + geom_boxplot(aes(x='factor(dataset)', y='trafność'))\n",
    "    + geom_point(aes(x='factor(dataset)', y='trafność', color=\"factor(k)\"))\n",
    "    + guides(color=guide_legend(title='k'))\n",
    "    + scale_x_discrete(labels=knn_df.dataset.unique(), name='typ funkcji') +\n",
    "    labs(title='Wykres wartości trafności KNN-DTW.\\n Klasyfikacja typu funkcji.')\n",
    "    + theme_classic()\n",
    "    + theme(panel_grid=element_line(color=\"lightgrey\"),\n",
    "        panel_grid_major=element_line(size=1.4, alpha=1), \n",
    "        panel_grid_major_y=element_line(linetype='dashed'), \n",
    "        panel_grid_minor=element_line(alpha=.25),\n",
    "        panel_grid_minor_y = element_line(linetype='dashed'))\n",
    ")\n",
    "\n",
    "knn_fmeasure_plot = (\n",
    "    ggplot(knn_df)\n",
    "    + geom_boxplot(aes(x='factor(dataset)', y='F-miara'))\n",
    "    + geom_point(aes(x='factor(dataset)', y='F-miara', color=\"factor(k)\"))\n",
    "    + guides(color=guide_legend(title='k'))\n",
    "    + scale_x_discrete(labels=knn_df.dataset.unique(), name='typ funkcji') \n",
    "    + labs(title='Wykres wartości F-miary KNN-DTW.\\n Klasyfikacja typu funkcji.')\n",
    "    + theme_classic()\n",
    "    + theme(panel_grid=element_line(color=\"lightgrey\"),\n",
    "        panel_grid_major=element_line(size=1.4, alpha=1), \n",
    "        panel_grid_major_y=element_line(linetype='dashed'), \n",
    "        panel_grid_minor=element_line(alpha=.25),\n",
    "        panel_grid_minor_y = element_line(linetype='dashed'))\n",
    ")\n",
    "print(knn_accuracy_plot)\n",
    "knn_accuracy_plot.save(f\"{PLOTS}/{algorythm}/knn_accuracy_boxplot.pdf\", dpi=600, verbose = False)\n",
    "print(knn_fmeasure_plot)\n",
    "knn_fmeasure_plot.save(f\"{PLOTS}/{algorythm}/knn_fmeasure_boxplot.pdf\", dpi=600, verbose = False)\n",
    "knn_means_df.head()"
   ]
  },
  {
   "cell_type": "markdown",
   "metadata": {},
   "source": [
    "## KNN-DTW macierz pomyłek"
   ]
  },
  {
   "cell_type": "code",
   "execution_count": null,
   "metadata": {},
   "outputs": [],
   "source": [
    "testing_df = knn_df.copy()\n",
    "result = {}\n",
    "for dataset in datasets:    \n",
    "    testing_df[\"closest_acc\"] = np.abs(testing_df[testing_df.dataset == dataset].trafność - knn_means_df[knn_means_df.index == dataset].trafność[0])\n",
    "    local_min = testing_df[testing_df.dataset == dataset].closest_acc.min()\n",
    "    results_df = testing_df.loc[testing_df.closest_acc == local_min].head(1).copy()\n",
    "    result[dataset] = results_df\n",
    "    titles_options = [\n",
    "        (\"Macierz pomyłek: algorytm KNN-DTW,\\n\" +f\"zbiór danych {dataset}\", None)\n",
    "    ]\n",
    "    for title, normalize in titles_options:\n",
    "        disp = ConfusionMatrixDisplay.from_predictions(\n",
    "            results_df.y_true.iloc[0],\n",
    "            results_df.y_predict.iloc[0],\n",
    "            display_labels=class_names,\n",
    "            cmap=plt.cm.Blues,\n",
    "            normalize=normalize,\n",
    "            xticks_rotation = \"vertical\"\n",
    "        )\n",
    "        disp.ax_.set_title(title)\n",
    "        disp.ax_.set_ylabel(\"Faktyczna klasa\")\n",
    "        disp.ax_.set_xlabel(\"Przewidzana klasa\")\n",
    "        if not os.path.exists(f\"{PLOTS}/{algorythm}\"):\n",
    "            os.makedirs(f\"{PLOTS}/{algorythm}\")\n",
    "        if normalize:\n",
    "            normalized = \"_normalized\"\n",
    "        else:\n",
    "            normalized = \"\"\n",
    "        disp.figure_.savefig(f\"{PLOTS}/{algorythm}/{dataset}{normalized}_confusion_matrix.pdf\", dpi=600, bbox_inches = \"tight\")"
   ]
  },
  {
   "cell_type": "markdown",
   "metadata": {},
   "source": [
    "## Analiza porównawcza"
   ]
  },
  {
   "cell_type": "code",
   "execution_count": null,
   "metadata": {},
   "outputs": [],
   "source": [
    "import plotnine as plotnine\n",
    "knn_means_df[\"algorytm\"] = \"KNN\"\n",
    "rocket_means_df[\"algorytm\"] = \"ROCKET\"\n",
    "hive_means_df[\"algorytm\"] = \"HIVECOTEV2\"\n",
    "\n",
    "dodge_text = position_dodge(width=0.4, preserve=\"single\")                              # new\n",
    "summary_df = pd.concat([knn_means_df, rocket_means_df, hive_means_df]).reset_index()\n",
    "acc_comp_graph = (ggplot(summary_df, aes(x='algorytm', y='trafność', fill = 'factor(dataset)'))\n",
    "    + guides(fill=guide_legend(title='dataset'), label_position = \"top\")\n",
    "    + geom_col(stat='identity', position=position_dodge(0.94, \"total\"), size=1)\n",
    "    + labs(title='Porównanie trafności między różnymi algorytmami')\n",
    "    + coord_cartesian(ylim=(0.9, 1))\n",
    "    + theme_classic()\n",
    "    + theme(legend_position =(.5, -0.06), legend_direction='horizontal', legend_title_align=\"center\", panel_grid=element_line(color=\"lightgrey\"),\n",
    "        panel_grid_major=element_line(size=1.4, alpha=1), \n",
    "        panel_grid_major_y=element_line(linetype='dashed'), \n",
    "        panel_grid_minor=element_line(alpha=.25),\n",
    "        panel_grid_minor_y = element_line(linetype='dashed'))\n",
    ")\n",
    "\n",
    "f1_comp_graph = (ggplot(summary_df, aes(x='algorytm', y='F-miara', fill = 'factor(dataset)'))\n",
    "    + guides(fill=guide_legend(title='dataset'), label_position = \"top\")\n",
    "    + geom_col(stat='identity', position=position_dodge(0.94, \"total\"), size=1)\n",
    "    + labs(title='Porównanie wartości F-miary między różnymi algorytmami')\n",
    "    + coord_cartesian(ylim=(0.9, 1))\n",
    "    + theme_classic()\n",
    "    + theme(legend_position =(.5, -0.06), legend_direction='horizontal', legend_title_align=\"center\", panel_grid=element_line(color=\"lightgrey\"),\n",
    "        panel_grid_major=element_line(size=1.4, alpha=1), \n",
    "        panel_grid_major_y=element_line(linetype='dashed'), \n",
    "        panel_grid_minor=element_line(alpha=.25),\n",
    "        panel_grid_minor_y = element_line(linetype='dashed'))\n",
    ")\n",
    "\n",
    "time_df = summary_df.groupby(\"algorytm\")[\"czas_wykonywania\"].mean().reset_index()\n",
    "time_df[\"czas_wykonywania\"] = time_df[\"czas_wykonywania\"].apply(lambda x : x/60)\n",
    "time_comp_graph = (ggplot(time_df, aes(x='algorytm', y='czas_wykonywania'))\n",
    "    + geom_col(stat='identity', position=position_dodge(0.94, \"total\"), size=1)\n",
    "    + labs(title='Porównanie wartości czasu przetwarzania między różnymi algorytmami') \n",
    "    + ylab(\"czas przetwarzania(minuty)\")\n",
    "    + theme_classic()\n",
    "    + theme(legend_position =(.5, -0.06), legend_direction='horizontal', legend_title_align=\"center\", panel_grid=element_line(color=\"lightgrey\"),\n",
    "        panel_grid_major=element_line(size=1.4, alpha=1), \n",
    "        panel_grid_major_y=element_line(linetype='dashed'), \n",
    "        panel_grid_minor=element_line(alpha=.25),\n",
    "        panel_grid_minor_y = element_line(linetype='dashed'))\n",
    ")\n",
    "\n",
    "print(acc_comp_graph)\n",
    "acc_comp_graph.save(f\"{PLOTS}/acc_comp_graph.pdf\", dpi=600, verbose = False)\n",
    "print(f1_comp_graph)\n",
    "f1_comp_graph.save(f\"{PLOTS}/f1_comp_graph.pdf\", dpi=600, verbose = False)\n",
    "print(time_comp_graph)\n",
    "time_comp_graph.save(f\"{PLOTS}/time_comp_graph.pdf\", dpi=600, verbose = False)"
   ]
  },
  {
   "cell_type": "code",
   "execution_count": null,
   "metadata": {},
   "outputs": [],
   "source": [
    "pd.pivot_table(summary_df, values='trafność', index='dataset', columns='algorytm')"
   ]
  },
  {
   "cell_type": "code",
   "execution_count": null,
   "metadata": {},
   "outputs": [],
   "source": [
    "pd.pivot_table(summary_df, values='F-miara', index='dataset', columns='algorytm')"
   ]
  },
  {
   "cell_type": "code",
   "execution_count": null,
   "metadata": {},
   "outputs": [],
   "source": [
    "summary_df.groupby(\"algorytm\")[\"czas_wykonywania\"].mean().apply(lambda x : x/60).reset_index()"
   ]
  },
  {
   "cell_type": "code",
   "execution_count": null,
   "metadata": {},
   "outputs": [],
   "source": [
    "summary_df.groupby([\"algorytm\", \"dataset\"])[\"trafność\"].mean()"
   ]
  }
 ],
 "metadata": {
  "interpreter": {
   "hash": "f7d812b6b0ae132ddf009a87a46d9f35cc0a6e0343f7e24aabc62c05919a2e18"
  },
  "kernelspec": {
   "display_name": "Python 3.9.12 ('base')",
   "language": "python",
   "name": "python3"
  },
  "language_info": {
   "codemirror_mode": {
    "name": "ipython",
    "version": 3
   },
   "file_extension": ".py",
   "mimetype": "text/x-python",
   "name": "python",
   "nbconvert_exporter": "python",
   "pygments_lexer": "ipython3",
   "version": "3.9.12"
  },
  "orig_nbformat": 4
 },
 "nbformat": 4,
 "nbformat_minor": 2
}
