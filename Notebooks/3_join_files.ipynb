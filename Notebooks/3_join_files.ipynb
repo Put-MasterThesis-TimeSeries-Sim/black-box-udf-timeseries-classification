{
 "cells": [
  {
   "cell_type": "markdown",
   "metadata": {},
   "source": [
    "# Połączenie plików z węzłów\n",
    "Notatnik, który zbiera wszystkie pliki, gdzie każdy jest pojedyńczym przebiegiem. Nadaje im etykiete (label) i tworzy jest zbiory plik dla każdego typu udf'a."
   ]
  },
  {
   "cell_type": "code",
   "execution_count": null,
   "metadata": {},
   "outputs": [],
   "source": [
    "import pandas as pd\n",
    "import os\n",
    "\n",
    "organised_directory = \"Organised\"\n",
    "labels = ['aggregation', 'filtration', 'filtration-aggregation', 'filtration-aggregation-join', 'filtration-join']\n",
    "joined_df = pd.DataFrame()\n",
    "\n",
    "for label in labels:\n",
    "    print(f\"Zaczęto typ {label}\")\n",
    "    directory = f\"./../{organised_directory}/{label}\"\n",
    "    udf_dirs = os.listdir(directory)\n",
    "    result_df = pd.DataFrame()\n",
    "    snapshot = 0\n",
    "    for udf in udf_dirs:\n",
    "        for root, _, files in os.walk(f\"./{directory}/{udf}\"):\n",
    "            for file in files:\n",
    "                full_path = os.path.join(root, file)\n",
    "\n",
    "                node_data_df = pd.read_csv(full_path)\n",
    "                node_data_df['snapshot'] = snapshot\n",
    "                snapshot += 1\n",
    "                node_data_df[\"label\"] = label\n",
    "                node_data_df[\"udf\"] = udf\n",
    "                node_data_df[\"size\"] = full_path.split(\"\\\\\")[-4].split(\"-\")[3][0]\n",
    "                result_df = pd.concat([result_df,node_data_df])\n",
    "    joined_df = pd.concat([joined_df, result_df[[\"snapshot\", \"label\", \"udf\", \"epoch\", \"CPU\", \"RAM\", \"size\"]]])\n",
    "    print(f\"Przetworzono typ {label}\")\n",
    "joined_file_name = f\"./../{organised_directory}/Time_series_udf_dataset.csv\"\n",
    "joined_df.to_csv(joined_file_name)\n",
    "print(f\"Zapisano plik {joined_file_name}\")"
   ]
  }
 ],
 "metadata": {
  "interpreter": {
   "hash": "f7d812b6b0ae132ddf009a87a46d9f35cc0a6e0343f7e24aabc62c05919a2e18"
  },
  "kernelspec": {
   "display_name": "Python 3.9.12 ('base')",
   "language": "python",
   "name": "python3"
  },
  "language_info": {
   "codemirror_mode": {
    "name": "ipython",
    "version": 3
   },
   "file_extension": ".py",
   "mimetype": "text/x-python",
   "name": "python",
   "nbconvert_exporter": "python",
   "pygments_lexer": "ipython3",
   "version": "3.9.12"
  },
  "orig_nbformat": 4
 },
 "nbformat": 4,
 "nbformat_minor": 2
}
