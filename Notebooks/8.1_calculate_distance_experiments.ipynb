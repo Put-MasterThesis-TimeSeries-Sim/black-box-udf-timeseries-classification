{
 "cells": [
  {
   "cell_type": "code",
   "execution_count": null,
   "outputs": [],
   "source": [
    "from plotnine import *\n",
    "from scipy.spatial import distance\n",
    "import pandas as pd\n",
    "from dtw import *\n",
    "import dtaidistance as dd\n",
    "from tslearn import metrics\n",
    "from tssearch import plot_alignment\n",
    "from tssearch.search.query_search import time_series_search\n",
    "from dtaidistance import dtw_visualisation as dtwvis\n",
    "import matplotlib.pyplot as plt"
   ],
   "metadata": {
    "collapsed": false,
    "pycharm": {
     "name": "#%%\n"
    }
   }
  },
  {
   "cell_type": "code",
   "execution_count": null,
   "outputs": [],
   "source": [
    "def calculate_euclidean_distance(a_cpu, b_cpu, a_ram, b_ram):\n",
    "    cpu_dst = distance.euclidean(a_cpu, b_cpu)\n",
    "    ram_dst = distance.euclidean(a_ram, b_ram)\n",
    "    return cpu_dst, ram_dst\n",
    "\n",
    "def calculate_dtw_dtw_library(a_cpu, b_cpu, a_ram, b_ram):\n",
    "    step_pattern = symmetric2\n",
    "\n",
    "    alignment_cpu = dtw(a_cpu, b_cpu, step_pattern=step_pattern, keep_internals=True)\n",
    "    alignment_ram = dtw(a_ram, b_ram, step_pattern=step_pattern, keep_internals=True)\n",
    "    #alignment_cpu.plot(type=\"twoway\", offset=80)\n",
    "    #plt.show()\n",
    "    return alignment_cpu.normalizedDistance, alignment_cpu.distance, alignment_ram.normalizedDistance, alignment_ram.distance\n",
    "\n",
    "def calculate_dtw_dtaidistance_library(a_cpu, b_cpu, a_ram, b_ram):\n",
    "    d_cpu = dd.dtw.distance(numpy.array(a_cpu), numpy.array(b_cpu), use_c=True, use_pruning=True)\n",
    "    #path = dd.dtw.warping_path(numpy.array(a_cpu), numpy.array(b_cpu))\n",
    "    #dtwvis.plot_warping(numpy.array(a_cpu), numpy.array(b_cpu), path)\n",
    "\n",
    "    d_ram = dd.dtw.distance(numpy.array(a_ram), numpy.array(b_ram))\n",
    "    return d_cpu, d_ram\n",
    "\n",
    "def calculate_lcss(a_cpu, b_cpu, a_ram, b_ram):\n",
    "    lcss_path_cpu, sim_lcss_cpu = metrics.lcss_path(a_cpu, b_cpu, eps=2.0)\n",
    "    lcss_path_ram, sim_lcss_ram = metrics.lcss_path(a_ram, b_ram, eps=1.5)\n",
    "    return sim_lcss_cpu, sim_lcss_ram\n",
    "\n",
    "def calculate_lcss2(a_cpu, b_cpu, a_ram, b_ram):\n",
    "    dict_distances = {\n",
    "        \"elastic\": {\"Longest Common Subsequence\": {\n",
    "            \"multivariate\": \"yes\",\n",
    "            \"description\": \"\",\n",
    "            \"function\": \"lcss\",\n",
    "            \"parameters\": {\"eps\": 1.5, \"report\": \"distance\"},\n",
    "            \"use\": \"yes\"}\n",
    "        }\n",
    "    }\n",
    "    sim_lcss_cpu = time_series_search(dict_distances, numpy.array(a_cpu), numpy.array(b_cpu), output=(\"number\", 1))[\"Longest Common Subsequence\"][\"distance\"]\n",
    "    sim_lcss_ram = time_series_search(dict_distances, numpy.array(a_ram), numpy.array(b_ram), output=(\"number\", 1))[\"Longest Common Subsequence\"][\"distance\"]\n",
    "\n",
    "    #result = time_series_search(dict_distances, numpy.array(a_ram), numpy.array(b_ram), output=(\"number\", 1))\n",
    "    #plt.figure()\n",
    "    #plt.title(\"Longest Common Subsequence\")\n",
    "    #plot_alignment(a_ram, b_ram, result[\"Longest Common Subsequence\"][\"path\"][0])\n",
    "    return sim_lcss_cpu, sim_lcss_ram"
   ],
   "metadata": {
    "collapsed": false,
    "pycharm": {
     "name": "#%%\n"
    }
   }
  },
  {
   "cell_type": "markdown",
   "source": [
    "## Creating comparison dataFrame"
   ],
   "metadata": {
    "collapsed": false,
    "pycharm": {
     "name": "#%% md\n"
    }
   }
  },
  {
   "cell_type": "code",
   "execution_count": null,
   "outputs": [],
   "source": [
    "full_df = pd.read_csv(\"MachineLearning/ts_datasets/Default/Default_TEST.csv\")\n",
    "max_snapshot = full_df[\"snapshot\"].max()"
   ],
   "metadata": {
    "collapsed": false,
    "pycharm": {
     "name": "#%%\n"
    }
   }
  },
  {
   "cell_type": "code",
   "execution_count": null,
   "outputs": [],
   "source": [
    "def calculate_distance_and_save_as_df(df, data, data2, normalized=0, smoothed=0):\n",
    "    a_cpu = list(data['CPU'])\n",
    "    b_cpu = list(data2['CPU'])\n",
    "    a_ram = list(data['RAM'])\n",
    "    b_ram = list(data2['RAM'])\n",
    "\n",
    "    euc_cpu_dist, euc_ram_dist = calculate_euclidean_distance(a_cpu, b_cpu, a_ram, b_ram)\n",
    "    dtw_cpu_dist_normalized, dtw_cpu_dist, dtw_ram_dist_normalized, dtw_ram_dist = \\\n",
    "        calculate_dtw_dtw_library(a_cpu, b_cpu, a_ram, b_ram)\n",
    "    #dtaidistance_cpu, dtaidistance_ram = calculate_dtw_dtaidistance_library(a_cpu, b_cpu, a_ram, b_ram)\n",
    "    lcss_distance_cpu, lcss_distance_ram = calculate_lcss(a_cpu, b_cpu, a_ram, b_ram)\n",
    "    new_cpu_row = {\n",
    "        'dataType' : 'CPU',\n",
    "        'function1' : data['label'].max(),\n",
    "        'snapshot1' : data['snapshot'].max(),\n",
    "        'udf1' : data['udf'].max(),\n",
    "        'function2' : data2['label'].max(),\n",
    "        'snapshot2': data2['snapshot'].max(),\n",
    "        'udf2' : data2['udf'].max(),\n",
    "        'euclidean': euc_cpu_dist,\n",
    "        'dtw-python-distance': dtw_cpu_dist,\n",
    "        'dtw-python-normalizedDistance': dtw_ram_dist_normalized,\n",
    "        #'dtaidistance': dtaidistance_cpu,\n",
    "        'lcss_similarity': lcss_distance_cpu,\n",
    "        'is_normalized': normalized,\n",
    "        'is_smoothed': smoothed,\n",
    "        'size1': data['size'].max(),\n",
    "        'size2': data2['size'].max(),\n",
    "    }\n",
    "    new_ram_row = {\n",
    "        'dataType' : 'RAM',\n",
    "        'function1' : data['label'].max(),\n",
    "        'snapshot1' : data['snapshot'].max(),\n",
    "        'udf1' : data['udf'].max(),\n",
    "        'function2' : data2['label'].max(),\n",
    "        'snapshot2': data2['snapshot'].max(),\n",
    "        'udf2' : data2['udf'].max(),\n",
    "        'euclidean': euc_ram_dist,\n",
    "        'dtw-python-distance': dtw_ram_dist,\n",
    "        'dtw-python-normalizedDistance': dtw_ram_dist_normalized,\n",
    "        #'dtaidistance': dtaidistance_ram,\n",
    "        'lcss_similarity': lcss_distance_ram,\n",
    "        'is_normalized': normalized,\n",
    "        'is_smoothed': smoothed,\n",
    "        'size1': data['size'].max(),\n",
    "        'size2': data2['size'].max(),\n",
    "    }\n",
    "    df = df.append(new_cpu_row, ignore_index = True)\n",
    "    df = df.append(new_ram_row, ignore_index = True)\n",
    "    return df"
   ],
   "metadata": {
    "collapsed": false,
    "pycharm": {
     "name": "#%%\n"
    }
   }
  },
  {
   "cell_type": "code",
   "execution_count": null,
   "outputs": [],
   "source": [
    "full_df_snapshots = full_df.groupby('snapshot')[['snapshot']].max().reset_index(drop=True)\n",
    "full_df_snapshots"
   ],
   "metadata": {
    "collapsed": false,
    "pycharm": {
     "name": "#%%\n"
    }
   }
  },
  {
   "cell_type": "code",
   "execution_count": null,
   "outputs": [],
   "source": [
    "columns = ['dataType', 'function1', 'snapshot1','function2', 'snapshot2', 'euclidean',\n",
    "           'dtw-python-distance', 'dtw-python-normalizedDistance', 'lcss_similarity', 'is_normalized', 'is_smoothed', 'size1', 'size2']"
   ],
   "metadata": {
    "collapsed": false,
    "pycharm": {
     "name": "#%%\n"
    }
   }
  },
  {
   "cell_type": "code",
   "execution_count": null,
   "outputs": [],
   "source": [
    "import warnings\n",
    "warnings.filterwarnings('ignore')\n",
    "dataFrame2 = pd.DataFrame([], columns = columns)\n",
    "dataFrame2.to_csv(\"SimilaritiesData/comparison_distance_all.csv\", index=False)\n",
    "\n",
    "for i in full_df_snapshots.index:\n",
    "    dataFrame2 = pd.DataFrame([], columns = columns)\n",
    "    s1 = full_df_snapshots.loc[i]['snapshot']\n",
    "    data_1 = full_df[full_df[\"snapshot\"]==s1]\n",
    "    for j in full_df_snapshots.index:\n",
    "        if j < i: continue;\n",
    "        s2 = full_df_snapshots.loc[j]['snapshot']\n",
    "        data_2 = full_df[full_df[\"snapshot\"]==s2]\n",
    "        dataFrame2 = calculate_distance_and_save_as_df(dataFrame2, data_1, data_2, 0, 1)\n",
    "    dataFrame2.to_csv('SimilaritiesData/comparison_distance_all.csv', mode='a', header=False)\n",
    "    print(f\"Przetworzono {i}\")\n",
    "\n"
   ],
   "metadata": {
    "collapsed": false,
    "pycharm": {
     "name": "#%%\n"
    }
   }
  },
  {
   "cell_type": "code",
   "execution_count": null,
   "metadata": {
    "pycharm": {
     "name": "#%%\n"
    }
   },
   "outputs": [],
   "source": []
  }
 ],
 "metadata": {
  "kernelspec": {
   "display_name": "Python 3 (ipykernel)",
   "language": "python",
   "name": "python3"
  },
  "language_info": {
   "codemirror_mode": {
    "name": "ipython",
    "version": 3
   },
   "file_extension": ".py",
   "mimetype": "text/x-python",
   "name": "python",
   "nbconvert_exporter": "python",
   "pygments_lexer": "ipython3",
   "version": "3.8.5"
  }
 },
 "nbformat": 4,
 "nbformat_minor": 1
}