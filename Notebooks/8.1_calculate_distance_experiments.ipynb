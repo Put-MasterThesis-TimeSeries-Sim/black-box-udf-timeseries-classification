{
 "cells": [
  {
   "cell_type": "markdown",
   "metadata": {
    "pycharm": {
     "name": "#%% md\n"
    }
   },
   "source": [
    "# Notatnik obliczający odległości między szeregami (euklides, dtw, lcss)"
   ]
  },
  {
   "cell_type": "markdown",
   "source": [
    "### Import bibliotek"
   ],
   "metadata": {
    "collapsed": false,
    "pycharm": {
     "name": "#%% md\n"
    }
   }
  },
  {
   "cell_type": "code",
   "execution_count": 15,
   "outputs": [],
   "source": [
    "from scipy.spatial import distance\n",
    "import seaborn\n",
    "import pandas as pd\n",
    "from dtw import *\n",
    "from tslearn import metrics\n",
    "from tssearch.search.query_search import time_series_search\n",
    "import warnings\n",
    "warnings.filterwarnings('ignore')\n",
    "import copy\n",
    "import os"
   ],
   "metadata": {
    "collapsed": false,
    "pycharm": {
     "name": "#%%\n"
    }
   }
  },
  {
   "cell_type": "code",
   "execution_count": 16,
   "outputs": [],
   "source": [
    "path = \"../SimilaritiesData/\"\n",
    "if not os.path.exists(path):\n",
    "  os.makedirs(path)"
   ],
   "metadata": {
    "collapsed": false,
    "pycharm": {
     "name": "#%%\n"
    }
   }
  },
  {
   "cell_type": "markdown",
   "source": [
    "### Wywołanie algorytmów dla odległości euklidesowej, dtw oraz lcss"
   ],
   "metadata": {
    "collapsed": false,
    "pycharm": {
     "name": "#%% md\n"
    }
   }
  },
  {
   "cell_type": "code",
   "execution_count": 2,
   "outputs": [],
   "source": [
    "def calculate_euclidean_distance(a_cpu, b_cpu, a_ram, b_ram):\n",
    "    cpu_dst = distance.euclidean(a_cpu, b_cpu)\n",
    "    ram_dst = distance.euclidean(a_ram, b_ram)\n",
    "    return cpu_dst, ram_dst\n",
    "\n",
    "def calculate_dtw_dtw_library(a_cpu, b_cpu, a_ram, b_ram):\n",
    "    step_pattern = symmetric2\n",
    "\n",
    "    alignment_cpu = dtw(a_cpu, b_cpu, step_pattern=step_pattern, keep_internals=True)\n",
    "    alignment_ram = dtw(a_ram, b_ram, step_pattern=step_pattern, keep_internals=True)\n",
    "    return alignment_cpu.normalizedDistance, alignment_cpu.distance, alignment_ram.normalizedDistance, alignment_ram.distance\n",
    "\n",
    "#def calculate_dtw_dtaidistance_library(a_cpu, b_cpu, a_ram, b_ram):\n",
    "    #d_cpu = dd.dtw.distance(numpy.array(a_cpu), numpy.array(b_cpu), use_c=True, use_pruning=True)\n",
    "    #d_ram = dd.dtw.distance(numpy.array(a_ram), numpy.array(b_ram))\n",
    "    #return d_cpu, d_ram\n",
    "\n",
    "def calculate_lcss(a_cpu, b_cpu, a_ram, b_ram):\n",
    "    lcss_path_cpu, sim_lcss_cpu = metrics.lcss_path(a_cpu, b_cpu, eps=2.0)\n",
    "    lcss_path_ram, sim_lcss_ram = metrics.lcss_path(a_ram, b_ram, eps=1.5)\n",
    "    return sim_lcss_cpu, sim_lcss_ram\n",
    "\n",
    "def calculate_lcss2(a_cpu, b_cpu, a_ram, b_ram):\n",
    "    dict_distances = {\n",
    "        \"elastic\": {\"Longest Common Subsequence\": {\n",
    "            \"multivariate\": \"yes\",\n",
    "            \"description\": \"\",\n",
    "            \"function\": \"lcss\",\n",
    "            \"parameters\": {\"eps\": 1.5, \"report\": \"distance\"},\n",
    "            \"use\": \"yes\"}\n",
    "        }\n",
    "    }\n",
    "    sim_lcss_cpu = time_series_search(dict_distances, numpy.array(a_cpu), numpy.array(b_cpu), output=(\"number\", 1))[\"Longest Common Subsequence\"][\"distance\"]\n",
    "    sim_lcss_ram = time_series_search(dict_distances, numpy.array(a_ram), numpy.array(b_ram), output=(\"number\", 1))[\"Longest Common Subsequence\"][\"distance\"]\n",
    "    return sim_lcss_cpu, sim_lcss_ram"
   ],
   "metadata": {
    "collapsed": false,
    "pycharm": {
     "name": "#%%\n"
    }
   }
  },
  {
   "cell_type": "markdown",
   "source": [
    "### Wygenerowanie plików csv z obliczonymi odleglościami"
   ],
   "metadata": {
    "collapsed": false,
    "pycharm": {
     "name": "#%% md\n"
    }
   }
  },
  {
   "cell_type": "code",
   "execution_count": 3,
   "outputs": [],
   "source": [
    "columns = ['dataType', 'function1', 'snapshot1','function2', 'snapshot2', 'euclidean',\n",
    "           'dtw-python-distance', 'dtw-python-normalizedDistance', 'lcss_similarity', 'size1', 'size2', 'udf1', 'udf2']"
   ],
   "metadata": {
    "collapsed": false,
    "pycharm": {
     "name": "#%%\n"
    }
   }
  },
  {
   "cell_type": "code",
   "execution_count": 4,
   "outputs": [],
   "source": [
    "def calculate_distance_and_save_as_df(df, data, data2):\n",
    "    a_cpu = list(data['CPU'])\n",
    "    b_cpu = list(data2['CPU'])\n",
    "    a_ram = list(data['RAM'])\n",
    "    b_ram = list(data2['RAM'])\n",
    "\n",
    "    euc_cpu_dist, euc_ram_dist = calculate_euclidean_distance(a_cpu, b_cpu, a_ram, b_ram)\n",
    "    dtw_cpu_dist_normalized, dtw_cpu_dist, dtw_ram_dist_normalized, dtw_ram_dist = \\\n",
    "        calculate_dtw_dtw_library(a_cpu, b_cpu, a_ram, b_ram)\n",
    "    #dtaidistance_cpu, dtaidistance_ram = calculate_dtw_dtaidistance_library(a_cpu, b_cpu, a_ram, b_ram)\n",
    "    lcss_distance_cpu, lcss_distance_ram = calculate_lcss(a_cpu, b_cpu, a_ram, b_ram)\n",
    "    new_cpu_row = {\n",
    "        'dataType' : 'CPU',\n",
    "        'function1' : data['label'].max(),\n",
    "        'snapshot1' : data['snapshot'].max(),\n",
    "        'udf1' : data['udf'].max(),\n",
    "        'function2' : data2['label'].max(),\n",
    "        'snapshot2': data2['snapshot'].max(),\n",
    "        'udf2' : data2['udf'].max(),\n",
    "        'euclidean': euc_cpu_dist,\n",
    "        'dtw-python-distance': dtw_cpu_dist,\n",
    "        'dtw-python-normalizedDistance': dtw_ram_dist_normalized,\n",
    "        #'dtaidistance': dtaidistance_cpu,\n",
    "        'lcss_similarity': lcss_distance_cpu,\n",
    "        'size1': data['size'].max(),\n",
    "        'size2': data2['size'].max(),\n",
    "    }\n",
    "    new_ram_row = {\n",
    "        'dataType' : 'RAM',\n",
    "        'function1' : data['label'].max(),\n",
    "        'snapshot1' : data['snapshot'].max(),\n",
    "        'udf1' : data['udf'].max(),\n",
    "        'function2' : data2['label'].max(),\n",
    "        'snapshot2': data2['snapshot'].max(),\n",
    "        'udf2' : data2['udf'].max(),\n",
    "        'euclidean': euc_ram_dist,\n",
    "        'dtw-python-distance': dtw_ram_dist,\n",
    "        'dtw-python-normalizedDistance': dtw_ram_dist_normalized,\n",
    "        #'dtaidistance': dtaidistance_ram,\n",
    "        'lcss_similarity': lcss_distance_ram,\n",
    "        'size1': data['size'].max(),\n",
    "        'size2': data2['size'].max(),\n",
    "    }\n",
    "    df = df.append(new_cpu_row, ignore_index = True)\n",
    "    df = df.append(new_ram_row, ignore_index = True)\n",
    "    return df"
   ],
   "metadata": {
    "collapsed": false,
    "pycharm": {
     "name": "#%%\n"
    }
   }
  },
  {
   "cell_type": "code",
   "execution_count": 5,
   "outputs": [],
   "source": [
    "def create_file_with_distances(data_path, result_path):\n",
    "    full_df = pd.read_csv(data_path)\n",
    "    full_df_snapshots = full_df.groupby('snapshot')[['snapshot']].max().reset_index(drop=True)\n",
    "    data_frame2 = pd.DataFrame([], columns = columns)\n",
    "    data_frame2.to_csv(result_path, index=False)\n",
    "\n",
    "    for i in full_df_snapshots.index:\n",
    "        data_frame2 = pd.DataFrame([], columns = columns)\n",
    "        s1 = full_df_snapshots.loc[i]['snapshot']\n",
    "        data_1 = full_df[full_df[\"snapshot\"]==s1]\n",
    "        for j in full_df_snapshots.index:\n",
    "            if j < i: continue;\n",
    "            s2 = full_df_snapshots.loc[j]['snapshot']\n",
    "            data_2 = full_df[full_df[\"snapshot\"]==s2]\n",
    "            data_frame2 = calculate_distance_and_save_as_df(data_frame2, data_1, data_2)\n",
    "        data_frame2.to_csv(result_path, mode='a', header=False)\n",
    "        print(f\"Przetworzono {i}\")"
   ],
   "metadata": {
    "collapsed": false,
    "pycharm": {
     "name": "#%%\n"
    }
   }
  },
  {
   "cell_type": "code",
   "execution_count": null,
   "metadata": {
    "pycharm": {
     "name": "#%%\n",
     "is_executing": true
    }
   },
   "outputs": [],
   "source": [
    "create_file_with_distances(\"../MachineLearning/ts_datasets/Default/Default_TEST.csv\",\n",
    "                           f\"{path}comparison_distance_all.csv\")"
   ]
  },
  {
   "cell_type": "code",
   "execution_count": null,
   "metadata": {
    "pycharm": {
     "name": "#%%\n",
     "is_executing": true
    }
   },
   "outputs": [],
   "source": [
    "create_file_with_distances(\"../MachineLearning/ts_datasets/Default_smooth/Default_smooth_TEST.csv\",\n",
    "                           f\"{path}smooth_comparison_distance_all.csv\")"
   ]
  },
  {
   "cell_type": "code",
   "execution_count": null,
   "metadata": {
    "pycharm": {
     "name": "#%%\n"
    }
   },
   "outputs": [],
   "source": [
    "create_file_with_distances(\"../MachineLearning/ts_datasets/Normalized/Normalized_TEST.csv\",\n",
    "                           f\"{path}normalized_comparison_distance_all.csv\")"
   ]
  },
  {
   "cell_type": "code",
   "execution_count": null,
   "metadata": {
    "pycharm": {
     "name": "#%%\n"
    }
   },
   "outputs": [],
   "source": [
    "create_file_with_distances(\"../MachineLearning/ts_datasets/Normalized_smooth/Normalized_smooth_TEST.csv\",\n",
    "                           f\"{path}normalized_smooth_comparison_distance_all.csv\")"
   ]
  },
  {
   "cell_type": "markdown",
   "metadata": {
    "pycharm": {
     "name": "#%% md\n"
    }
   },
   "source": [
    "### Wypełnienie drugiej połowy macierzy zawierającej odległości"
   ]
  },
  {
   "cell_type": "code",
   "execution_count": 12,
   "metadata": {
    "pycharm": {
     "name": "#%%\n"
    }
   },
   "outputs": [],
   "source": [
    "def fill_second_half_of_matrix(data_path):\n",
    "    distance_df = pd.read_csv(data_path)\n",
    "    distance_df.reset_index(drop=True, inplace=True)\n",
    "    data_frame = copy.deepcopy(distance_df)\n",
    "    for index, row in distance_df.iterrows():\n",
    "        if row['snapshot1'] == row['snapshot2']: continue\n",
    "        new_row = copy.deepcopy(row)\n",
    "        new_row['function1'] = row['function2']\n",
    "        new_row['function2'] = row['function1']\n",
    "        new_row['udf1'] = row['udf2']\n",
    "        new_row['udf2'] = row['udf1']\n",
    "        new_row['snapshot1'] = row['snapshot2']\n",
    "        new_row['snapshot2'] = row['snapshot1']\n",
    "        new_row['size1'] = row['size2']\n",
    "        new_row['size2'] = row['size1']\n",
    "        data_frame = data_frame.append(new_row, ignore_index = True)\n",
    "        print(index)\n",
    "    data_frame.to_csv(data_path)"
   ]
  },
  {
   "cell_type": "code",
   "execution_count": null,
   "outputs": [],
   "source": [
    "fill_second_half_of_matrix(f\"{path}comparison_distance_all.csv\")\n",
    "fill_second_half_of_matrix(f\"{path}smooth_comparison_distance_all.csv\")\n",
    "fill_second_half_of_matrix(f\"{path}normalized_comparison_distance_all.csv\")\n",
    "fill_second_half_of_matrix(f\"{path}normalized_smooth_comparison_distance_all.csv\")"
   ],
   "metadata": {
    "collapsed": false,
    "pycharm": {
     "name": "#%%\n",
     "is_executing": true
    }
   }
  }
 ],
 "metadata": {
  "kernelspec": {
   "display_name": "Python 3 (ipykernel)",
   "language": "python",
   "name": "python3"
  },
  "language_info": {
   "codemirror_mode": {
    "name": "ipython",
    "version": 3
   },
   "file_extension": ".py",
   "mimetype": "text/x-python",
   "name": "python",
   "nbconvert_exporter": "python",
   "pygments_lexer": "ipython3",
   "version": "3.9.0"
  }
 },
 "nbformat": 4,
 "nbformat_minor": 1
}