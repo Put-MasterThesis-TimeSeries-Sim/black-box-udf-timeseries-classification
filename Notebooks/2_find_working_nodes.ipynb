{
 "cells": [
  {
   "cell_type": "markdown",
   "metadata": {},
   "source": [
    "# Znalezienie węzłów pracujących\n",
    "Notatnik, który odfiltrowuje wszystkie nieinteresujące nas węzły, zostawiając przy tym tylko przebiegi tych co przetwarzały jakieś dane."
   ]
  },
  {
   "cell_type": "code",
   "execution_count": null,
   "metadata": {},
   "outputs": [],
   "source": [
    "import pandas as pd\n",
    "import glob\n",
    "import os\n",
    "import shutil\n",
    "\n",
    "prepared_directory = \"Prepared\"\n",
    "organised_directory = \"Organised\"\n",
    "root = f\".\\..\\{prepared_directory}\"\n",
    "\n",
    "files = glob.glob(f\".\\..\\{prepared_directory}\" + '/**/*.csv', recursive=True)\n",
    "file_count = len(files)\n",
    "print(f\"znaleziono {file_count} plików.\")\n",
    "file_number = 0\n",
    "progress = 1\n",
    "progress_interval = file_count*0.05\n",
    "\n",
    "for functionTypeDirectory in os.listdir(root):\n",
    "    if os.path.isdir(os.path.join(root, functionTypeDirectory)):\n",
    "        for functionDirectory in os.listdir(os.path.join(root, functionTypeDirectory)):\n",
    "            for numberOfNodesDirectory in os.listdir(os.path.join(root, functionTypeDirectory, functionDirectory)):\n",
    "                destinationPath =  os.path.join(root, functionTypeDirectory, functionDirectory, numberOfNodesDirectory, 'source-data')\n",
    "                for nodeDirectory in os.listdir(destinationPath):\n",
    "                    path =  os.path.join(destinationPath, nodeDirectory)\n",
    "                    all_files = glob.glob(path + \"/*.csv\")\n",
    "                    i = 1\n",
    "                    for filename in all_files:\n",
    "                        if file_number > progress_interval*progress:\n",
    "                            progress_string = \"#\".rjust(progress, \"#\").ljust(20, '-')\n",
    "                            print(f\"{progress_string} ({file_number}/{file_count})\")\n",
    "                            progress += 1\n",
    "                        file_number+=1\n",
    "                        \n",
    "                        if os.path.exists(os.path.join(destinationPath.replace(prepared_directory, organised_directory), str(i))):\n",
    "                            continue\n",
    "                        df = pd.read_csv(filename)\n",
    "                        if df['RAM'].mean() >= 2 and df['CPU'].head(15).mean() > 3:\n",
    "                            if not os.path.exists(os.path.join(destinationPath.replace(prepared_directory, organised_directory), str(i))):\n",
    "                                os.makedirs(os.path.join(destinationPath.replace(prepared_directory, organised_directory), str(i)))\n",
    "                            shutil.copyfile(filename, os.path.join(destinationPath.replace(prepared_directory, organised_directory), str(i), os.path.basename(filename)))\n",
    "                        i += 1\n",
    "print(\"skończone.\")\n",
    "\n",
    "                        "
   ]
  }
 ],
 "metadata": {
  "interpreter": {
   "hash": "f7d812b6b0ae132ddf009a87a46d9f35cc0a6e0343f7e24aabc62c05919a2e18"
  },
  "kernelspec": {
   "display_name": "Python 3.9.12 ('base')",
   "language": "python",
   "name": "python3"
  },
  "language_info": {
   "codemirror_mode": {
    "name": "ipython",
    "version": 3
   },
   "file_extension": ".py",
   "mimetype": "text/x-python",
   "name": "python",
   "nbconvert_exporter": "python",
   "pygments_lexer": "ipython3",
   "version": "3.9.12"
  },
  "orig_nbformat": 4
 },
 "nbformat": 4,
 "nbformat_minor": 2
}
