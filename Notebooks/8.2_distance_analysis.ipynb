{
 "cells": [
  {
   "cell_type": "markdown",
   "metadata": {
    "pycharm": {
     "name": "#%% md\n"
    }
   },
   "source": [
    "# Notatnik analizujący obliczone odległości między szeregami\n"
   ]
  },
  {
   "cell_type": "markdown",
   "metadata": {
    "pycharm": {
     "name": "#%% md\n"
    }
   },
   "source": [
    "### Import bibliotek"
   ]
  },
  {
   "cell_type": "code",
   "execution_count": 18,
   "metadata": {
    "id": "0FnhX4HIRvyV",
    "pycharm": {
     "name": "#%%\n"
    }
   },
   "outputs": [],
   "source": [
    "import pandas as pd\n",
    "pd.options.mode.chained_assignment = None  # default='warn'\n",
    "from plotnine import ggplot, aes, geom_density, ggsave, facet_wrap, theme_bw\n",
    "import seaborn as sns\n",
    "import matplotlib.pyplot as plt\n",
    "import warnings\n",
    "warnings.filterwarnings('ignore')\n",
    "import os\n",
    "import zipfile"
   ]
  },
  {
   "cell_type": "markdown",
   "source": [
    "### Pobranie danych z zipa jeżeli folder nie istnieje"
   ],
   "metadata": {
    "collapsed": false,
    "pycharm": {
     "name": "#%% md\n"
    }
   }
  },
  {
   "cell_type": "code",
   "execution_count": 31,
   "outputs": [],
   "source": [
    "path = \"../SimilaritiesData/\"\n",
    "if not os.path.exists(path):\n",
    "  os.makedirs(path)\n",
    "  with zipfile.ZipFile('../SimilaritiesData.zip', 'r') as zip_ref:\n",
    "    zip_ref.extractall(\"../\")"
   ],
   "metadata": {
    "collapsed": false,
    "pycharm": {
     "name": "#%%\n"
    }
   }
  },
  {
   "cell_type": "markdown",
   "metadata": {
    "pycharm": {
     "name": "#%% md\n"
    }
   },
   "source": [
    "### Odczyt odległości z plików"
   ]
  },
  {
   "cell_type": "code",
   "execution_count": 20,
   "metadata": {
    "id": "1cjXWjS1sK-d",
    "pycharm": {
     "name": "#%%\n"
    }
   },
   "outputs": [],
   "source": [
    "smooth_distance_df = pd.read_csv(\"../SimilaritiesData/smooth_comparison_distance_all.csv\")\n",
    "normalized_distance_df = pd.read_csv(\"../SimilaritiesData/normalized_comparison_distance_all.csv\")\n",
    "distance_df = pd.read_csv(\"../SimilaritiesData/comparison_distance_all.csv\")\n",
    "normalized_smooth_distance_df = pd.read_csv(\"../SimilaritiesData/normalized_smooth_comparison_distance_all.csv\")\n",
    "\n",
    "smooth_distance_df.reset_index(drop=True, inplace=True)\n",
    "normalized_distance_df.reset_index(drop=True, inplace=True)\n",
    "distance_df.reset_index(drop=True, inplace=True)\n",
    "normalized_smooth_distance_df.reset_index(drop=True, inplace=True)"
   ]
  },
  {
   "cell_type": "markdown",
   "metadata": {
    "pycharm": {
     "name": "#%% md\n"
    }
   },
   "source": []
  },
  {
   "cell_type": "code",
   "execution_count": 21,
   "metadata": {
    "id": "8otiu9GbZhhc",
    "pycharm": {
     "name": "#%%\n"
    }
   },
   "outputs": [],
   "source": [
    "def clean(distance_data):\n",
    "  distance_data['same_functions'] = distance_data['function1'] == distance_data['function2']\n",
    "  distance_data['same_udf'] = distance_data['udf1'] == distance_data['udf2']\n",
    "  distance_data['lcss_distance'] = 1 - distance_data['lcss_similarity']\n",
    "  distance_data.drop(distance_data[distance_data.snapshot1 == distance_data.snapshot2].index, inplace=True)\n",
    "  distance_data[\"function1\"].replace({\"filtration\": \"filtering\",\n",
    "                                    \"filtration-aggregation\": \"filtering-aggregation\",\n",
    "                                     \"filtration-aggregation-join\": \"filtering-aggregation-join\",\n",
    "                                    \"filtration-join\": \"filtering-join\"}, inplace=True)\n",
    "  distance_data[\"function2\"].replace({\"filtration\": \"filtering\",\n",
    "                                    \"filtration-aggregation\": \"filtering-aggregation\",\n",
    "                                    \"filtration-aggregation-join\": \"filtering-aggregation-join\",\n",
    "                                    \"filtration-join\": \"filtering-join\"}, inplace=True)\n",
    "\n",
    "  return distance_data"
   ]
  },
  {
   "cell_type": "code",
   "execution_count": 22,
   "metadata": {
    "colab": {
     "base_uri": "https://localhost:8080/",
     "height": 522
    },
    "id": "js6fdYf1Rvyi",
    "outputId": "c60d0188-eb14-4f94-b22a-f9ac17f0a4c2",
    "pycharm": {
     "name": "#%%\n"
    }
   },
   "outputs": [],
   "source": [
    "distance_df = clean(distance_df)\n",
    "normalized_distance_df = clean(normalized_distance_df)\n",
    "smooth_distance_df = clean(smooth_distance_df)\n",
    "normalized_smooth_distance_df = clean(normalized_smooth_distance_df)"
   ]
  },
  {
   "cell_type": "markdown",
   "metadata": {
    "id": "amW8rYlfRvyj",
    "pycharm": {
     "name": "#%% md\n"
    }
   },
   "source": [
    " ### Utworzenie filtrów"
   ]
  },
  {
   "cell_type": "code",
   "execution_count": 23,
   "metadata": {
    "id": "-0XonGrURvyl",
    "pycharm": {
     "name": "#%%\n"
    }
   },
   "outputs": [],
   "source": [
    "filterCPU = distance_df[\"dataType\"]==\"CPU\"\n",
    "filterRAM = distance_df[\"dataType\"]==\"RAM\"\n",
    "filterDifferent = distance_df[\"function1\"]!=distance_df[\"function2\"]\n",
    "filterSame = distance_df[\"function1\"]==distance_df[\"function2\"]\n",
    "filterDifferentSize = distance_df[\"size1\"]!=distance_df[\"size2\"]\n",
    "filterSameSize = distance_df[\"size1\"]==distance_df[\"size2\"]\n",
    "filterSize1 = distance_df[\"size1\"]==1\n",
    "filterSize2 = distance_df[\"size2\"]==2\n",
    "filterDTWValueMoreThan1000 = distance_df[\"dtw-python-distance\"] > 1000\n",
    "\n",
    "filterAggregation1 = distance_df[\"function1\"]==\"aggregation\"\n",
    "filterAggregation2 = distance_df[\"function2\"]==\"aggregation\"\n",
    "filterFiltration1 = distance_df[\"function1\"]==\"filtration\"\n",
    "filterFiltration2 = distance_df[\"function2\"]==\"filtration\"\n",
    "filterFiltrationAggregation1 = distance_df[\"function1\"]==\"filtration-aggregation\"\n",
    "filterFiltrationAggregation2 = distance_df[\"function2\"]==\"filtration-aggregation\"\n",
    "filterFiltrationAggregationJoin1 = distance_df[\"function1\"]==\"filtration-aggregation-join\"\n",
    "filterFiltrationAggregationJoin2 = distance_df[\"function2\"]==\"filtration-aggregation-join\"\n",
    "filterFiltrationJoin1 = distance_df[\"function1\"]==\"filtration-join\"\n",
    "filterFiltrationJoin2 = distance_df[\"function2\"]==\"filtration-join\""
   ]
  },
  {
   "cell_type": "markdown",
   "source": [
    "Utworzenie folderu na wyniki"
   ],
   "metadata": {
    "collapsed": false,
    "pycharm": {
     "name": "#%% md\n"
    }
   }
  },
  {
   "cell_type": "code",
   "execution_count": 28,
   "outputs": [],
   "source": [
    "pathSimilarities = \"../Plots/similarities/plots\"\n",
    "pathHeatmaps = \"../Plots/similarities/heatmaps\"\n",
    "if not os.path.exists(pathSimilarities):\n",
    "  os.makedirs(pathSimilarities)\n",
    "if not os.path.exists(pathHeatmaps):\n",
    "  os.makedirs(pathHeatmaps)"
   ],
   "metadata": {
    "collapsed": false,
    "pycharm": {
     "name": "#%%\n"
    }
   }
  },
  {
   "cell_type": "markdown",
   "source": [
    "### Funkcja tworząca wykresy gęstości"
   ],
   "metadata": {
    "collapsed": false,
    "pycharm": {
     "name": "#%% md\n"
    }
   }
  },
  {
   "cell_type": "code",
   "execution_count": 29,
   "metadata": {
    "id": "J-BWnmn__LGj",
    "pycharm": {
     "name": "#%%\n"
    }
   },
   "outputs": [],
   "source": [
    "from plotnine.themes.themeable import legend_position\n",
    "from plotnine import theme, element_line\n",
    "\n",
    "\n",
    "def make_plot(function, distance_data, data_state):\n",
    "  function_file_name = ''\n",
    "  if function == 'euclidean': function_file_name = 'euclidean'\n",
    "  if function == 'dtw-python-distance': function_file_name = 'dtw'\n",
    "  if function == 'lcss_distance': function_file_name = 'lcss'\n",
    "  cpu_plot = (ggplot(distance_data[filterCPU], aes(x=function, color='function2', fill='function2'))\n",
    "  + geom_density(alpha=0.1)\n",
    "  + facet_wrap('function1', ncol=1)\n",
    "    + theme_bw()\n",
    "  + theme(legend_position =(.5, -0.06), legend_direction='horizontal', legend_title_align=\"center\", panel_grid=element_line(color=\"lightgrey\"))\n",
    ")\n",
    "  ram_plot = (ggplot(distance_data[filterRAM], aes(x=function, color='function2', fill='function2'))\n",
    "  + geom_density(alpha=0.1)\n",
    "  + facet_wrap('function1', ncol=1)\n",
    "  + theme_bw()\n",
    "  + theme(legend_position =(.5, -0.06), legend_direction='horizontal', legend_title_align=\"center\", panel_grid=element_line(color=\"lightgrey\"))\n",
    "  )\n",
    "\n",
    "  ggsave(plot=cpu_plot, filename=f\"../Plots/similarities/plots/cpu_\"+function_file_name+\"_\"+data_state+\".pdf\", dpi=1000)\n",
    "  ggsave(plot=ram_plot, filename=f\"../Plots/similarities/plots/ram_\"+function_file_name+\"_\"+data_state+\".pdf\", dpi=1000)"
   ]
  },
  {
   "cell_type": "markdown",
   "metadata": {
    "id": "uFp-haNp6SPI",
    "pycharm": {
     "name": "#%% md\n"
    }
   },
   "source": [
    "### Wykresy gęstości - odległość euklidesowa"
   ]
  },
  {
   "cell_type": "code",
   "execution_count": 30,
   "metadata": {
    "colab": {
     "base_uri": "https://localhost:8080/"
    },
    "id": "MU7zFv3g6RuD",
    "outputId": "9371c642-7a9c-4823-f0a4-26525410a53c",
    "pycharm": {
     "name": "#%%\n"
    }
   },
   "outputs": [
    {
     "ename": "KeyboardInterrupt",
     "evalue": "",
     "output_type": "error",
     "traceback": [
      "\u001B[1;31m---------------------------------------------------------------------------\u001B[0m",
      "\u001B[1;31mKeyboardInterrupt\u001B[0m                         Traceback (most recent call last)",
      "Input \u001B[1;32mIn [30]\u001B[0m, in \u001B[0;36m<cell line: 1>\u001B[1;34m()\u001B[0m\n\u001B[1;32m----> 1\u001B[0m \u001B[43mmake_plot\u001B[49m\u001B[43m(\u001B[49m\u001B[38;5;124;43m'\u001B[39;49m\u001B[38;5;124;43meuclidean\u001B[39;49m\u001B[38;5;124;43m'\u001B[39;49m\u001B[43m,\u001B[49m\u001B[43m \u001B[49m\u001B[43mdistance_df\u001B[49m\u001B[43m,\u001B[49m\u001B[43m \u001B[49m\u001B[38;5;124;43m'\u001B[39;49m\u001B[38;5;124;43mdefault\u001B[39;49m\u001B[38;5;124;43m'\u001B[39;49m\u001B[43m)\u001B[49m\n\u001B[0;32m      2\u001B[0m make_plot(\u001B[38;5;124m'\u001B[39m\u001B[38;5;124meuclidean\u001B[39m\u001B[38;5;124m'\u001B[39m, smooth_distance_df, \u001B[38;5;124m'\u001B[39m\u001B[38;5;124msmooth\u001B[39m\u001B[38;5;124m'\u001B[39m)\n\u001B[0;32m      3\u001B[0m make_plot(\u001B[38;5;124m'\u001B[39m\u001B[38;5;124meuclidean\u001B[39m\u001B[38;5;124m'\u001B[39m, normalized_distance_df, \u001B[38;5;124m'\u001B[39m\u001B[38;5;124mnormalized\u001B[39m\u001B[38;5;124m'\u001B[39m)\n",
      "Input \u001B[1;32mIn [29]\u001B[0m, in \u001B[0;36mmake_plot\u001B[1;34m(function, distance_data, data_state)\u001B[0m\n\u001B[0;32m     10\u001B[0m   cpu_plot \u001B[38;5;241m=\u001B[39m (ggplot(distance_data[filterCPU], aes(x\u001B[38;5;241m=\u001B[39mfunction, color\u001B[38;5;241m=\u001B[39m\u001B[38;5;124m'\u001B[39m\u001B[38;5;124mfunction2\u001B[39m\u001B[38;5;124m'\u001B[39m, fill\u001B[38;5;241m=\u001B[39m\u001B[38;5;124m'\u001B[39m\u001B[38;5;124mfunction2\u001B[39m\u001B[38;5;124m'\u001B[39m))\n\u001B[0;32m     11\u001B[0m   \u001B[38;5;241m+\u001B[39m geom_density(alpha\u001B[38;5;241m=\u001B[39m\u001B[38;5;241m0.1\u001B[39m)\n\u001B[0;32m     12\u001B[0m   \u001B[38;5;241m+\u001B[39m facet_wrap(\u001B[38;5;124m'\u001B[39m\u001B[38;5;124mfunction1\u001B[39m\u001B[38;5;124m'\u001B[39m, ncol\u001B[38;5;241m=\u001B[39m\u001B[38;5;241m1\u001B[39m)\n\u001B[0;32m     13\u001B[0m     \u001B[38;5;241m+\u001B[39m theme_bw()\n\u001B[0;32m     14\u001B[0m   \u001B[38;5;241m+\u001B[39m theme(legend_position \u001B[38;5;241m=\u001B[39m(\u001B[38;5;241m.\u001B[39m\u001B[38;5;241m5\u001B[39m, \u001B[38;5;241m-\u001B[39m\u001B[38;5;241m0.06\u001B[39m), legend_direction\u001B[38;5;241m=\u001B[39m\u001B[38;5;124m'\u001B[39m\u001B[38;5;124mhorizontal\u001B[39m\u001B[38;5;124m'\u001B[39m, legend_title_align\u001B[38;5;241m=\u001B[39m\u001B[38;5;124m\"\u001B[39m\u001B[38;5;124mcenter\u001B[39m\u001B[38;5;124m\"\u001B[39m, panel_grid\u001B[38;5;241m=\u001B[39melement_line(color\u001B[38;5;241m=\u001B[39m\u001B[38;5;124m\"\u001B[39m\u001B[38;5;124mlightgrey\u001B[39m\u001B[38;5;124m\"\u001B[39m))\n\u001B[0;32m     15\u001B[0m )\n\u001B[0;32m     16\u001B[0m   ram_plot \u001B[38;5;241m=\u001B[39m (ggplot(distance_data[filterRAM], aes(x\u001B[38;5;241m=\u001B[39mfunction, color\u001B[38;5;241m=\u001B[39m\u001B[38;5;124m'\u001B[39m\u001B[38;5;124mfunction2\u001B[39m\u001B[38;5;124m'\u001B[39m, fill\u001B[38;5;241m=\u001B[39m\u001B[38;5;124m'\u001B[39m\u001B[38;5;124mfunction2\u001B[39m\u001B[38;5;124m'\u001B[39m))\n\u001B[0;32m     17\u001B[0m   \u001B[38;5;241m+\u001B[39m geom_density(alpha\u001B[38;5;241m=\u001B[39m\u001B[38;5;241m0.1\u001B[39m)\n\u001B[0;32m     18\u001B[0m   \u001B[38;5;241m+\u001B[39m facet_wrap(\u001B[38;5;124m'\u001B[39m\u001B[38;5;124mfunction1\u001B[39m\u001B[38;5;124m'\u001B[39m, ncol\u001B[38;5;241m=\u001B[39m\u001B[38;5;241m1\u001B[39m)\n\u001B[0;32m     19\u001B[0m   \u001B[38;5;241m+\u001B[39m theme_bw()\n\u001B[0;32m     20\u001B[0m   \u001B[38;5;241m+\u001B[39m theme(legend_position \u001B[38;5;241m=\u001B[39m(\u001B[38;5;241m.\u001B[39m\u001B[38;5;241m5\u001B[39m, \u001B[38;5;241m-\u001B[39m\u001B[38;5;241m0.06\u001B[39m), legend_direction\u001B[38;5;241m=\u001B[39m\u001B[38;5;124m'\u001B[39m\u001B[38;5;124mhorizontal\u001B[39m\u001B[38;5;124m'\u001B[39m, legend_title_align\u001B[38;5;241m=\u001B[39m\u001B[38;5;124m\"\u001B[39m\u001B[38;5;124mcenter\u001B[39m\u001B[38;5;124m\"\u001B[39m, panel_grid\u001B[38;5;241m=\u001B[39melement_line(color\u001B[38;5;241m=\u001B[39m\u001B[38;5;124m\"\u001B[39m\u001B[38;5;124mlightgrey\u001B[39m\u001B[38;5;124m\"\u001B[39m))\n\u001B[0;32m     21\u001B[0m   )\n\u001B[1;32m---> 23\u001B[0m   \u001B[43mggsave\u001B[49m\u001B[43m(\u001B[49m\u001B[43mplot\u001B[49m\u001B[38;5;241;43m=\u001B[39;49m\u001B[43mcpu_plot\u001B[49m\u001B[43m,\u001B[49m\u001B[43m \u001B[49m\u001B[43mfilename\u001B[49m\u001B[38;5;241;43m=\u001B[39;49m\u001B[38;5;124;43mf\u001B[39;49m\u001B[38;5;124;43m\"\u001B[39;49m\u001B[38;5;124;43m../Plots/similarities/plots/cpu_\u001B[39;49m\u001B[38;5;124;43m\"\u001B[39;49m\u001B[38;5;241;43m+\u001B[39;49m\u001B[43mfunction_file_name\u001B[49m\u001B[38;5;241;43m+\u001B[39;49m\u001B[38;5;124;43m\"\u001B[39;49m\u001B[38;5;124;43m_\u001B[39;49m\u001B[38;5;124;43m\"\u001B[39;49m\u001B[38;5;241;43m+\u001B[39;49m\u001B[43mdata_state\u001B[49m\u001B[38;5;241;43m+\u001B[39;49m\u001B[38;5;124;43m\"\u001B[39;49m\u001B[38;5;124;43m.pdf\u001B[39;49m\u001B[38;5;124;43m\"\u001B[39;49m\u001B[43m,\u001B[49m\u001B[43m \u001B[49m\u001B[43mdpi\u001B[49m\u001B[38;5;241;43m=\u001B[39;49m\u001B[38;5;241;43m1000\u001B[39;49m\u001B[43m)\u001B[49m\n\u001B[0;32m     24\u001B[0m   ggsave(plot\u001B[38;5;241m=\u001B[39mram_plot, filename\u001B[38;5;241m=\u001B[39m\u001B[38;5;124mf\u001B[39m\u001B[38;5;124m\"\u001B[39m\u001B[38;5;124m../Plots/similarities/plots/ram_\u001B[39m\u001B[38;5;124m\"\u001B[39m\u001B[38;5;241m+\u001B[39mfunction_file_name\u001B[38;5;241m+\u001B[39m\u001B[38;5;124m\"\u001B[39m\u001B[38;5;124m_\u001B[39m\u001B[38;5;124m\"\u001B[39m\u001B[38;5;241m+\u001B[39mdata_state\u001B[38;5;241m+\u001B[39m\u001B[38;5;124m\"\u001B[39m\u001B[38;5;124m.pdf\u001B[39m\u001B[38;5;124m\"\u001B[39m, dpi\u001B[38;5;241m=\u001B[39m\u001B[38;5;241m1000\u001B[39m)\n",
      "File \u001B[1;32m~\\Projekty\\MagisterkaVenv\\venv\\lib\\site-packages\\plotnine\\ggplot.py:739\u001B[0m, in \u001B[0;36mggsave\u001B[1;34m(plot, *arg, **kwargs)\u001B[0m\n\u001B[0;32m    733\u001B[0m \u001B[38;5;28;01mdef\u001B[39;00m \u001B[38;5;21mggsave\u001B[39m(plot, \u001B[38;5;241m*\u001B[39marg, \u001B[38;5;241m*\u001B[39m\u001B[38;5;241m*\u001B[39mkwargs):\n\u001B[0;32m    734\u001B[0m     \u001B[38;5;124;03m\"\"\"\u001B[39;00m\n\u001B[0;32m    735\u001B[0m \u001B[38;5;124;03m    Save a ggplot object as an image file\u001B[39;00m\n\u001B[0;32m    736\u001B[0m \n\u001B[0;32m    737\u001B[0m \u001B[38;5;124;03m    Use :meth:`ggplot.save` instead\u001B[39;00m\n\u001B[0;32m    738\u001B[0m \u001B[38;5;124;03m    \"\"\"\u001B[39;00m\n\u001B[1;32m--> 739\u001B[0m     \u001B[38;5;28;01mreturn\u001B[39;00m plot\u001B[38;5;241m.\u001B[39msave(\u001B[38;5;241m*\u001B[39marg, \u001B[38;5;241m*\u001B[39m\u001B[38;5;241m*\u001B[39mkwargs)\n",
      "File \u001B[1;32m~\\Projekty\\MagisterkaVenv\\venv\\lib\\site-packages\\plotnine\\ggplot.py:727\u001B[0m, in \u001B[0;36mggplot.save\u001B[1;34m(self, filename, format, path, width, height, units, dpi, limitsize, verbose, **kwargs)\u001B[0m\n\u001B[0;32m    724\u001B[0m \u001B[38;5;28;01mif\u001B[39;00m dpi \u001B[38;5;129;01mis\u001B[39;00m \u001B[38;5;129;01mnot\u001B[39;00m \u001B[38;5;28;01mNone\u001B[39;00m:\n\u001B[0;32m    725\u001B[0m     \u001B[38;5;28mself\u001B[39m\u001B[38;5;241m.\u001B[39mtheme \u001B[38;5;241m=\u001B[39m \u001B[38;5;28mself\u001B[39m\u001B[38;5;241m.\u001B[39mtheme \u001B[38;5;241m+\u001B[39m theme(dpi\u001B[38;5;241m=\u001B[39mdpi)\n\u001B[1;32m--> 727\u001B[0m fig, p \u001B[38;5;241m=\u001B[39m \u001B[38;5;28;43mself\u001B[39;49m\u001B[38;5;241;43m.\u001B[39;49m\u001B[43mdraw\u001B[49m\u001B[43m(\u001B[49m\u001B[43mreturn_ggplot\u001B[49m\u001B[38;5;241;43m=\u001B[39;49m\u001B[38;5;28;43;01mTrue\u001B[39;49;00m\u001B[43m)\u001B[49m\n\u001B[0;32m    728\u001B[0m \u001B[38;5;28;01mwith\u001B[39;00m plot_context(p):\n\u001B[0;32m    729\u001B[0m     fig\u001B[38;5;241m.\u001B[39msavefig(filename, \u001B[38;5;241m*\u001B[39m\u001B[38;5;241m*\u001B[39mfig_kwargs)\n",
      "File \u001B[1;32m~\\Projekty\\MagisterkaVenv\\venv\\lib\\site-packages\\plotnine\\ggplot.py:205\u001B[0m, in \u001B[0;36mggplot.draw\u001B[1;34m(self, return_ggplot, show)\u001B[0m\n\u001B[0;32m    203\u001B[0m \u001B[38;5;28mself\u001B[39m \u001B[38;5;241m=\u001B[39m deepcopy(\u001B[38;5;28mself\u001B[39m)\n\u001B[0;32m    204\u001B[0m \u001B[38;5;28;01mwith\u001B[39;00m plot_context(\u001B[38;5;28mself\u001B[39m, show\u001B[38;5;241m=\u001B[39mshow):\n\u001B[1;32m--> 205\u001B[0m     \u001B[38;5;28;43mself\u001B[39;49m\u001B[38;5;241;43m.\u001B[39;49m\u001B[43m_build\u001B[49m\u001B[43m(\u001B[49m\u001B[43m)\u001B[49m\n\u001B[0;32m    207\u001B[0m     \u001B[38;5;66;03m# setup\u001B[39;00m\n\u001B[0;32m    208\u001B[0m     figure, axs \u001B[38;5;241m=\u001B[39m \u001B[38;5;28mself\u001B[39m\u001B[38;5;241m.\u001B[39m_create_figure()\n",
      "File \u001B[1;32m~\\Projekty\\MagisterkaVenv\\venv\\lib\\site-packages\\plotnine\\ggplot.py:300\u001B[0m, in \u001B[0;36mggplot._build\u001B[1;34m(self)\u001B[0m\n\u001B[0;32m    297\u001B[0m layout\u001B[38;5;241m.\u001B[39mmap_position(layers)\n\u001B[0;32m    299\u001B[0m \u001B[38;5;66;03m# Apply and map statistics\u001B[39;00m\n\u001B[1;32m--> 300\u001B[0m \u001B[43mlayers\u001B[49m\u001B[38;5;241;43m.\u001B[39;49m\u001B[43mcompute_statistic\u001B[49m\u001B[43m(\u001B[49m\u001B[43mlayout\u001B[49m\u001B[43m)\u001B[49m\n\u001B[0;32m    301\u001B[0m layers\u001B[38;5;241m.\u001B[39mmap_statistic(\u001B[38;5;28mself\u001B[39m)\n\u001B[0;32m    303\u001B[0m \u001B[38;5;66;03m# Make sure missing (but required) aesthetics are added\u001B[39;00m\n",
      "File \u001B[1;32m~\\Projekty\\MagisterkaVenv\\venv\\lib\\site-packages\\plotnine\\layer.py:73\u001B[0m, in \u001B[0;36mLayers.compute_statistic\u001B[1;34m(self, layout)\u001B[0m\n\u001B[0;32m     71\u001B[0m \u001B[38;5;28;01mdef\u001B[39;00m \u001B[38;5;21mcompute_statistic\u001B[39m(\u001B[38;5;28mself\u001B[39m, layout):\n\u001B[0;32m     72\u001B[0m     \u001B[38;5;28;01mfor\u001B[39;00m l \u001B[38;5;129;01min\u001B[39;00m \u001B[38;5;28mself\u001B[39m:\n\u001B[1;32m---> 73\u001B[0m         \u001B[43ml\u001B[49m\u001B[38;5;241;43m.\u001B[39;49m\u001B[43mcompute_statistic\u001B[49m\u001B[43m(\u001B[49m\u001B[43mlayout\u001B[49m\u001B[43m)\u001B[49m\n",
      "File \u001B[1;32m~\\Projekty\\MagisterkaVenv\\venv\\lib\\site-packages\\plotnine\\layer.py:324\u001B[0m, in \u001B[0;36mlayer.compute_statistic\u001B[1;34m(self, layout)\u001B[0m\n\u001B[0;32m    322\u001B[0m data \u001B[38;5;241m=\u001B[39m \u001B[38;5;28mself\u001B[39m\u001B[38;5;241m.\u001B[39mstat\u001B[38;5;241m.\u001B[39muse_defaults(data)\n\u001B[0;32m    323\u001B[0m data \u001B[38;5;241m=\u001B[39m \u001B[38;5;28mself\u001B[39m\u001B[38;5;241m.\u001B[39mstat\u001B[38;5;241m.\u001B[39msetup_data(data)\n\u001B[1;32m--> 324\u001B[0m data \u001B[38;5;241m=\u001B[39m \u001B[38;5;28;43mself\u001B[39;49m\u001B[38;5;241;43m.\u001B[39;49m\u001B[43mstat\u001B[49m\u001B[38;5;241;43m.\u001B[39;49m\u001B[43mcompute_layer\u001B[49m\u001B[43m(\u001B[49m\u001B[43mdata\u001B[49m\u001B[43m,\u001B[49m\u001B[43m \u001B[49m\u001B[43mparams\u001B[49m\u001B[43m,\u001B[49m\u001B[43m \u001B[49m\u001B[43mlayout\u001B[49m\u001B[43m)\u001B[49m\n\u001B[0;32m    325\u001B[0m \u001B[38;5;28mself\u001B[39m\u001B[38;5;241m.\u001B[39mdata \u001B[38;5;241m=\u001B[39m data\n",
      "File \u001B[1;32m~\\Projekty\\MagisterkaVenv\\venv\\lib\\site-packages\\plotnine\\stats\\stat.py:276\u001B[0m, in \u001B[0;36mstat.compute_layer\u001B[1;34m(cls, data, params, layout)\u001B[0m\n\u001B[0;32m    273\u001B[0m     pscales \u001B[38;5;241m=\u001B[39m layout\u001B[38;5;241m.\u001B[39mget_scales(pdata[\u001B[38;5;124m'\u001B[39m\u001B[38;5;124mPANEL\u001B[39m\u001B[38;5;124m'\u001B[39m]\u001B[38;5;241m.\u001B[39miat[\u001B[38;5;241m0\u001B[39m])\n\u001B[0;32m    274\u001B[0m     \u001B[38;5;28;01mreturn\u001B[39;00m \u001B[38;5;28mcls\u001B[39m\u001B[38;5;241m.\u001B[39mcompute_panel(pdata, pscales, \u001B[38;5;241m*\u001B[39m\u001B[38;5;241m*\u001B[39mparams)\n\u001B[1;32m--> 276\u001B[0m \u001B[38;5;28;01mreturn\u001B[39;00m \u001B[43mgroupby_apply\u001B[49m\u001B[43m(\u001B[49m\u001B[43mdata\u001B[49m\u001B[43m,\u001B[49m\u001B[43m \u001B[49m\u001B[38;5;124;43m'\u001B[39;49m\u001B[38;5;124;43mPANEL\u001B[39;49m\u001B[38;5;124;43m'\u001B[39;49m\u001B[43m,\u001B[49m\u001B[43m \u001B[49m\u001B[43mfn\u001B[49m\u001B[43m)\u001B[49m\n",
      "File \u001B[1;32m~\\Projekty\\MagisterkaVenv\\venv\\lib\\site-packages\\plotnine\\utils.py:634\u001B[0m, in \u001B[0;36mgroupby_apply\u001B[1;34m(df, cols, func, *args, **kwargs)\u001B[0m\n\u001B[0;32m    630\u001B[0m lst \u001B[38;5;241m=\u001B[39m []\n\u001B[0;32m    631\u001B[0m \u001B[38;5;28;01mfor\u001B[39;00m _, d \u001B[38;5;129;01min\u001B[39;00m df\u001B[38;5;241m.\u001B[39mgroupby(cols):\n\u001B[0;32m    632\u001B[0m     \u001B[38;5;66;03m# function fn should be free to modify dataframe d, therefore\u001B[39;00m\n\u001B[0;32m    633\u001B[0m     \u001B[38;5;66;03m# do not mark d as a slice of df i.e no SettingWithCopyWarning\u001B[39;00m\n\u001B[1;32m--> 634\u001B[0m     lst\u001B[38;5;241m.\u001B[39mappend(func(d, \u001B[38;5;241m*\u001B[39margs, \u001B[38;5;241m*\u001B[39m\u001B[38;5;241m*\u001B[39mkwargs))\n\u001B[0;32m    635\u001B[0m \u001B[38;5;28;01mreturn\u001B[39;00m pd\u001B[38;5;241m.\u001B[39mconcat(lst, axis\u001B[38;5;241m=\u001B[39maxis, ignore_index\u001B[38;5;241m=\u001B[39m\u001B[38;5;28;01mTrue\u001B[39;00m)\n",
      "File \u001B[1;32m~\\Projekty\\MagisterkaVenv\\venv\\lib\\site-packages\\plotnine\\stats\\stat.py:274\u001B[0m, in \u001B[0;36mstat.compute_layer.<locals>.fn\u001B[1;34m(pdata)\u001B[0m\n\u001B[0;32m    272\u001B[0m     \u001B[38;5;28;01mreturn\u001B[39;00m pdata\n\u001B[0;32m    273\u001B[0m pscales \u001B[38;5;241m=\u001B[39m layout\u001B[38;5;241m.\u001B[39mget_scales(pdata[\u001B[38;5;124m'\u001B[39m\u001B[38;5;124mPANEL\u001B[39m\u001B[38;5;124m'\u001B[39m]\u001B[38;5;241m.\u001B[39miat[\u001B[38;5;241m0\u001B[39m])\n\u001B[1;32m--> 274\u001B[0m \u001B[38;5;28;01mreturn\u001B[39;00m \u001B[38;5;28mcls\u001B[39m\u001B[38;5;241m.\u001B[39mcompute_panel(pdata, pscales, \u001B[38;5;241m*\u001B[39m\u001B[38;5;241m*\u001B[39mparams)\n",
      "File \u001B[1;32m~\\Projekty\\MagisterkaVenv\\venv\\lib\\site-packages\\plotnine\\stats\\stat.py:307\u001B[0m, in \u001B[0;36mstat.compute_panel\u001B[1;34m(cls, data, scales, **params)\u001B[0m\n\u001B[0;32m    305\u001B[0m stats \u001B[38;5;241m=\u001B[39m []\n\u001B[0;32m    306\u001B[0m \u001B[38;5;28;01mfor\u001B[39;00m _, old \u001B[38;5;129;01min\u001B[39;00m data\u001B[38;5;241m.\u001B[39mgroupby(\u001B[38;5;124m'\u001B[39m\u001B[38;5;124mgroup\u001B[39m\u001B[38;5;124m'\u001B[39m):\n\u001B[1;32m--> 307\u001B[0m     new \u001B[38;5;241m=\u001B[39m \u001B[38;5;28mcls\u001B[39m\u001B[38;5;241m.\u001B[39mcompute_group(old, scales, \u001B[38;5;241m*\u001B[39m\u001B[38;5;241m*\u001B[39mparams)\n\u001B[0;32m    308\u001B[0m     unique \u001B[38;5;241m=\u001B[39m uniquecols(old)\n\u001B[0;32m    309\u001B[0m     missing \u001B[38;5;241m=\u001B[39m unique\u001B[38;5;241m.\u001B[39mcolumns\u001B[38;5;241m.\u001B[39mdifference(new\u001B[38;5;241m.\u001B[39mcolumns)\n",
      "File \u001B[1;32m~\\Projekty\\MagisterkaVenv\\venv\\lib\\site-packages\\plotnine\\stats\\stat_density.py:139\u001B[0m, in \u001B[0;36mstat_density.compute_group\u001B[1;34m(cls, data, scales, **params)\u001B[0m\n\u001B[0;32m    136\u001B[0m \u001B[38;5;28;01melse\u001B[39;00m:\n\u001B[0;32m    137\u001B[0m     range_x \u001B[38;5;241m=\u001B[39m scales\u001B[38;5;241m.\u001B[39mx\u001B[38;5;241m.\u001B[39mdimension()\n\u001B[1;32m--> 139\u001B[0m \u001B[38;5;28;01mreturn\u001B[39;00m compute_density(data[\u001B[38;5;124m'\u001B[39m\u001B[38;5;124mx\u001B[39m\u001B[38;5;124m'\u001B[39m], weight, range_x, \u001B[38;5;241m*\u001B[39m\u001B[38;5;241m*\u001B[39mparams)\n",
      "File \u001B[1;32m~\\Projekty\\MagisterkaVenv\\venv\\lib\\site-packages\\plotnine\\stats\\stat_density.py:175\u001B[0m, in \u001B[0;36mcompute_density\u001B[1;34m(x, weight, range, **params)\u001B[0m\n\u001B[0;32m    173\u001B[0m     bw \u001B[38;5;241m=\u001B[39m nrd0(x)\n\u001B[0;32m    174\u001B[0m kde \u001B[38;5;241m=\u001B[39m sm\u001B[38;5;241m.\u001B[39mnonparametric\u001B[38;5;241m.\u001B[39mKDEUnivariate(x)\n\u001B[1;32m--> 175\u001B[0m \u001B[43mkde\u001B[49m\u001B[38;5;241;43m.\u001B[39;49m\u001B[43mfit\u001B[49m\u001B[43m(\u001B[49m\n\u001B[0;32m    176\u001B[0m \u001B[43m    \u001B[49m\u001B[43mkernel\u001B[49m\u001B[38;5;241;43m=\u001B[39;49m\u001B[43mparams\u001B[49m\u001B[43m[\u001B[49m\u001B[38;5;124;43m'\u001B[39;49m\u001B[38;5;124;43mkernel\u001B[39;49m\u001B[38;5;124;43m'\u001B[39;49m\u001B[43m]\u001B[49m\u001B[43m,\u001B[49m\n\u001B[0;32m    177\u001B[0m \u001B[43m    \u001B[49m\u001B[43mbw\u001B[49m\u001B[38;5;241;43m=\u001B[39;49m\u001B[43mbw\u001B[49m\u001B[43m,\u001B[49m\n\u001B[0;32m    178\u001B[0m \u001B[43m    \u001B[49m\u001B[43mfft\u001B[49m\u001B[38;5;241;43m=\u001B[39;49m\u001B[43mfft\u001B[49m\u001B[43m,\u001B[49m\n\u001B[0;32m    179\u001B[0m \u001B[43m    \u001B[49m\u001B[43mweights\u001B[49m\u001B[38;5;241;43m=\u001B[39;49m\u001B[43mweight\u001B[49m\u001B[43m,\u001B[49m\n\u001B[0;32m    180\u001B[0m \u001B[43m    \u001B[49m\u001B[43madjust\u001B[49m\u001B[38;5;241;43m=\u001B[39;49m\u001B[43mparams\u001B[49m\u001B[43m[\u001B[49m\u001B[38;5;124;43m'\u001B[39;49m\u001B[38;5;124;43madjust\u001B[39;49m\u001B[38;5;124;43m'\u001B[39;49m\u001B[43m]\u001B[49m\u001B[43m,\u001B[49m\n\u001B[0;32m    181\u001B[0m \u001B[43m    \u001B[49m\u001B[43mcut\u001B[49m\u001B[38;5;241;43m=\u001B[39;49m\u001B[43mparams\u001B[49m\u001B[43m[\u001B[49m\u001B[38;5;124;43m'\u001B[39;49m\u001B[38;5;124;43mcut\u001B[39;49m\u001B[38;5;124;43m'\u001B[39;49m\u001B[43m]\u001B[49m\u001B[43m,\u001B[49m\n\u001B[0;32m    182\u001B[0m \u001B[43m    \u001B[49m\u001B[43mgridsize\u001B[49m\u001B[38;5;241;43m=\u001B[39;49m\u001B[43mparams\u001B[49m\u001B[43m[\u001B[49m\u001B[38;5;124;43m'\u001B[39;49m\u001B[38;5;124;43mgridsize\u001B[39;49m\u001B[38;5;124;43m'\u001B[39;49m\u001B[43m]\u001B[49m\u001B[43m,\u001B[49m\n\u001B[0;32m    183\u001B[0m \u001B[43m    \u001B[49m\u001B[43mclip\u001B[49m\u001B[38;5;241;43m=\u001B[39;49m\u001B[43mparams\u001B[49m\u001B[43m[\u001B[49m\u001B[38;5;124;43m'\u001B[39;49m\u001B[38;5;124;43mclip\u001B[39;49m\u001B[38;5;124;43m'\u001B[39;49m\u001B[43m]\u001B[49m\u001B[43m)\u001B[49m\n\u001B[0;32m    185\u001B[0m x2 \u001B[38;5;241m=\u001B[39m np\u001B[38;5;241m.\u001B[39mlinspace(\u001B[38;5;28mrange\u001B[39m[\u001B[38;5;241m0\u001B[39m], \u001B[38;5;28mrange\u001B[39m[\u001B[38;5;241m1\u001B[39m], params[\u001B[38;5;124m'\u001B[39m\u001B[38;5;124mn\u001B[39m\u001B[38;5;124m'\u001B[39m])\n\u001B[0;32m    187\u001B[0m \u001B[38;5;28;01mtry\u001B[39;00m:\n",
      "File \u001B[1;32m~\\Projekty\\MagisterkaVenv\\venv\\lib\\site-packages\\statsmodels\\nonparametric\\kde.py:179\u001B[0m, in \u001B[0;36mKDEUnivariate.fit\u001B[1;34m(self, kernel, bw, fft, weights, gridsize, adjust, cut, clip)\u001B[0m\n\u001B[0;32m    168\u001B[0m     density, grid, bw \u001B[38;5;241m=\u001B[39m kdensityfft(\n\u001B[0;32m    169\u001B[0m         endog,\n\u001B[0;32m    170\u001B[0m         kernel\u001B[38;5;241m=\u001B[39mkernel,\n\u001B[1;32m   (...)\u001B[0m\n\u001B[0;32m    176\u001B[0m         cut\u001B[38;5;241m=\u001B[39mcut,\n\u001B[0;32m    177\u001B[0m     )\n\u001B[0;32m    178\u001B[0m \u001B[38;5;28;01melse\u001B[39;00m:\n\u001B[1;32m--> 179\u001B[0m     density, grid, bw \u001B[38;5;241m=\u001B[39m \u001B[43mkdensity\u001B[49m\u001B[43m(\u001B[49m\n\u001B[0;32m    180\u001B[0m \u001B[43m        \u001B[49m\u001B[43mendog\u001B[49m\u001B[43m,\u001B[49m\n\u001B[0;32m    181\u001B[0m \u001B[43m        \u001B[49m\u001B[43mkernel\u001B[49m\u001B[38;5;241;43m=\u001B[39;49m\u001B[43mkernel\u001B[49m\u001B[43m,\u001B[49m\n\u001B[0;32m    182\u001B[0m \u001B[43m        \u001B[49m\u001B[43mbw\u001B[49m\u001B[38;5;241;43m=\u001B[39;49m\u001B[43mbw\u001B[49m\u001B[43m,\u001B[49m\n\u001B[0;32m    183\u001B[0m \u001B[43m        \u001B[49m\u001B[43madjust\u001B[49m\u001B[38;5;241;43m=\u001B[39;49m\u001B[43madjust\u001B[49m\u001B[43m,\u001B[49m\n\u001B[0;32m    184\u001B[0m \u001B[43m        \u001B[49m\u001B[43mweights\u001B[49m\u001B[38;5;241;43m=\u001B[39;49m\u001B[43mweights\u001B[49m\u001B[43m,\u001B[49m\n\u001B[0;32m    185\u001B[0m \u001B[43m        \u001B[49m\u001B[43mgridsize\u001B[49m\u001B[38;5;241;43m=\u001B[39;49m\u001B[43mgridsize\u001B[49m\u001B[43m,\u001B[49m\n\u001B[0;32m    186\u001B[0m \u001B[43m        \u001B[49m\u001B[43mclip\u001B[49m\u001B[38;5;241;43m=\u001B[39;49m\u001B[43mclip\u001B[49m\u001B[43m,\u001B[49m\n\u001B[0;32m    187\u001B[0m \u001B[43m        \u001B[49m\u001B[43mcut\u001B[49m\u001B[38;5;241;43m=\u001B[39;49m\u001B[43mcut\u001B[49m\u001B[43m,\u001B[49m\n\u001B[0;32m    188\u001B[0m \u001B[43m    \u001B[49m\u001B[43m)\u001B[49m\n\u001B[0;32m    189\u001B[0m \u001B[38;5;28mself\u001B[39m\u001B[38;5;241m.\u001B[39mdensity \u001B[38;5;241m=\u001B[39m density\n\u001B[0;32m    190\u001B[0m \u001B[38;5;28mself\u001B[39m\u001B[38;5;241m.\u001B[39msupport \u001B[38;5;241m=\u001B[39m grid\n",
      "File \u001B[1;32m~\\Projekty\\MagisterkaVenv\\venv\\lib\\site-packages\\statsmodels\\nonparametric\\kde.py:441\u001B[0m, in \u001B[0;36mkdensity\u001B[1;34m(x, kernel, bw, weights, gridsize, adjust, clip, cut, retgrid)\u001B[0m\n\u001B[0;32m    439\u001B[0m     k[domain_mask] \u001B[38;5;241m=\u001B[39m \u001B[38;5;241m0\u001B[39m\n\u001B[0;32m    440\u001B[0m \u001B[38;5;28;01melse\u001B[39;00m:\n\u001B[1;32m--> 441\u001B[0m     k \u001B[38;5;241m=\u001B[39m \u001B[43mkern\u001B[49m\u001B[43m(\u001B[49m\u001B[43mk\u001B[49m\u001B[43m)\u001B[49m  \u001B[38;5;66;03m# estimate density\u001B[39;00m\n\u001B[0;32m    443\u001B[0m k[k \u001B[38;5;241m<\u001B[39m \u001B[38;5;241m0\u001B[39m] \u001B[38;5;241m=\u001B[39m \u001B[38;5;241m0\u001B[39m  \u001B[38;5;66;03m# get rid of any negative values, do we need this?\u001B[39;00m\n\u001B[0;32m    445\u001B[0m dens \u001B[38;5;241m=\u001B[39m np\u001B[38;5;241m.\u001B[39mdot(k, weights) \u001B[38;5;241m/\u001B[39m (q \u001B[38;5;241m*\u001B[39m bw)\n",
      "File \u001B[1;32m~\\Projekty\\MagisterkaVenv\\venv\\lib\\site-packages\\statsmodels\\sandbox\\nonparametric\\kernels.py:409\u001B[0m, in \u001B[0;36mCustomKernel.__call__\u001B[1;34m(self, x)\u001B[0m\n\u001B[0;32m    403\u001B[0m \u001B[38;5;28;01mdef\u001B[39;00m \u001B[38;5;21m__call__\u001B[39m(\u001B[38;5;28mself\u001B[39m, x):\n\u001B[0;32m    404\u001B[0m     \u001B[38;5;124;03m\"\"\"\u001B[39;00m\n\u001B[0;32m    405\u001B[0m \u001B[38;5;124;03m    This simply returns the value of the kernel function at x\u001B[39;00m\n\u001B[0;32m    406\u001B[0m \n\u001B[0;32m    407\u001B[0m \u001B[38;5;124;03m    Does the same as weight if the function is normalised\u001B[39;00m\n\u001B[0;32m    408\u001B[0m \u001B[38;5;124;03m    \"\"\"\u001B[39;00m\n\u001B[1;32m--> 409\u001B[0m     \u001B[38;5;28;01mreturn\u001B[39;00m \u001B[38;5;28;43mself\u001B[39;49m\u001B[38;5;241;43m.\u001B[39;49m\u001B[43m_shape\u001B[49m\u001B[43m(\u001B[49m\u001B[43mx\u001B[49m\u001B[43m)\u001B[49m\n",
      "File \u001B[1;32m~\\Projekty\\MagisterkaVenv\\venv\\lib\\site-packages\\statsmodels\\sandbox\\nonparametric\\kernels.py:520\u001B[0m, in \u001B[0;36mGaussian.__init__.<locals>.<lambda>\u001B[1;34m(x)\u001B[0m\n\u001B[0;32m    518\u001B[0m \u001B[38;5;28;01mdef\u001B[39;00m \u001B[38;5;21m__init__\u001B[39m(\u001B[38;5;28mself\u001B[39m, h\u001B[38;5;241m=\u001B[39m\u001B[38;5;241m1.0\u001B[39m):\n\u001B[0;32m    519\u001B[0m     CustomKernel\u001B[38;5;241m.\u001B[39m\u001B[38;5;21m__init__\u001B[39m(\u001B[38;5;28mself\u001B[39m, shape \u001B[38;5;241m=\u001B[39m \u001B[38;5;28;01mlambda\u001B[39;00m x: \u001B[38;5;241m0.3989422804014327\u001B[39m \u001B[38;5;241m*\u001B[39m\n\u001B[1;32m--> 520\u001B[0m                     np\u001B[38;5;241m.\u001B[39mexp(\u001B[38;5;241;43m-\u001B[39;49m\u001B[43mx\u001B[49m\u001B[38;5;241;43m*\u001B[39;49m\u001B[38;5;241;43m*\u001B[39;49m\u001B[38;5;241;43m2\u001B[39;49m\u001B[38;5;241;43m/\u001B[39;49m\u001B[38;5;241;43m2.0\u001B[39;49m), h \u001B[38;5;241m=\u001B[39m h, domain \u001B[38;5;241m=\u001B[39m \u001B[38;5;28;01mNone\u001B[39;00m, norm \u001B[38;5;241m=\u001B[39m \u001B[38;5;241m1.0\u001B[39m)\n\u001B[0;32m    521\u001B[0m     \u001B[38;5;28mself\u001B[39m\u001B[38;5;241m.\u001B[39m_L2Norm \u001B[38;5;241m=\u001B[39m \u001B[38;5;241m1.0\u001B[39m\u001B[38;5;241m/\u001B[39m(\u001B[38;5;241m2.0\u001B[39m\u001B[38;5;241m*\u001B[39mnp\u001B[38;5;241m.\u001B[39msqrt(np\u001B[38;5;241m.\u001B[39mpi))\n\u001B[0;32m    522\u001B[0m     \u001B[38;5;28mself\u001B[39m\u001B[38;5;241m.\u001B[39m_kernel_var \u001B[38;5;241m=\u001B[39m \u001B[38;5;241m1.0\u001B[39m\n",
      "\u001B[1;31mKeyboardInterrupt\u001B[0m: "
     ]
    }
   ],
   "source": [
    "make_plot('euclidean', distance_df, 'default')\n",
    "make_plot('euclidean', smooth_distance_df, 'smooth')\n",
    "make_plot('euclidean', normalized_distance_df, 'normalized')\n",
    "make_plot('euclidean', normalized_smooth_distance_df, 'normalized_smooth')"
   ]
  },
  {
   "cell_type": "markdown",
   "metadata": {
    "id": "DwzLkQWa7gyz",
    "pycharm": {
     "name": "#%% md\n"
    }
   },
   "source": [
    "### Wykresy gęstości - odległość DTW\n"
   ]
  },
  {
   "cell_type": "code",
   "execution_count": null,
   "metadata": {
    "colab": {
     "base_uri": "https://localhost:8080/"
    },
    "id": "KE0Umaus7gXo",
    "outputId": "faec7b96-8970-4311-e6cf-919f8b2c0bc0",
    "pycharm": {
     "name": "#%%\n"
    }
   },
   "outputs": [],
   "source": [
    "make_plot('dtw-python-distance', distance_df, 'default')\n",
    "make_plot('dtw-python-distance', smooth_distance_df, 'smooth')\n",
    "make_plot('dtw-python-distance', normalized_distance_df, 'normalized')\n",
    "make_plot('dtw-python-distance', normalized_smooth_distance_df, 'normalized_smooth')"
   ]
  },
  {
   "cell_type": "markdown",
   "metadata": {
    "id": "llMq-fya9XDT",
    "pycharm": {
     "name": "#%% md\n"
    }
   },
   "source": [
    "### Wykresy gęstości - odległość LCSS\n"
   ]
  },
  {
   "cell_type": "code",
   "execution_count": null,
   "metadata": {
    "colab": {
     "base_uri": "https://localhost:8080/"
    },
    "id": "5aNFOiHYC-Wg",
    "outputId": "0b43ab27-2f57-40ee-c492-01143f3055bc",
    "pycharm": {
     "name": "#%%\n"
    }
   },
   "outputs": [],
   "source": [
    "make_plot('lcss_distance', distance_df, 'default')\n",
    "make_plot('lcss_distance', smooth_distance_df, 'smooth')"
   ]
  },
  {
   "cell_type": "markdown",
   "metadata": {
    "pycharm": {
     "name": "#%% md\n"
    }
   },
   "source": [
    "### Heatmapy - odległość euklidesowa"
   ]
  },
  {
   "cell_type": "code",
   "execution_count": null,
   "metadata": {
    "colab": {
     "base_uri": "https://localhost:8080/",
     "height": 34
    },
    "id": "HYHZwIfYf71i",
    "outputId": "18658c76-6ea0-4eaa-9891-1d464ba4ea8d",
    "pycharm": {
     "name": "#%%\n"
    }
   },
   "outputs": [],
   "source": [
    "#Default\n",
    "sns.heatmap(pd.crosstab(distance_df.function1, distance_df.function2,\n",
    "                 values=distance_df[filterCPU].euclidean, \n",
    "                 aggfunc='mean').round(2), \n",
    "            cmap=\"flare\", annot=True,  fmt='g')\n",
    "\n",
    "plt.savefig('../SimilaritiesData/heatmaps/heatmap_euclidean_cpu_default.pdf', bbox_inches='tight', dpi=300)\n",
    "plt.clf()\n",
    "\n",
    "sns.heatmap(pd.crosstab(distance_df.function1, distance_df.function2,\n",
    "                 values=distance_df[filterRAM].euclidean, \n",
    "                 aggfunc='mean').round(2), \n",
    "            cmap=\"flare\", annot=True,  fmt='g')\n",
    "plt.savefig('../SimilaritiesData/heatmaps/heatmap_euclidean_ram_default.pdf', bbox_inches='tight', dpi=300)\n",
    "plt.clf()\n",
    "\n",
    "#Smooth\n",
    "sns.heatmap(pd.crosstab(smooth_distance_df.function1, smooth_distance_df.function2,\n",
    "                 values=smooth_distance_df[filterCPU].euclidean, aggfunc='mean').round(2), \n",
    "            cmap=\"flare\", annot=True,  fmt='g')\n",
    "\n",
    "plt.savefig('../SimilaritiesData/heatmaps/heatmap_euclidean_cpu_smooth.pdf', bbox_inches='tight', dpi=300)\n",
    "plt.clf()\n",
    "\n",
    "sns.heatmap(pd.crosstab(smooth_distance_df.function1, smooth_distance_df.function2,\n",
    "                 values=smooth_distance_df[filterRAM].euclidean, aggfunc='mean').round(2), \n",
    "            cmap=\"flare\", annot=True,  fmt='g')\n",
    "\n",
    "plt.savefig('../SimilaritiesData/heatmaps/heatmap_euclidean_ram_smooth.pdf', bbox_inches='tight', dpi=300)\n",
    "plt.clf()\n",
    "\n",
    "#Normalized\n",
    "sns.heatmap(pd.crosstab(normalized_distance_df.function1, normalized_distance_df.function2,\n",
    "                 values=normalized_distance_df[filterCPU].euclidean, aggfunc='mean').round(2), \n",
    "            cmap=\"flare\", annot=True,  fmt='g')\n",
    "\n",
    "plt.savefig('../SimilaritiesData/heatmaps/heatmap_euclidean_cpu_normalized.pdf', bbox_inches='tight', dpi=300)\n",
    "plt.clf()\n",
    "\n",
    "sns.heatmap(pd.crosstab(normalized_distance_df.function1, normalized_distance_df.function2,\n",
    "                 values=normalized_distance_df[filterRAM].euclidean, aggfunc='mean').round(2), \n",
    "            cmap=\"flare\", annot=True,  fmt='g')\n",
    "\n",
    "plt.savefig('../SimilaritiesData/heatmaps/heatmap_euclidean_ram_normalized.pdf', bbox_inches='tight', dpi=300)\n",
    "plt.clf()\n",
    "\n",
    "#Normalized-smooth\n",
    "sns.heatmap(pd.crosstab(normalized_smooth_distance_df.function1, normalized_smooth_distance_df.function2,\n",
    "                 values=normalized_smooth_distance_df[filterCPU].euclidean, aggfunc='mean').round(2), \n",
    "            cmap=\"flare\", annot=True,  fmt='g')\n",
    "\n",
    "plt.savefig('../SimilaritiesData/heatmaps/heatmap_euclidean_cpu_normalized_smooth.pdf', bbox_inches='tight', dpi=300)\n",
    "plt.clf()\n",
    "\n",
    "sns.heatmap(pd.crosstab(normalized_smooth_distance_df.function1, normalized_smooth_distance_df.function2,\n",
    "                 values=normalized_smooth_distance_df[filterRAM].euclidean, aggfunc='mean').round(2), \n",
    "            cmap=\"flare\", annot=True,  fmt='g')\n",
    "\n",
    "plt.savefig('../SimilaritiesData/heatmaps/heatmap_euclidean_ram_normalized_smooth.pdf', bbox_inches='tight', dpi=300)\n",
    "plt.clf()\n"
   ]
  },
  {
   "cell_type": "markdown",
   "metadata": {
    "id": "uP05dTjXwhMl",
    "pycharm": {
     "name": "#%% md\n"
    }
   },
   "source": [
    "### Heatmapy - odległość DTW\n"
   ]
  },
  {
   "cell_type": "code",
   "execution_count": null,
   "metadata": {
    "colab": {
     "base_uri": "https://localhost:8080/",
     "height": 34
    },
    "id": "i7mz7b2NvP5B",
    "outputId": "2888224a-b324-4c5e-b7bb-614dbd6d883b",
    "pycharm": {
     "name": "#%%\n"
    }
   },
   "outputs": [],
   "source": [
    "#Default\n",
    "sns.heatmap(pd.crosstab(distance_df.function1, distance_df.function2,\n",
    "                 values=distance_df[filterCPU]['dtw-python-distance'], \n",
    "                 aggfunc='mean').round(2), \n",
    "            cmap=\"flare\", annot=True,  fmt='g')\n",
    "\n",
    "plt.savefig('../SimilaritiesData/heatmaps/heatmap_dtw_cpu_default.pdf', bbox_inches='tight', dpi=300)\n",
    "plt.clf()\n",
    "\n",
    "sns.heatmap(pd.crosstab(distance_df.function1, distance_df.function2,\n",
    "                 values=distance_df[filterRAM]['dtw-python-distance'], \n",
    "                 aggfunc='mean').round(2), \n",
    "            cmap=\"flare\", annot=True,  fmt='g')\n",
    "plt.savefig('../SimilaritiesData/heatmaps/heatmap_dtw_ram_default.pdf', bbox_inches='tight', dpi=300)\n",
    "plt.clf()\n",
    "\n",
    "#Smooth\n",
    "sns.heatmap(pd.crosstab(smooth_distance_df.function1, smooth_distance_df.function2,\n",
    "                 values=smooth_distance_df[filterCPU]['dtw-python-distance'], aggfunc='mean').round(2), \n",
    "            cmap=\"flare\", annot=True,  fmt='g')\n",
    "\n",
    "plt.savefig('../SimilaritiesData/heatmaps/heatmap_dtw_cpu_smooth.pdf', bbox_inches='tight', dpi=300)\n",
    "plt.clf()\n",
    "\n",
    "sns.heatmap(pd.crosstab(smooth_distance_df.function1, smooth_distance_df.function2,\n",
    "                 values=smooth_distance_df[filterRAM]['dtw-python-distance'], aggfunc='mean').round(2), \n",
    "            cmap=\"flare\", annot=True,  fmt='g')\n",
    "\n",
    "plt.savefig('../SimilaritiesData/heatmaps/heatmap_dtw_ram_smooth.pdf', bbox_inches='tight', dpi=300)\n",
    "plt.clf()\n",
    "\n",
    "#Normalized\n",
    "sns.heatmap(pd.crosstab(normalized_distance_df.function1, normalized_distance_df.function2,\n",
    "                 values=normalized_distance_df[filterCPU]['dtw-python-distance'], aggfunc='mean').round(2), \n",
    "            cmap=\"flare\", annot=True,  fmt='g')\n",
    "\n",
    "plt.savefig('../SimilaritiesData/heatmaps/heatmap_dtw_cpu_normalized.pdf', bbox_inches='tight', dpi=300)\n",
    "plt.clf()\n",
    "\n",
    "sns.heatmap(pd.crosstab(normalized_distance_df.function1, normalized_distance_df.function2,\n",
    "                 values=normalized_distance_df[filterRAM]['dtw-python-distance'], aggfunc='mean').round(2), \n",
    "            cmap=\"flare\", annot=True,  fmt='g')\n",
    "\n",
    "plt.savefig('../SimilaritiesData/heatmaps/heatmap_dtw_ram_normalized.pdf', bbox_inches='tight', dpi=300)\n",
    "plt.clf()\n",
    "\n",
    "#Normalized-smooth\n",
    "sns.heatmap(pd.crosstab(normalized_smooth_distance_df.function1, normalized_smooth_distance_df.function2,\n",
    "                 values=normalized_smooth_distance_df[filterCPU]['dtw-python-distance'], aggfunc='mean').round(2), \n",
    "            cmap=\"flare\", annot=True,  fmt='g')\n",
    "\n",
    "plt.savefig('../SimilaritiesData/heatmaps/heatmap_dtw_cpu_normalized_smooth.pdf', bbox_inches='tight', dpi=300)\n",
    "plt.clf()\n",
    "\n",
    "sns.heatmap(pd.crosstab(normalized_smooth_distance_df.function1, normalized_smooth_distance_df.function2,\n",
    "                 values=normalized_smooth_distance_df[filterRAM]['dtw-python-distance'], aggfunc='mean').round(2), \n",
    "            cmap=\"flare\", annot=True,  fmt='g')\n",
    "\n",
    "plt.savefig('../SimilaritiesData/heatmaps/heatmap_dtw_ram_normalized_smooth.pdf', bbox_inches='tight', dpi=300)\n",
    "plt.clf()\n"
   ]
  },
  {
   "cell_type": "markdown",
   "metadata": {
    "id": "Gn34F6DKwjJA",
    "pycharm": {
     "name": "#%% md\n"
    }
   },
   "source": [
    "### Heatmapy - odległość LCSS\n"
   ]
  },
  {
   "cell_type": "code",
   "execution_count": null,
   "metadata": {
    "colab": {
     "base_uri": "https://localhost:8080/",
     "height": 34
    },
    "id": "ImR1tmbCwfgY",
    "outputId": "59b62c20-f32c-4182-dd43-dcac48e58c24",
    "pycharm": {
     "name": "#%%\n"
    }
   },
   "outputs": [],
   "source": [
    "#Default\n",
    "sns.heatmap(pd.crosstab(distance_df.function1, distance_df.function2,\n",
    "                 values=distance_df[filterCPU]['lcss_distance'], \n",
    "                 aggfunc='mean').round(4), \n",
    "            cmap=\"flare\", annot=True,  fmt='g')\n",
    "\n",
    "plt.savefig('../SimilaritiesData/heatmaps/heatmap_lcss_cpu_default.pdf', bbox_inches='tight', dpi=300)\n",
    "plt.clf()\n",
    "\n",
    "sns.heatmap(pd.crosstab(distance_df.function1, distance_df.function2,\n",
    "                 values=distance_df[filterRAM]['lcss_distance'], \n",
    "                 aggfunc='mean').round(4), \n",
    "            cmap=\"flare\", annot=True,  fmt='g')\n",
    "plt.savefig('../SimilaritiesData/heatmaps/heatmap_lcss_ram_default.pdf', bbox_inches='tight', dpi=300)\n",
    "plt.clf()\n",
    "\n",
    "#Smooth\n",
    "sns.heatmap(pd.crosstab(smooth_distance_df.function1, smooth_distance_df.function2,\n",
    "                 values=smooth_distance_df[filterCPU]['lcss_distance'], aggfunc='mean').round(4), \n",
    "            cmap=\"flare\", annot=True,  fmt='g')\n",
    "\n",
    "plt.savefig('../SimilaritiesData/heatmaps/heatmap_lcss_cpu_smooth.pdf', bbox_inches='tight', dpi=300)\n",
    "plt.clf()\n",
    "\n",
    "sns.heatmap(pd.crosstab(smooth_distance_df.function1, smooth_distance_df.function2,\n",
    "                 values=smooth_distance_df[filterRAM]['lcss_distance'], aggfunc='mean').round(4), \n",
    "            cmap=\"flare\", annot=True,  fmt='g')\n",
    "\n",
    "plt.savefig('../SimilaritiesData/heatmaps/heatmap_lcss_ram_smooth.pdf', bbox_inches='tight', dpi=300)\n",
    "plt.clf()"
   ]
  },
  {
   "cell_type": "markdown",
   "metadata": {
    "id": "pwBF3tawZWWo",
    "pycharm": {
     "name": "#%% md\n"
    }
   },
   "source": [
    "### Analiza odległości dla różnych rozmiarów - odległość euklidesowa CPU"
   ]
  },
  {
   "cell_type": "code",
   "execution_count": null,
   "metadata": {
    "colab": {
     "base_uri": "https://localhost:8080/"
    },
    "id": "A3XEyo9UArQD",
    "outputId": "39534076-e680-436f-d8da-c491ecaed950",
    "pycharm": {
     "name": "#%%\n"
    }
   },
   "outputs": [],
   "source": [
    "size1 = pd.crosstab(distance_df.function1, distance_df.function2,\n",
    "                 values=distance_df[filterCPU & filterSameSize & filterSize1]['euclidean'], \n",
    "                 aggfunc='mean')\n",
    "size2 = pd.crosstab(distance_df.function1, distance_df.function2,\n",
    "                 values=distance_df[filterCPU & filterSameSize & filterSize2]['euclidean'], \n",
    "                 aggfunc='mean')\n",
    "differentSize = pd.crosstab(distance_df.function1, distance_df.function2,\n",
    "                 values=distance_df[filterCPU & filterDifferentSize]['euclidean'], \n",
    "                 aggfunc='mean')\n",
    "sameSize = pd.crosstab(distance_df.function1, distance_df.function2,\n",
    "                 values=distance_df[filterCPU & filterSameSize]['euclidean'], \n",
    "                 aggfunc='mean')\n",
    "\n",
    "size1size2 = size1.subtract(size2).div(size1).mul(100)\n",
    "size1size2 = size1size2.where(size1size2.isna(), size1size2.round(2).astype(str).add('%'))\n",
    "differentSizeSameSize = differentSize.subtract(sameSize).div(differentSize).mul(100)\n",
    "differentSizeSameSize = differentSizeSameSize.where(differentSizeSameSize.isna(), differentSizeSameSize.round(2).astype(str).add('%'))\n",
    "print(size1size2.to_latex())  \n",
    "print(differentSizeSameSize.to_latex())"
   ]
  },
  {
   "cell_type": "markdown",
   "source": [
    "### Analiza odległości dla różnych rozmiarów - odległość euklidesowa RAM\n"
   ],
   "metadata": {
    "collapsed": false,
    "pycharm": {
     "name": "#%% md\n"
    }
   }
  },
  {
   "cell_type": "code",
   "execution_count": null,
   "outputs": [],
   "source": [
    "size1 = pd.crosstab(distance_df.function1, distance_df.function2,\n",
    "                 values=distance_df[filterRAM & filterSameSize & filterSize1]['euclidean'],\n",
    "                 aggfunc='mean')\n",
    "size2 = pd.crosstab(distance_df.function1, distance_df.function2,\n",
    "                 values=distance_df[filterRAM & filterSameSize & filterSize2]['euclidean'],\n",
    "                 aggfunc='mean')\n",
    "differentSize = pd.crosstab(distance_df.function1, distance_df.function2,\n",
    "                 values=distance_df[filterRAM & filterDifferentSize]['euclidean'],\n",
    "                 aggfunc='mean')\n",
    "sameSize = pd.crosstab(distance_df.function1, distance_df.function2,\n",
    "                 values=distance_df[filterRAM & filterSameSize]['euclidean'],\n",
    "                 aggfunc='mean')\n",
    "\n",
    "size1size2 = size1.subtract(size2).div(size1).mul(100)\n",
    "size1size2 = size1size2.where(size1size2.isna(), size1size2.round(2).astype(str).add('%'))\n",
    "differentSizeSameSize = differentSize.subtract(sameSize).div(differentSize).mul(100)\n",
    "differentSizeSameSize = differentSizeSameSize.where(differentSizeSameSize.isna(), differentSizeSameSize.round(2).astype(str).add('%'))\n",
    "print(size1size2.to_latex())\n",
    "print(differentSizeSameSize.to_latex())"
   ],
   "metadata": {
    "collapsed": false,
    "pycharm": {
     "name": "#%%\n"
    }
   }
  },
  {
   "cell_type": "markdown",
   "metadata": {
    "id": "M7wRwFN0ZYB8",
    "pycharm": {
     "name": "#%% md\n"
    }
   },
   "source": [
    "### Analiza odległości dla różnych rozmiarów - odległość DTW CPU\n"
   ]
  },
  {
   "cell_type": "code",
   "execution_count": null,
   "metadata": {
    "colab": {
     "base_uri": "https://localhost:8080/"
    },
    "id": "ie6gIH3AZZBk",
    "outputId": "62f3943b-41b5-4b13-dcda-d898ebc36d86",
    "pycharm": {
     "name": "#%%\n"
    }
   },
   "outputs": [],
   "source": [
    "size1 = pd.crosstab(distance_df.function1, distance_df.function2,\n",
    "                 values=distance_df[filterCPU & filterSameSize & filterSize1]['dtw-python-distance'], \n",
    "                 aggfunc='mean')\n",
    "size2 = pd.crosstab(distance_df.function1, distance_df.function2,\n",
    "                 values=distance_df[filterCPU & filterSameSize & filterSize2]['dtw-python-distance'], \n",
    "                 aggfunc='mean')\n",
    "differentSize = pd.crosstab(distance_df.function1, distance_df.function2,\n",
    "                 values=distance_df[filterCPU & filterDifferentSize]['dtw-python-distance'], \n",
    "                 aggfunc='mean')\n",
    "sameSize = pd.crosstab(distance_df.function1, distance_df.function2,\n",
    "                 values=distance_df[filterCPU & filterSameSize]['dtw-python-distance'], \n",
    "                 aggfunc='mean')\n",
    "\n",
    "size1size2 = size1.subtract(size2).div(size1).mul(100)\n",
    "size1size2 = size1size2.where(size1size2.isna(), size1size2.round(2).astype(str).add('%'))\n",
    "differentSizeSameSize = differentSize.subtract(sameSize).div(differentSize).mul(100)\n",
    "differentSizeSameSize = differentSizeSameSize.where(differentSizeSameSize.isna(), differentSizeSameSize.round(2).astype(str).add('%'))\n",
    "print(size1size2.to_latex())  \n",
    "print(differentSizeSameSize.to_latex())"
   ]
  },
  {
   "cell_type": "markdown",
   "metadata": {
    "pycharm": {
     "name": "#%% md\n"
    }
   },
   "source": [
    "### Analiza odległości dla różnych rozmiarów - odległość DTW RAM\n"
   ]
  },
  {
   "cell_type": "code",
   "execution_count": null,
   "metadata": {
    "colab": {
     "base_uri": "https://localhost:8080/"
    },
    "id": "hCQWh3sja11z",
    "outputId": "79e15780-2f14-4f08-ead6-1d4cb84144f7",
    "pycharm": {
     "name": "#%%\n"
    }
   },
   "outputs": [],
   "source": [
    "size1 = pd.crosstab(distance_df.function1, distance_df.function2,\n",
    "                 values=distance_df[filterRAM & filterSameSize & filterSize1]['dtw-python-distance'], \n",
    "                 aggfunc='mean')\n",
    "size2 = pd.crosstab(distance_df.function1, distance_df.function2,\n",
    "                 values=distance_df[filterRAM & filterSameSize & filterSize2]['dtw-python-distance'], \n",
    "                 aggfunc='mean')\n",
    "differentSize = pd.crosstab(distance_df.function1, distance_df.function2,\n",
    "                 values=distance_df[filterRAM & filterDifferentSize]['dtw-python-distance'], \n",
    "                 aggfunc='mean')\n",
    "sameSize = pd.crosstab(distance_df.function1, distance_df.function2,\n",
    "                 values=distance_df[filterRAM & filterSameSize]['dtw-python-distance'], \n",
    "                 aggfunc='mean')\n",
    "\n",
    "size1size2 = size1.subtract(size2).div(size1).mul(100)\n",
    "size1size2 = size1size2.where(size1size2.isna(), size1size2.round(2).astype(str).add('%'))\n",
    "differentSizeSameSize = differentSize.subtract(sameSize).div(differentSize).mul(100)\n",
    "differentSizeSameSize = differentSizeSameSize.where(differentSizeSameSize.isna(), differentSizeSameSize.round(2).astype(str).add('%'))\n",
    "print(size1size2.to_latex())\n",
    "print(differentSizeSameSize.to_latex())"
   ]
  },
  {
   "cell_type": "markdown",
   "metadata": {
    "pycharm": {
     "name": "#%% md\n"
    }
   },
   "source": [
    "### Analiza odległości dla różnych rozmiarów - odległość LCSS CPU\n"
   ]
  },
  {
   "cell_type": "code",
   "execution_count": null,
   "metadata": {
    "colab": {
     "base_uri": "https://localhost:8080/"
    },
    "id": "ofiERqKvbzhb",
    "outputId": "c3ebf051-cf3c-4742-e34c-c780563b4f1e",
    "pycharm": {
     "name": "#%%\n"
    }
   },
   "outputs": [],
   "source": [
    "size1 = pd.crosstab(distance_df.function1, distance_df.function2,\n",
    "                 values=distance_df[filterCPU & filterSameSize & filterSize1]['lcss_distance'], \n",
    "                 aggfunc='mean')\n",
    "size2 = pd.crosstab(distance_df.function1, distance_df.function2,\n",
    "                 values=distance_df[filterCPU & filterSameSize & filterSize2]['lcss_distance'], \n",
    "                 aggfunc='mean')\n",
    "differentSize = pd.crosstab(distance_df.function1, distance_df.function2,\n",
    "                 values=distance_df[filterCPU & filterDifferentSize]['lcss_distance'], \n",
    "                 aggfunc='mean')\n",
    "sameSize = pd.crosstab(distance_df.function1, distance_df.function2,\n",
    "                 values=distance_df[filterCPU & filterSameSize]['lcss_distance'], \n",
    "                 aggfunc='mean')\n",
    "\n",
    "size1size2 = size1.subtract(size2).div(size1).mul(100)\n",
    "size1size2 = size1size2.where(size1size2.isna(), size1size2.round(2).astype(str).add('%'))\n",
    "differentSizeSameSize = differentSize.subtract(sameSize).div(differentSize).mul(100)\n",
    "differentSizeSameSize = differentSizeSameSize.where(differentSizeSameSize.isna(), differentSizeSameSize.round(2).astype(str).add('%'))\n",
    "print(size1size2.to_latex())  \n",
    "print(differentSizeSameSize.to_latex())"
   ]
  },
  {
   "cell_type": "markdown",
   "metadata": {
    "pycharm": {
     "name": "#%% md\n"
    }
   },
   "source": [
    "### Analiza odległości dla różnych rozmiarów - odległość LCSS RAM\n"
   ]
  },
  {
   "cell_type": "code",
   "execution_count": null,
   "metadata": {
    "colab": {
     "base_uri": "https://localhost:8080/"
    },
    "id": "qAjNmutQcniK",
    "outputId": "f76e4335-7cf7-44a6-ffb5-1db9d80b9a39",
    "pycharm": {
     "name": "#%%\n"
    }
   },
   "outputs": [],
   "source": [
    "size1 = pd.crosstab(distance_df.function1, distance_df.function2,\n",
    "                 values=distance_df[filterRAM & filterSameSize & filterSize1]['lcss_distance'], \n",
    "                 aggfunc='mean')\n",
    "size2 = pd.crosstab(distance_df.function1, distance_df.function2,\n",
    "                 values=distance_df[filterRAM & filterSameSize & filterSize2]['lcss_distance'], \n",
    "                 aggfunc='mean')\n",
    "differentSize = pd.crosstab(distance_df.function1, distance_df.function2,\n",
    "                 values=distance_df[filterRAM & filterDifferentSize]['lcss_distance'], \n",
    "                 aggfunc='mean')\n",
    "sameSize = pd.crosstab(distance_df.function1, distance_df.function2,\n",
    "                 values=distance_df[filterRAM & filterSameSize]['lcss_distance'], \n",
    "                 aggfunc='mean')\n",
    "\n",
    "size1size2 = size1.subtract(size2).div(size1).mul(100)\n",
    "size1size2 = size1size2.where(size1size2.isna(), size1size2.round(2).astype(str).add('%'))\n",
    "differentSizeSameSize = differentSize.subtract(sameSize).div(differentSize).mul(100)\n",
    "differentSizeSameSize = differentSizeSameSize.where(differentSizeSameSize.isna(), differentSizeSameSize.round(2).astype(str).add('%'))\n",
    "print(size1size2.to_latex())  \n",
    "print(differentSizeSameSize.to_latex())"
   ]
  },
  {
   "cell_type": "markdown",
   "metadata": {
    "pycharm": {
     "name": "#%% md\n"
    }
   },
   "source": [
    "### Wykresy gęstości dla DTW - bez wartości odstających"
   ]
  },
  {
   "cell_type": "code",
   "execution_count": null,
   "metadata": {
    "colab": {
     "base_uri": "https://localhost:8080/",
     "height": 234
    },
    "id": "Z8vwW22CN2-e",
    "outputId": "c99b5c30-b63e-4a1b-ac7c-2f9ba7cd73c8",
    "pycharm": {
     "name": "#%%\n"
    }
   },
   "outputs": [],
   "source": [
    "filterDTWValueLessThan5000 = smooth_distance_df[\"dtw-python-distance\"] < 6000\n",
    "\n",
    "plot = (ggplot(smooth_distance_df[filterDTWValueLessThan5000 & filterCPU], aes(x='dtw-python-distance', color='function2', fill='function2'))\n",
    "  + geom_density(alpha=0.1)\n",
    "  + facet_wrap('function1', ncol=1)\n",
    "    + theme_bw()\n",
    "  + theme(legend_position =(.5, -0.06), legend_direction='horizontal', legend_title_align=\"center\", panel_grid=element_line(color=\"lightgrey\"))\n",
    ")\n",
    "ggsave(plot=plot, filename=f\"../Plots/similarities/plots/cpu_dtw_smooth_less_than_5000.pdf\", dpi=1000)"
   ]
  },
  {
   "cell_type": "code",
   "execution_count": null,
   "metadata": {
    "colab": {
     "base_uri": "https://localhost:8080/"
    },
    "id": "PMuKDyL65-5O",
    "outputId": "f7cd5d6e-9cb5-4028-a9f0-eb0eebe16a2b",
    "pycharm": {
     "name": "#%%\n"
    }
   },
   "outputs": [],
   "source": [
    "filterDTWValueLessThan1500 = distance_df[\"dtw-python-distance\"] < 1500\n",
    "\n",
    "plot = (ggplot(distance_df[filterDTWValueLessThan1500 & filterRAM], aes(x='dtw-python-distance', color='function2', fill='function2'))\n",
    "  + geom_density(alpha=0.1)\n",
    "  + facet_wrap('function1', ncol=1)\n",
    "    + theme_bw()\n",
    "  + theme(legend_position =(.5, -0.06), legend_direction='horizontal', legend_title_align=\"center\", panel_grid=element_line(color=\"lightgrey\"))\n",
    ")\n",
    "ggsave(plot=plot, filename=f\"../Plots/similarities/plots/ram_dtw_less_than_1500.pdf\", dpi=1000)"
   ]
  },
  {
   "cell_type": "code",
   "execution_count": null,
   "outputs": [],
   "source": [
    "\n",
    "filterDTWValueLessThan10000 = distance_df[\"dtw-python-distance\"] < 10000\n",
    "\n",
    "\n",
    "plot = (ggplot(distance_df[filterDTWValueLessThan10000 & filterCPU], aes(x='dtw-python-distance', color='function2', fill='function2'))\n",
    "   + geom_density(alpha=0.1)\n",
    "    + facet_wrap('function1', ncol=1)\n",
    "    + theme_bw()\n",
    "  + theme(legend_position =(.5, -0.06), legend_direction='horizontal', legend_title_align=\"center\", panel_grid=element_line(color=\"lightgrey\"))\n",
    ")\n",
    "ggsave(plot=plot, filename=f\"../Plots/similarities/plots/cpu_dtw_less_than_10000.pdf\", dpi=1000)"
   ],
   "metadata": {
    "collapsed": false,
    "pycharm": {
     "name": "#%%\n"
    }
   }
  }
 ],
 "metadata": {
  "colab": {
   "collapsed_sections": [],
   "name": "5_distance_analysis.ipynb",
   "provenance": []
  },
  "kernelspec": {
   "display_name": "Python 3 (ipykernel)",
   "language": "python",
   "name": "python3"
  },
  "language_info": {
   "codemirror_mode": {
    "name": "ipython",
    "version": 3
   },
   "file_extension": ".py",
   "mimetype": "text/x-python",
   "name": "python",
   "nbconvert_exporter": "python",
   "pygments_lexer": "ipython3",
   "version": "3.9.0"
  }
 },
 "nbformat": 4,
 "nbformat_minor": 1
}