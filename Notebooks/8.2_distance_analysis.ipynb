{
 "cells": [
  {
   "cell_type": "markdown",
   "metadata": {
    "pycharm": {
     "name": "#%% md\n"
    }
   },
   "source": [
    "# Notatnik analizujący obliczone odległości między szeregami\n"
   ]
  },
  {
   "cell_type": "markdown",
   "metadata": {
    "pycharm": {
     "name": "#%% md\n"
    }
   },
   "source": [
    "### Import bibliotek"
   ]
  },
  {
   "cell_type": "code",
   "execution_count": null,
   "metadata": {
    "id": "0FnhX4HIRvyV",
    "pycharm": {
     "name": "#%%\n"
    }
   },
   "outputs": [],
   "source": [
    "import pandas as pd\n",
    "pd.options.mode.chained_assignment = None  # default='warn'\n",
    "from plotnine import ggplot, aes, geom_density, ggsave, facet_wrap, theme_bw\n",
    "import seaborn as sns\n",
    "import matplotlib.pyplot as plt\n",
    "import warnings\n",
    "warnings.filterwarnings('ignore')\n",
    "import os\n",
    "import zipfile"
   ]
  },
  {
   "cell_type": "markdown",
   "metadata": {
    "collapsed": false,
    "pycharm": {
     "name": "#%% md\n"
    }
   },
   "source": [
    "### Pobranie danych z zipa jeżeli folder nie istnieje"
   ]
  },
  {
   "cell_type": "code",
   "execution_count": null,
   "metadata": {
    "collapsed": false,
    "pycharm": {
     "name": "#%%\n"
    }
   },
   "outputs": [],
   "source": [
    "path = \"../SimilaritiesData/\"\n",
    "if not os.path.exists(path):\n",
    "  os.makedirs(path)\n",
    "  with zipfile.ZipFile('../SimilaritiesData.zip', 'r') as zip_ref:\n",
    "    zip_ref.extractall(\"../\")"
   ]
  },
  {
   "cell_type": "markdown",
   "metadata": {
    "pycharm": {
     "name": "#%% md\n"
    }
   },
   "source": [
    "### Odczyt odległości z plików"
   ]
  },
  {
   "cell_type": "code",
   "execution_count": null,
   "metadata": {
    "id": "1cjXWjS1sK-d",
    "pycharm": {
     "name": "#%%\n"
    }
   },
   "outputs": [],
   "source": [
    "smooth_distance_df = pd.read_csv(\"../SimilaritiesData/smooth_comparison_distance_all.csv\")\n",
    "normalized_distance_df = pd.read_csv(\"../SimilaritiesData/normalized_comparison_distance_all.csv\")\n",
    "distance_df = pd.read_csv(\"../SimilaritiesData/comparison_distance_all.csv\")\n",
    "normalized_smooth_distance_df = pd.read_csv(\"../SimilaritiesData/normalized_smooth_comparison_distance_all.csv\")\n",
    "\n",
    "smooth_distance_df.reset_index(drop=True, inplace=True)\n",
    "normalized_distance_df.reset_index(drop=True, inplace=True)\n",
    "distance_df.reset_index(drop=True, inplace=True)\n",
    "normalized_smooth_distance_df.reset_index(drop=True, inplace=True)"
   ]
  },
  {
   "cell_type": "markdown",
   "metadata": {
    "pycharm": {
     "name": "#%% md\n"
    }
   },
   "source": []
  },
  {
   "cell_type": "code",
   "execution_count": null,
   "metadata": {
    "id": "8otiu9GbZhhc",
    "pycharm": {
     "name": "#%%\n"
    }
   },
   "outputs": [],
   "source": [
    "def clean(distance_data):\n",
    "  distance_data['same_functions'] = distance_data['function1'] == distance_data['function2']\n",
    "  distance_data['same_udf'] = distance_data['udf1'] == distance_data['udf2']\n",
    "  distance_data['lcss_distance'] = 1 - distance_data['lcss_similarity']\n",
    "  distance_data.drop(distance_data[distance_data.snapshot1 == distance_data.snapshot2].index, inplace=True)\n",
    "  distance_data[\"function1\"].replace({\"filtration\": \"filtering\",\n",
    "                                    \"filtration-aggregation\": \"filtering-aggregation\",\n",
    "                                     \"filtration-aggregation-join\": \"filtering-aggregation-join\",\n",
    "                                    \"filtration-join\": \"filtering-join\"}, inplace=True)\n",
    "  distance_data[\"function2\"].replace({\"filtration\": \"filtering\",\n",
    "                                    \"filtration-aggregation\": \"filtering-aggregation\",\n",
    "                                    \"filtration-aggregation-join\": \"filtering-aggregation-join\",\n",
    "                                    \"filtration-join\": \"filtering-join\"}, inplace=True)\n",
    "\n",
    "  return distance_data"
   ]
  },
  {
   "cell_type": "code",
   "execution_count": null,
   "metadata": {
    "colab": {
     "base_uri": "https://localhost:8080/",
     "height": 522
    },
    "id": "js6fdYf1Rvyi",
    "outputId": "c60d0188-eb14-4f94-b22a-f9ac17f0a4c2",
    "pycharm": {
     "name": "#%%\n"
    }
   },
   "outputs": [],
   "source": [
    "distance_df = clean(distance_df)\n",
    "normalized_distance_df = clean(normalized_distance_df)\n",
    "smooth_distance_df = clean(smooth_distance_df)\n",
    "normalized_smooth_distance_df = clean(normalized_smooth_distance_df)"
   ]
  },
  {
   "cell_type": "markdown",
   "metadata": {
    "id": "amW8rYlfRvyj",
    "pycharm": {
     "name": "#%% md\n"
    }
   },
   "source": [
    " ### Utworzenie filtrów"
   ]
  },
  {
   "cell_type": "code",
   "execution_count": null,
   "metadata": {
    "id": "-0XonGrURvyl",
    "pycharm": {
     "name": "#%%\n"
    }
   },
   "outputs": [],
   "source": [
    "filterCPU = distance_df[\"dataType\"]==\"CPU\"\n",
    "filterRAM = distance_df[\"dataType\"]==\"RAM\"\n",
    "filterDifferent = distance_df[\"function1\"]!=distance_df[\"function2\"]\n",
    "filterSame = distance_df[\"function1\"]==distance_df[\"function2\"]\n",
    "filterDifferentSize = distance_df[\"size1\"]!=distance_df[\"size2\"]\n",
    "filterSameSize = distance_df[\"size1\"]==distance_df[\"size2\"]\n",
    "filterSize1 = distance_df[\"size1\"]==1\n",
    "filterSize2 = distance_df[\"size2\"]==2\n",
    "filterDTWValueMoreThan1000 = distance_df[\"dtw-python-distance\"] > 1000\n",
    "\n",
    "filterAggregation1 = distance_df[\"function1\"]==\"aggregation\"\n",
    "filterAggregation2 = distance_df[\"function2\"]==\"aggregation\"\n",
    "filterFiltration1 = distance_df[\"function1\"]==\"filtration\"\n",
    "filterFiltration2 = distance_df[\"function2\"]==\"filtration\"\n",
    "filterFiltrationAggregation1 = distance_df[\"function1\"]==\"filtration-aggregation\"\n",
    "filterFiltrationAggregation2 = distance_df[\"function2\"]==\"filtration-aggregation\"\n",
    "filterFiltrationAggregationJoin1 = distance_df[\"function1\"]==\"filtration-aggregation-join\"\n",
    "filterFiltrationAggregationJoin2 = distance_df[\"function2\"]==\"filtration-aggregation-join\"\n",
    "filterFiltrationJoin1 = distance_df[\"function1\"]==\"filtration-join\"\n",
    "filterFiltrationJoin2 = distance_df[\"function2\"]==\"filtration-join\""
   ]
  },
  {
   "cell_type": "markdown",
   "metadata": {
    "collapsed": false,
    "pycharm": {
     "name": "#%% md\n"
    }
   },
   "source": [
    "Utworzenie folderu na wyniki"
   ]
  },
  {
   "cell_type": "code",
   "execution_count": null,
   "metadata": {
    "collapsed": false,
    "pycharm": {
     "name": "#%%\n"
    }
   },
   "outputs": [],
   "source": [
    "pathSimilarities = \"../Plots/similarities/plots\"\n",
    "pathHeatmaps = \"../Plots/similarities/heatmaps\"\n",
    "if not os.path.exists(pathSimilarities):\n",
    "  os.makedirs(pathSimilarities)\n",
    "if not os.path.exists(pathHeatmaps):\n",
    "  os.makedirs(pathHeatmaps)"
   ]
  },
  {
   "cell_type": "markdown",
   "metadata": {
    "collapsed": false,
    "pycharm": {
     "name": "#%% md\n"
    }
   },
   "source": [
    "### Funkcja tworząca wykresy gęstości"
   ]
  },
  {
   "cell_type": "code",
   "execution_count": null,
   "metadata": {
    "id": "J-BWnmn__LGj",
    "pycharm": {
     "name": "#%%\n"
    }
   },
   "outputs": [],
   "source": [
    "from plotnine.themes.themeable import legend_position\n",
    "from plotnine import theme, element_line\n",
    "\n",
    "\n",
    "def make_plot(function, distance_data, data_state):\n",
    "  function_file_name = ''\n",
    "  if function == 'euclidean': function_file_name = 'euclidean'\n",
    "  if function == 'dtw-python-distance': function_file_name = 'dtw'\n",
    "  if function == 'lcss_distance': function_file_name = 'lcss'\n",
    "  cpu_plot = (ggplot(distance_data[filterCPU], aes(x=function, color='function2', fill='function2'))\n",
    "  + geom_density(alpha=0.1)\n",
    "  + facet_wrap('function1', ncol=1)\n",
    "    + theme_bw()\n",
    "  + theme(legend_position =(.5, -0.06), legend_direction='horizontal', legend_title_align=\"center\", panel_grid=element_line(color=\"lightgrey\"))\n",
    ")\n",
    "  ram_plot = (ggplot(distance_data[filterRAM], aes(x=function, color='function2', fill='function2'))\n",
    "  + geom_density(alpha=0.1)\n",
    "  + facet_wrap('function1', ncol=1)\n",
    "  + theme_bw()\n",
    "  + theme(legend_position =(.5, -0.06), legend_direction='horizontal', legend_title_align=\"center\", panel_grid=element_line(color=\"lightgrey\"))\n",
    "  )\n",
    "\n",
    "  ggsave(plot=cpu_plot, filename=f\"../Plots/similarities/plots/cpu_\"+function_file_name+\"_\"+data_state+\".pdf\", dpi=1000)\n",
    "  ggsave(plot=ram_plot, filename=f\"../Plots/similarities/plots/ram_\"+function_file_name+\"_\"+data_state+\".pdf\", dpi=1000)"
   ]
  },
  {
   "cell_type": "markdown",
   "metadata": {
    "id": "uFp-haNp6SPI",
    "pycharm": {
     "name": "#%% md\n"
    }
   },
   "source": [
    "### Wykresy gęstości - odległość euklidesowa"
   ]
  },
  {
   "cell_type": "code",
   "execution_count": null,
   "metadata": {
    "colab": {
     "base_uri": "https://localhost:8080/"
    },
    "id": "MU7zFv3g6RuD",
    "outputId": "9371c642-7a9c-4823-f0a4-26525410a53c",
    "pycharm": {
     "name": "#%%\n"
    }
   },
   "outputs": [],
   "source": [
    "make_plot('euclidean', distance_df, 'default')\n",
    "make_plot('euclidean', smooth_distance_df, 'smooth')\n",
    "make_plot('euclidean', normalized_distance_df, 'normalized')\n",
    "make_plot('euclidean', normalized_smooth_distance_df, 'normalized_smooth')"
   ]
  },
  {
   "cell_type": "markdown",
   "metadata": {
    "id": "DwzLkQWa7gyz",
    "pycharm": {
     "name": "#%% md\n"
    }
   },
   "source": [
    "### Wykresy gęstości - odległość DTW\n"
   ]
  },
  {
   "cell_type": "code",
   "execution_count": null,
   "metadata": {
    "colab": {
     "base_uri": "https://localhost:8080/"
    },
    "id": "KE0Umaus7gXo",
    "outputId": "faec7b96-8970-4311-e6cf-919f8b2c0bc0",
    "pycharm": {
     "name": "#%%\n"
    }
   },
   "outputs": [],
   "source": [
    "make_plot('dtw-python-distance', distance_df, 'default')\n",
    "make_plot('dtw-python-distance', smooth_distance_df, 'smooth')\n",
    "make_plot('dtw-python-distance', normalized_distance_df, 'normalized')\n",
    "make_plot('dtw-python-distance', normalized_smooth_distance_df, 'normalized_smooth')"
   ]
  },
  {
   "cell_type": "markdown",
   "metadata": {
    "id": "llMq-fya9XDT",
    "pycharm": {
     "name": "#%% md\n"
    }
   },
   "source": [
    "### Wykresy gęstości - odległość LCSS\n"
   ]
  },
  {
   "cell_type": "code",
   "execution_count": null,
   "metadata": {
    "colab": {
     "base_uri": "https://localhost:8080/"
    },
    "id": "5aNFOiHYC-Wg",
    "outputId": "0b43ab27-2f57-40ee-c492-01143f3055bc",
    "pycharm": {
     "name": "#%%\n"
    }
   },
   "outputs": [],
   "source": [
    "make_plot('lcss_distance', distance_df, 'default')\n",
    "make_plot('lcss_distance', smooth_distance_df, 'smooth')"
   ]
  },
  {
   "cell_type": "markdown",
   "metadata": {
    "pycharm": {
     "name": "#%% md\n"
    }
   },
   "source": [
    "### Heatmapy - odległość euklidesowa"
   ]
  },
  {
   "cell_type": "code",
   "execution_count": null,
   "metadata": {
    "colab": {
     "base_uri": "https://localhost:8080/",
     "height": 34
    },
    "id": "HYHZwIfYf71i",
    "outputId": "18658c76-6ea0-4eaa-9891-1d464ba4ea8d",
    "pycharm": {
     "name": "#%%\n"
    }
   },
   "outputs": [],
   "source": [
    "#Default\n",
    "sns.heatmap(pd.crosstab(distance_df.function1, distance_df.function2,\n",
    "                 values=distance_df[filterCPU].euclidean, \n",
    "                 aggfunc='mean').round(2), \n",
    "            cmap=\"flare\", annot=True,  fmt='g')\n",
    "\n",
    "plt.savefig('../SimilaritiesData/heatmaps/heatmap_euclidean_cpu_default.pdf', bbox_inches='tight', dpi=300)\n",
    "plt.clf()\n",
    "\n",
    "sns.heatmap(pd.crosstab(distance_df.function1, distance_df.function2,\n",
    "                 values=distance_df[filterRAM].euclidean, \n",
    "                 aggfunc='mean').round(2), \n",
    "            cmap=\"flare\", annot=True,  fmt='g')\n",
    "plt.savefig('../SimilaritiesData/heatmaps/heatmap_euclidean_ram_default.pdf', bbox_inches='tight', dpi=300)\n",
    "plt.clf()\n",
    "\n",
    "#Smooth\n",
    "sns.heatmap(pd.crosstab(smooth_distance_df.function1, smooth_distance_df.function2,\n",
    "                 values=smooth_distance_df[filterCPU].euclidean, aggfunc='mean').round(2), \n",
    "            cmap=\"flare\", annot=True,  fmt='g')\n",
    "\n",
    "plt.savefig('../SimilaritiesData/heatmaps/heatmap_euclidean_cpu_smooth.pdf', bbox_inches='tight', dpi=300)\n",
    "plt.clf()\n",
    "\n",
    "sns.heatmap(pd.crosstab(smooth_distance_df.function1, smooth_distance_df.function2,\n",
    "                 values=smooth_distance_df[filterRAM].euclidean, aggfunc='mean').round(2), \n",
    "            cmap=\"flare\", annot=True,  fmt='g')\n",
    "\n",
    "plt.savefig('../SimilaritiesData/heatmaps/heatmap_euclidean_ram_smooth.pdf', bbox_inches='tight', dpi=300)\n",
    "plt.clf()\n",
    "\n",
    "#Normalized\n",
    "sns.heatmap(pd.crosstab(normalized_distance_df.function1, normalized_distance_df.function2,\n",
    "                 values=normalized_distance_df[filterCPU].euclidean, aggfunc='mean').round(2), \n",
    "            cmap=\"flare\", annot=True,  fmt='g')\n",
    "\n",
    "plt.savefig('../SimilaritiesData/heatmaps/heatmap_euclidean_cpu_normalized.pdf', bbox_inches='tight', dpi=300)\n",
    "plt.clf()\n",
    "\n",
    "sns.heatmap(pd.crosstab(normalized_distance_df.function1, normalized_distance_df.function2,\n",
    "                 values=normalized_distance_df[filterRAM].euclidean, aggfunc='mean').round(2), \n",
    "            cmap=\"flare\", annot=True,  fmt='g')\n",
    "\n",
    "plt.savefig('../SimilaritiesData/heatmaps/heatmap_euclidean_ram_normalized.pdf', bbox_inches='tight', dpi=300)\n",
    "plt.clf()\n",
    "\n",
    "#Normalized-smooth\n",
    "sns.heatmap(pd.crosstab(normalized_smooth_distance_df.function1, normalized_smooth_distance_df.function2,\n",
    "                 values=normalized_smooth_distance_df[filterCPU].euclidean, aggfunc='mean').round(2), \n",
    "            cmap=\"flare\", annot=True,  fmt='g')\n",
    "\n",
    "plt.savefig('../SimilaritiesData/heatmaps/heatmap_euclidean_cpu_normalized_smooth.pdf', bbox_inches='tight', dpi=300)\n",
    "plt.clf()\n",
    "\n",
    "sns.heatmap(pd.crosstab(normalized_smooth_distance_df.function1, normalized_smooth_distance_df.function2,\n",
    "                 values=normalized_smooth_distance_df[filterRAM].euclidean, aggfunc='mean').round(2), \n",
    "            cmap=\"flare\", annot=True,  fmt='g')\n",
    "\n",
    "plt.savefig('../SimilaritiesData/heatmaps/heatmap_euclidean_ram_normalized_smooth.pdf', bbox_inches='tight', dpi=300)\n",
    "plt.clf()\n"
   ]
  },
  {
   "cell_type": "markdown",
   "metadata": {
    "id": "uP05dTjXwhMl",
    "pycharm": {
     "name": "#%% md\n"
    }
   },
   "source": [
    "### Heatmapy - odległość DTW\n"
   ]
  },
  {
   "cell_type": "code",
   "execution_count": null,
   "metadata": {
    "colab": {
     "base_uri": "https://localhost:8080/",
     "height": 34
    },
    "id": "i7mz7b2NvP5B",
    "outputId": "2888224a-b324-4c5e-b7bb-614dbd6d883b",
    "pycharm": {
     "name": "#%%\n"
    }
   },
   "outputs": [],
   "source": [
    "#Default\n",
    "sns.heatmap(pd.crosstab(distance_df.function1, distance_df.function2,\n",
    "                 values=distance_df[filterCPU]['dtw-python-distance'], \n",
    "                 aggfunc='mean').round(2), \n",
    "            cmap=\"flare\", annot=True,  fmt='g')\n",
    "\n",
    "plt.savefig('../SimilaritiesData/heatmaps/heatmap_dtw_cpu_default.pdf', bbox_inches='tight', dpi=300)\n",
    "plt.clf()\n",
    "\n",
    "sns.heatmap(pd.crosstab(distance_df.function1, distance_df.function2,\n",
    "                 values=distance_df[filterRAM]['dtw-python-distance'], \n",
    "                 aggfunc='mean').round(2), \n",
    "            cmap=\"flare\", annot=True,  fmt='g')\n",
    "plt.savefig('../SimilaritiesData/heatmaps/heatmap_dtw_ram_default.pdf', bbox_inches='tight', dpi=300)\n",
    "plt.clf()\n",
    "\n",
    "#Smooth\n",
    "sns.heatmap(pd.crosstab(smooth_distance_df.function1, smooth_distance_df.function2,\n",
    "                 values=smooth_distance_df[filterCPU]['dtw-python-distance'], aggfunc='mean').round(2), \n",
    "            cmap=\"flare\", annot=True,  fmt='g')\n",
    "\n",
    "plt.savefig('../SimilaritiesData/heatmaps/heatmap_dtw_cpu_smooth.pdf', bbox_inches='tight', dpi=300)\n",
    "plt.clf()\n",
    "\n",
    "sns.heatmap(pd.crosstab(smooth_distance_df.function1, smooth_distance_df.function2,\n",
    "                 values=smooth_distance_df[filterRAM]['dtw-python-distance'], aggfunc='mean').round(2), \n",
    "            cmap=\"flare\", annot=True,  fmt='g')\n",
    "\n",
    "plt.savefig('../SimilaritiesData/heatmaps/heatmap_dtw_ram_smooth.pdf', bbox_inches='tight', dpi=300)\n",
    "plt.clf()\n",
    "\n",
    "#Normalized\n",
    "sns.heatmap(pd.crosstab(normalized_distance_df.function1, normalized_distance_df.function2,\n",
    "                 values=normalized_distance_df[filterCPU]['dtw-python-distance'], aggfunc='mean').round(2), \n",
    "            cmap=\"flare\", annot=True,  fmt='g')\n",
    "\n",
    "plt.savefig('../SimilaritiesData/heatmaps/heatmap_dtw_cpu_normalized.pdf', bbox_inches='tight', dpi=300)\n",
    "plt.clf()\n",
    "\n",
    "sns.heatmap(pd.crosstab(normalized_distance_df.function1, normalized_distance_df.function2,\n",
    "                 values=normalized_distance_df[filterRAM]['dtw-python-distance'], aggfunc='mean').round(2), \n",
    "            cmap=\"flare\", annot=True,  fmt='g')\n",
    "\n",
    "plt.savefig('../SimilaritiesData/heatmaps/heatmap_dtw_ram_normalized.pdf', bbox_inches='tight', dpi=300)\n",
    "plt.clf()\n",
    "\n",
    "#Normalized-smooth\n",
    "sns.heatmap(pd.crosstab(normalized_smooth_distance_df.function1, normalized_smooth_distance_df.function2,\n",
    "                 values=normalized_smooth_distance_df[filterCPU]['dtw-python-distance'], aggfunc='mean').round(2), \n",
    "            cmap=\"flare\", annot=True,  fmt='g')\n",
    "\n",
    "plt.savefig('../SimilaritiesData/heatmaps/heatmap_dtw_cpu_normalized_smooth.pdf', bbox_inches='tight', dpi=300)\n",
    "plt.clf()\n",
    "\n",
    "sns.heatmap(pd.crosstab(normalized_smooth_distance_df.function1, normalized_smooth_distance_df.function2,\n",
    "                 values=normalized_smooth_distance_df[filterRAM]['dtw-python-distance'], aggfunc='mean').round(2), \n",
    "            cmap=\"flare\", annot=True,  fmt='g')\n",
    "\n",
    "plt.savefig('../SimilaritiesData/heatmaps/heatmap_dtw_ram_normalized_smooth.pdf', bbox_inches='tight', dpi=300)\n",
    "plt.clf()\n"
   ]
  },
  {
   "cell_type": "markdown",
   "metadata": {
    "id": "Gn34F6DKwjJA",
    "pycharm": {
     "name": "#%% md\n"
    }
   },
   "source": [
    "### Heatmapy - odległość LCSS\n"
   ]
  },
  {
   "cell_type": "code",
   "execution_count": null,
   "metadata": {
    "colab": {
     "base_uri": "https://localhost:8080/",
     "height": 34
    },
    "id": "ImR1tmbCwfgY",
    "outputId": "59b62c20-f32c-4182-dd43-dcac48e58c24",
    "pycharm": {
     "name": "#%%\n"
    }
   },
   "outputs": [],
   "source": [
    "#Default\n",
    "sns.heatmap(pd.crosstab(distance_df.function1, distance_df.function2,\n",
    "                 values=distance_df[filterCPU]['lcss_distance'], \n",
    "                 aggfunc='mean').round(4), \n",
    "            cmap=\"flare\", annot=True,  fmt='g')\n",
    "\n",
    "plt.savefig('../SimilaritiesData/heatmaps/heatmap_lcss_cpu_default.pdf', bbox_inches='tight', dpi=300)\n",
    "plt.clf()\n",
    "\n",
    "sns.heatmap(pd.crosstab(distance_df.function1, distance_df.function2,\n",
    "                 values=distance_df[filterRAM]['lcss_distance'], \n",
    "                 aggfunc='mean').round(4), \n",
    "            cmap=\"flare\", annot=True,  fmt='g')\n",
    "plt.savefig('../SimilaritiesData/heatmaps/heatmap_lcss_ram_default.pdf', bbox_inches='tight', dpi=300)\n",
    "plt.clf()\n",
    "\n",
    "#Smooth\n",
    "sns.heatmap(pd.crosstab(smooth_distance_df.function1, smooth_distance_df.function2,\n",
    "                 values=smooth_distance_df[filterCPU]['lcss_distance'], aggfunc='mean').round(4), \n",
    "            cmap=\"flare\", annot=True,  fmt='g')\n",
    "\n",
    "plt.savefig('../SimilaritiesData/heatmaps/heatmap_lcss_cpu_smooth.pdf', bbox_inches='tight', dpi=300)\n",
    "plt.clf()\n",
    "\n",
    "sns.heatmap(pd.crosstab(smooth_distance_df.function1, smooth_distance_df.function2,\n",
    "                 values=smooth_distance_df[filterRAM]['lcss_distance'], aggfunc='mean').round(4), \n",
    "            cmap=\"flare\", annot=True,  fmt='g')\n",
    "\n",
    "plt.savefig('../SimilaritiesData/heatmaps/heatmap_lcss_ram_smooth.pdf', bbox_inches='tight', dpi=300)\n",
    "plt.clf()"
   ]
  },
  {
   "cell_type": "markdown",
   "metadata": {
    "id": "pwBF3tawZWWo",
    "pycharm": {
     "name": "#%% md\n"
    }
   },
   "source": [
    "### Analiza odległości dla różnych rozmiarów - odległość euklidesowa CPU"
   ]
  },
  {
   "cell_type": "code",
   "execution_count": null,
   "metadata": {
    "colab": {
     "base_uri": "https://localhost:8080/"
    },
    "id": "A3XEyo9UArQD",
    "outputId": "39534076-e680-436f-d8da-c491ecaed950",
    "pycharm": {
     "name": "#%%\n"
    }
   },
   "outputs": [],
   "source": [
    "size1 = pd.crosstab(distance_df.function1, distance_df.function2,\n",
    "                 values=distance_df[filterCPU & filterSameSize & filterSize1]['euclidean'], \n",
    "                 aggfunc='mean')\n",
    "size2 = pd.crosstab(distance_df.function1, distance_df.function2,\n",
    "                 values=distance_df[filterCPU & filterSameSize & filterSize2]['euclidean'], \n",
    "                 aggfunc='mean')\n",
    "differentSize = pd.crosstab(distance_df.function1, distance_df.function2,\n",
    "                 values=distance_df[filterCPU & filterDifferentSize]['euclidean'], \n",
    "                 aggfunc='mean')\n",
    "sameSize = pd.crosstab(distance_df.function1, distance_df.function2,\n",
    "                 values=distance_df[filterCPU & filterSameSize]['euclidean'], \n",
    "                 aggfunc='mean')\n",
    "\n",
    "size1size2 = size1.subtract(size2).div(size1).mul(100)\n",
    "size1size2 = size1size2.where(size1size2.isna(), size1size2.round(2).astype(str).add('%'))\n",
    "differentSizeSameSize = differentSize.subtract(sameSize).div(differentSize).mul(100)\n",
    "differentSizeSameSize = differentSizeSameSize.where(differentSizeSameSize.isna(), differentSizeSameSize.round(2).astype(str).add('%'))\n",
    "print(size1size2.to_latex())  \n",
    "print(differentSizeSameSize.to_latex())"
   ]
  },
  {
   "cell_type": "markdown",
   "metadata": {
    "collapsed": false,
    "pycharm": {
     "name": "#%% md\n"
    }
   },
   "source": [
    "### Analiza odległości dla różnych rozmiarów - odległość euklidesowa RAM\n"
   ]
  },
  {
   "cell_type": "code",
   "execution_count": null,
   "metadata": {
    "collapsed": false,
    "pycharm": {
     "name": "#%%\n"
    }
   },
   "outputs": [],
   "source": [
    "size1 = pd.crosstab(distance_df.function1, distance_df.function2,\n",
    "                 values=distance_df[filterRAM & filterSameSize & filterSize1]['euclidean'],\n",
    "                 aggfunc='mean')\n",
    "size2 = pd.crosstab(distance_df.function1, distance_df.function2,\n",
    "                 values=distance_df[filterRAM & filterSameSize & filterSize2]['euclidean'],\n",
    "                 aggfunc='mean')\n",
    "differentSize = pd.crosstab(distance_df.function1, distance_df.function2,\n",
    "                 values=distance_df[filterRAM & filterDifferentSize]['euclidean'],\n",
    "                 aggfunc='mean')\n",
    "sameSize = pd.crosstab(distance_df.function1, distance_df.function2,\n",
    "                 values=distance_df[filterRAM & filterSameSize]['euclidean'],\n",
    "                 aggfunc='mean')\n",
    "\n",
    "size1size2 = size1.subtract(size2).div(size1).mul(100)\n",
    "size1size2 = size1size2.where(size1size2.isna(), size1size2.round(2).astype(str).add('%'))\n",
    "differentSizeSameSize = differentSize.subtract(sameSize).div(differentSize).mul(100)\n",
    "differentSizeSameSize = differentSizeSameSize.where(differentSizeSameSize.isna(), differentSizeSameSize.round(2).astype(str).add('%'))\n",
    "print(size1size2.to_latex())\n",
    "print(differentSizeSameSize.to_latex())"
   ]
  },
  {
   "cell_type": "markdown",
   "metadata": {
    "id": "M7wRwFN0ZYB8",
    "pycharm": {
     "name": "#%% md\n"
    }
   },
   "source": [
    "### Analiza odległości dla różnych rozmiarów - odległość DTW CPU\n"
   ]
  },
  {
   "cell_type": "code",
   "execution_count": null,
   "metadata": {
    "colab": {
     "base_uri": "https://localhost:8080/"
    },
    "id": "ie6gIH3AZZBk",
    "outputId": "62f3943b-41b5-4b13-dcda-d898ebc36d86",
    "pycharm": {
     "name": "#%%\n"
    }
   },
   "outputs": [],
   "source": [
    "size1 = pd.crosstab(distance_df.function1, distance_df.function2,\n",
    "                 values=distance_df[filterCPU & filterSameSize & filterSize1]['dtw-python-distance'], \n",
    "                 aggfunc='mean')\n",
    "size2 = pd.crosstab(distance_df.function1, distance_df.function2,\n",
    "                 values=distance_df[filterCPU & filterSameSize & filterSize2]['dtw-python-distance'], \n",
    "                 aggfunc='mean')\n",
    "differentSize = pd.crosstab(distance_df.function1, distance_df.function2,\n",
    "                 values=distance_df[filterCPU & filterDifferentSize]['dtw-python-distance'], \n",
    "                 aggfunc='mean')\n",
    "sameSize = pd.crosstab(distance_df.function1, distance_df.function2,\n",
    "                 values=distance_df[filterCPU & filterSameSize]['dtw-python-distance'], \n",
    "                 aggfunc='mean')\n",
    "\n",
    "size1size2 = size1.subtract(size2).div(size1).mul(100)\n",
    "size1size2 = size1size2.where(size1size2.isna(), size1size2.round(2).astype(str).add('%'))\n",
    "differentSizeSameSize = differentSize.subtract(sameSize).div(differentSize).mul(100)\n",
    "differentSizeSameSize = differentSizeSameSize.where(differentSizeSameSize.isna(), differentSizeSameSize.round(2).astype(str).add('%'))\n",
    "print(size1size2.to_latex())  \n",
    "print(differentSizeSameSize.to_latex())"
   ]
  },
  {
   "cell_type": "markdown",
   "metadata": {
    "pycharm": {
     "name": "#%% md\n"
    }
   },
   "source": [
    "### Analiza odległości dla różnych rozmiarów - odległość DTW RAM\n"
   ]
  },
  {
   "cell_type": "code",
   "execution_count": null,
   "metadata": {
    "colab": {
     "base_uri": "https://localhost:8080/"
    },
    "id": "hCQWh3sja11z",
    "outputId": "79e15780-2f14-4f08-ead6-1d4cb84144f7",
    "pycharm": {
     "name": "#%%\n"
    }
   },
   "outputs": [],
   "source": [
    "size1 = pd.crosstab(distance_df.function1, distance_df.function2,\n",
    "                 values=distance_df[filterRAM & filterSameSize & filterSize1]['dtw-python-distance'], \n",
    "                 aggfunc='mean')\n",
    "size2 = pd.crosstab(distance_df.function1, distance_df.function2,\n",
    "                 values=distance_df[filterRAM & filterSameSize & filterSize2]['dtw-python-distance'], \n",
    "                 aggfunc='mean')\n",
    "differentSize = pd.crosstab(distance_df.function1, distance_df.function2,\n",
    "                 values=distance_df[filterRAM & filterDifferentSize]['dtw-python-distance'], \n",
    "                 aggfunc='mean')\n",
    "sameSize = pd.crosstab(distance_df.function1, distance_df.function2,\n",
    "                 values=distance_df[filterRAM & filterSameSize]['dtw-python-distance'], \n",
    "                 aggfunc='mean')\n",
    "\n",
    "size1size2 = size1.subtract(size2).div(size1).mul(100)\n",
    "size1size2 = size1size2.where(size1size2.isna(), size1size2.round(2).astype(str).add('%'))\n",
    "differentSizeSameSize = differentSize.subtract(sameSize).div(differentSize).mul(100)\n",
    "differentSizeSameSize = differentSizeSameSize.where(differentSizeSameSize.isna(), differentSizeSameSize.round(2).astype(str).add('%'))\n",
    "print(size1size2.to_latex())\n",
    "print(differentSizeSameSize.to_latex())"
   ]
  },
  {
   "cell_type": "markdown",
   "metadata": {
    "pycharm": {
     "name": "#%% md\n"
    }
   },
   "source": [
    "### Analiza odległości dla różnych rozmiarów - odległość LCSS CPU\n"
   ]
  },
  {
   "cell_type": "code",
   "execution_count": null,
   "metadata": {
    "colab": {
     "base_uri": "https://localhost:8080/"
    },
    "id": "ofiERqKvbzhb",
    "outputId": "c3ebf051-cf3c-4742-e34c-c780563b4f1e",
    "pycharm": {
     "name": "#%%\n"
    }
   },
   "outputs": [],
   "source": [
    "size1 = pd.crosstab(distance_df.function1, distance_df.function2,\n",
    "                 values=distance_df[filterCPU & filterSameSize & filterSize1]['lcss_distance'], \n",
    "                 aggfunc='mean')\n",
    "size2 = pd.crosstab(distance_df.function1, distance_df.function2,\n",
    "                 values=distance_df[filterCPU & filterSameSize & filterSize2]['lcss_distance'], \n",
    "                 aggfunc='mean')\n",
    "differentSize = pd.crosstab(distance_df.function1, distance_df.function2,\n",
    "                 values=distance_df[filterCPU & filterDifferentSize]['lcss_distance'], \n",
    "                 aggfunc='mean')\n",
    "sameSize = pd.crosstab(distance_df.function1, distance_df.function2,\n",
    "                 values=distance_df[filterCPU & filterSameSize]['lcss_distance'], \n",
    "                 aggfunc='mean')\n",
    "\n",
    "size1size2 = size1.subtract(size2).div(size1).mul(100)\n",
    "size1size2 = size1size2.where(size1size2.isna(), size1size2.round(2).astype(str).add('%'))\n",
    "differentSizeSameSize = differentSize.subtract(sameSize).div(differentSize).mul(100)\n",
    "differentSizeSameSize = differentSizeSameSize.where(differentSizeSameSize.isna(), differentSizeSameSize.round(2).astype(str).add('%'))\n",
    "print(size1size2.to_latex())  \n",
    "print(differentSizeSameSize.to_latex())"
   ]
  },
  {
   "cell_type": "markdown",
   "metadata": {
    "pycharm": {
     "name": "#%% md\n"
    }
   },
   "source": [
    "### Analiza odległości dla różnych rozmiarów - odległość LCSS RAM\n"
   ]
  },
  {
   "cell_type": "code",
   "execution_count": null,
   "metadata": {
    "colab": {
     "base_uri": "https://localhost:8080/"
    },
    "id": "qAjNmutQcniK",
    "outputId": "f76e4335-7cf7-44a6-ffb5-1db9d80b9a39",
    "pycharm": {
     "name": "#%%\n"
    }
   },
   "outputs": [],
   "source": [
    "size1 = pd.crosstab(distance_df.function1, distance_df.function2,\n",
    "                 values=distance_df[filterRAM & filterSameSize & filterSize1]['lcss_distance'], \n",
    "                 aggfunc='mean')\n",
    "size2 = pd.crosstab(distance_df.function1, distance_df.function2,\n",
    "                 values=distance_df[filterRAM & filterSameSize & filterSize2]['lcss_distance'], \n",
    "                 aggfunc='mean')\n",
    "differentSize = pd.crosstab(distance_df.function1, distance_df.function2,\n",
    "                 values=distance_df[filterRAM & filterDifferentSize]['lcss_distance'], \n",
    "                 aggfunc='mean')\n",
    "sameSize = pd.crosstab(distance_df.function1, distance_df.function2,\n",
    "                 values=distance_df[filterRAM & filterSameSize]['lcss_distance'], \n",
    "                 aggfunc='mean')\n",
    "\n",
    "size1size2 = size1.subtract(size2).div(size1).mul(100)\n",
    "size1size2 = size1size2.where(size1size2.isna(), size1size2.round(2).astype(str).add('%'))\n",
    "differentSizeSameSize = differentSize.subtract(sameSize).div(differentSize).mul(100)\n",
    "differentSizeSameSize = differentSizeSameSize.where(differentSizeSameSize.isna(), differentSizeSameSize.round(2).astype(str).add('%'))\n",
    "print(size1size2.to_latex())  \n",
    "print(differentSizeSameSize.to_latex())"
   ]
  },
  {
   "cell_type": "markdown",
   "metadata": {
    "pycharm": {
     "name": "#%% md\n"
    }
   },
   "source": [
    "### Wykresy gęstości dla DTW - bez wartości odstających"
   ]
  },
  {
   "cell_type": "code",
   "execution_count": null,
   "metadata": {
    "colab": {
     "base_uri": "https://localhost:8080/",
     "height": 234
    },
    "id": "Z8vwW22CN2-e",
    "outputId": "c99b5c30-b63e-4a1b-ac7c-2f9ba7cd73c8",
    "pycharm": {
     "name": "#%%\n"
    }
   },
   "outputs": [],
   "source": [
    "filterDTWValueLessThan5000 = smooth_distance_df[\"dtw-python-distance\"] < 6000\n",
    "\n",
    "plot = (ggplot(smooth_distance_df[filterDTWValueLessThan5000 & filterCPU], aes(x='dtw-python-distance', color='function2', fill='function2'))\n",
    "  + geom_density(alpha=0.1)\n",
    "  + facet_wrap('function1', ncol=1)\n",
    "    + theme_bw()\n",
    "  + theme(legend_position =(.5, -0.06), legend_direction='horizontal', legend_title_align=\"center\", panel_grid=element_line(color=\"lightgrey\"))\n",
    ")\n",
    "ggsave(plot=plot, filename=f\"../Plots/similarities/plots/cpu_dtw_smooth_less_than_5000.pdf\", dpi=1000)"
   ]
  },
  {
   "cell_type": "code",
   "execution_count": null,
   "metadata": {
    "colab": {
     "base_uri": "https://localhost:8080/"
    },
    "id": "PMuKDyL65-5O",
    "outputId": "f7cd5d6e-9cb5-4028-a9f0-eb0eebe16a2b",
    "pycharm": {
     "name": "#%%\n"
    }
   },
   "outputs": [],
   "source": [
    "filterDTWValueLessThan1500 = distance_df[\"dtw-python-distance\"] < 1500\n",
    "\n",
    "plot = (ggplot(distance_df[filterDTWValueLessThan1500 & filterRAM], aes(x='dtw-python-distance', color='function2', fill='function2'))\n",
    "  + geom_density(alpha=0.1)\n",
    "  + facet_wrap('function1', ncol=1)\n",
    "    + theme_bw()\n",
    "  + theme(legend_position =(.5, -0.06), legend_direction='horizontal', legend_title_align=\"center\", panel_grid=element_line(color=\"lightgrey\"))\n",
    ")\n",
    "ggsave(plot=plot, filename=f\"../Plots/similarities/plots/ram_dtw_less_than_1500.pdf\", dpi=1000)"
   ]
  },
  {
   "cell_type": "code",
   "execution_count": null,
   "metadata": {
    "collapsed": false,
    "pycharm": {
     "name": "#%%\n"
    }
   },
   "outputs": [],
   "source": [
    "\n",
    "filterDTWValueLessThan10000 = distance_df[\"dtw-python-distance\"] < 10000\n",
    "\n",
    "\n",
    "plot = (ggplot(distance_df[filterDTWValueLessThan10000 & filterCPU], aes(x='dtw-python-distance', color='function2', fill='function2'))\n",
    "   + geom_density(alpha=0.1)\n",
    "    + facet_wrap('function1', ncol=1)\n",
    "    + theme_bw()\n",
    "  + theme(legend_position =(.5, -0.06), legend_direction='horizontal', legend_title_align=\"center\", panel_grid=element_line(color=\"lightgrey\"))\n",
    ")\n",
    "ggsave(plot=plot, filename=f\"../Plots/similarities/plots/cpu_dtw_less_than_10000.pdf\", dpi=1000)"
   ]
  }
 ],
 "metadata": {
  "colab": {
   "collapsed_sections": [],
   "name": "5_distance_analysis.ipynb",
   "provenance": []
  },
  "kernelspec": {
   "display_name": "Python 3.10.2 64-bit",
   "language": "python",
   "name": "python3"
  },
  "language_info": {
   "codemirror_mode": {
    "name": "ipython",
    "version": 3
   },
   "file_extension": ".py",
   "mimetype": "text/x-python",
   "name": "python",
   "nbconvert_exporter": "python",
   "pygments_lexer": "ipython3",
   "version": "3.10.2"
  },
  "vscode": {
   "interpreter": {
    "hash": "886d1c821070b678e2b648c31d50afd310f64a5b8d425ddb60c61855691fd917"
   }
  }
 },
 "nbformat": 4,
 "nbformat_minor": 1
}
