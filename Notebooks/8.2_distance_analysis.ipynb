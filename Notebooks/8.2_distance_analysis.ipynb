{
 "cells": [
  {
   "cell_type": "markdown",
   "source": [
    "# Notatnik analizujący obliczone odległości między szeregami\n"
   ],
   "metadata": {
    "collapsed": false,
    "pycharm": {
     "name": "#%% md\n"
    }
   }
  },
  {
   "cell_type": "markdown",
   "source": [
    "### Import bibliotek"
   ],
   "metadata": {
    "collapsed": false,
    "pycharm": {
     "name": "#%% md\n"
    }
   }
  },
  {
   "cell_type": "code",
   "execution_count": 15,
   "metadata": {
    "pycharm": {
     "name": "#%%\n"
    },
    "id": "0FnhX4HIRvyV"
   },
   "outputs": [],
   "source": [
    "import pandas as pd\n",
    "pd.options.mode.chained_assignment = None  # default='warn'\n",
    "from plotnine import ggplot, aes, geom_density, ggsave, facet_wrap, theme_bw\n",
    "import seaborn as sns\n",
    "import matplotlib.pyplot as plt\n",
    "import warnings\n",
    "warnings.filterwarnings('ignore')"
   ]
  },
  {
   "cell_type": "markdown",
   "source": [
    "### Odczyt odległości z plików"
   ],
   "metadata": {
    "collapsed": false,
    "pycharm": {
     "name": "#%% md\n"
    }
   }
  },
  {
   "cell_type": "code",
   "source": [
    "smooth_distance_df = pd.read_csv(\"../SimilaritiesData/smooth_comparison_distance_all.csv\")\n",
    "normalized_distance_df = pd.read_csv(\"../SimilaritiesData/normalized_comparison_distance_all.csv\")\n",
    "distance_df = pd.read_csv(\"../SimilaritiesData/comparison_distance_all.csv\")\n",
    "normalized_smooth_distance_df = pd.read_csv(\"../SimilaritiesData/normalized_smooth_comparison_distance_all.csv\")\n",
    "\n",
    "smooth_distance_df.reset_index(drop=True, inplace=True)\n",
    "normalized_distance_df.reset_index(drop=True, inplace=True)\n",
    "distance_df.reset_index(drop=True, inplace=True)\n",
    "normalized_smooth_distance_df.reset_index(drop=True, inplace=True)"
   ],
   "metadata": {
    "id": "1cjXWjS1sK-d",
    "pycharm": {
     "name": "#%%\n"
    }
   },
   "execution_count": null,
   "outputs": []
  },
  {
   "cell_type": "markdown",
   "source": [
    "### Oczyszczenie danych"
   ],
   "metadata": {
    "collapsed": false,
    "pycharm": {
     "name": "#%% md\n"
    }
   }
  },
  {
   "cell_type": "code",
   "source": [
    "def clean(distance_data):\n",
    "  distance_data['same_functions'] = distance_data['function1'] == distance_data['function2']\n",
    "  distance_data['same_udf'] = distance_data['udf1'] == distance_data['udf2']\n",
    "  distance_data['lcss_distance'] = 1 - distance_data['lcss_similarity']\n",
    "  distance_data.drop(distance_data[distance_data.snapshot1 == distance_data.snapshot2].index, inplace=True)\n",
    "  distance_data[\"function1\"].replace({\"filtration\": \"filtering\",\n",
    "                                    \"filtration-aggregation\": \"filtering-aggregation\",\n",
    "                                     \"filtration-aggregation-join\": \"filtering-aggregation-join\",\n",
    "                                    \"filtration-join\": \"filtering-join\"}, inplace=True)\n",
    "  distance_data[\"function2\"].replace({\"filtration\": \"filtering\",\n",
    "                                    \"filtration-aggregation\": \"filtering-aggregation\",\n",
    "                                    \"filtration-aggregation-join\": \"filtering-aggregation-join\",\n",
    "                                    \"filtration-join\": \"filtering-join\"}, inplace=True)\n",
    "\n",
    "  return distance_data"
   ],
   "metadata": {
    "id": "8otiu9GbZhhc",
    "pycharm": {
     "name": "#%%\n"
    }
   },
   "execution_count": null,
   "outputs": []
  },
  {
   "cell_type": "code",
   "execution_count": null,
   "outputs": [],
   "source": [
    "distance_df = clean(distance_df)\n",
    "normalized_distance_df = clean(normalized_distance_df)\n",
    "smooth_distance_df = clean(smooth_distance_df)\n",
    "normalized_smooth_distance_df = clean(normalized_smooth_distance_df)"
   ],
   "metadata": {
    "pycharm": {
     "name": "#%%\n"
    },
    "id": "js6fdYf1Rvyi",
    "colab": {
     "base_uri": "https://localhost:8080/",
     "height": 522
    },
    "outputId": "c60d0188-eb14-4f94-b22a-f9ac17f0a4c2"
   }
  },
  {
   "cell_type": "markdown",
   "source": [
    " ### Utworzenie filtrów"
   ],
   "metadata": {
    "collapsed": false,
    "pycharm": {
     "name": "#%% md\n"
    },
    "id": "amW8rYlfRvyj"
   }
  },
  {
   "cell_type": "code",
   "execution_count": null,
   "outputs": [],
   "source": [
    "filterCPU = distance_df[\"dataType\"]==\"CPU\"\n",
    "filterRAM = distance_df[\"dataType\"]==\"RAM\"\n",
    "filterDifferent = distance_df[\"function1\"]!=distance_df[\"function2\"]\n",
    "filterSame = distance_df[\"function1\"]==distance_df[\"function2\"]\n",
    "filterDifferentSize = distance_df[\"size1\"]!=distance_df[\"size2\"]\n",
    "filterSameSize = distance_df[\"size1\"]==distance_df[\"size2\"]\n",
    "filterSize1 = distance_df[\"size1\"]==1\n",
    "filterSize2 = distance_df[\"size2\"]==2\n",
    "filterDTWValueMoreThan1000 = distance_df[\"dtw-python-distance\"] > 1000\n",
    "\n",
    "filterAggregation1 = distance_df[\"function1\"]==\"aggregation\"\n",
    "filterAggregation2 = distance_df[\"function2\"]==\"aggregation\"\n",
    "filterFiltration1 = distance_df[\"function1\"]==\"filtration\"\n",
    "filterFiltration2 = distance_df[\"function2\"]==\"filtration\"\n",
    "filterFiltrationAggregation1 = distance_df[\"function1\"]==\"filtration-aggregation\"\n",
    "filterFiltrationAggregation2 = distance_df[\"function2\"]==\"filtration-aggregation\"\n",
    "filterFiltrationAggregationJoin1 = distance_df[\"function1\"]==\"filtration-aggregation-join\"\n",
    "filterFiltrationAggregationJoin2 = distance_df[\"function2\"]==\"filtration-aggregation-join\"\n",
    "filterFiltrationJoin1 = distance_df[\"function1\"]==\"filtration-join\"\n",
    "filterFiltrationJoin2 = distance_df[\"function2\"]==\"filtration-join\""
   ],
   "metadata": {
    "pycharm": {
     "name": "#%%\n"
    },
    "id": "-0XonGrURvyl"
   }
  },
  {
   "cell_type": "markdown",
   "source": [
    "### Funkcja tworząca wykresy gęstości"
   ],
   "metadata": {
    "id": "7Urhvu134oUD",
    "pycharm": {
     "name": "#%% md\n"
    }
   }
  },
  {
   "cell_type": "code",
   "execution_count": null,
   "outputs": [],
   "source": [
    "#measures = ['euclidean', 'dtw-python-distance', 'dtw-python-normalizedDistance', 'lcss_similarity']"
   ],
   "metadata": {
    "collapsed": false,
    "pycharm": {
     "name": "#%%\n"
    }
   }
  },
  {
   "cell_type": "code",
   "source": [
    "def make_plot(function, distance_data, data_state):\n",
    "  function_file_name = ''\n",
    "  if function == 'euclidean': function_file_name = 'euclidean'\n",
    "  if function == 'dtw-python-distance': function_file_name = 'dtw'\n",
    "  if function == 'lcss_distance': function_file_name = 'lcss'\n",
    "  cpu_plot = (ggplot(distance_data[filterCPU], aes(x=function, color='function2', fill='function2'))\n",
    "  + geom_density(alpha=0.1)\n",
    "  + facet_wrap('function1', ncol=1)\n",
    "  + theme_bw()\n",
    "  )\n",
    "  ram_plot = (ggplot(distance_data[filterRAM], aes(x=function, color='function2', fill='function2'))\n",
    "  + geom_density(alpha=0.1)\n",
    "  + facet_wrap('function1', ncol=1)\n",
    "  + theme_bw()\n",
    "  )\n",
    "\n",
    "  ggsave(plot=cpu_plot, filename=f\"../Plots/similarities/cpu_\"+function_file_name+\"_\"+data_state+\".pdf\", dpi=1000)\n",
    "  ggsave(plot=ram_plot, filename=f\"../Plots/similarities/ram_\"+function_file_name+\"_\"+data_state+\".pdf\", dpi=1000)"
   ],
   "metadata": {
    "id": "J-BWnmn__LGj",
    "pycharm": {
     "name": "#%%\n"
    }
   },
   "execution_count": 13,
   "outputs": []
  },
  {
   "cell_type": "markdown",
   "source": [
    "### Wykresy gęstości - odległość euklidesowa"
   ],
   "metadata": {
    "id": "uFp-haNp6SPI",
    "pycharm": {
     "name": "#%% md\n"
    }
   }
  },
  {
   "cell_type": "code",
   "source": [
    "make_plot('euclidean', distance_df, 'default')\n",
    "make_plot('euclidean', smooth_distance_df, 'smooth')\n",
    "make_plot('euclidean', normalized_distance_df, 'normalized')\n",
    "make_plot('euclidean', normalized_smooth_distance_df, 'normalized_smooth')"
   ],
   "metadata": {
    "colab": {
     "base_uri": "https://localhost:8080/"
    },
    "id": "MU7zFv3g6RuD",
    "outputId": "9371c642-7a9c-4823-f0a4-26525410a53c",
    "pycharm": {
     "name": "#%%\n",
     "is_executing": true
    }
   },
   "execution_count": null,
   "outputs": []
  },
  {
   "cell_type": "markdown",
   "source": [
    "### Wykresy gęstości - odległość DTW\n"
   ],
   "metadata": {
    "id": "DwzLkQWa7gyz",
    "pycharm": {
     "name": "#%% md\n"
    }
   }
  },
  {
   "cell_type": "code",
   "source": [
    "make_plot('dtw-python-distance', distance_df, 'default')\n",
    "make_plot('dtw-python-distance', smooth_distance_df, 'smooth')\n",
    "make_plot('dtw-python-distance', normalized_distance_df, 'normalized')\n",
    "make_plot('dtw-python-distance', normalized_smooth_distance_df, 'normalized_smooth')"
   ],
   "metadata": {
    "colab": {
     "base_uri": "https://localhost:8080/"
    },
    "id": "KE0Umaus7gXo",
    "outputId": "faec7b96-8970-4311-e6cf-919f8b2c0bc0",
    "pycharm": {
     "name": "#%%\n"
    }
   },
   "execution_count": null,
   "outputs": []
  },
  {
   "cell_type": "markdown",
   "source": [
    "### Wykresy gęstości - odległość LCSS\n"
   ],
   "metadata": {
    "id": "llMq-fya9XDT",
    "pycharm": {
     "name": "#%% md\n"
    }
   }
  },
  {
   "cell_type": "code",
   "source": [
    "make_plot('lcss_distance', distance_df, 'default')\n",
    "make_plot('lcss_distance', smooth_distance_df, 'smooth')"
   ],
   "metadata": {
    "colab": {
     "base_uri": "https://localhost:8080/"
    },
    "id": "5aNFOiHYC-Wg",
    "outputId": "0b43ab27-2f57-40ee-c492-01143f3055bc",
    "pycharm": {
     "name": "#%%\n"
    }
   },
   "execution_count": null,
   "outputs": []
  },
  {
   "cell_type": "markdown",
   "source": [
    "### Heatmapy - odległość euklidesowa"
   ],
   "metadata": {
    "collapsed": false,
    "pycharm": {
     "name": "#%% md\n"
    }
   }
  },
  {
   "cell_type": "code",
   "source": [
    "#Default\n",
    "sns.heatmap(pd.crosstab(distance_df.function1, distance_df.function2,\n",
    "                 values=distance_df[filterCPU].euclidean, \n",
    "                 aggfunc='mean').round(2), \n",
    "            cmap=\"flare\", annot=True,  fmt='g')\n",
    "\n",
    "plt.savefig('../SimilaritiesData/heatmaps/heatmap_euclidean_cpu_default.pdf', bbox_inches='tight', dpi=300)\n",
    "plt.clf()\n",
    "\n",
    "sns.heatmap(pd.crosstab(distance_df.function1, distance_df.function2,\n",
    "                 values=distance_df[filterRAM].euclidean, \n",
    "                 aggfunc='mean').round(2), \n",
    "            cmap=\"flare\", annot=True,  fmt='g')\n",
    "plt.savefig('../SimilaritiesData/heatmaps/heatmap_euclidean_ram_default.pdf', bbox_inches='tight', dpi=300)\n",
    "plt.clf()\n",
    "\n",
    "#Smooth\n",
    "sns.heatmap(pd.crosstab(smooth_distance_df.function1, smooth_distance_df.function2,\n",
    "                 values=smooth_distance_df[filterCPU].euclidean, aggfunc='mean').round(2), \n",
    "            cmap=\"flare\", annot=True,  fmt='g')\n",
    "\n",
    "plt.savefig('../SimilaritiesData/heatmaps/heatmap_euclidean_cpu_smooth.pdf', bbox_inches='tight', dpi=300)\n",
    "plt.clf()\n",
    "\n",
    "sns.heatmap(pd.crosstab(smooth_distance_df.function1, smooth_distance_df.function2,\n",
    "                 values=smooth_distance_df[filterRAM].euclidean, aggfunc='mean').round(2), \n",
    "            cmap=\"flare\", annot=True,  fmt='g')\n",
    "\n",
    "plt.savefig('../SimilaritiesData/heatmaps/heatmap_euclidean_ram_smooth.pdf', bbox_inches='tight', dpi=300)\n",
    "plt.clf()\n",
    "\n",
    "#Normalized\n",
    "sns.heatmap(pd.crosstab(normalized_distance_df.function1, normalized_distance_df.function2,\n",
    "                 values=normalized_distance_df[filterCPU].euclidean, aggfunc='mean').round(2), \n",
    "            cmap=\"flare\", annot=True,  fmt='g')\n",
    "\n",
    "plt.savefig('../SimilaritiesData/heatmaps/heatmap_euclidean_cpu_normalized.pdf', bbox_inches='tight', dpi=300)\n",
    "plt.clf()\n",
    "\n",
    "sns.heatmap(pd.crosstab(normalized_distance_df.function1, normalized_distance_df.function2,\n",
    "                 values=normalized_distance_df[filterRAM].euclidean, aggfunc='mean').round(2), \n",
    "            cmap=\"flare\", annot=True,  fmt='g')\n",
    "\n",
    "plt.savefig('../SimilaritiesData/heatmaps/heatmap_euclidean_ram_normalized.pdf', bbox_inches='tight', dpi=300)\n",
    "plt.clf()\n",
    "\n",
    "#Normalized-smooth\n",
    "sns.heatmap(pd.crosstab(normalized_smooth_distance_df.function1, normalized_smooth_distance_df.function2,\n",
    "                 values=normalized_smooth_distance_df[filterCPU].euclidean, aggfunc='mean').round(2), \n",
    "            cmap=\"flare\", annot=True,  fmt='g')\n",
    "\n",
    "plt.savefig('../SimilaritiesData/heatmaps/heatmap_euclidean_cpu_normalized_smooth.pdf', bbox_inches='tight', dpi=300)\n",
    "plt.clf()\n",
    "\n",
    "sns.heatmap(pd.crosstab(normalized_smooth_distance_df.function1, normalized_smooth_distance_df.function2,\n",
    "                 values=normalized_smooth_distance_df[filterRAM].euclidean, aggfunc='mean').round(2), \n",
    "            cmap=\"flare\", annot=True,  fmt='g')\n",
    "\n",
    "plt.savefig('../SimilaritiesData/heatmaps/heatmap_euclidean_ram_normalized_smooth.pdf', bbox_inches='tight', dpi=300)\n",
    "plt.clf()\n"
   ],
   "metadata": {
    "colab": {
     "base_uri": "https://localhost:8080/",
     "height": 34
    },
    "id": "HYHZwIfYf71i",
    "outputId": "18658c76-6ea0-4eaa-9891-1d464ba4ea8d",
    "pycharm": {
     "name": "#%%\n"
    }
   },
   "execution_count": 23,
   "outputs": [
    {
     "data": {
      "text/plain": "<Figure size 640x480 with 0 Axes>"
     },
     "metadata": {},
     "output_type": "display_data"
    },
    {
     "data": {
      "text/plain": "<Figure size 640x480 with 0 Axes>"
     },
     "metadata": {},
     "output_type": "display_data"
    }
   ]
  },
  {
   "cell_type": "markdown",
   "source": [
    "### Heatmapy - odległość DTW\n"
   ],
   "metadata": {
    "id": "uP05dTjXwhMl",
    "pycharm": {
     "name": "#%% md\n"
    }
   }
  },
  {
   "cell_type": "code",
   "source": [
    "#Default\n",
    "sns.heatmap(pd.crosstab(distance_df.function1, distance_df.function2,\n",
    "                 values=distance_df[filterCPU]['dtw-python-distance'], \n",
    "                 aggfunc='mean').round(2), \n",
    "            cmap=\"flare\", annot=True,  fmt='g')\n",
    "\n",
    "plt.savefig('../SimilaritiesData/heatmaps/heatmap_dtw_cpu_default.pdf', bbox_inches='tight', dpi=300)\n",
    "plt.clf()\n",
    "\n",
    "sns.heatmap(pd.crosstab(distance_df.function1, distance_df.function2,\n",
    "                 values=distance_df[filterRAM]['dtw-python-distance'], \n",
    "                 aggfunc='mean').round(2), \n",
    "            cmap=\"flare\", annot=True,  fmt='g')\n",
    "plt.savefig('../SimilaritiesData/heatmaps/heatmap_dtw_ram_default.pdf', bbox_inches='tight', dpi=300)\n",
    "plt.clf()\n",
    "\n",
    "#Smooth\n",
    "sns.heatmap(pd.crosstab(smooth_distance_df.function1, smooth_distance_df.function2,\n",
    "                 values=smooth_distance_df[filterCPU]['dtw-python-distance'], aggfunc='mean').round(2), \n",
    "            cmap=\"flare\", annot=True,  fmt='g')\n",
    "\n",
    "plt.savefig('../SimilaritiesData/heatmaps/heatmap_dtw_cpu_smooth.pdf', bbox_inches='tight', dpi=300)\n",
    "plt.clf()\n",
    "\n",
    "sns.heatmap(pd.crosstab(smooth_distance_df.function1, smooth_distance_df.function2,\n",
    "                 values=smooth_distance_df[filterRAM]['dtw-python-distance'], aggfunc='mean').round(2), \n",
    "            cmap=\"flare\", annot=True,  fmt='g')\n",
    "\n",
    "plt.savefig('../SimilaritiesData/heatmaps/heatmap_dtw_ram_smooth.pdf', bbox_inches='tight', dpi=300)\n",
    "plt.clf()\n",
    "\n",
    "#Normalized\n",
    "sns.heatmap(pd.crosstab(normalized_distance_df.function1, normalized_distance_df.function2,\n",
    "                 values=normalized_distance_df[filterCPU]['dtw-python-distance'], aggfunc='mean').round(2), \n",
    "            cmap=\"flare\", annot=True,  fmt='g')\n",
    "\n",
    "plt.savefig('../SimilaritiesData/heatmaps/heatmap_dtw_cpu_normalized.pdf', bbox_inches='tight', dpi=300)\n",
    "plt.clf()\n",
    "\n",
    "sns.heatmap(pd.crosstab(normalized_distance_df.function1, normalized_distance_df.function2,\n",
    "                 values=normalized_distance_df[filterRAM]['dtw-python-distance'], aggfunc='mean').round(2), \n",
    "            cmap=\"flare\", annot=True,  fmt='g')\n",
    "\n",
    "plt.savefig('../SimilaritiesData/heatmaps/heatmap_dtw_ram_normalized.pdf', bbox_inches='tight', dpi=300)\n",
    "plt.clf()\n",
    "\n",
    "#Normalized-smooth\n",
    "sns.heatmap(pd.crosstab(normalized_smooth_distance_df.function1, normalized_smooth_distance_df.function2,\n",
    "                 values=normalized_smooth_distance_df[filterCPU]['dtw-python-distance'], aggfunc='mean').round(2), \n",
    "            cmap=\"flare\", annot=True,  fmt='g')\n",
    "\n",
    "plt.savefig('../SimilaritiesData/heatmaps/heatmap_dtw_cpu_normalized_smooth.pdf', bbox_inches='tight', dpi=300)\n",
    "plt.clf()\n",
    "\n",
    "sns.heatmap(pd.crosstab(normalized_smooth_distance_df.function1, normalized_smooth_distance_df.function2,\n",
    "                 values=normalized_smooth_distance_df[filterRAM]['dtw-python-distance'], aggfunc='mean').round(2), \n",
    "            cmap=\"flare\", annot=True,  fmt='g')\n",
    "\n",
    "plt.savefig('../SimilaritiesData/heatmaps/heatmap_dtw_ram_normalized_smooth.pdf', bbox_inches='tight', dpi=300)\n",
    "plt.clf()\n"
   ],
   "metadata": {
    "colab": {
     "base_uri": "https://localhost:8080/",
     "height": 34
    },
    "id": "i7mz7b2NvP5B",
    "outputId": "2888224a-b324-4c5e-b7bb-614dbd6d883b",
    "pycharm": {
     "name": "#%%\n"
    }
   },
   "execution_count": 24,
   "outputs": [
    {
     "data": {
      "text/plain": "<Figure size 640x480 with 0 Axes>"
     },
     "metadata": {},
     "output_type": "display_data"
    }
   ]
  },
  {
   "cell_type": "markdown",
   "source": [
    "### Heatmapy - odległość LCSS\n"
   ],
   "metadata": {
    "id": "Gn34F6DKwjJA",
    "pycharm": {
     "name": "#%% md\n"
    }
   }
  },
  {
   "cell_type": "code",
   "source": [
    "#Default\n",
    "sns.heatmap(pd.crosstab(distance_df.function1, distance_df.function2,\n",
    "                 values=distance_df[filterCPU]['lcss_distance'], \n",
    "                 aggfunc='mean').round(4), \n",
    "            cmap=\"flare\", annot=True,  fmt='g')\n",
    "\n",
    "plt.savefig('../SimilaritiesData/heatmaps/heatmap_lcss_cpu_default.pdf', bbox_inches='tight', dpi=300)\n",
    "plt.clf()\n",
    "\n",
    "sns.heatmap(pd.crosstab(distance_df.function1, distance_df.function2,\n",
    "                 values=distance_df[filterRAM]['lcss_distance'], \n",
    "                 aggfunc='mean').round(4), \n",
    "            cmap=\"flare\", annot=True,  fmt='g')\n",
    "plt.savefig('../SimilaritiesData/heatmaps/heatmap_lcss_ram_default.pdf', bbox_inches='tight', dpi=300)\n",
    "plt.clf()\n",
    "\n",
    "#Smooth\n",
    "sns.heatmap(pd.crosstab(smooth_distance_df.function1, smooth_distance_df.function2,\n",
    "                 values=smooth_distance_df[filterCPU]['lcss_distance'], aggfunc='mean').round(4), \n",
    "            cmap=\"flare\", annot=True,  fmt='g')\n",
    "\n",
    "plt.savefig('../SimilaritiesData/heatmaps/heatmap_lcss_cpu_smooth.pdf', bbox_inches='tight', dpi=300)\n",
    "plt.clf()\n",
    "\n",
    "sns.heatmap(pd.crosstab(smooth_distance_df.function1, smooth_distance_df.function2,\n",
    "                 values=smooth_distance_df[filterRAM]['lcss_distance'], aggfunc='mean').round(4), \n",
    "            cmap=\"flare\", annot=True,  fmt='g')\n",
    "\n",
    "plt.savefig('../SimilaritiesData/heatmaps/heatmap_lcss_ram_smooth.pdf', bbox_inches='tight', dpi=300)\n",
    "plt.clf()"
   ],
   "metadata": {
    "colab": {
     "base_uri": "https://localhost:8080/",
     "height": 34
    },
    "id": "ImR1tmbCwfgY",
    "outputId": "59b62c20-f32c-4182-dd43-dcac48e58c24",
    "pycharm": {
     "name": "#%%\n"
    }
   },
   "execution_count": 25,
   "outputs": [
    {
     "data": {
      "text/plain": "<Figure size 640x480 with 0 Axes>"
     },
     "metadata": {},
     "output_type": "display_data"
    }
   ]
  },
  {
   "cell_type": "markdown",
   "source": [
    "### Analiza odległości dla różnych rozmiarów - odległość euklidesowa CPU"
   ],
   "metadata": {
    "id": "pwBF3tawZWWo",
    "pycharm": {
     "name": "#%% md\n"
    }
   }
  },
  {
   "cell_type": "code",
   "source": [
    "size1 = pd.crosstab(distance_df.function1, distance_df.function2,\n",
    "                 values=distance_df[filterCPU & filterSameSize & filterSize1]['euclidean'], \n",
    "                 aggfunc='mean')\n",
    "size2 = pd.crosstab(distance_df.function1, distance_df.function2,\n",
    "                 values=distance_df[filterCPU & filterSameSize & filterSize2]['euclidean'], \n",
    "                 aggfunc='mean')\n",
    "differentSize = pd.crosstab(distance_df.function1, distance_df.function2,\n",
    "                 values=distance_df[filterCPU & filterDifferentSize]['euclidean'], \n",
    "                 aggfunc='mean')\n",
    "sameSize = pd.crosstab(distance_df.function1, distance_df.function2,\n",
    "                 values=distance_df[filterCPU & filterSameSize]['euclidean'], \n",
    "                 aggfunc='mean')\n",
    "\n",
    "size1size2 = size1.subtract(size2).div(size1).mul(100)\n",
    "size1size2 = size1size2.where(size1size2.isna(), size1size2.round(2).astype(str).add('%'))\n",
    "differentSizeSameSize = differentSize.subtract(sameSize).div(differentSize).mul(100)\n",
    "differentSizeSameSize = differentSizeSameSize.where(differentSizeSameSize.isna(), differentSizeSameSize.round(2).astype(str).add('%'))\n",
    "print(size1size2.to_latex())  \n",
    "print(differentSizeSameSize.to_latex())"
   ],
   "metadata": {
    "colab": {
     "base_uri": "https://localhost:8080/"
    },
    "id": "A3XEyo9UArQD",
    "outputId": "39534076-e680-436f-d8da-c491ecaed950",
    "pycharm": {
     "name": "#%%\n"
    }
   },
   "execution_count": 16,
   "outputs": [
    {
     "name": "stdout",
     "output_type": "stream",
     "text": [
      "\\begin{tabular}{llllll}\n",
      "\\toprule\n",
      "function2 & aggregation & filtering & filtering-aggregation & filtering-aggregation-join & filtering-join \\\\\n",
      "function1                  &             &           &                       &                            &                \\\\\n",
      "\\midrule\n",
      "aggregation                &      -2.58\\% &     0.97\\% &                  3.5\\% &                      2.43\\% &         -1.52\\% \\\\\n",
      "filtering                  &       0.97\\% &     2.11\\% &                 5.72\\% &                      4.95\\% &         -0.74\\% \\\\\n",
      "filtering-aggregation      &        3.5\\% &     5.72\\% &                 5.59\\% &                      3.73\\% &          3.64\\% \\\\\n",
      "filtering-aggregation-join &       2.43\\% &     4.95\\% &                 3.73\\% &                      3.81\\% &          4.32\\% \\\\\n",
      "filtering-join             &      -1.52\\% &    -0.74\\% &                 3.64\\% &                      4.32\\% &         -8.61\\% \\\\\n",
      "\\bottomrule\n",
      "\\end{tabular}\n",
      "\n",
      "\\begin{tabular}{llllll}\n",
      "\\toprule\n",
      "function2 & aggregation & filtering & filtering-aggregation & filtering-aggregation-join & filtering-join \\\\\n",
      "function1                  &             &           &                       &                            &                \\\\\n",
      "\\midrule\n",
      "aggregation                &       2.78\\% &     0.53\\% &                 1.49\\% &                      1.36\\% &          0.35\\% \\\\\n",
      "filtering                  &       0.53\\% &     0.54\\% &                -0.24\\% &                      0.27\\% &          0.23\\% \\\\\n",
      "filtering-aggregation      &       1.49\\% &    -0.24\\% &                  3.7\\% &                       2.4\\% &         -0.24\\% \\\\\n",
      "filtering-aggregation-join &       1.36\\% &     0.27\\% &                  2.4\\% &                      3.93\\% &          0.11\\% \\\\\n",
      "filtering-join             &       0.35\\% &     0.23\\% &                -0.24\\% &                      0.11\\% &          2.54\\% \\\\\n",
      "\\bottomrule\n",
      "\\end{tabular}\n",
      "\n"
     ]
    }
   ]
  },
  {
   "cell_type": "markdown",
   "source": [
    "### Analiza odległości dla różnych rozmiarów - odległość euklidesowa RAM\n"
   ],
   "metadata": {
    "collapsed": false,
    "pycharm": {
     "name": "#%% md\n"
    }
   }
  },
  {
   "cell_type": "code",
   "source": [
    "size1 = pd.crosstab(distance_df.function1, distance_df.function2,\n",
    "                 values=distance_df[filterRAM & filterSameSize & filterSize1]['euclidean'], \n",
    "                 aggfunc='mean')\n",
    "size2 = pd.crosstab(distance_df.function1, distance_df.function2,\n",
    "                 values=distance_df[filterRAM & filterSameSize & filterSize2]['euclidean'], \n",
    "                 aggfunc='mean')\n",
    "differentSize = pd.crosstab(distance_df.function1, distance_df.function2,\n",
    "                 values=distance_df[filterRAM & filterDifferentSize]['euclidean'], \n",
    "                 aggfunc='mean')\n",
    "sameSize = pd.crosstab(distance_df.function1, distance_df.function2,\n",
    "                 values=distance_df[filterRAM & filterSameSize]['euclidean'], \n",
    "                 aggfunc='mean')\n",
    "\n",
    "size1size2 = size1.subtract(size2).div(size1).mul(100)\n",
    "size1size2 = size1size2.where(size1size2.isna(), size1size2.round(2).astype(str).add('%'))\n",
    "differentSizeSameSize = differentSize.subtract(sameSize).div(differentSize).mul(100)\n",
    "differentSizeSameSize = differentSizeSameSize.where(differentSizeSameSize.isna(), differentSizeSameSize.round(2).astype(str).add('%'))\n",
    "print(size1size2.to_latex())  \n",
    "print(differentSizeSameSize.to_latex())"
   ],
   "metadata": {
    "colab": {
     "base_uri": "https://localhost:8080/"
    },
    "id": "lC4uJyXfYaFU",
    "outputId": "93dc682e-b3ce-4f5a-c6ae-76b514eda781",
    "pycharm": {
     "name": "#%%\n"
    }
   },
   "execution_count": 17,
   "outputs": [
    {
     "name": "stdout",
     "output_type": "stream",
     "text": [
      "\\begin{tabular}{llllll}\n",
      "\\toprule\n",
      "function2 & aggregation & filtering & filtering-aggregation & filtering-aggregation-join & filtering-join \\\\\n",
      "function1                  &             &           &                       &                            &                \\\\\n",
      "\\midrule\n",
      "aggregation                &     -70.47\\% &   -52.47\\% &               -76.34\\% &                    -91.12\\% &        -57.04\\% \\\\\n",
      "filtering                  &     -52.47\\% &   -60.01\\% &               -36.93\\% &                    -30.23\\% &        -30.61\\% \\\\\n",
      "filtering-aggregation      &     -76.34\\% &   -36.93\\% &               -50.46\\% &                    -27.45\\% &        -41.36\\% \\\\\n",
      "filtering-aggregation-join &     -91.12\\% &   -30.23\\% &               -27.45\\% &                     -14.6\\% &        -33.79\\% \\\\\n",
      "filtering-join             &     -57.04\\% &   -30.61\\% &               -41.36\\% &                    -33.79\\% &        -68.31\\% \\\\\n",
      "\\bottomrule\n",
      "\\end{tabular}\n",
      "\n",
      "\\begin{tabular}{llllll}\n",
      "\\toprule\n",
      "function2 & aggregation & filtering & filtering-aggregation & filtering-aggregation-join & filtering-join \\\\\n",
      "function1                  &             &           &                       &                            &                \\\\\n",
      "\\midrule\n",
      "aggregation                &       51.6\\% &    -1.23\\% &                47.03\\% &                     40.14\\% &          1.29\\% \\\\\n",
      "filtering                  &      -1.23\\% &    29.06\\% &                -2.28\\% &                     -0.99\\% &         20.52\\% \\\\\n",
      "filtering-aggregation      &      47.03\\% &    -2.28\\% &                 54.4\\% &                      49.5\\% &          0.23\\% \\\\\n",
      "filtering-aggregation-join &      40.14\\% &    -0.99\\% &                 49.5\\% &                     53.32\\% &          0.83\\% \\\\\n",
      "filtering-join             &       1.29\\% &    20.52\\% &                 0.23\\% &                      0.83\\% &         23.86\\% \\\\\n",
      "\\bottomrule\n",
      "\\end{tabular}\n",
      "\n"
     ]
    }
   ]
  },
  {
   "cell_type": "markdown",
   "source": [
    "### Analiza odległości dla różnych rozmiarów - odległość DTW CPU\n"
   ],
   "metadata": {
    "id": "M7wRwFN0ZYB8",
    "pycharm": {
     "name": "#%% md\n"
    }
   }
  },
  {
   "cell_type": "code",
   "source": [
    "size1 = pd.crosstab(distance_df.function1, distance_df.function2,\n",
    "                 values=distance_df[filterCPU & filterSameSize & filterSize1]['dtw-python-distance'], \n",
    "                 aggfunc='mean')\n",
    "size2 = pd.crosstab(distance_df.function1, distance_df.function2,\n",
    "                 values=distance_df[filterCPU & filterSameSize & filterSize2]['dtw-python-distance'], \n",
    "                 aggfunc='mean')\n",
    "differentSize = pd.crosstab(distance_df.function1, distance_df.function2,\n",
    "                 values=distance_df[filterCPU & filterDifferentSize]['dtw-python-distance'], \n",
    "                 aggfunc='mean')\n",
    "sameSize = pd.crosstab(distance_df.function1, distance_df.function2,\n",
    "                 values=distance_df[filterCPU & filterSameSize]['dtw-python-distance'], \n",
    "                 aggfunc='mean')\n",
    "\n",
    "size1size2 = size1.subtract(size2).div(size1).mul(100)\n",
    "size1size2 = size1size2.where(size1size2.isna(), size1size2.round(2).astype(str).add('%'))\n",
    "differentSizeSameSize = differentSize.subtract(sameSize).div(differentSize).mul(100)\n",
    "differentSizeSameSize = differentSizeSameSize.where(differentSizeSameSize.isna(), differentSizeSameSize.round(2).astype(str).add('%'))\n",
    "print(size1size2.to_latex())  \n",
    "print(differentSizeSameSize.to_latex())"
   ],
   "metadata": {
    "colab": {
     "base_uri": "https://localhost:8080/"
    },
    "id": "ie6gIH3AZZBk",
    "outputId": "62f3943b-41b5-4b13-dcda-d898ebc36d86",
    "pycharm": {
     "name": "#%%\n"
    }
   },
   "execution_count": 18,
   "outputs": [
    {
     "name": "stdout",
     "output_type": "stream",
     "text": [
      "\\begin{tabular}{llllll}\n",
      "\\toprule\n",
      "function2 & aggregation & filtering & filtering-aggregation & filtering-aggregation-join & filtering-join \\\\\n",
      "function1                  &             &           &                       &                            &                \\\\\n",
      "\\midrule\n",
      "aggregation                &     -11.56\\% &    -9.46\\% &               -10.15\\% &                      1.32\\% &        -15.51\\% \\\\\n",
      "filtering                  &      -9.46\\% &     3.86\\% &                -4.93\\% &                      1.12\\% &           2.2\\% \\\\\n",
      "filtering-aggregation      &     -10.15\\% &    -4.93\\% &                -4.18\\% &                       1.5\\% &         -7.04\\% \\\\\n",
      "filtering-aggregation-join &       1.32\\% &     1.12\\% &                  1.5\\% &                      0.38\\% &         -3.76\\% \\\\\n",
      "filtering-join             &     -15.51\\% &      2.2\\% &                -7.04\\% &                     -3.76\\% &         -2.37\\% \\\\\n",
      "\\bottomrule\n",
      "\\end{tabular}\n",
      "\n",
      "\\begin{tabular}{llllll}\n",
      "\\toprule\n",
      "function2 & aggregation & filtering & filtering-aggregation & filtering-aggregation-join & filtering-join \\\\\n",
      "function1                  &             &           &                       &                            &                \\\\\n",
      "\\midrule\n",
      "aggregation                &        6.1\\% &     0.58\\% &                 5.36\\% &                      2.48\\% &          0.94\\% \\\\\n",
      "filtering                  &       0.58\\% &     1.35\\% &                -0.22\\% &                      0.26\\% &          0.08\\% \\\\\n",
      "filtering-aggregation      &       5.36\\% &    -0.22\\% &                 4.77\\% &                      2.07\\% &           0.4\\% \\\\\n",
      "filtering-aggregation-join &       2.48\\% &     0.26\\% &                 2.07\\% &                      2.42\\% &           0.2\\% \\\\\n",
      "filtering-join             &       0.94\\% &     0.08\\% &                  0.4\\% &                       0.2\\% &          0.62\\% \\\\\n",
      "\\bottomrule\n",
      "\\end{tabular}\n",
      "\n"
     ]
    }
   ]
  },
  {
   "cell_type": "markdown",
   "source": [
    "### Analiza odległości dla różnych rozmiarów - odległość DTW RAM\n"
   ],
   "metadata": {
    "collapsed": false,
    "pycharm": {
     "name": "#%% md\n"
    }
   }
  },
  {
   "cell_type": "code",
   "source": [
    "size1 = pd.crosstab(distance_df.function1, distance_df.function2,\n",
    "                 values=distance_df[filterRAM & filterSameSize & filterSize1]['dtw-python-distance'], \n",
    "                 aggfunc='mean')\n",
    "size2 = pd.crosstab(distance_df.function1, distance_df.function2,\n",
    "                 values=distance_df[filterRAM & filterSameSize & filterSize2]['dtw-python-distance'], \n",
    "                 aggfunc='mean')\n",
    "differentSize = pd.crosstab(distance_df.function1, distance_df.function2,\n",
    "                 values=distance_df[filterRAM & filterDifferentSize]['dtw-python-distance'], \n",
    "                 aggfunc='mean')\n",
    "sameSize = pd.crosstab(distance_df.function1, distance_df.function2,\n",
    "                 values=distance_df[filterRAM & filterSameSize]['dtw-python-distance'], \n",
    "                 aggfunc='mean')\n",
    "\n",
    "size1size2 = size1.subtract(size2).div(size1).mul(100)\n",
    "size1size2 = size1size2.where(size1size2.isna(), size1size2.round(2).astype(str).add('%'))\n",
    "differentSizeSameSize = differentSize.subtract(sameSize).div(differentSize).mul(100)\n",
    "differentSizeSameSize = differentSizeSameSize.where(differentSizeSameSize.isna(), differentSizeSameSize.round(2).astype(str).add('%'))\n",
    "print(size1size2.to_latex())\n",
    "print(differentSizeSameSize.to_latex())"
   ],
   "metadata": {
    "colab": {
     "base_uri": "https://localhost:8080/"
    },
    "id": "hCQWh3sja11z",
    "outputId": "79e15780-2f14-4f08-ead6-1d4cb84144f7",
    "pycharm": {
     "name": "#%%\n"
    }
   },
   "execution_count": 19,
   "outputs": [
    {
     "name": "stdout",
     "output_type": "stream",
     "text": [
      "\\begin{tabular}{llllll}\n",
      "\\toprule\n",
      "function2 & aggregation & filtering & filtering-aggregation & filtering-aggregation-join & filtering-join \\\\\n",
      "function1                  &             &           &                       &                            &                \\\\\n",
      "\\midrule\n",
      "aggregation                &    -114.93\\% &  -115.34\\% &              -151.59\\% &                    -91.13\\% &        -77.84\\% \\\\\n",
      "filtering                  &    -115.34\\% &   -67.11\\% &              -119.05\\% &                   -104.78\\% &        -61.54\\% \\\\\n",
      "filtering-aggregation      &    -151.59\\% &  -119.05\\% &              -603.72\\% &                   -440.61\\% &        -88.25\\% \\\\\n",
      "filtering-aggregation-join &     -91.13\\% &  -104.78\\% &              -440.61\\% &                     -92.7\\% &        -66.09\\% \\\\\n",
      "filtering-join             &     -77.84\\% &   -61.54\\% &               -88.25\\% &                    -66.09\\% &         -55.4\\% \\\\\n",
      "\\bottomrule\n",
      "\\end{tabular}\n",
      "\n",
      "\\begin{tabular}{llllll}\n",
      "\\toprule\n",
      "function2 & aggregation & filtering & filtering-aggregation & filtering-aggregation-join & filtering-join \\\\\n",
      "function1                  &             &           &                       &                            &                \\\\\n",
      "\\midrule\n",
      "aggregation                &     -18.85\\% &   -12.47\\% &               -18.85\\% &                    -11.44\\% &         -4.92\\% \\\\\n",
      "filtering                  &     -12.47\\% &    -2.39\\% &                -1.04\\% &                    -12.17\\% &         -1.57\\% \\\\\n",
      "filtering-aggregation      &     -18.85\\% &    -1.04\\% &                -4.63\\% &                    -26.17\\% &          1.82\\% \\\\\n",
      "filtering-aggregation-join &     -11.44\\% &   -12.17\\% &               -26.17\\% &                      8.03\\% &         -7.33\\% \\\\\n",
      "filtering-join             &      -4.92\\% &    -1.57\\% &                 1.82\\% &                     -7.33\\% &         -0.16\\% \\\\\n",
      "\\bottomrule\n",
      "\\end{tabular}\n",
      "\n"
     ]
    }
   ]
  },
  {
   "cell_type": "markdown",
   "source": [
    "### Analiza odległości dla różnych rozmiarów - odległość LCSS CPU\n"
   ],
   "metadata": {
    "collapsed": false,
    "pycharm": {
     "name": "#%% md\n"
    }
   }
  },
  {
   "cell_type": "code",
   "source": [
    "size1 = pd.crosstab(distance_df.function1, distance_df.function2,\n",
    "                 values=distance_df[filterCPU & filterSameSize & filterSize1]['lcss_distance'], \n",
    "                 aggfunc='mean')\n",
    "size2 = pd.crosstab(distance_df.function1, distance_df.function2,\n",
    "                 values=distance_df[filterCPU & filterSameSize & filterSize2]['lcss_distance'], \n",
    "                 aggfunc='mean')\n",
    "differentSize = pd.crosstab(distance_df.function1, distance_df.function2,\n",
    "                 values=distance_df[filterCPU & filterDifferentSize]['lcss_distance'], \n",
    "                 aggfunc='mean')\n",
    "sameSize = pd.crosstab(distance_df.function1, distance_df.function2,\n",
    "                 values=distance_df[filterCPU & filterSameSize]['lcss_distance'], \n",
    "                 aggfunc='mean')\n",
    "\n",
    "size1size2 = size1.subtract(size2).div(size1).mul(100)\n",
    "size1size2 = size1size2.where(size1size2.isna(), size1size2.round(2).astype(str).add('%'))\n",
    "differentSizeSameSize = differentSize.subtract(sameSize).div(differentSize).mul(100)\n",
    "differentSizeSameSize = differentSizeSameSize.where(differentSizeSameSize.isna(), differentSizeSameSize.round(2).astype(str).add('%'))\n",
    "print(size1size2.to_latex())  \n",
    "print(differentSizeSameSize.to_latex())"
   ],
   "metadata": {
    "colab": {
     "base_uri": "https://localhost:8080/"
    },
    "id": "ofiERqKvbzhb",
    "outputId": "c3ebf051-cf3c-4742-e34c-c780563b4f1e",
    "pycharm": {
     "name": "#%%\n"
    }
   },
   "execution_count": 20,
   "outputs": [
    {
     "name": "stdout",
     "output_type": "stream",
     "text": [
      "\\begin{tabular}{llllll}\n",
      "\\toprule\n",
      "function2 & aggregation & filtering & filtering-aggregation & filtering-aggregation-join & filtering-join \\\\\n",
      "function1                  &             &           &                       &                            &                \\\\\n",
      "\\midrule\n",
      "aggregation                &      -54.0\\% &   -55.22\\% &               -46.16\\% &                    -22.36\\% &        -57.27\\% \\\\\n",
      "filtering                  &     -55.22\\% &   -17.82\\% &               -31.26\\% &                    -18.95\\% &         -7.67\\% \\\\\n",
      "filtering-aggregation      &     -46.16\\% &   -31.26\\% &               -30.85\\% &                    -17.96\\% &        -33.18\\% \\\\\n",
      "filtering-aggregation-join &     -22.36\\% &   -18.95\\% &               -17.96\\% &                    -15.47\\% &        -20.08\\% \\\\\n",
      "filtering-join             &     -57.27\\% &    -7.67\\% &               -33.18\\% &                    -20.08\\% &         -12.0\\% \\\\\n",
      "\\bottomrule\n",
      "\\end{tabular}\n",
      "\n",
      "\\begin{tabular}{llllll}\n",
      "\\toprule\n",
      "function2 & aggregation & filtering & filtering-aggregation & filtering-aggregation-join & filtering-join \\\\\n",
      "function1                  &             &           &                       &                            &                \\\\\n",
      "\\midrule\n",
      "aggregation                &       9.18\\% &    -0.08\\% &                10.19\\% &                      3.71\\% &          2.03\\% \\\\\n",
      "filtering                  &      -0.08\\% &     4.11\\% &                -0.43\\% &                     -0.05\\% &          0.68\\% \\\\\n",
      "filtering-aggregation      &      10.19\\% &    -0.43\\% &                 9.83\\% &                      4.82\\% &           1.2\\% \\\\\n",
      "filtering-aggregation-join &       3.71\\% &    -0.05\\% &                 4.82\\% &                      10.9\\% &          0.85\\% \\\\\n",
      "filtering-join             &       2.03\\% &     0.68\\% &                  1.2\\% &                      0.85\\% &          2.39\\% \\\\\n",
      "\\bottomrule\n",
      "\\end{tabular}\n",
      "\n"
     ]
    }
   ]
  },
  {
   "cell_type": "markdown",
   "source": [
    "### Analiza odległości dla różnych rozmiarów - odległość LCSS RAM\n"
   ],
   "metadata": {
    "collapsed": false,
    "pycharm": {
     "name": "#%% md\n"
    }
   }
  },
  {
   "cell_type": "code",
   "source": [
    "size1 = pd.crosstab(distance_df.function1, distance_df.function2,\n",
    "                 values=distance_df[filterRAM & filterSameSize & filterSize1]['lcss_distance'], \n",
    "                 aggfunc='mean')\n",
    "size2 = pd.crosstab(distance_df.function1, distance_df.function2,\n",
    "                 values=distance_df[filterRAM & filterSameSize & filterSize2]['lcss_distance'], \n",
    "                 aggfunc='mean')\n",
    "differentSize = pd.crosstab(distance_df.function1, distance_df.function2,\n",
    "                 values=distance_df[filterRAM & filterDifferentSize]['lcss_distance'], \n",
    "                 aggfunc='mean')\n",
    "sameSize = pd.crosstab(distance_df.function1, distance_df.function2,\n",
    "                 values=distance_df[filterRAM & filterSameSize]['lcss_distance'], \n",
    "                 aggfunc='mean')\n",
    "\n",
    "size1size2 = size1.subtract(size2).div(size1).mul(100)\n",
    "size1size2 = size1size2.where(size1size2.isna(), size1size2.round(2).astype(str).add('%'))\n",
    "differentSizeSameSize = differentSize.subtract(sameSize).div(differentSize).mul(100)\n",
    "differentSizeSameSize = differentSizeSameSize.where(differentSizeSameSize.isna(), differentSizeSameSize.round(2).astype(str).add('%'))\n",
    "print(size1size2.to_latex())  \n",
    "print(differentSizeSameSize.to_latex())"
   ],
   "metadata": {
    "colab": {
     "base_uri": "https://localhost:8080/"
    },
    "id": "qAjNmutQcniK",
    "outputId": "f76e4335-7cf7-44a6-ffb5-1db9d80b9a39",
    "pycharm": {
     "name": "#%%\n"
    }
   },
   "execution_count": 21,
   "outputs": [
    {
     "name": "stdout",
     "output_type": "stream",
     "text": [
      "\\begin{tabular}{llllll}\n",
      "\\toprule\n",
      "function2 & aggregation & filtering & filtering-aggregation & filtering-aggregation-join & filtering-join \\\\\n",
      "function1                  &             &           &                       &                            &                \\\\\n",
      "\\midrule\n",
      "aggregation                &    -137.51\\% &  -148.07\\% &              -163.66\\% &                    -154.4\\% &        -159.6\\% \\\\\n",
      "filtering                  &    -148.07\\% &  -100.85\\% &              -119.41\\% &                     -78.2\\% &        -67.38\\% \\\\\n",
      "filtering-aggregation      &    -163.66\\% &  -119.41\\% &              -345.69\\% &                   -230.37\\% &       -131.18\\% \\\\\n",
      "filtering-aggregation-join &     -154.4\\% &    -78.2\\% &              -230.37\\% &                     -68.3\\% &        -85.28\\% \\\\\n",
      "filtering-join             &     -159.6\\% &   -67.38\\% &              -131.18\\% &                    -85.28\\% &        -90.63\\% \\\\\n",
      "\\bottomrule\n",
      "\\end{tabular}\n",
      "\n",
      "\\begin{tabular}{llllll}\n",
      "\\toprule\n",
      "function2 & aggregation & filtering & filtering-aggregation & filtering-aggregation-join & filtering-join \\\\\n",
      "function1                  &             &           &                       &                            &                \\\\\n",
      "\\midrule\n",
      "aggregation                &      43.33\\% &     0.33\\% &                44.09\\% &                     36.16\\% &          4.25\\% \\\\\n",
      "filtering                  &       0.33\\% &    29.52\\% &                -0.73\\% &                      0.15\\% &          22.7\\% \\\\\n",
      "filtering-aggregation      &      44.09\\% &    -0.73\\% &                53.89\\% &                      47.7\\% &          3.75\\% \\\\\n",
      "filtering-aggregation-join &      36.16\\% &     0.15\\% &                 47.7\\% &                     60.29\\% &          3.72\\% \\\\\n",
      "filtering-join             &       4.25\\% &     22.7\\% &                 3.75\\% &                      3.72\\% &         22.13\\% \\\\\n",
      "\\bottomrule\n",
      "\\end{tabular}\n",
      "\n"
     ]
    }
   ]
  },
  {
   "cell_type": "markdown",
   "source": [
    "### Wykresy gęstości dla DTW - bez wartości odstających"
   ],
   "metadata": {
    "collapsed": false,
    "pycharm": {
     "name": "#%% md\n"
    }
   }
  },
  {
   "cell_type": "code",
   "source": [
    "filterDTWValueLessThan5000 = smooth_distance_df[\"dtw-python-distance\"] < 6000\n",
    "\n",
    "plot = (ggplot(smooth_distance_df[filterDTWValueLessThan5000 & filterCPU], aes(x='dtw-python-distance', color='function2', fill='function2'))\n",
    "  + geom_density(alpha=0.1)\n",
    "  + facet_wrap('function1', ncol=1)\n",
    "  + theme_bw()\n",
    ")\n",
    "ggsave(plot=plot, filename=f\"../Plots/similarities/plots/cpu_dtw_smooth_less_than_5000.pdf\", dpi=1000)"
   ],
   "metadata": {
    "colab": {
     "base_uri": "https://localhost:8080/",
     "height": 234
    },
    "id": "Z8vwW22CN2-e",
    "outputId": "c99b5c30-b63e-4a1b-ac7c-2f9ba7cd73c8",
    "pycharm": {
     "name": "#%%\n",
     "is_executing": true
    }
   },
   "execution_count": null,
   "outputs": []
  },
  {
   "cell_type": "code",
   "source": [
    "filterDTWValueLessThan1500 = distance_df[\"dtw-python-distance\"] < 1500\n",
    "\n",
    "plot = (ggplot(distance_df[filterDTWValueLessThan1500 & filterRAM], aes(x='dtw-python-distance', color='function2', fill='function2'))\n",
    "  + geom_density(alpha=0.1)\n",
    "  + facet_wrap('function1', ncol=1)\n",
    "  + theme_bw()\n",
    ")\n",
    "ggsave(plot=plot, filename=f\"../Plots/similarities/plots/ram_dtw_less_than_1500.pdf\", dpi=1000)"
   ],
   "metadata": {
    "colab": {
     "base_uri": "https://localhost:8080/"
    },
    "id": "PMuKDyL65-5O",
    "outputId": "f7cd5d6e-9cb5-4028-a9f0-eb0eebe16a2b",
    "pycharm": {
     "name": "#%%\n",
     "is_executing": true
    }
   },
   "execution_count": null,
   "outputs": []
  },
  {
   "cell_type": "code",
   "source": [
    "\n",
    "filterDTWValueLessThan10000 = distance_df[\"dtw-python-distance\"] < 10000\n",
    "\n",
    "\n",
    "plot = (ggplot(distance_df[filterDTWValueLessThan10000 & filterCPU], aes(x='dtw-python-distance', color='function2', fill='function2'))\n",
    "   + geom_density(alpha=0.1)\n",
    "    + facet_wrap('function1', ncol=1)\n",
    "    + theme_bw()\n",
    ")\n",
    "ggsave(plot=plot, filename=f\"../SimilaritiesData/plots/cpu_dtw_less_than_10000.pdf\", dpi=1000)"
   ],
   "metadata": {
    "colab": {
     "base_uri": "https://localhost:8080/"
    },
    "id": "AjzdIkI_-irN",
    "outputId": "ef3cfb14-0886-46a2-b3fe-72bb1203f357",
    "pycharm": {
     "name": "#%%\n",
     "is_executing": true
    }
   },
   "execution_count": null,
   "outputs": []
  },
  {
   "cell_type": "markdown",
   "source": [],
   "metadata": {
    "collapsed": false,
    "pycharm": {
     "name": "#%% md\n"
    },
    "id": "amisY_LCRvyo"
   }
  },
  {
   "cell_type": "code",
   "execution_count": 28,
   "outputs": [
    {
     "data": {
      "text/plain": "-0.6450603632426122"
     },
     "execution_count": 28,
     "metadata": {},
     "output_type": "execute_result"
    }
   ],
   "source": [
    "#@title Domyślny tekst tytułu\n",
    "function_type = \"filtering-join\" #@param [\"aggregation\", \"filtering\", \"filtering-aggregation\", \"filtering-aggregation-join\", \"filtering-join\"]\n",
    "filter1 = smooth_distance_df['function1'] == function_type\n",
    "filter2 = smooth_distance_df['function2'] == function_type\n",
    "filter3 = smooth_distance_df['function2'] != function_type\n",
    "type_mean = smooth_distance_df.loc[filterCPU & filter1 & filter2, 'dtw-python-distance'].mean()\n",
    "rest_mean = smooth_distance_df.loc[filterCPU & filter1 & filter3, 'dtw-python-distance'].mean()\n",
    "result = (type_mean - rest_mean)/type_mean\n",
    "result"
   ],
   "metadata": {
    "collapsed": false,
    "pycharm": {
     "name": "#%%\n"
    }
   }
  }
 ],
 "metadata": {
  "kernelspec": {
   "display_name": "Python 3 (ipykernel)",
   "language": "python",
   "name": "python3"
  },
  "language_info": {
   "codemirror_mode": {
    "name": "ipython",
    "version": 3
   },
   "file_extension": ".py",
   "mimetype": "text/x-python",
   "name": "python",
   "nbconvert_exporter": "python",
   "pygments_lexer": "ipython3",
   "version": "3.8.5"
  },
  "colab": {
   "name": "5_distance_analysis.ipynb",
   "provenance": [],
   "collapsed_sections": []
  }
 },
 "nbformat": 4,
 "nbformat_minor": 0
}