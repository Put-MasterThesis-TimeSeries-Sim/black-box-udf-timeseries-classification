{
 "cells": [
  {
   "cell_type": "markdown",
   "metadata": {},
   "source": [
    "# Eksperymenty badające podobieństwo między typami UDF\n",
    "\n",
    "Eksperyment bierze pod uwagę 10 powtórzeń dla każdego algorytmu (poza KNN, przez brak wpływu 'random state' na wynik). Wyniki zostaną zsumowane i obliczona zostanie średnia z każdego eksperymentu. \n",
    "### Deklaracja zmiennych i funkcji użytkowych"
   ]
  },
  {
   "cell_type": "code",
   "execution_count": null,
   "metadata": {},
   "outputs": [],
   "source": [
    "import time\n",
    "import pandas as pd\n",
    "import os\n",
    "from sktime.datasets import load_UCR_UEA_dataset\n",
    "from sklearn.metrics import accuracy_score\n",
    "from sklearn.metrics import f1_score\n",
    "\n",
    "from sktime.classification.kernel_based import RocketClassifier\n",
    "from sktime.classification.hybrid import HIVECOTEV2\n",
    "from sktime.classification.distance_based import KNeighborsTimeSeriesClassifier\n",
    "\n",
    "DATA_PATH = os.path.abspath(\"./../MachineLearning/ts_datasets\")\n",
    "RESULTS_PATH = \"./../MachineLearning/results\"\n",
    "datasets = [\"Default\", \"Default_smooth\", \"Normalized\", \"Normalized_smooth\"]\n",
    "init_seed = 42\n",
    "\n",
    "def run_experiment(clf, X_train, y_train, X_test, y_test, dataset, seed):\n",
    "    \"\"\"Uruchomienie pojedyńczego eksperymentu. Funkcja ta ma na celu zjednolicenie sposobu liczenia czasu przetwarzania niezależnie od algorytmu.\n",
    "\n",
    "    Args:\n",
    "        clf: Klasyfikator, bazujący na bibliotece sklearn\n",
    "        X_train pandas.DataFrame: Szeregi użyte do trenowania algorytmu bez etykiety\n",
    "        y_train numpy.array:  Szeregi użyte do testowania algorytmu bez etykiety\n",
    "        X_test pandas.DataFrame: Etykiety do szeregów użytych do trenowania\n",
    "        y_test numpy.array: Etykiety do szeregów użytych do testowania\n",
    "        dataset str: Nazwa zbioru danych, który jest testowany\n",
    "        seed int: Wartość ziarna dla wartości losowych\n",
    "\n",
    "    Returns:\n",
    "        pandas.DataFrame: Wynik testowania algorytmu w postaci pandas.dataframe\n",
    "    \"\"\"\n",
    "    start = time.time()\n",
    "    clf.fit(X_train, y_train)\n",
    "    predict_result = clf.predict(X_test)\n",
    "    end = time.time()\n",
    "\n",
    "    acc_score = accuracy_score(y_test, predict_result)\n",
    "    f1_measure = f1_score(y_test, predict_result, average='weighted')\n",
    "    time_elapsed = (end - start)\n",
    "\n",
    "    return pd.DataFrame([[dataset, seed, acc_score, f1_measure, time_elapsed, predict_result, y_test]], \n",
    "                        columns = [\"dataset\", \"seed\", \"accuracy_score\", \"f1_measure\", \"execution_time\", \"y_predict\", \"y_true\"])"
   ]
  },
  {
   "cell_type": "markdown",
   "metadata": {},
   "source": [
    "## ROCKET experiments"
   ]
  },
  {
   "cell_type": "code",
   "execution_count": null,
   "metadata": {},
   "outputs": [],
   "source": [
    "\n",
    "for dataset in datasets:\n",
    "    base_results_path = f\"{RESULTS_PATH}/type/{dataset}/Rocket\"\n",
    "    result_df = pd.DataFrame()\n",
    "    print(f\"Started {dataset}\")\n",
    "    X_train, y_train = load_UCR_UEA_dataset(name=dataset, split=\"train\", extract_path = DATA_PATH)\n",
    "    X_test, y_test = load_UCR_UEA_dataset(name=dataset, split=\"test\", extract_path = DATA_PATH)\n",
    "    \n",
    "    if not os.path.exists(base_results_path):\n",
    "        os.makedirs(base_results_path)\n",
    "        \n",
    "    for seed in range(init_seed, init_seed+10):\n",
    "        progress_string = \"#\".rjust(seed-init_seed, \"#\").ljust(9, '-')\n",
    "\n",
    "        if os.path.exists(f\"{base_results_path}/ROCKET_results_{seed}.csv\"):\n",
    "            print(f\"{progress_string} ({seed}/{init_seed+9})\")\n",
    "            continue\n",
    "\n",
    "        current_result = run_experiment(RocketClassifier(rocket_transform=\"multirocket\", random_state = seed, n_jobs = 8), \n",
    "            X_train, y_train, X_test, y_test, dataset, seed)\n",
    "        \n",
    "        current_result.to_csv(f\"{base_results_path}/ROCKET_results_{seed}.csv\")\n",
    "        \n",
    "        result_df = pd.concat([result_df, current_result], ignore_index=True)\n",
    "        print(f\"{progress_string} ({seed}/{init_seed+9})\")"
   ]
  },
  {
   "cell_type": "markdown",
   "metadata": {},
   "source": [
    "## HIVECOTEV2 experiments"
   ]
  },
  {
   "cell_type": "code",
   "execution_count": null,
   "metadata": {},
   "outputs": [],
   "source": [
    "for dataset in datasets:\n",
    "    base_results_path = f\"{RESULTS_PATH}/type/{dataset}/HIVE\"\n",
    "    result_df = pd.DataFrame()\n",
    "    print(f\"Started {dataset}\")\n",
    "    X_train, y_train = load_UCR_UEA_dataset(name=dataset, split=\"train\", extract_path = DATA_PATH)\n",
    "    X_test, y_test = load_UCR_UEA_dataset(name=dataset, split=\"test\", extract_path = DATA_PATH)\n",
    "    \n",
    "    if not os.path.exists(base_results_path):\n",
    "        os.makedirs(base_results_path)\n",
    "        \n",
    "    for seed in range(init_seed, init_seed+10):\n",
    "        progress_string = \"#\".rjust(seed-init_seed, \"#\").ljust(9, '-')\n",
    "\n",
    "        if os.path.exists(f\"{base_results_path}/HIVE_results_{seed}.csv\"):\n",
    "            print(f\"{progress_string} ({seed}/{init_seed+9})\")\n",
    "            continue\n",
    "\n",
    "        current_result = run_experiment(HIVECOTEV2(random_state = seed, time_limit_in_minutes=5), \n",
    "            X_train, y_train, X_test, y_test, dataset, seed)\n",
    "        \n",
    "        current_result.to_csv(f\"{base_results_path}/HIVE_results_{seed}.csv\")\n",
    "        \n",
    "        result_df = pd.concat([result_df, current_result], ignore_index=True)\n",
    "        print(f\"{progress_string} ({seed}/{init_seed+9})\")"
   ]
  },
  {
   "cell_type": "markdown",
   "metadata": {},
   "source": [
    "## KNN-DTW experiments"
   ]
  },
  {
   "cell_type": "code",
   "execution_count": null,
   "metadata": {},
   "outputs": [],
   "source": [
    "for dataset in datasets:\n",
    "    base_results_path = f\"{RESULTS_PATH}/type/{dataset}/KNN\"\n",
    "    result_df = pd.DataFrame()\n",
    "    print(f\"Started {dataset}\")\n",
    "    X_train, y_train = load_UCR_UEA_dataset(name=dataset, split=\"train\", extract_path = DATA_PATH)\n",
    "    X_test, y_test = load_UCR_UEA_dataset(name=dataset, split=\"test\", extract_path = DATA_PATH)\n",
    "    progress = 1 \n",
    "    if not os.path.exists(base_results_path):\n",
    "        os.makedirs(base_results_path)\n",
    "        \n",
    "    for k in range(1, 6, 2):\n",
    "        progress_string = \"#\".rjust(progress, \"#\").ljust(3, '-')\n",
    "\n",
    "        if os.path.exists(f\"{base_results_path}/KNN_results_{k}.csv\"):\n",
    "            print(f\"{progress_string} ({progress}/{3})\")\n",
    "            progress += 1\n",
    "            continue\n",
    "\n",
    "        current_result = run_experiment(KNeighborsTimeSeriesClassifier(n_neighbors=k, distance=\"dtw\", n_jobs = 16), \n",
    "            X_train, y_train, X_test, y_test, dataset, k)\n",
    "        \n",
    "        current_result.to_csv(f\"{base_results_path}/KNN_results_{k}.csv\")\n",
    "        \n",
    "        result_df = pd.concat([result_df, current_result], ignore_index=True)\n",
    "        print(f\"{progress} ({progress}/{3})\")\n",
    "        progress += 1"
   ]
  }
 ],
 "metadata": {
  "interpreter": {
   "hash": "f7d812b6b0ae132ddf009a87a46d9f35cc0a6e0343f7e24aabc62c05919a2e18"
  },
  "kernelspec": {
   "display_name": "Python 3.9.12 ('base')",
   "language": "python",
   "name": "python3"
  },
  "language_info": {
   "codemirror_mode": {
    "name": "ipython",
    "version": 3
   },
   "file_extension": ".py",
   "mimetype": "text/x-python",
   "name": "python",
   "nbconvert_exporter": "python",
   "pygments_lexer": "ipython3",
   "version": "3.9.12"
  },
  "orig_nbformat": 4
 },
 "nbformat": 4,
 "nbformat_minor": 2
}
