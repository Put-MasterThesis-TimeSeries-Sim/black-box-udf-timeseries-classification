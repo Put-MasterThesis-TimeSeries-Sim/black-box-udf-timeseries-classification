{
 "cells": [
  {
   "cell_type": "markdown",
   "metadata": {},
   "source": [
    "# Wygładzenie danych\n",
    "Notatnik służący do wygładzenia danych w celu usunięcia nagłych skoków wartości w krótkim czasie."
   ]
  },
  {
   "cell_type": "code",
   "execution_count": 2,
   "metadata": {},
   "outputs": [
    {
     "name": "stdout",
     "output_type": "stream",
     "text": [
      "Zacznij przetwarzanie aggregation dla okna 6\n",
      "Zacznij przetwarzanie filtration dla okna 6\n",
      "Zacznij przetwarzanie filtration-aggregation dla okna 6\n",
      "Zacznij przetwarzanie filtration-aggregation-join dla okna 6\n",
      "Zacznij przetwarzanie filtration-join dla okna 6\n",
      "Zapisano plik ./../Organised/Time_series_udf_dataset_smooth_6.csv\n",
      "Zacznij przetwarzanie aggregation dla okna 6\n",
      "Zacznij przetwarzanie filtration dla okna 6\n",
      "Zacznij przetwarzanie filtration-aggregation dla okna 6\n",
      "Zacznij przetwarzanie filtration-aggregation-join dla okna 6\n",
      "Zacznij przetwarzanie filtration-join dla okna 6\n",
      "Zapisano plik ./../Organised/Time_series_udf_dataset_normalized_smooth_6.csv\n",
      "Zacznij przetwarzanie aggregation dla okna 12\n",
      "Zacznij przetwarzanie filtration dla okna 12\n",
      "Zacznij przetwarzanie filtration-aggregation dla okna 12\n",
      "Zacznij przetwarzanie filtration-aggregation-join dla okna 12\n",
      "Zacznij przetwarzanie filtration-join dla okna 12\n",
      "Zapisano plik ./../Organised/Time_series_udf_dataset_smooth_12.csv\n",
      "Zacznij przetwarzanie aggregation dla okna 12\n",
      "Zacznij przetwarzanie filtration dla okna 12\n",
      "Zacznij przetwarzanie filtration-aggregation dla okna 12\n",
      "Zacznij przetwarzanie filtration-aggregation-join dla okna 12\n",
      "Zacznij przetwarzanie filtration-join dla okna 12\n",
      "Zapisano plik ./../Organised/Time_series_udf_dataset_normalized_smooth_12.csv\n",
      "Zacznij przetwarzanie aggregation dla okna 18\n",
      "Zacznij przetwarzanie filtration dla okna 18\n",
      "Zacznij przetwarzanie filtration-aggregation dla okna 18\n",
      "Zacznij przetwarzanie filtration-aggregation-join dla okna 18\n",
      "Zacznij przetwarzanie filtration-join dla okna 18\n",
      "Zapisano plik ./../Organised/Time_series_udf_dataset_smooth_18.csv\n",
      "Zacznij przetwarzanie aggregation dla okna 18\n",
      "Zacznij przetwarzanie filtration dla okna 18\n",
      "Zacznij przetwarzanie filtration-aggregation dla okna 18\n",
      "Zacznij przetwarzanie filtration-aggregation-join dla okna 18\n",
      "Zacznij przetwarzanie filtration-join dla okna 18\n",
      "Zapisano plik ./../Organised/Time_series_udf_dataset_normalized_smooth_18.csv\n"
     ]
    }
   ],
   "source": [
    "import pandas as pd\n",
    "organised_directory = \"Organised\"\n",
    "labels = ['aggregation', 'filtration', 'filtration-aggregation', 'filtration-aggregation-join', 'filtration-join']\n",
    "\n",
    "def smooth_values(entry_dir, window_value, labels, normalized):\n",
    "    if normalized:\n",
    "        path_to_df = f\"./../{entry_dir}/Time_series_udf_dataset_normalized.csv\"\n",
    "    else:\n",
    "        path_to_df = f\"./../{entry_dir}/Time_series_udf_dataset.csv\"\n",
    "    df = pd.read_csv(path_to_df)\n",
    "    full_df = pd.DataFrame()\n",
    "    for label in labels:\n",
    "        print(f\"Zacznij przetwarzanie {label} dla okna {window_value}\")\n",
    "        partial_df = df.loc[df.label == label].copy()\n",
    "        \n",
    "        cpu_df = partial_df.groupby(\"snapshot\")['CPU'].rolling(window=window_value, min_periods = 1).mean().to_frame()\n",
    "        ram_df = partial_df.groupby(\"snapshot\")['RAM'].rolling(window=window_value, min_periods = 1).mean().to_frame()\n",
    "\n",
    "        partial_df['CPU'] = cpu_df.reset_index()['CPU'] \n",
    "        partial_df['CPU'] = cpu_df.reset_index()['CPU'].round(2)\n",
    "\n",
    "        partial_df['RAM'] = ram_df.reset_index()['RAM']\n",
    "        partial_df['RAM'] = ram_df.reset_index()['RAM'].round(2)\n",
    "\n",
    "        partial_df['epoch'] = partial_df['epoch'].round(3)\n",
    "        full_df = pd.concat([full_df, partial_df.fillna(0).reset_index()])\n",
    "    if normalized:\n",
    "        full_df[[\"snapshot\", \"label\", \"udf\", \"epoch\", \"CPU\", \"RAM\", \"size\"]].fillna(0).to_csv(f\"./../{entry_dir}/Time_series_udf_dataset_normalized_smooth_{window_value}.csv\", index = False)\n",
    "        print(f\"Zapisano plik ./../{entry_dir}/Time_series_udf_dataset_normalized_smooth_{window_value}.csv\")\n",
    "    else:\n",
    "        full_df[[\"snapshot\", \"label\", \"udf\", \"epoch\", \"CPU\", \"RAM\", \"size\"]].fillna(0).to_csv(f\"./../{entry_dir}/Time_series_udf_dataset_smooth_{window_value}.csv\", index = False)\n",
    "        print(f\"Zapisano plik ./../{entry_dir}/Time_series_udf_dataset_smooth_{window_value}.csv\")\n",
    "\n",
    "window_sizes = [6, 12, 18]\n",
    "for window_size in window_sizes:\n",
    "    smooth_values(organised_directory, window_size, labels, normalized = False)\n",
    "    smooth_values(organised_directory, window_size, labels, normalized = True)"
   ]
  }
 ],
 "metadata": {
  "interpreter": {
   "hash": "f7d812b6b0ae132ddf009a87a46d9f35cc0a6e0343f7e24aabc62c05919a2e18"
  },
  "kernelspec": {
   "display_name": "Python 3.9.12 ('base')",
   "language": "python",
   "name": "python3"
  },
  "language_info": {
   "codemirror_mode": {
    "name": "ipython",
    "version": 3
   },
   "file_extension": ".py",
   "mimetype": "text/x-python",
   "name": "python",
   "nbconvert_exporter": "python",
   "pygments_lexer": "ipython3",
   "version": "3.9.12"
  },
  "orig_nbformat": 4
 },
 "nbformat": 4,
 "nbformat_minor": 2
}
