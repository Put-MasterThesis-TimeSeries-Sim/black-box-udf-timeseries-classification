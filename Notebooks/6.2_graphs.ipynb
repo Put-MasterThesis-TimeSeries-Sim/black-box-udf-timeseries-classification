{
 "cells": [
  {
   "cell_type": "markdown",
   "metadata": {},
   "source": [
    "# Grafy\n",
    "Notatnik tworzący wszelakiej maści grafy, które są wykorzystane w pracy magisterskiej dotyczące przetwarzania i opisu danych."
   ]
  },
  {
   "cell_type": "code",
   "execution_count": 7,
   "metadata": {},
   "outputs": [],
   "source": [
    "import pandas as pd\n",
    "import plotnine as plt\n",
    "import os\n",
    "\n",
    "organised_directory = \"Organised\"\n",
    "plots_directory = \"Plots\""
   ]
  },
  {
   "cell_type": "markdown",
   "metadata": {},
   "source": [
    "### Przykładowy graf surowego szeregu czasowego dla każdego typu."
   ]
  },
  {
   "cell_type": "code",
   "execution_count": 8,
   "metadata": {},
   "outputs": [],
   "source": [
    "udf_types = [\"aggregation\", \"filtration\", \"filtration-aggregation\", \"filtration-aggregation-join\", \"filtration-join\"]\n",
    "dataset_df = pd.read_csv(f\"./../{organised_directory}/Time_series_udf_dataset.csv\")\n",
    "snapshot = 1\n",
    "for udf_type in udf_types:\n",
    "  snapshot_df = dataset_df[(dataset_df[\"label\"] == udf_type) & (dataset_df[\"snapshot\"] == snapshot)]\n",
    "\n",
    "  cpu_plot = (plt.ggplot(snapshot_df)\n",
    "    + plt.aes(x=\"epoch\", y = \"CPU\")\n",
    "    + plt.geom_line(size=0.5, color = \"red\")\n",
    "    + plt.labs(title=f\"Przebieg zużycia CPU - {udf_type}\", y=\"Zużycie procesora (%)\", x = \"Czas (s)\")\n",
    "    + plt.theme_classic()\n",
    "    + plt.theme(panel_grid=plt.element_line(color=\"lightgrey\"),\n",
    "        panel_grid_major=plt.element_line(size=1.4, alpha=1), \n",
    "        panel_grid_major_y=plt.element_line(linetype='dashed'), \n",
    "        panel_grid_minor=plt.element_line(alpha=.25),\n",
    "        panel_grid_minor_y = plt.element_line(linetype='dashed'))\n",
    "  )\n",
    "\n",
    "  ram_plot = (plt.ggplot(snapshot_df)\n",
    "    + plt.aes(x=\"epoch\", y = \"RAM\")\n",
    "    + plt.geom_line(size=0.5, color = \"red\")\n",
    "    + plt.labs(title=f\"Przebieg zużycia RAM - {udf_type}\", y=\"Zużycie RAM (%)\", x = \"Czas (s)\")\n",
    "    + plt.theme_classic()\n",
    "    + plt.theme(panel_grid=plt.element_line(color=\"lightgrey\"),\n",
    "        panel_grid_major=plt.element_line(size=1.4, alpha=1), \n",
    "        panel_grid_major_y=plt.element_line(linetype='dashed'),\n",
    "        panel_grid_major_x=plt.element_line(linetype='dashed'),\n",
    "        panel_grid_minor=plt.element_line(alpha=.25),\n",
    "        panel_grid_minor_y = plt.element_line(linetype='dashed'),\n",
    "        panel_grid_minor_x = plt.element_line(linetype='dashed'))\n",
    "  )\n",
    "  if not os.path.exists(f\"./../{plots_directory}/{udf_type}\"):\n",
    "    os.makedirs(f\"./../{plots_directory}/{udf_type}\")\n",
    "    \n",
    "  cpu_plot.save(f\"./../{plots_directory}/{udf_type}/{udf_type}_example_cpu_snapshot_{snapshot}.pdf\", dpi=600, verbose = False)\n",
    "  ram_plot.save(f\"./../{plots_directory}/{udf_type}/{udf_type}_example_ram_snapshot_{snapshot}.pdf\", dpi=600, verbose = False)"
   ]
  },
  {
   "cell_type": "markdown",
   "metadata": {},
   "source": [
    "### Przykładowy graf znormalizowanego szeregu czasowego dla każdego typu."
   ]
  },
  {
   "cell_type": "code",
   "execution_count": 9,
   "metadata": {},
   "outputs": [],
   "source": [
    "udf_types = [\"aggregation\", \"filtration\", \"filtration-aggregation\", \"filtration-aggregation-join\", \"filtration-join\"]\n",
    "dataset_df = pd.read_csv(f\"./../{organised_directory}/Time_series_udf_dataset_normalized.csv\")\n",
    "snapshot = 1\n",
    "for udf_type in udf_types:\n",
    "  snapshot_df = dataset_df[(dataset_df[\"label\"] == udf_type) & (dataset_df[\"snapshot\"] == snapshot)]\n",
    "\n",
    "  cpu_plot = (plt.ggplot(snapshot_df)\n",
    "    + plt.aes(x=\"epoch\", y = \"CPU\")\n",
    "    + plt.geom_line(size=0.5, color = \"red\")\n",
    "    + plt.labs(title=f\"Przebieg zużycia CPU - {udf_type}\", y=\"Zużycie procesora (%)\", x = \"Czas (s)\")\n",
    "    + plt.theme_classic()\n",
    "    + plt.theme(panel_grid=plt.element_line(color=\"lightgrey\"),\n",
    "        panel_grid_major=plt.element_line(size=1, alpha=.25), \n",
    "        panel_grid_major_y=plt.element_line(linetype='dashed'),\n",
    "        panel_grid_major_x=plt.element_line(linetype='dashed'),\n",
    "        panel_grid_minor=plt.element_line(alpha=.25),\n",
    "        panel_grid_minor_y = plt.element_line(linetype='dashed'),\n",
    "        panel_grid_minor_x = plt.element_line(linetype='dashed'))\n",
    "  )\n",
    "\n",
    "  ram_plot = (plt.ggplot(snapshot_df)\n",
    "    + plt.aes(x=\"epoch\", y = \"RAM\")\n",
    "    + plt.geom_line(size=0.5, color = \"red\")\n",
    "    + plt.labs(title=f\"Przebieg zużycia RAM - {udf_type}\", y=\"Zużycie RAM (%)\", x = \"Czas (s)\")\n",
    "    + plt.theme_classic()\n",
    "    + plt.theme(panel_grid=plt.element_line(color=\"lightgrey\"),\n",
    "        panel_grid_major=plt.element_line(size=1, alpha=.25), \n",
    "        panel_grid_major_y=plt.element_line(linetype='dashed'),\n",
    "        panel_grid_major_x=plt.element_line(linetype='dashed'),\n",
    "        panel_grid_minor=plt.element_line(alpha=.25),\n",
    "        panel_grid_minor_y = plt.element_line(linetype='dashed'),\n",
    "        panel_grid_minor_x = plt.element_line(linetype='dashed'))\n",
    "  )\n",
    "  if not os.path.exists(f\"./../{plots_directory}/{udf_type}\"):\n",
    "    os.makedirs(f\"./../{plots_directory}/{udf_type}\")\n",
    "    \n",
    "  cpu_plot.save(f\"./../{plots_directory}/{udf_type}/{udf_type}_example_normalized_cpu_snapshot_{snapshot}.pdf\", dpi=600, verbose = False)\n",
    "  ram_plot.save(f\"./../{plots_directory}/{udf_type}/{udf_type}_example_normalized_ram_snapshot_{snapshot}.pdf\", dpi=600, verbose = False)"
   ]
  },
  {
   "cell_type": "markdown",
   "metadata": {},
   "source": [
    "### Przykładowe wygładzone surowe grafy."
   ]
  },
  {
   "cell_type": "code",
   "execution_count": 11,
   "metadata": {},
   "outputs": [],
   "source": [
    "udf_types = [\"aggregation\", \"filtration\", \"filtration-aggregation\", \"filtration-aggregation-join\", \"filtration-join\"]\n",
    "snapshot = 1\n",
    "samples = [6, 12, 18]\n",
    "for udf_type in udf_types:\n",
    "    for sample in samples:\n",
    "        dataset_df = pd.read_csv(f\"./../{organised_directory}/Time_series_udf_dataset_smooth_{sample}.csv\")\n",
    "        snapshot_df = dataset_df[(dataset_df[\"label\"] == udf_type) & (dataset_df[\"snapshot\"] == snapshot)]\n",
    "\n",
    "        cpu_plot = (plt.ggplot(snapshot_df)\n",
    "            + plt.aes(x=\"epoch\", y = \"CPU\")\n",
    "            + plt.geom_line(size=0.5, color = \"red\")\n",
    "            + plt.labs(title=f\"Przebieg zużycia CPU - {udf_type}\", y=\"Zużycie procesora (%)\", x = \"Czas (s)\")\n",
    "            + plt.theme_classic()\n",
    "            + plt.theme(panel_grid=plt.element_line(color=\"lightgrey\"),\n",
    "                panel_grid_major=plt.element_line(size=1, alpha=.25), \n",
    "                panel_grid_major_y=plt.element_line(linetype='dashed'),\n",
    "                panel_grid_major_x=plt.element_line(linetype='dashed'),\n",
    "                panel_grid_minor=plt.element_line(alpha=.25),\n",
    "                panel_grid_minor_y = plt.element_line(linetype='dashed'),\n",
    "                panel_grid_minor_x = plt.element_line(linetype='dashed'))\n",
    "        )\n",
    "\n",
    "        ram_plot = (plt.ggplot(snapshot_df)\n",
    "            + plt.aes(x=\"epoch\", y = \"RAM\")\n",
    "            + plt.geom_line(size=0.5, color = \"red\")\n",
    "            + plt.labs(title=f\"Przebieg zużycia RAM - {udf_type}\", y=\"Zużycie RAM (%)\", x = \"Czas (s)\")\n",
    "            + plt.theme_classic()\n",
    "            + plt.theme(panel_grid=plt.element_line(color=\"lightgrey\"),\n",
    "                panel_grid_major=plt.element_line(size=1, alpha=.25), \n",
    "                panel_grid_major_y=plt.element_line(linetype='dashed'),\n",
    "                panel_grid_major_x=plt.element_line(linetype='dashed'),\n",
    "                panel_grid_minor=plt.element_line(alpha=.25),\n",
    "                panel_grid_minor_y = plt.element_line(linetype='dashed'),\n",
    "                panel_grid_minor_x = plt.element_line(linetype='dashed'))\n",
    "        )\n",
    "        if not os.path.exists(f\"./../{plots_directory}/{udf_type}\"):\n",
    "            os.makedirs(f\"./../{plots_directory}/{udf_type}\")\n",
    "            \n",
    "        cpu_plot.save(f\"./../{plots_directory}/{udf_type}/{udf_type}_example_cpu_snapshot_{snapshot}_smooth_{sample}.pdf\", dpi=600, verbose = False)\n",
    "        ram_plot.save(f\"./../{plots_directory}/{udf_type}/{udf_type}_example_ram_snapshot_{snapshot}_smooth_{sample}.pdf\", dpi=600, verbose = False)"
   ]
  },
  {
   "cell_type": "markdown",
   "metadata": {},
   "source": [
    "### Przykładowe wygładzone znormalizowane grafy"
   ]
  },
  {
   "cell_type": "code",
   "execution_count": null,
   "metadata": {},
   "outputs": [],
   "source": [
    "udf_types = [\"aggregation\", \"filtration\", \"filtration-aggregation\", \"filtration-aggregation-join\", \"filtration-join\"]\n",
    "snapshot = 1\n",
    "samples = [6, 12, 18]\n",
    "for udf_type in udf_types:\n",
    "    for sample in samples:\n",
    "        dataset_df = pd.read_csv(f\"./../{organised_directory}/Time_series_udf_dataset_normalized_smooth_{sample}.csv\")\n",
    "        snapshot_df = dataset_df[(dataset_df[\"label\"] == udf_type) & (dataset_df[\"snapshot\"] == snapshot)]\n",
    "\n",
    "        cpu_plot = (plt.ggplot(snapshot_df)\n",
    "            + plt.aes(x=\"epoch\", y = \"CPU\")\n",
    "            + plt.geom_line(size=0.5, color = \"red\")\n",
    "            + plt.labs(title=f\"Przebieg zużycia CPU - {udf_type}\", y=\"Zużycie procesora (%)\", x = \"Czas (s)\")\n",
    "            + plt.theme_classic()\n",
    "            + plt.theme(panel_grid=plt.element_line(color=\"lightgrey\"),\n",
    "                panel_grid_major=plt.element_line(size=1, alpha=.25), \n",
    "                panel_grid_major_y=plt.element_line(linetype='dashed'),\n",
    "                panel_grid_major_x=plt.element_line(linetype='dashed'),\n",
    "                panel_grid_minor=plt.element_line(alpha=.25),\n",
    "                panel_grid_minor_y = plt.element_line(linetype='dashed'),\n",
    "                panel_grid_minor_x = plt.element_line(linetype='dashed'))\n",
    "        )\n",
    "\n",
    "        ram_plot = (plt.ggplot(snapshot_df)\n",
    "            + plt.aes(x=\"epoch\", y = \"RAM\")\n",
    "            + plt.geom_line(size=0.5, color = \"red\")\n",
    "            + plt.labs(title=f\"Przebieg zużycia RAM - {udf_type}\", y=\"Zużycie RAM (%)\", x = \"Czas (s)\")\n",
    "            + plt.theme_classic()\n",
    "            + plt.theme(panel_grid=plt.element_line(color=\"lightgrey\"),\n",
    "                panel_grid_major=plt.element_line(size=1, alpha=.25), \n",
    "                panel_grid_major_y=plt.element_line(linetype='dashed'),\n",
    "                panel_grid_major_x=plt.element_line(linetype='dashed'),\n",
    "                panel_grid_minor=plt.element_line(alpha=.25),\n",
    "                panel_grid_minor_y = plt.element_line(linetype='dashed'),\n",
    "                panel_grid_minor_x = plt.element_line(linetype='dashed'))\n",
    "        )\n",
    "        if not os.path.exists(f\"./../{plots_directory}/{udf_type}\"):\n",
    "            os.makedirs(f\"./../{plots_directory}/{udf_type}\")\n",
    "            \n",
    "        cpu_plot.save(f\"./../{plots_directory}/{udf_type}/{udf_type}_example_normalized_cpu_snapshot_{snapshot}_smooth_{sample}.pdf\", dpi=600, verbose = False)\n",
    "        ram_plot.save(f\"./../{plots_directory}/{udf_type}/{udf_type}_example_normalized_ram_snapshot_{snapshot}_smooth_{sample}.pdf\", dpi=600, verbose = False)"
   ]
  },
  {
   "cell_type": "markdown",
   "metadata": {},
   "source": [
    "### Histogramy dla CPU oraz RAM"
   ]
  },
  {
   "cell_type": "code",
   "execution_count": null,
   "metadata": {},
   "outputs": [],
   "source": [
    "df = pd.read_csv(f\"./../{organised_directory}/Time_series_udf_dataset.csv\")\n",
    "\n",
    "cpu_plot = (plt.ggplot(df, plt.aes(x='CPU'))\n",
    "  + plt.geom_histogram(size=0.5, binwidth=20)\n",
    "  + plt.labs(title=f\"Histogram\", y=\"Liczebność\", x = \"CPU\")\n",
    "  + plt.theme_classic()\n",
    "  + plt.theme(panel_grid=plt.element_line(color=\"lightgrey\"),\n",
    "      panel_grid_major=plt.element_line(size=1, alpha=.25), \n",
    "      panel_grid_major_y=plt.element_line(linetype='dashed'),\n",
    "      panel_grid_major_x=plt.element_line(linetype='dashed'),\n",
    "      panel_grid_minor=plt.element_line(alpha=.25),\n",
    "      panel_grid_minor_y = plt.element_line(linetype='dashed'),\n",
    "      panel_grid_minor_x = plt.element_line(linetype='dashed'))\n",
    ")\n",
    "\n",
    "ram_plot = (plt.ggplot(df, plt.aes(x='RAM'))\n",
    "  + plt.geom_histogram(size=0.5, binwidth=0.6)\n",
    "  + plt.labs(title=f\"Histogram\", y=\"Liczebność\", x = \"RAM\")\n",
    "  + plt.theme_classic()\n",
    "  + plt.theme(panel_grid=plt.element_line(color=\"lightgrey\"),\n",
    "      panel_grid_major=plt.element_line(size=1, alpha=.25), \n",
    "      panel_grid_major_y=plt.element_line(linetype='dashed'),\n",
    "      panel_grid_major_x=plt.element_line(linetype='dashed'),\n",
    "      panel_grid_minor=plt.element_line(alpha=.25),\n",
    "      panel_grid_minor_y = plt.element_line(linetype='dashed'),\n",
    "      panel_grid_minor_x = plt.element_line(linetype='dashed'))\n",
    ")\n",
    "if not os.path.exists(f\"./../Plots/\"):\n",
    "  os.makedirs(f\"./../Plots/\")\n",
    "  \n",
    "cpu_plot.save(f\"./../Plots/hist_cpu.pdf\", dpi=600, verbose = False)\n",
    "ram_plot.save(f\"./../Plots/hist_ram.pdf\", dpi=600, verbose = False)"
   ]
  }
 ],
 "metadata": {
  "interpreter": {
   "hash": "f7d812b6b0ae132ddf009a87a46d9f35cc0a6e0343f7e24aabc62c05919a2e18"
  },
  "kernelspec": {
   "display_name": "Python 3.9.12 ('base')",
   "language": "python",
   "name": "python3"
  },
  "language_info": {
   "codemirror_mode": {
    "name": "ipython",
    "version": 3
   },
   "file_extension": ".py",
   "mimetype": "text/x-python",
   "name": "python",
   "nbconvert_exporter": "python",
   "pygments_lexer": "ipython3",
   "version": "3.9.12"
  },
  "orig_nbformat": 4
 },
 "nbformat": 4,
 "nbformat_minor": 2
}
