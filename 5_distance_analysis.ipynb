{
 "cells": [
  {
   "cell_type": "code",
   "execution_count": 46,
   "metadata": {
    "pycharm": {
     "name": "#%%\n"
    }
   },
   "outputs": [],
   "source": [
    "import pandas as pd\n",
    "pd.options.mode.chained_assignment = None  # default='warn'"
   ]
  },
  {
   "cell_type": "code",
   "execution_count": 47,
   "outputs": [],
   "source": [
    "measures = ['euclidean', 'dtw-python-distance', 'dtw-python-normalizedDistance', 'dtaidistance', 'lcss_similarity']"
   ],
   "metadata": {
    "collapsed": false,
    "pycharm": {
     "name": "#%%\n"
    }
   }
  },
  {
   "cell_type": "markdown",
   "source": [
    "Smooth"
   ],
   "metadata": {
    "collapsed": false,
    "pycharm": {
     "name": "#%% md\n"
    }
   }
  },
  {
   "cell_type": "code",
   "execution_count": 48,
   "outputs": [
    {
     "data": {
      "text/plain": "   id dataType    function1  snapshot1    function2  snapshot2    euclidean  \\\n0   0      CPU  aggregation         13  aggregation         13     0.000000   \n1   1      RAM  aggregation         13  aggregation         13     0.000000   \n2   2      CPU  aggregation         13  aggregation         39  1017.490218   \n3   3      RAM  aggregation         13  aggregation         39   138.932597   \n4   4      CPU  aggregation         13  aggregation         51   854.864697   \n\n   dtw-python-distance  dtw-python-normalizedDistance  dtaidistance  \\\n0                 0.00                       0.000000      0.000000   \n1                 0.00                       0.000000      0.000000   \n2              1872.11                       1.264939    130.654046   \n3              1292.20                       0.873108     63.868409   \n4              1778.82                       1.201905    127.754327   \n\n   lcss_similarity  is_normalized  is_smoothed  size1  size2  \\\n0         1.000000              0            1      1      1   \n1         1.000000              0            1      1      1   \n2         0.797297              0            1      1      1   \n3         0.752703              0            1      1      1   \n4         0.817568              0            1      1      1   \n\n                            udf1                           udf2  \n0  avgNetProfitGroupedBySoldDate  avgNetProfitGroupedBySoldDate  \n1  avgNetProfitGroupedBySoldDate  avgNetProfitGroupedBySoldDate  \n2  avgNetProfitGroupedBySoldDate  avgNetProfitGroupedBySoldDate  \n3  avgNetProfitGroupedBySoldDate  avgNetProfitGroupedBySoldDate  \n4  avgNetProfitGroupedBySoldDate  avgNetProfitGroupedBySoldDate  ",
      "text/html": "<div>\n<style scoped>\n    .dataframe tbody tr th:only-of-type {\n        vertical-align: middle;\n    }\n\n    .dataframe tbody tr th {\n        vertical-align: top;\n    }\n\n    .dataframe thead th {\n        text-align: right;\n    }\n</style>\n<table border=\"1\" class=\"dataframe\">\n  <thead>\n    <tr style=\"text-align: right;\">\n      <th></th>\n      <th>id</th>\n      <th>dataType</th>\n      <th>function1</th>\n      <th>snapshot1</th>\n      <th>function2</th>\n      <th>snapshot2</th>\n      <th>euclidean</th>\n      <th>dtw-python-distance</th>\n      <th>dtw-python-normalizedDistance</th>\n      <th>dtaidistance</th>\n      <th>lcss_similarity</th>\n      <th>is_normalized</th>\n      <th>is_smoothed</th>\n      <th>size1</th>\n      <th>size2</th>\n      <th>udf1</th>\n      <th>udf2</th>\n    </tr>\n  </thead>\n  <tbody>\n    <tr>\n      <th>0</th>\n      <td>0</td>\n      <td>CPU</td>\n      <td>aggregation</td>\n      <td>13</td>\n      <td>aggregation</td>\n      <td>13</td>\n      <td>0.000000</td>\n      <td>0.00</td>\n      <td>0.000000</td>\n      <td>0.000000</td>\n      <td>1.000000</td>\n      <td>0</td>\n      <td>1</td>\n      <td>1</td>\n      <td>1</td>\n      <td>avgNetProfitGroupedBySoldDate</td>\n      <td>avgNetProfitGroupedBySoldDate</td>\n    </tr>\n    <tr>\n      <th>1</th>\n      <td>1</td>\n      <td>RAM</td>\n      <td>aggregation</td>\n      <td>13</td>\n      <td>aggregation</td>\n      <td>13</td>\n      <td>0.000000</td>\n      <td>0.00</td>\n      <td>0.000000</td>\n      <td>0.000000</td>\n      <td>1.000000</td>\n      <td>0</td>\n      <td>1</td>\n      <td>1</td>\n      <td>1</td>\n      <td>avgNetProfitGroupedBySoldDate</td>\n      <td>avgNetProfitGroupedBySoldDate</td>\n    </tr>\n    <tr>\n      <th>2</th>\n      <td>2</td>\n      <td>CPU</td>\n      <td>aggregation</td>\n      <td>13</td>\n      <td>aggregation</td>\n      <td>39</td>\n      <td>1017.490218</td>\n      <td>1872.11</td>\n      <td>1.264939</td>\n      <td>130.654046</td>\n      <td>0.797297</td>\n      <td>0</td>\n      <td>1</td>\n      <td>1</td>\n      <td>1</td>\n      <td>avgNetProfitGroupedBySoldDate</td>\n      <td>avgNetProfitGroupedBySoldDate</td>\n    </tr>\n    <tr>\n      <th>3</th>\n      <td>3</td>\n      <td>RAM</td>\n      <td>aggregation</td>\n      <td>13</td>\n      <td>aggregation</td>\n      <td>39</td>\n      <td>138.932597</td>\n      <td>1292.20</td>\n      <td>0.873108</td>\n      <td>63.868409</td>\n      <td>0.752703</td>\n      <td>0</td>\n      <td>1</td>\n      <td>1</td>\n      <td>1</td>\n      <td>avgNetProfitGroupedBySoldDate</td>\n      <td>avgNetProfitGroupedBySoldDate</td>\n    </tr>\n    <tr>\n      <th>4</th>\n      <td>4</td>\n      <td>CPU</td>\n      <td>aggregation</td>\n      <td>13</td>\n      <td>aggregation</td>\n      <td>51</td>\n      <td>854.864697</td>\n      <td>1778.82</td>\n      <td>1.201905</td>\n      <td>127.754327</td>\n      <td>0.817568</td>\n      <td>0</td>\n      <td>1</td>\n      <td>1</td>\n      <td>1</td>\n      <td>avgNetProfitGroupedBySoldDate</td>\n      <td>avgNetProfitGroupedBySoldDate</td>\n    </tr>\n  </tbody>\n</table>\n</div>"
     },
     "execution_count": 48,
     "metadata": {},
     "output_type": "execute_result"
    }
   ],
   "source": [
    "distance_smooth_df = pd.read_csv(\"SimilaritiesData/comparison_distance_smooth_all.csv\")\n",
    "distance_smooth_df.head()"
   ],
   "metadata": {
    "collapsed": false,
    "pycharm": {
     "name": "#%%\n"
    }
   }
  },
  {
   "cell_type": "markdown",
   "source": [
    "Filters"
   ],
   "metadata": {
    "collapsed": false,
    "pycharm": {
     "name": "#%% md\n"
    }
   }
  },
  {
   "cell_type": "code",
   "execution_count": 53,
   "outputs": [],
   "source": [
    "filterCPU = distance_smooth_df[\"dataType\"]==\"CPU\"\n",
    "filterRAM = distance_smooth_df[\"dataType\"]==\"RAM\"\n",
    "filterAggregation1 = distance_smooth_df[\"function1\"]==\"aggregation\"\n",
    "filterAggregation2 = distance_smooth_df[\"function2\"]==\"aggregation\"\n",
    "filterFiltration1 = distance_smooth_df[\"function1\"]==\"filtration\"\n",
    "filterFiltration2 = distance_smooth_df[\"function2\"]==\"filtration\"\n",
    "filterFiltrationAggregation1 = distance_smooth_df[\"function1\"]==\"filtration-aggregation\"\n",
    "filterFiltrationAggregation2 = distance_smooth_df[\"function2\"]==\"filtration-aggregation\"\n",
    "filterFiltrationAggregationJoin1 = distance_smooth_df[\"function1\"]==\"filtration-aggregation-join\"\n",
    "filterFiltrationAggregationJoin2 = distance_smooth_df[\"function2\"]==\"filtration-aggregation-join\"\n",
    "filterFiltrationJoin1 = distance_smooth_df[\"function1\"]==\"filtration-join\"\n",
    "filterFiltrationJoin2 = distance_smooth_df[\"function2\"]==\"filtration-join\""
   ],
   "metadata": {
    "collapsed": false,
    "pycharm": {
     "name": "#%%\n"
    }
   }
  },
  {
   "cell_type": "markdown",
   "source": [
    "Summary"
   ],
   "metadata": {
    "collapsed": false,
    "pycharm": {
     "name": "#%% md\n"
    }
   }
  },
  {
   "cell_type": "code",
   "execution_count": 64,
   "outputs": [
    {
     "data": {
      "text/plain": "          euclidean  dtw-python-distance  dtw-python-normalizedDistance  \\\ncount  59428.000000         59428.000000                   59428.000000   \nmean     830.424693          2941.526295                       2.175849   \nstd      296.499208          1740.627131                       2.208421   \nmin        0.000000             0.000000                       0.000000   \n25%      701.333364          1974.850000                       1.182289   \n50%      837.232127          2919.245000                       1.798857   \n75%      993.757920          3663.492500                       2.801234   \nmax     2164.289940         20197.080000                      39.631912   \n\n       dtaidistance  lcss_similarity  \ncount  59428.000000     59428.000000  \nmean     294.095061         0.759399  \nstd      198.444809         0.088480  \nmin        0.000000         0.441341  \n25%      165.103461         0.700885  \n50%      251.623825         0.775140  \n75%      395.955865         0.828070  \nmax     1903.496999         1.000000  ",
      "text/html": "<div>\n<style scoped>\n    .dataframe tbody tr th:only-of-type {\n        vertical-align: middle;\n    }\n\n    .dataframe tbody tr th {\n        vertical-align: top;\n    }\n\n    .dataframe thead th {\n        text-align: right;\n    }\n</style>\n<table border=\"1\" class=\"dataframe\">\n  <thead>\n    <tr style=\"text-align: right;\">\n      <th></th>\n      <th>euclidean</th>\n      <th>dtw-python-distance</th>\n      <th>dtw-python-normalizedDistance</th>\n      <th>dtaidistance</th>\n      <th>lcss_similarity</th>\n    </tr>\n  </thead>\n  <tbody>\n    <tr>\n      <th>count</th>\n      <td>59428.000000</td>\n      <td>59428.000000</td>\n      <td>59428.000000</td>\n      <td>59428.000000</td>\n      <td>59428.000000</td>\n    </tr>\n    <tr>\n      <th>mean</th>\n      <td>830.424693</td>\n      <td>2941.526295</td>\n      <td>2.175849</td>\n      <td>294.095061</td>\n      <td>0.759399</td>\n    </tr>\n    <tr>\n      <th>std</th>\n      <td>296.499208</td>\n      <td>1740.627131</td>\n      <td>2.208421</td>\n      <td>198.444809</td>\n      <td>0.088480</td>\n    </tr>\n    <tr>\n      <th>min</th>\n      <td>0.000000</td>\n      <td>0.000000</td>\n      <td>0.000000</td>\n      <td>0.000000</td>\n      <td>0.441341</td>\n    </tr>\n    <tr>\n      <th>25%</th>\n      <td>701.333364</td>\n      <td>1974.850000</td>\n      <td>1.182289</td>\n      <td>165.103461</td>\n      <td>0.700885</td>\n    </tr>\n    <tr>\n      <th>50%</th>\n      <td>837.232127</td>\n      <td>2919.245000</td>\n      <td>1.798857</td>\n      <td>251.623825</td>\n      <td>0.775140</td>\n    </tr>\n    <tr>\n      <th>75%</th>\n      <td>993.757920</td>\n      <td>3663.492500</td>\n      <td>2.801234</td>\n      <td>395.955865</td>\n      <td>0.828070</td>\n    </tr>\n    <tr>\n      <th>max</th>\n      <td>2164.289940</td>\n      <td>20197.080000</td>\n      <td>39.631912</td>\n      <td>1903.496999</td>\n      <td>1.000000</td>\n    </tr>\n  </tbody>\n</table>\n</div>"
     },
     "execution_count": 64,
     "metadata": {},
     "output_type": "execute_result"
    }
   ],
   "source": [
    "#CPU\n",
    "distance_smooth_df_cpu = distance_smooth_df[filterCPU]\n",
    "distance_smooth_df_cpu[measures].describe()"
   ],
   "metadata": {
    "collapsed": false,
    "pycharm": {
     "name": "#%%\n"
    }
   }
  },
  {
   "cell_type": "code",
   "execution_count": 65,
   "outputs": [
    {
     "data": {
      "text/plain": "          euclidean  dtw-python-distance  dtw-python-normalizedDistance  \\\ncount  59428.000000         59428.000000                   59428.000000   \nmean     216.196187          2978.516199                       1.625749   \nstd      112.192175          2239.956072                       0.862507   \nmin        0.000000             0.000000                       0.000000   \n25%      126.047373          1276.667500                       1.042301   \n50%      227.017886          2676.235000                       1.524091   \n75%      296.950454          4132.400000                       2.181461   \nmax      474.142638         22240.180000                       6.987867   \n\n       dtaidistance  lcss_similarity  \ncount  59428.000000     59428.000000  \nmean     101.148849         0.360699  \nstd       50.302894         0.298753  \nmin        0.000000         0.000000  \n25%       63.988297         0.110891  \n50%      103.376890         0.251653  \n75%      131.906037         0.581600  \nmax      383.800439         1.000000  ",
      "text/html": "<div>\n<style scoped>\n    .dataframe tbody tr th:only-of-type {\n        vertical-align: middle;\n    }\n\n    .dataframe tbody tr th {\n        vertical-align: top;\n    }\n\n    .dataframe thead th {\n        text-align: right;\n    }\n</style>\n<table border=\"1\" class=\"dataframe\">\n  <thead>\n    <tr style=\"text-align: right;\">\n      <th></th>\n      <th>euclidean</th>\n      <th>dtw-python-distance</th>\n      <th>dtw-python-normalizedDistance</th>\n      <th>dtaidistance</th>\n      <th>lcss_similarity</th>\n    </tr>\n  </thead>\n  <tbody>\n    <tr>\n      <th>count</th>\n      <td>59428.000000</td>\n      <td>59428.000000</td>\n      <td>59428.000000</td>\n      <td>59428.000000</td>\n      <td>59428.000000</td>\n    </tr>\n    <tr>\n      <th>mean</th>\n      <td>216.196187</td>\n      <td>2978.516199</td>\n      <td>1.625749</td>\n      <td>101.148849</td>\n      <td>0.360699</td>\n    </tr>\n    <tr>\n      <th>std</th>\n      <td>112.192175</td>\n      <td>2239.956072</td>\n      <td>0.862507</td>\n      <td>50.302894</td>\n      <td>0.298753</td>\n    </tr>\n    <tr>\n      <th>min</th>\n      <td>0.000000</td>\n      <td>0.000000</td>\n      <td>0.000000</td>\n      <td>0.000000</td>\n      <td>0.000000</td>\n    </tr>\n    <tr>\n      <th>25%</th>\n      <td>126.047373</td>\n      <td>1276.667500</td>\n      <td>1.042301</td>\n      <td>63.988297</td>\n      <td>0.110891</td>\n    </tr>\n    <tr>\n      <th>50%</th>\n      <td>227.017886</td>\n      <td>2676.235000</td>\n      <td>1.524091</td>\n      <td>103.376890</td>\n      <td>0.251653</td>\n    </tr>\n    <tr>\n      <th>75%</th>\n      <td>296.950454</td>\n      <td>4132.400000</td>\n      <td>2.181461</td>\n      <td>131.906037</td>\n      <td>0.581600</td>\n    </tr>\n    <tr>\n      <th>max</th>\n      <td>474.142638</td>\n      <td>22240.180000</td>\n      <td>6.987867</td>\n      <td>383.800439</td>\n      <td>1.000000</td>\n    </tr>\n  </tbody>\n</table>\n</div>"
     },
     "execution_count": 65,
     "metadata": {},
     "output_type": "execute_result"
    }
   ],
   "source": [
    "#RAM\n",
    "distance_smooth_df_cpu = distance_smooth_df[filterRAM]\n",
    "distance_smooth_df_cpu[measures].describe()"
   ],
   "metadata": {
    "collapsed": false,
    "pycharm": {
     "name": "#%%\n"
    }
   }
  },
  {
   "cell_type": "markdown",
   "source": [
    "Aggregation - Aggregation"
   ],
   "metadata": {
    "collapsed": false,
    "pycharm": {
     "name": "#%% md\n"
    }
   }
  },
  {
   "cell_type": "code",
   "execution_count": 52,
   "outputs": [
    {
     "data": {
      "text/plain": "         euclidean  dtw-python-distance  dtw-python-normalizedDistance  \\\ncount  8836.000000          8836.000000                    8836.000000   \nmean    869.282003          2411.635260                       1.090978   \nstd     225.903213           638.049343                       0.363677   \nmin       0.000000             0.000000                       0.000000   \n25%     740.133888          1980.860000                       0.840152   \n50%     839.888785          2313.200000                       1.039866   \n75%     994.764327          2809.510000                       1.294621   \nmax    1680.613562          4877.520000                       2.720000   \n\n       dtaidistance  lcss_similarity  \ncount   8836.000000      8836.000000  \nmean     186.448221         0.831251  \nstd       57.388347         0.042482  \nmin        0.000000         0.713178  \n25%      146.491757         0.806757  \n50%      180.425652         0.836820  \n75%      223.147892         0.859008  \nmax      418.397104         1.000000  ",
      "text/html": "<div>\n<style scoped>\n    .dataframe tbody tr th:only-of-type {\n        vertical-align: middle;\n    }\n\n    .dataframe tbody tr th {\n        vertical-align: top;\n    }\n\n    .dataframe thead th {\n        text-align: right;\n    }\n</style>\n<table border=\"1\" class=\"dataframe\">\n  <thead>\n    <tr style=\"text-align: right;\">\n      <th></th>\n      <th>euclidean</th>\n      <th>dtw-python-distance</th>\n      <th>dtw-python-normalizedDistance</th>\n      <th>dtaidistance</th>\n      <th>lcss_similarity</th>\n    </tr>\n  </thead>\n  <tbody>\n    <tr>\n      <th>count</th>\n      <td>8836.000000</td>\n      <td>8836.000000</td>\n      <td>8836.000000</td>\n      <td>8836.000000</td>\n      <td>8836.000000</td>\n    </tr>\n    <tr>\n      <th>mean</th>\n      <td>869.282003</td>\n      <td>2411.635260</td>\n      <td>1.090978</td>\n      <td>186.448221</td>\n      <td>0.831251</td>\n    </tr>\n    <tr>\n      <th>std</th>\n      <td>225.903213</td>\n      <td>638.049343</td>\n      <td>0.363677</td>\n      <td>57.388347</td>\n      <td>0.042482</td>\n    </tr>\n    <tr>\n      <th>min</th>\n      <td>0.000000</td>\n      <td>0.000000</td>\n      <td>0.000000</td>\n      <td>0.000000</td>\n      <td>0.713178</td>\n    </tr>\n    <tr>\n      <th>25%</th>\n      <td>740.133888</td>\n      <td>1980.860000</td>\n      <td>0.840152</td>\n      <td>146.491757</td>\n      <td>0.806757</td>\n    </tr>\n    <tr>\n      <th>50%</th>\n      <td>839.888785</td>\n      <td>2313.200000</td>\n      <td>1.039866</td>\n      <td>180.425652</td>\n      <td>0.836820</td>\n    </tr>\n    <tr>\n      <th>75%</th>\n      <td>994.764327</td>\n      <td>2809.510000</td>\n      <td>1.294621</td>\n      <td>223.147892</td>\n      <td>0.859008</td>\n    </tr>\n    <tr>\n      <th>max</th>\n      <td>1680.613562</td>\n      <td>4877.520000</td>\n      <td>2.720000</td>\n      <td>418.397104</td>\n      <td>1.000000</td>\n    </tr>\n  </tbody>\n</table>\n</div>"
     },
     "execution_count": 52,
     "metadata": {},
     "output_type": "execute_result"
    }
   ],
   "source": [
    "#CPU\n",
    "aggregation_with_aggregation = distance_smooth_df[filterCPU & filterAggregation1 & filterAggregation2]\n",
    "aggregation_with_aggregation[measures].describe()"
   ],
   "metadata": {
    "collapsed": false,
    "pycharm": {
     "name": "#%%\n"
    }
   }
  },
  {
   "cell_type": "code",
   "execution_count": 56,
   "outputs": [
    {
     "data": {
      "text/plain": "         euclidean  dtw-python-distance  dtw-python-normalizedDistance  \\\ncount  8836.000000          8836.000000                    8836.000000   \nmean    202.258910          2991.511951                       1.192453   \nstd      99.739709          1899.609354                       0.584117   \nmin       0.000000             0.000000                       0.000000   \n25%     124.553172          1516.850000                       0.811421   \n50%     217.362351          2886.435000                       1.231533   \n75%     279.555193          4059.950000                       1.532884   \nmax     423.476622         12214.800000                       3.588915   \n\n       dtaidistance  lcss_similarity  \ncount   8836.000000      8836.000000  \nmean      95.679660         0.428101  \nstd       43.868852         0.338295  \nmin        0.000000         0.017241  \n25%       65.484027         0.067425  \n50%       94.259751         0.442372  \n75%      125.874470         0.717874  \nmax      235.709983         1.000000  ",
      "text/html": "<div>\n<style scoped>\n    .dataframe tbody tr th:only-of-type {\n        vertical-align: middle;\n    }\n\n    .dataframe tbody tr th {\n        vertical-align: top;\n    }\n\n    .dataframe thead th {\n        text-align: right;\n    }\n</style>\n<table border=\"1\" class=\"dataframe\">\n  <thead>\n    <tr style=\"text-align: right;\">\n      <th></th>\n      <th>euclidean</th>\n      <th>dtw-python-distance</th>\n      <th>dtw-python-normalizedDistance</th>\n      <th>dtaidistance</th>\n      <th>lcss_similarity</th>\n    </tr>\n  </thead>\n  <tbody>\n    <tr>\n      <th>count</th>\n      <td>8836.000000</td>\n      <td>8836.000000</td>\n      <td>8836.000000</td>\n      <td>8836.000000</td>\n      <td>8836.000000</td>\n    </tr>\n    <tr>\n      <th>mean</th>\n      <td>202.258910</td>\n      <td>2991.511951</td>\n      <td>1.192453</td>\n      <td>95.679660</td>\n      <td>0.428101</td>\n    </tr>\n    <tr>\n      <th>std</th>\n      <td>99.739709</td>\n      <td>1899.609354</td>\n      <td>0.584117</td>\n      <td>43.868852</td>\n      <td>0.338295</td>\n    </tr>\n    <tr>\n      <th>min</th>\n      <td>0.000000</td>\n      <td>0.000000</td>\n      <td>0.000000</td>\n      <td>0.000000</td>\n      <td>0.017241</td>\n    </tr>\n    <tr>\n      <th>25%</th>\n      <td>124.553172</td>\n      <td>1516.850000</td>\n      <td>0.811421</td>\n      <td>65.484027</td>\n      <td>0.067425</td>\n    </tr>\n    <tr>\n      <th>50%</th>\n      <td>217.362351</td>\n      <td>2886.435000</td>\n      <td>1.231533</td>\n      <td>94.259751</td>\n      <td>0.442372</td>\n    </tr>\n    <tr>\n      <th>75%</th>\n      <td>279.555193</td>\n      <td>4059.950000</td>\n      <td>1.532884</td>\n      <td>125.874470</td>\n      <td>0.717874</td>\n    </tr>\n    <tr>\n      <th>max</th>\n      <td>423.476622</td>\n      <td>12214.800000</td>\n      <td>3.588915</td>\n      <td>235.709983</td>\n      <td>1.000000</td>\n    </tr>\n  </tbody>\n</table>\n</div>"
     },
     "execution_count": 56,
     "metadata": {},
     "output_type": "execute_result"
    }
   ],
   "source": [
    "#RAM\n",
    "aggregation_with_aggregation = distance_smooth_df[filterRAM & filterAggregation1 & filterAggregation2]\n",
    "aggregation_with_aggregation[measures].describe()"
   ],
   "metadata": {
    "collapsed": false,
    "pycharm": {
     "name": "#%%\n"
    }
   }
  },
  {
   "cell_type": "markdown",
   "source": [
    "Filtration - Filtration"
   ],
   "metadata": {
    "collapsed": false,
    "pycharm": {
     "name": "#%% md\n"
    }
   }
  },
  {
   "cell_type": "code",
   "execution_count": 54,
   "outputs": [
    {
     "data": {
      "text/plain": "          euclidean  dtw-python-distance  dtw-python-normalizedDistance  \\\ncount  10101.000000         10101.000000                   10101.000000   \nmean     427.265703          1416.340939                       3.529557   \nstd      268.495171          1588.707342                       4.297805   \nmin        0.000000             0.000000                       0.000000   \n25%      245.269620          1063.580000                       2.490918   \n50%      363.839533          1195.920000                       2.928927   \n75%      557.675318          1346.060000                       3.427784   \nmax     1850.113407         13715.350000                      39.631912   \n\n       dtaidistance  lcss_similarity  \ncount  10101.000000     10101.000000  \nmean     153.992208         0.621890  \nstd      194.079797         0.064046  \nmin        0.000000         0.441341  \n25%       98.535901         0.584270  \n50%      119.706547         0.617647  \n75%      156.781390         0.650980  \nmax     1585.985412         1.000000  ",
      "text/html": "<div>\n<style scoped>\n    .dataframe tbody tr th:only-of-type {\n        vertical-align: middle;\n    }\n\n    .dataframe tbody tr th {\n        vertical-align: top;\n    }\n\n    .dataframe thead th {\n        text-align: right;\n    }\n</style>\n<table border=\"1\" class=\"dataframe\">\n  <thead>\n    <tr style=\"text-align: right;\">\n      <th></th>\n      <th>euclidean</th>\n      <th>dtw-python-distance</th>\n      <th>dtw-python-normalizedDistance</th>\n      <th>dtaidistance</th>\n      <th>lcss_similarity</th>\n    </tr>\n  </thead>\n  <tbody>\n    <tr>\n      <th>count</th>\n      <td>10101.000000</td>\n      <td>10101.000000</td>\n      <td>10101.000000</td>\n      <td>10101.000000</td>\n      <td>10101.000000</td>\n    </tr>\n    <tr>\n      <th>mean</th>\n      <td>427.265703</td>\n      <td>1416.340939</td>\n      <td>3.529557</td>\n      <td>153.992208</td>\n      <td>0.621890</td>\n    </tr>\n    <tr>\n      <th>std</th>\n      <td>268.495171</td>\n      <td>1588.707342</td>\n      <td>4.297805</td>\n      <td>194.079797</td>\n      <td>0.064046</td>\n    </tr>\n    <tr>\n      <th>min</th>\n      <td>0.000000</td>\n      <td>0.000000</td>\n      <td>0.000000</td>\n      <td>0.000000</td>\n      <td>0.441341</td>\n    </tr>\n    <tr>\n      <th>25%</th>\n      <td>245.269620</td>\n      <td>1063.580000</td>\n      <td>2.490918</td>\n      <td>98.535901</td>\n      <td>0.584270</td>\n    </tr>\n    <tr>\n      <th>50%</th>\n      <td>363.839533</td>\n      <td>1195.920000</td>\n      <td>2.928927</td>\n      <td>119.706547</td>\n      <td>0.617647</td>\n    </tr>\n    <tr>\n      <th>75%</th>\n      <td>557.675318</td>\n      <td>1346.060000</td>\n      <td>3.427784</td>\n      <td>156.781390</td>\n      <td>0.650980</td>\n    </tr>\n    <tr>\n      <th>max</th>\n      <td>1850.113407</td>\n      <td>13715.350000</td>\n      <td>39.631912</td>\n      <td>1585.985412</td>\n      <td>1.000000</td>\n    </tr>\n  </tbody>\n</table>\n</div>"
     },
     "execution_count": 54,
     "metadata": {},
     "output_type": "execute_result"
    }
   ],
   "source": [
    "#CPU\n",
    "filtrationWithFiltration = distance_smooth_df[filterCPU & filterFiltration1 & filterFiltration2]\n",
    "filtrationWithFiltration[measures].describe()"
   ],
   "metadata": {
    "collapsed": false,
    "pycharm": {
     "name": "#%%\n"
    }
   }
  },
  {
   "cell_type": "code",
   "execution_count": 58,
   "outputs": [
    {
     "data": {
      "text/plain": "          euclidean  dtw-python-distance  dtw-python-normalizedDistance  \\\ncount  10101.000000         10101.000000                   10101.000000   \nmean      56.889355           388.441271                       0.882545   \nstd       31.769498           284.860572                       0.578324   \nmin        0.000000             0.000000                       0.000000   \n25%       34.312289           188.670000                       0.510196   \n50%       51.560042           342.310000                       0.830000   \n75%       78.061918           529.000000                       1.194252   \nmax      151.278193          3006.830000                       5.127843   \n\n       dtaidistance  lcss_similarity  \ncount  10101.000000     10101.000000  \nmean      34.774275         0.650460  \nstd       16.597753         0.263072  \nmin        0.000000         0.000000  \n25%       24.404139         0.433498  \n50%       33.537709         0.710280  \n75%       44.686726         0.859873  \nmax      135.353332         1.000000  ",
      "text/html": "<div>\n<style scoped>\n    .dataframe tbody tr th:only-of-type {\n        vertical-align: middle;\n    }\n\n    .dataframe tbody tr th {\n        vertical-align: top;\n    }\n\n    .dataframe thead th {\n        text-align: right;\n    }\n</style>\n<table border=\"1\" class=\"dataframe\">\n  <thead>\n    <tr style=\"text-align: right;\">\n      <th></th>\n      <th>euclidean</th>\n      <th>dtw-python-distance</th>\n      <th>dtw-python-normalizedDistance</th>\n      <th>dtaidistance</th>\n      <th>lcss_similarity</th>\n    </tr>\n  </thead>\n  <tbody>\n    <tr>\n      <th>count</th>\n      <td>10101.000000</td>\n      <td>10101.000000</td>\n      <td>10101.000000</td>\n      <td>10101.000000</td>\n      <td>10101.000000</td>\n    </tr>\n    <tr>\n      <th>mean</th>\n      <td>56.889355</td>\n      <td>388.441271</td>\n      <td>0.882545</td>\n      <td>34.774275</td>\n      <td>0.650460</td>\n    </tr>\n    <tr>\n      <th>std</th>\n      <td>31.769498</td>\n      <td>284.860572</td>\n      <td>0.578324</td>\n      <td>16.597753</td>\n      <td>0.263072</td>\n    </tr>\n    <tr>\n      <th>min</th>\n      <td>0.000000</td>\n      <td>0.000000</td>\n      <td>0.000000</td>\n      <td>0.000000</td>\n      <td>0.000000</td>\n    </tr>\n    <tr>\n      <th>25%</th>\n      <td>34.312289</td>\n      <td>188.670000</td>\n      <td>0.510196</td>\n      <td>24.404139</td>\n      <td>0.433498</td>\n    </tr>\n    <tr>\n      <th>50%</th>\n      <td>51.560042</td>\n      <td>342.310000</td>\n      <td>0.830000</td>\n      <td>33.537709</td>\n      <td>0.710280</td>\n    </tr>\n    <tr>\n      <th>75%</th>\n      <td>78.061918</td>\n      <td>529.000000</td>\n      <td>1.194252</td>\n      <td>44.686726</td>\n      <td>0.859873</td>\n    </tr>\n    <tr>\n      <th>max</th>\n      <td>151.278193</td>\n      <td>3006.830000</td>\n      <td>5.127843</td>\n      <td>135.353332</td>\n      <td>1.000000</td>\n    </tr>\n  </tbody>\n</table>\n</div>"
     },
     "execution_count": 58,
     "metadata": {},
     "output_type": "execute_result"
    }
   ],
   "source": [
    "#RAM\n",
    "filtrationWithFiltration = distance_smooth_df[filterRAM & filterFiltration1 & filterFiltration2]\n",
    "filtrationWithFiltration[measures].describe()"
   ],
   "metadata": {
    "collapsed": false,
    "pycharm": {
     "name": "#%%\n"
    }
   }
  },
  {
   "cell_type": "markdown",
   "source": [
    "Aggregation - Filtration"
   ],
   "metadata": {
    "collapsed": false,
    "pycharm": {
     "name": "#%% md\n"
    }
   }
  },
  {
   "cell_type": "code",
   "execution_count": 55,
   "outputs": [
    {
     "data": {
      "text/plain": "          euclidean  dtw-python-distance  dtw-python-normalizedDistance  \\\ncount  10998.000000         10998.000000                   10998.000000   \nmean     891.651311          3808.576144                       2.279959   \nstd      217.175965          1430.970647                       1.223443   \nmin      451.026602          1875.930000                       0.789269   \n25%      743.351199          3292.287500                       1.478740   \n50%      849.801585          3666.480000                       2.033580   \n75%     1000.554350          4070.427500                       2.926895   \nmax     2099.574980         19313.380000                      17.799465   \n\n       dtaidistance  lcss_similarity  \ncount  10998.000000     10998.000000  \nmean     389.677770         0.762543  \nstd      155.192604         0.058844  \nmin      151.738908         0.601083  \n25%      310.455563         0.716580  \n50%      382.552672         0.766712  \n75%      448.243069         0.811332  \nmax     1819.645331         0.891795  ",
      "text/html": "<div>\n<style scoped>\n    .dataframe tbody tr th:only-of-type {\n        vertical-align: middle;\n    }\n\n    .dataframe tbody tr th {\n        vertical-align: top;\n    }\n\n    .dataframe thead th {\n        text-align: right;\n    }\n</style>\n<table border=\"1\" class=\"dataframe\">\n  <thead>\n    <tr style=\"text-align: right;\">\n      <th></th>\n      <th>euclidean</th>\n      <th>dtw-python-distance</th>\n      <th>dtw-python-normalizedDistance</th>\n      <th>dtaidistance</th>\n      <th>lcss_similarity</th>\n    </tr>\n  </thead>\n  <tbody>\n    <tr>\n      <th>count</th>\n      <td>10998.000000</td>\n      <td>10998.000000</td>\n      <td>10998.000000</td>\n      <td>10998.000000</td>\n      <td>10998.000000</td>\n    </tr>\n    <tr>\n      <th>mean</th>\n      <td>891.651311</td>\n      <td>3808.576144</td>\n      <td>2.279959</td>\n      <td>389.677770</td>\n      <td>0.762543</td>\n    </tr>\n    <tr>\n      <th>std</th>\n      <td>217.175965</td>\n      <td>1430.970647</td>\n      <td>1.223443</td>\n      <td>155.192604</td>\n      <td>0.058844</td>\n    </tr>\n    <tr>\n      <th>min</th>\n      <td>451.026602</td>\n      <td>1875.930000</td>\n      <td>0.789269</td>\n      <td>151.738908</td>\n      <td>0.601083</td>\n    </tr>\n    <tr>\n      <th>25%</th>\n      <td>743.351199</td>\n      <td>3292.287500</td>\n      <td>1.478740</td>\n      <td>310.455563</td>\n      <td>0.716580</td>\n    </tr>\n    <tr>\n      <th>50%</th>\n      <td>849.801585</td>\n      <td>3666.480000</td>\n      <td>2.033580</td>\n      <td>382.552672</td>\n      <td>0.766712</td>\n    </tr>\n    <tr>\n      <th>75%</th>\n      <td>1000.554350</td>\n      <td>4070.427500</td>\n      <td>2.926895</td>\n      <td>448.243069</td>\n      <td>0.811332</td>\n    </tr>\n    <tr>\n      <th>max</th>\n      <td>2099.574980</td>\n      <td>19313.380000</td>\n      <td>17.799465</td>\n      <td>1819.645331</td>\n      <td>0.891795</td>\n    </tr>\n  </tbody>\n</table>\n</div>"
     },
     "execution_count": 55,
     "metadata": {},
     "output_type": "execute_result"
    }
   ],
   "source": [
    "#CPU\n",
    "aggregationWithFiltration = distance_smooth_df[filterCPU & filterAggregation1 & filterFiltration2]\n",
    "aggregationWithFiltration[measures].describe()"
   ],
   "metadata": {
    "collapsed": false,
    "pycharm": {
     "name": "#%%\n"
    }
   }
  },
  {
   "cell_type": "code",
   "execution_count": 59,
   "outputs": [
    {
     "data": {
      "text/plain": "          euclidean  dtw-python-distance  dtw-python-normalizedDistance  \\\ncount  10998.000000         10998.000000                   10998.000000   \nmean     290.235593          4110.806147                       2.110338   \nstd       76.299967          2269.273640                       0.694361   \nmin      130.442595           847.740000                       0.765108   \n25%      227.754360          2448.252500                       1.558499   \n50%      277.292660          3400.750000                       2.010313   \n75%      353.521413          5275.122500                       2.503136   \nmax      474.142638         22240.180000                       6.720827   \n\n       dtaidistance  lcss_similarity  \ncount  10998.000000     10998.000000  \nmean     127.684333         0.183356  \nstd       41.928933         0.116199  \nmin       42.213319         0.000000  \n25%       99.616716         0.098575  \n50%      117.638278         0.154696  \n75%      158.149317         0.252768  \nmax      383.800439         0.602273  ",
      "text/html": "<div>\n<style scoped>\n    .dataframe tbody tr th:only-of-type {\n        vertical-align: middle;\n    }\n\n    .dataframe tbody tr th {\n        vertical-align: top;\n    }\n\n    .dataframe thead th {\n        text-align: right;\n    }\n</style>\n<table border=\"1\" class=\"dataframe\">\n  <thead>\n    <tr style=\"text-align: right;\">\n      <th></th>\n      <th>euclidean</th>\n      <th>dtw-python-distance</th>\n      <th>dtw-python-normalizedDistance</th>\n      <th>dtaidistance</th>\n      <th>lcss_similarity</th>\n    </tr>\n  </thead>\n  <tbody>\n    <tr>\n      <th>count</th>\n      <td>10998.000000</td>\n      <td>10998.000000</td>\n      <td>10998.000000</td>\n      <td>10998.000000</td>\n      <td>10998.000000</td>\n    </tr>\n    <tr>\n      <th>mean</th>\n      <td>290.235593</td>\n      <td>4110.806147</td>\n      <td>2.110338</td>\n      <td>127.684333</td>\n      <td>0.183356</td>\n    </tr>\n    <tr>\n      <th>std</th>\n      <td>76.299967</td>\n      <td>2269.273640</td>\n      <td>0.694361</td>\n      <td>41.928933</td>\n      <td>0.116199</td>\n    </tr>\n    <tr>\n      <th>min</th>\n      <td>130.442595</td>\n      <td>847.740000</td>\n      <td>0.765108</td>\n      <td>42.213319</td>\n      <td>0.000000</td>\n    </tr>\n    <tr>\n      <th>25%</th>\n      <td>227.754360</td>\n      <td>2448.252500</td>\n      <td>1.558499</td>\n      <td>99.616716</td>\n      <td>0.098575</td>\n    </tr>\n    <tr>\n      <th>50%</th>\n      <td>277.292660</td>\n      <td>3400.750000</td>\n      <td>2.010313</td>\n      <td>117.638278</td>\n      <td>0.154696</td>\n    </tr>\n    <tr>\n      <th>75%</th>\n      <td>353.521413</td>\n      <td>5275.122500</td>\n      <td>2.503136</td>\n      <td>158.149317</td>\n      <td>0.252768</td>\n    </tr>\n    <tr>\n      <th>max</th>\n      <td>474.142638</td>\n      <td>22240.180000</td>\n      <td>6.720827</td>\n      <td>383.800439</td>\n      <td>0.602273</td>\n    </tr>\n  </tbody>\n</table>\n</div>"
     },
     "execution_count": 59,
     "metadata": {},
     "output_type": "execute_result"
    }
   ],
   "source": [
    "#RAM\n",
    "aggregationWithFiltration = distance_smooth_df[filterRAM & filterAggregation1 & filterFiltration2]\n",
    "aggregationWithFiltration[measures].describe()"
   ],
   "metadata": {
    "collapsed": false,
    "pycharm": {
     "name": "#%%\n"
    }
   }
  },
  {
   "cell_type": "code",
   "execution_count": null,
   "outputs": [],
   "source": [],
   "metadata": {
    "collapsed": false,
    "pycharm": {
     "name": "#%%\n"
    }
   }
  }
 ],
 "metadata": {
  "kernelspec": {
   "display_name": "Python 3 (ipykernel)",
   "language": "python",
   "name": "python3"
  },
  "language_info": {
   "codemirror_mode": {
    "name": "ipython",
    "version": 3
   },
   "file_extension": ".py",
   "mimetype": "text/x-python",
   "name": "python",
   "nbconvert_exporter": "python",
   "pygments_lexer": "ipython3",
   "version": "3.8.5"
  }
 },
 "nbformat": 4,
 "nbformat_minor": 1
}