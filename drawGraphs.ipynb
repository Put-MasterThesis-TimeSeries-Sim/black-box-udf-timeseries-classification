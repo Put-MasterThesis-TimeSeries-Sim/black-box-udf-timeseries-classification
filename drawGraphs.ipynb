{
 "cells": [
  {
   "cell_type": "code",
   "execution_count": 1,
   "metadata": {
    "collapsed": false,
    "pycharm": {
     "name": "#%%\n"
    }
   },
   "outputs": [],
   "source": [
    "import pandas as pd\n",
    "from plotnine import *\n",
    "import os"
   ]
  },
  {
   "cell_type": "code",
   "execution_count": 2,
   "metadata": {},
   "outputs": [],
   "source": [
    "entry_directory = \"Raw\"\n",
    "prepared_directory = \"Prepared\"\n",
    "organised_directory = \"Organised\""
   ]
  },
  {
   "cell_type": "markdown",
   "metadata": {},
   "source": [
    "## Example graphs for each type"
   ]
  },
  {
   "cell_type": "code",
   "execution_count": 14,
   "metadata": {},
   "outputs": [
    {
     "name": "stderr",
     "output_type": "stream",
     "text": [
      "C:\\Users\\Miket\\AppData\\Local\\Programs\\Python\\Python310\\lib\\site-packages\\plotnine\\ggplot.py:719: PlotnineWarning: Saving 6.4 x 4.8 in image.\n",
      "C:\\Users\\Miket\\AppData\\Local\\Programs\\Python\\Python310\\lib\\site-packages\\plotnine\\ggplot.py:722: PlotnineWarning: Filename: Plots/aggregation/aggregation_example_cpu_snapshot_1.png\n",
      "C:\\Users\\Miket\\AppData\\Local\\Programs\\Python\\Python310\\lib\\site-packages\\plotnine\\ggplot.py:719: PlotnineWarning: Saving 6.4 x 4.8 in image.\n",
      "C:\\Users\\Miket\\AppData\\Local\\Programs\\Python\\Python310\\lib\\site-packages\\plotnine\\ggplot.py:722: PlotnineWarning: Filename: Plots/aggregation/aggregation_example_ram_snapshot_1.png\n",
      "C:\\Users\\Miket\\AppData\\Local\\Programs\\Python\\Python310\\lib\\site-packages\\plotnine\\ggplot.py:719: PlotnineWarning: Saving 6.4 x 4.8 in image.\n",
      "C:\\Users\\Miket\\AppData\\Local\\Programs\\Python\\Python310\\lib\\site-packages\\plotnine\\ggplot.py:722: PlotnineWarning: Filename: Plots/filtration/filtration_example_cpu_snapshot_1.png\n",
      "C:\\Users\\Miket\\AppData\\Local\\Programs\\Python\\Python310\\lib\\site-packages\\plotnine\\ggplot.py:719: PlotnineWarning: Saving 6.4 x 4.8 in image.\n",
      "C:\\Users\\Miket\\AppData\\Local\\Programs\\Python\\Python310\\lib\\site-packages\\plotnine\\ggplot.py:722: PlotnineWarning: Filename: Plots/filtration/filtration_example_ram_snapshot_1.png\n",
      "C:\\Users\\Miket\\AppData\\Local\\Programs\\Python\\Python310\\lib\\site-packages\\plotnine\\ggplot.py:719: PlotnineWarning: Saving 6.4 x 4.8 in image.\n",
      "C:\\Users\\Miket\\AppData\\Local\\Programs\\Python\\Python310\\lib\\site-packages\\plotnine\\ggplot.py:722: PlotnineWarning: Filename: Plots/filtration-aggregation/filtration-aggregation_example_cpu_snapshot_1.png\n",
      "C:\\Users\\Miket\\AppData\\Local\\Programs\\Python\\Python310\\lib\\site-packages\\plotnine\\ggplot.py:719: PlotnineWarning: Saving 6.4 x 4.8 in image.\n",
      "C:\\Users\\Miket\\AppData\\Local\\Programs\\Python\\Python310\\lib\\site-packages\\plotnine\\ggplot.py:722: PlotnineWarning: Filename: Plots/filtration-aggregation/filtration-aggregation_example_ram_snapshot_1.png\n",
      "C:\\Users\\Miket\\AppData\\Local\\Programs\\Python\\Python310\\lib\\site-packages\\plotnine\\ggplot.py:719: PlotnineWarning: Saving 6.4 x 4.8 in image.\n",
      "C:\\Users\\Miket\\AppData\\Local\\Programs\\Python\\Python310\\lib\\site-packages\\plotnine\\ggplot.py:722: PlotnineWarning: Filename: Plots/filtration-aggregation-join/filtration-aggregation-join_example_cpu_snapshot_1.png\n",
      "C:\\Users\\Miket\\AppData\\Local\\Programs\\Python\\Python310\\lib\\site-packages\\plotnine\\ggplot.py:719: PlotnineWarning: Saving 6.4 x 4.8 in image.\n",
      "C:\\Users\\Miket\\AppData\\Local\\Programs\\Python\\Python310\\lib\\site-packages\\plotnine\\ggplot.py:722: PlotnineWarning: Filename: Plots/filtration-aggregation-join/filtration-aggregation-join_example_ram_snapshot_1.png\n",
      "C:\\Users\\Miket\\AppData\\Local\\Programs\\Python\\Python310\\lib\\site-packages\\plotnine\\ggplot.py:719: PlotnineWarning: Saving 6.4 x 4.8 in image.\n",
      "C:\\Users\\Miket\\AppData\\Local\\Programs\\Python\\Python310\\lib\\site-packages\\plotnine\\ggplot.py:722: PlotnineWarning: Filename: Plots/filtration-join/filtration-join_example_cpu_snapshot_1.png\n",
      "C:\\Users\\Miket\\AppData\\Local\\Programs\\Python\\Python310\\lib\\site-packages\\plotnine\\ggplot.py:719: PlotnineWarning: Saving 6.4 x 4.8 in image.\n",
      "C:\\Users\\Miket\\AppData\\Local\\Programs\\Python\\Python310\\lib\\site-packages\\plotnine\\ggplot.py:722: PlotnineWarning: Filename: Plots/filtration-join/filtration-join_example_ram_snapshot_1.png\n"
     ]
    }
   ],
   "source": [
    "%matplotlib inline\n",
    "udf_types = ['aggregation', 'filtration', 'filtration-aggregation', 'filtration-aggregation-join', 'filtration-join']\n",
    "for udf_type in udf_types:\n",
    "  joined_aggregation_all = pd.read_csv(f\"{organised_directory}/{udf_type}/joined_{udf_type}.csv\")\n",
    "  joined_aggregation = joined_aggregation_all[joined_aggregation_all[\"snapshot\"] == 1]\n",
    "\n",
    "  cpu_plot = (ggplot(joined_aggregation)         # defining what data to use\n",
    "    + aes(x='epoch', y = \"CPU\")    # defining what variable to use\n",
    "    + geom_line(size=0.5, color = \"red\") # defining the type of plot to use\n",
    "    + labs(title=f\"Przebieg zużycia CPU - {udf_type}\", y=\"Zużycie procesora (%)\", x = \"Czas (s)\")\n",
    "  )\n",
    "\n",
    "  ram_plot = (ggplot(joined_aggregation)         # defining what data to use\n",
    "    + aes(x='epoch', y = \"RAM\")    # defining what variable to use\n",
    "    + geom_line(size=0.5, color = \"red\") # defining the type of plot to use\n",
    "    + labs(title=f\"Przebieg zużycia RAM - {udf_type}\", y=\"Zużycie RAM (%)\", x = \"Czas (s)\")\n",
    "  )\n",
    "  if not os.path.exists(f\"Plots/{udf_type}\"):\n",
    "    os.makedirs(f\"Plots/{udf_type}\")\n",
    "    \n",
    "  cpu_plot.save(f\"Plots/{udf_type}/{udf_type}_example_cpu_snapshot_1.png\", dpi=600)\n",
    "  ram_plot.save(f\"Plots/{udf_type}/{udf_type}_example_ram_snapshot_1.png\", dpi=600)\n"
   ]
  },
  {
   "cell_type": "markdown",
   "metadata": {},
   "source": [
    "## Example smooth graphs for aggregation"
   ]
  },
  {
   "cell_type": "code",
   "execution_count": 4,
   "metadata": {},
   "outputs": [
    {
     "name": "stderr",
     "output_type": "stream",
     "text": [
      "C:\\Users\\Miket\\AppData\\Local\\Programs\\Python\\Python310\\lib\\site-packages\\plotnine\\ggplot.py:719: PlotnineWarning: Saving 6.4 x 4.8 in image.\n",
      "C:\\Users\\Miket\\AppData\\Local\\Programs\\Python\\Python310\\lib\\site-packages\\plotnine\\ggplot.py:722: PlotnineWarning: Filename: Plots/aggregation/aggregation_smooth_6_cpu_snapshot_1.png\n",
      "C:\\Users\\Miket\\AppData\\Local\\Programs\\Python\\Python310\\lib\\site-packages\\plotnine\\ggplot.py:719: PlotnineWarning: Saving 6.4 x 4.8 in image.\n",
      "C:\\Users\\Miket\\AppData\\Local\\Programs\\Python\\Python310\\lib\\site-packages\\plotnine\\ggplot.py:722: PlotnineWarning: Filename: Plots/aggregation/aggregation_smooth_6_ram_snapshot_1.png\n",
      "C:\\Users\\Miket\\AppData\\Local\\Programs\\Python\\Python310\\lib\\site-packages\\plotnine\\ggplot.py:719: PlotnineWarning: Saving 6.4 x 4.8 in image.\n",
      "C:\\Users\\Miket\\AppData\\Local\\Programs\\Python\\Python310\\lib\\site-packages\\plotnine\\ggplot.py:722: PlotnineWarning: Filename: Plots/aggregation/aggregation_smooth_12_cpu_snapshot_1.png\n",
      "C:\\Users\\Miket\\AppData\\Local\\Programs\\Python\\Python310\\lib\\site-packages\\plotnine\\ggplot.py:719: PlotnineWarning: Saving 6.4 x 4.8 in image.\n",
      "C:\\Users\\Miket\\AppData\\Local\\Programs\\Python\\Python310\\lib\\site-packages\\plotnine\\ggplot.py:722: PlotnineWarning: Filename: Plots/aggregation/aggregation_smooth_12_ram_snapshot_1.png\n",
      "C:\\Users\\Miket\\AppData\\Local\\Programs\\Python\\Python310\\lib\\site-packages\\plotnine\\ggplot.py:719: PlotnineWarning: Saving 6.4 x 4.8 in image.\n",
      "C:\\Users\\Miket\\AppData\\Local\\Programs\\Python\\Python310\\lib\\site-packages\\plotnine\\ggplot.py:722: PlotnineWarning: Filename: Plots/aggregation/aggregation_smooth_18_cpu_snapshot_1.png\n",
      "C:\\Users\\Miket\\AppData\\Local\\Programs\\Python\\Python310\\lib\\site-packages\\plotnine\\ggplot.py:719: PlotnineWarning: Saving 6.4 x 4.8 in image.\n",
      "C:\\Users\\Miket\\AppData\\Local\\Programs\\Python\\Python310\\lib\\site-packages\\plotnine\\ggplot.py:722: PlotnineWarning: Filename: Plots/aggregation/aggregation_smooth_18_ram_snapshot_1.png\n"
     ]
    }
   ],
   "source": [
    "%matplotlib inline\n",
    "udf_type = \"aggregation\"\n",
    "samples = [6, 12, 18]\n",
    "for sample in samples:\n",
    "  joined_aggregation_all = pd.read_csv(f\"{organised_directory}/{udf_type}/{sample}_smooth_{udf_type}.csv\")\n",
    "  joined_aggregation = joined_aggregation_all[joined_aggregation_all[\"snapshot\"] == 1]\n",
    "\n",
    "  cpu_plot = (ggplot(joined_aggregation)         # defining what data to use\n",
    "    + aes(x='epoch', y = \"CPU\")    # defining what variable to use\n",
    "    + geom_line(size=0.5, color = \"red\") # defining the type of plot to use\n",
    "    + labs(title=f\"Przebieg zużycia CPU - {udf_type}\", y=\"Zużycie procesora (%)\", x = \"Czas (s)\")\n",
    "  )\n",
    "\n",
    "  ram_plot = (ggplot(joined_aggregation)         # defining what data to use\n",
    "    + aes(x='epoch', y = \"RAM\")    # defining what variable to use\n",
    "    + geom_line(size=0.5, color = \"red\") # defining the type of plot to use\n",
    "    + labs(title=f\"Przebieg zużycia RAM - {udf_type}\", y=\"Zużycie RAM (%)\", x = \"Czas (s)\")\n",
    "  )\n",
    "  if not os.path.exists(f\"Plots/{udf_type}\"):\n",
    "    os.makedirs(f\"Plots/{udf_type}\")\n",
    "    \n",
    "  cpu_plot.save(f\"Plots/{udf_type}/{udf_type}_smooth_{sample}_cpu_snapshot_1.png\", dpi=600)\n",
    "  ram_plot.save(f\"Plots/{udf_type}/{udf_type}_smooth_{sample}_ram_snapshot_1.png\", dpi=600)"
   ]
  }
 ],
 "metadata": {
  "kernelspec": {
   "display_name": "Python 3",
   "language": "python",
   "name": "python3"
  },
  "language_info": {
   "codemirror_mode": {
    "name": "ipython",
    "version": 3
   },
   "file_extension": ".py",
   "mimetype": "text/x-python",
   "name": "python",
   "nbconvert_exporter": "python",
   "pygments_lexer": "ipython3",
   "version": "3.10.2"
  }
 },
 "nbformat": 4,
 "nbformat_minor": 0
}
