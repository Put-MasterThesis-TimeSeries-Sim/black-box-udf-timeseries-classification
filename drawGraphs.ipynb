{
 "cells": [
  {
   "cell_type": "code",
   "execution_count": null,
   "metadata": {
    "collapsed": false,
    "pycharm": {
     "name": "#%%\n"
    }
   },
   "outputs": [],
   "source": [
    "import pandas as pd\n",
    "from plotnine import *\n",
    "import os"
   ]
  },
  {
   "cell_type": "code",
   "execution_count": null,
   "metadata": {},
   "outputs": [],
   "source": [
    "entry_directory = \"Raw\"\n",
    "prepared_directory = \"Prepared\"\n",
    "organised_directory = \"Organised\""
   ]
  },
  {
   "cell_type": "markdown",
   "metadata": {},
   "source": [
    "## Example graphs for each type"
   ]
  },
  {
   "cell_type": "code",
   "execution_count": null,
   "metadata": {},
   "outputs": [],
   "source": [
    "%matplotlib inline\n",
    "udf_types = ['aggregation', 'filtration', 'filtration-aggregation', 'filtration-aggregation-join', 'filtration-join']\n",
    "for udf_type in udf_types:\n",
    "  joined_file_all = pd.read_csv(f\"{organised_directory}/{udf_type}/joined_{udf_type}.csv\")\n",
    "  joined_file_snapshot = joined_file_all[joined_file_all[\"snapshot\"] == 1]\n",
    "\n",
    "  cpu_plot = (ggplot(joined_file_snapshot)         # defining what data to use\n",
    "    + aes(x='epoch', y = \"CPU\")    # defining what variable to use\n",
    "    + geom_line(size=0.5, color = \"red\") # defining the type of plot to use\n",
    "    + labs(title=f\"Przebieg zużycia CPU - {udf_type}\", y=\"Zużycie procesora (%)\", x = \"Czas (s)\")\n",
    "  )\n",
    "\n",
    "  ram_plot = (ggplot(joined_file_snapshot)         # defining what data to use\n",
    "    + aes(x='epoch', y = \"RAM\")    # defining what variable to use\n",
    "    + geom_line(size=0.5, color = \"red\") # defining the type of plot to use\n",
    "    + labs(title=f\"Przebieg zużycia RAM - {udf_type}\", y=\"Zużycie RAM (%)\", x = \"Czas (s)\")\n",
    "  )\n",
    "  if not os.path.exists(f\"Plots/{udf_type}\"):\n",
    "    os.makedirs(f\"Plots/{udf_type}\")\n",
    "    \n",
    "  cpu_plot.save(f\"Plots/{udf_type}/{udf_type}_example_cpu_snapshot_1.png\", dpi=600)\n",
    "  ram_plot.save(f\"Plots/{udf_type}/{udf_type}_example_ram_snapshot_1.png\", dpi=600)\n"
   ]
  },
  {
   "cell_type": "markdown",
   "metadata": {},
   "source": [
    "## Example smooth graphs for aggregation"
   ]
  },
  {
   "cell_type": "code",
   "execution_count": null,
   "metadata": {},
   "outputs": [],
   "source": [
    "%matplotlib inline\n",
    "udf_type = \"aggregation\"\n",
    "samples = [6, 12, 18]\n",
    "for sample in samples:\n",
    "  joined_aggregation_all = pd.read_csv(f\"{organised_directory}/{udf_type}/{sample}_smooth_{udf_type}.csv\")\n",
    "  joined_aggregation = joined_aggregation_all[joined_aggregation_all[\"snapshot\"] == 1]\n",
    "\n",
    "  cpu_plot = (ggplot(joined_aggregation)         # defining what data to use\n",
    "    + aes(x='epoch', y = \"CPU\")    # defining what variable to use\n",
    "    + geom_line(size=0.5, color = \"red\") # defining the type of plot to use\n",
    "    + labs(title=f\"Przebieg zużycia CPU - {udf_type}\", y=\"Zużycie procesora (%)\", x = \"Czas (s)\")\n",
    "  )\n",
    "\n",
    "  ram_plot = (ggplot(joined_aggregation)         # defining what data to use\n",
    "    + aes(x='epoch', y = \"RAM\")    # defining what variable to use\n",
    "    + geom_line(size=0.5, color = \"red\") # defining the type of plot to use\n",
    "    + labs(title=f\"Przebieg zużycia RAM - {udf_type}\", y=\"Zużycie RAM (%)\", x = \"Czas (s)\")\n",
    "  )\n",
    "  if not os.path.exists(f\"Plots/{udf_type}\"):\n",
    "    os.makedirs(f\"Plots/{udf_type}\")\n",
    "    \n",
    "  cpu_plot.save(f\"Plots/{udf_type}/{udf_type}_smooth_{sample}_cpu_snapshot_1.png\", dpi=600)\n",
    "  ram_plot.save(f\"Plots/{udf_type}/{udf_type}_smooth_{sample}_ram_snapshot_1.png\", dpi=600)"
   ]
  },
  {
   "cell_type": "markdown",
   "metadata": {},
   "source": [
    "## Example standardised graphs for aggregation"
   ]
  },
  {
   "cell_type": "code",
   "execution_count": null,
   "metadata": {},
   "outputs": [],
   "source": [
    "%matplotlib inline\n",
    "udf_type = \"aggregation\"\n",
    "samples = [1, 30, 60]\n",
    "joined_aggregation_all = pd.read_csv(f\"{organised_directory}/{udf_type}/standardised_{udf_type}.csv\")\n",
    "for sample in samples:\n",
    "  joined_aggregation = joined_aggregation_all[joined_aggregation_all[\"snapshot\"] == sample]\n",
    "\n",
    "  cpu_plot = (ggplot(joined_aggregation)         # defining what data to use\n",
    "    + aes(x='epoch', y = \"CPU\")    # defining what variable to use\n",
    "    + geom_line(size=0.5, color = \"red\") # defining the type of plot to use\n",
    "    + labs(title=f\"Przebieg zużycia CPU - {udf_type}\", y=\"Zużycie procesora (%)\", x = \"Czas (s)\")\n",
    "  )\n",
    "\n",
    "  ram_plot = (ggplot(joined_aggregation)         # defining what data to use\n",
    "    + aes(x='epoch', y = \"RAM\")    # defining what variable to use\n",
    "    + geom_line(size=0.5, color = \"red\") # defining the type of plot to use\n",
    "    + labs(title=f\"Przebieg zużycia RAM - {udf_type}\", y=\"Zużycie RAM (%)\", x = \"Czas (s)\")\n",
    "  )\n",
    "  if not os.path.exists(f\"Plots/{udf_type}\"):\n",
    "    os.makedirs(f\"Plots/{udf_type}\")\n",
    "    \n",
    "  cpu_plot.save(f\"Plots/{udf_type}/{udf_type}_standardised_cpu_snapshot_{sample}.png\", dpi=600)\n",
    "  ram_plot.save(f\"Plots/{udf_type}/{udf_type}_standardised_ram_snapshot_{sample}.png\", dpi=600)"
   ]
  }
 ],
 "metadata": {
  "kernelspec": {
   "display_name": "Python 3",
   "language": "python",
   "name": "python3"
  },
  "language_info": {
   "codemirror_mode": {
    "name": "ipython",
    "version": 3
   },
   "file_extension": ".py",
   "mimetype": "text/x-python",
   "name": "python",
   "nbconvert_exporter": "python",
   "pygments_lexer": "ipython3",
   "version": "3.10.2"
  }
 },
 "nbformat": 4,
 "nbformat_minor": 0
}