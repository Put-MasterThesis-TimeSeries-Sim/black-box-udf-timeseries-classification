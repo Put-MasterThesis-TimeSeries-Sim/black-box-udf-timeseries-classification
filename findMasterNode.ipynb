{
 "cells": [
  {
   "cell_type": "code",
   "execution_count": 19,
   "outputs": [],
   "source": [
    "import pandas as pd\n",
    "import glob\n",
    "import os\n"
   ],
   "metadata": {
    "collapsed": false,
    "pycharm": {
     "name": "#%%\n"
    }
   }
  },
  {
   "cell_type": "code",
   "execution_count": null,
   "outputs": [],
   "source": [
    "f = open('findMasterReport', 'w')\n",
    "root = \".\\Raw\"\n",
    "for functionTypeDirectory in os.listdir(root):\n",
    "    f.write(\"\\nfunctionTypeDirectory: \"+functionTypeDirectory)\n",
    "    if os.path.isdir(os.path.join(root, functionTypeDirectory)):\n",
    "        for functionDirectory in os.listdir(os.path.join(root, functionTypeDirectory)):\n",
    "            f.write(\"\\nfunctionDirectory: \"+functionDirectory)\n",
    "            for numberOfNodesDirectory in os.listdir(os.path.join(root, functionTypeDirectory, functionDirectory)):\n",
    "                f.write(\"\\nnumberOfNodesDirectory: \"+numberOfNodesDirectory)\n",
    "                for nodeDirectory in os.listdir(os.path.join(root, functionTypeDirectory, functionDirectory, numberOfNodesDirectory, 'source-data')):\n",
    "                    path =  os.path.join(root, functionTypeDirectory, functionDirectory, numberOfNodesDirectory, 'source-data', nodeDirectory)\n",
    "                    f.write(\"\\nnodeDirectory: \"+nodeDirectory + \"\\n\")\n",
    "                    all_files = glob.glob(path + \"/*.csv\")\n",
    "                    dfs = []\n",
    "                    for filename in all_files:\n",
    "                        dfs.append(pd.read_csv(filename))\n",
    "                    i = 1\n",
    "                    for df in dfs:\n",
    "                        f.write(\"Experiment number:\" + str(i))\n",
    "                        f.write(\" Mean:\"+ str(df['CPU'].mean()))\n",
    "                        f.write(\" Max:\" + str(df['CPU'].max()) + \"\\n\")\n",
    "                        i += 1\n",
    "f.close()\n"
   ],
   "metadata": {
    "collapsed": false,
    "pycharm": {
     "name": "#%%\n",
     "is_executing": true
    }
   }
  }
 ],
 "metadata": {
  "kernelspec": {
   "display_name": "Python 3",
   "language": "python",
   "name": "python3"
  },
  "language_info": {
   "codemirror_mode": {
    "name": "ipython",
    "version": 2
   },
   "file_extension": ".py",
   "mimetype": "text/x-python",
   "name": "python",
   "nbconvert_exporter": "python",
   "pygments_lexer": "ipython2",
   "version": "2.7.6"
  }
 },
 "nbformat": 4,
 "nbformat_minor": 0
}