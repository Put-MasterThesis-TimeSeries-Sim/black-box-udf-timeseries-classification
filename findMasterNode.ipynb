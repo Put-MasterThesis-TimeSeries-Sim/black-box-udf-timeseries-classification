{
 "cells": [
  {
   "cell_type": "code",
   "execution_count": 61,
   "outputs": [],
   "source": [
    "import pandas as pd\n",
    "import glob\n",
    "import os\n",
    "import shutil\n"
   ],
   "metadata": {
    "collapsed": false,
    "pycharm": {
     "name": "#%%\n"
    }
   }
  },
  {
   "cell_type": "code",
   "execution_count": 62,
   "outputs": [],
   "source": [
    "f = open('findMasterReport.txt', 'w')\n",
    "root = \".\\Raw\"\n",
    "for functionTypeDirectory in os.listdir(root):\n",
    "    f.write(\"\\nfunctionTypeDirectory: \"+functionTypeDirectory)\n",
    "    if os.path.isdir(os.path.join(root, functionTypeDirectory)):\n",
    "        for functionDirectory in os.listdir(os.path.join(root, functionTypeDirectory)):\n",
    "            f.write(\"\\nfunctionDirectory: \"+functionDirectory)\n",
    "            for numberOfNodesDirectory in os.listdir(os.path.join(root, functionTypeDirectory, functionDirectory)):\n",
    "                f.write(\"\\nnumberOfNodesDirectory: \"+numberOfNodesDirectory)\n",
    "                destinationPath =  os.path.join(root, functionTypeDirectory, functionDirectory, numberOfNodesDirectory, 'source-data')\n",
    "                for nodeDirectory in os.listdir(destinationPath):\n",
    "                    path =  os.path.join(destinationPath, nodeDirectory)\n",
    "                    f.write(\"\\nnodeDirectory: \"+nodeDirectory + \"\\n\")\n",
    "                    all_files = glob.glob(path + \"/*.csv\")\n",
    "                    dfs = []\n",
    "                    i = 1\n",
    "                    for filename in all_files:\n",
    "                        df = pd.read_csv(filename)\n",
    "                        dfs.append(df)\n",
    "                        if not os.path.exists(os.path.join(destinationPath.replace(\"Raw\", \"Organised\"), str(i))):\n",
    "                            os.makedirs(os.path.join(destinationPath.replace(\"Raw\", \"Organised\"), str(i)))\n",
    "                        shutil.copyfile(filename, os.path.join(destinationPath.replace(\"Raw\", \"Organised\"), str(i), os.path.basename(filename)))\n",
    "\n",
    "                        i += 1\n",
    "                    i = 1\n",
    "                    for df in dfs:\n",
    "                        f.write(\"Experiment number:\" + str(i))\n",
    "                        f.write(\" CPU Mean:\"+ str(df['CPU'].mean()))\n",
    "                        f.write(\" CPU Max:\" + str(df['CPU'].max()))\n",
    "                        f.write(\" RAM Mean:\"+ str(df['RAM'].mean()))\n",
    "                        f.write(\" RAM Max:\" + str(df['RAM'].max()) + \"\\n\")\n",
    "                        i += 1\n",
    "\n",
    "f.close()\n"
   ],
   "metadata": {
    "collapsed": false,
    "pycharm": {
     "name": "#%%\n"
    }
   }
  }
 ],
 "metadata": {
  "kernelspec": {
   "display_name": "Python 3",
   "language": "python",
   "name": "python3"
  },
  "language_info": {
   "codemirror_mode": {
    "name": "ipython",
    "version": 2
   },
   "file_extension": ".py",
   "mimetype": "text/x-python",
   "name": "python",
   "nbconvert_exporter": "python",
   "pygments_lexer": "ipython2",
   "version": "2.7.6"
  }
 },
 "nbformat": 4,
 "nbformat_minor": 0
}