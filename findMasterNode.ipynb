{
 "cells": [
  {
   "cell_type": "code",
   "execution_count": 52,
   "metadata": {
    "collapsed": false,
    "pycharm": {
     "name": "#%%\n"
    }
   },
   "outputs": [
    {
     "name": "stdout",
     "output_type": "stream",
     "text": [
      "Importing the dtw module. When using in academic works please cite:\n",
      "  T. Giorgino. Computing and Visualizing Dynamic Time Warping Alignments in R: The dtw Package.\n",
      "  J. Stat. Soft., doi:10.18637/jss.v031.i07.\n",
      "\n"
     ]
    }
   ],
   "source": [
    "import pandas as pd\n",
    "import glob\n",
    "import os\n",
    "import shutil\n",
    "import re\n",
    "\n",
    "from plotnine import *\n",
    "from datetime import datetime\n",
    "\n",
    "from scipy.spatial import distance\n",
    "from dtw import *"
   ]
  },
  {
   "cell_type": "code",
   "execution_count": 78,
   "metadata": {},
   "outputs": [],
   "source": [
    "entry_directory = \"Raw\"\n",
    "prepared_directory = \"Prepared\"\n",
    "organised_directory = \"Organised\""
   ]
  },
  {
   "cell_type": "code",
   "execution_count": null,
   "metadata": {},
   "outputs": [],
   "source": [
    "def calculate_sums(file_path):\n",
    "\n",
    "    node_data_df = pd.read_csv(file_path, dtype = {'timestamp' : 'string', 'PID' : 'int', 'CPU': 'float64', 'RAM': 'float64'})\n",
    "    node_data_df['timestamp'] = node_data_df['timestamp'].apply(lambda x: x if len(x.split(\".\")) > 1 else x + \".000000\" )\n",
    "    node_data_df['epoch'] = node_data_df['timestamp'].apply(lambda x: (datetime.strptime(x, \"%Y-%m-%d %H:%M:%S.%f\") - datetime(1970, 1, 1)).total_seconds())\n",
    "    min_timestamp = node_data_df['epoch'].min()\n",
    "    node_data_df['epoch'] = node_data_df['epoch'].apply(lambda x: x - min_timestamp)\n",
    "    node_data_df.drop('PID', axis='columns', inplace=True)\n",
    "    node_data_df.drop('timestamp', axis='columns', inplace=True)\n",
    "    node_data_df = node_data_df.groupby(\"epoch\").sum()\n",
    "\n",
    "    return node_data_df\n",
    "\n",
    "\n",
    "for root, _, files in os.walk(f\".\\{entry_directory}\"):\n",
    "        for file in files:\n",
    "            full_path = os.path.join(root, file)\n",
    "            if re.search(\"\\d\\d_\\d\\d_\\d\\d\\d\\d_\\d\\d_\\d\\d_\\d\\d.csv$\", full_path):\n",
    "                if os.path.exists(full_path.replace(entry_directory, prepared_directory)):\n",
    "                    continue\n",
    "                calculated_dataframe_to_save = calculate_sums(full_path)\n",
    "                if not os.path.exists(root.replace(entry_directory, prepared_directory)):\n",
    "                    os.makedirs(root.replace(entry_directory, prepared_directory))\n",
    "                calculated_dataframe_to_save.to_csv(full_path.replace(entry_directory, prepared_directory))"
   ]
  },
  {
   "cell_type": "code",
   "execution_count": null,
   "metadata": {
    "collapsed": false,
    "pycharm": {
     "name": "#%%\n"
    }
   },
   "outputs": [],
   "source": [
    "root = \".\\Prepared\"\n",
    "for functionTypeDirectory in os.listdir(root):\n",
    "    if os.path.isdir(os.path.join(root, functionTypeDirectory)):\n",
    "        for functionDirectory in os.listdir(os.path.join(root, functionTypeDirectory)):\n",
    "            for numberOfNodesDirectory in os.listdir(os.path.join(root, functionTypeDirectory, functionDirectory)):\n",
    "                destinationPath =  os.path.join(root, functionTypeDirectory, functionDirectory, numberOfNodesDirectory, 'source-data')\n",
    "                for nodeDirectory in os.listdir(destinationPath):\n",
    "                    path =  os.path.join(destinationPath, nodeDirectory)\n",
    "                    all_files = glob.glob(path + \"/*.csv\")\n",
    "                    dfs = []\n",
    "                    i = 1\n",
    "                    for filename in all_files:\n",
    "                        df = pd.read_csv(filename)\n",
    "                        dfs.append(df)\n",
    "                        if df['RAM'].mean() >= 2 and df['CPU'].head(15).mean() > 3:\n",
    "                            if not os.path.exists(os.path.join(destinationPath.replace(\"Prepared\", \"Organised\"), str(i))):\n",
    "                                os.makedirs(os.path.join(destinationPath.replace(\"Prepared\", \"Organised\"), str(i)))\n",
    "                            shutil.copyfile(filename, os.path.join(destinationPath.replace(\"Prepared\", \"Organised\"), str(i), os.path.basename(filename)))\n",
    "                        i += 1\n"
   ]
  },
  {
   "cell_type": "code",
   "execution_count": 79,
   "metadata": {},
   "outputs": [],
   "source": [
    "def join_files(entry_dir, category):\n",
    "    directory = f\"./{entry_dir}/{category}\"\n",
    "    udf_dirs = os.listdir(directory)\n",
    "    label = category\n",
    "    result_df = pd.DataFrame()\n",
    "    snapshot = 0\n",
    "    for udf in udf_dirs:\n",
    "        for root, _, files in os.walk(f\"./{directory}/{udf}\"):\n",
    "            for file in files:\n",
    "                full_path = os.path.join(root, file)\n",
    "                node_data_df = pd.read_csv(full_path)\n",
    "                node_data_df['snapshot'] = snapshot\n",
    "                snapshot += 1\n",
    "                node_data_df[\"label\"] = label\n",
    "                node_data_df[\"udf\"] = udf\n",
    "                result_df = pd.concat([result_df,node_data_df])\n",
    "    result_df[[\"snapshot\", \"label\", \"udf\", \"epoch\", \"CPU\", \"RAM\"]].to_csv(f\"{directory}/joined_{category}.csv\", index = False)\n",
    "\n",
    "labels = ['aggregation', 'filtration', 'filtration-aggregation', 'filtration-aggregation-join', 'filtration-join']\n",
    "\n",
    "for label in labels:\n",
    "    join_files(organised_directory, label)"
   ]
  },
  {
   "cell_type": "code",
   "execution_count": 80,
   "metadata": {},
   "outputs": [],
   "source": [
    "def smooth_values(entry_dir, category, window_value,):\n",
    "    # reading file\n",
    "    path_to_df = f\"./{entry_dir}/{category}/joined_{category}.csv\"\n",
    "    df = pd.read_csv(path_to_df)\n",
    "    cpu_df = df.groupby('snapshot')['CPU'].rolling(window=window_value, min_periods = 1).mean().to_frame()\n",
    "    ram_df = df.groupby('snapshot')['RAM'].rolling(window=window_value, min_periods = 1).mean().to_frame()\n",
    "    df['CPU'] = cpu_df.reset_index()['CPU'] \n",
    "    df['CPU'] = df['CPU'].round(2)\n",
    "    df['RAM'] = ram_df.reset_index()['RAM']\n",
    "    df['RAM'] = df['RAM'].round(2)\n",
    "    df['epoch'] = df['epoch'].round(3)\n",
    "    df.fillna(0).to_csv(f\"./{entry_dir}/{category}/{window_value}_smooth_{category}.csv\", index = False)\n",
    "\n",
    "for label in labels:\n",
    "    smooth_values(organised_directory, label, 6)"
   ]
  },
  {
   "cell_type": "code",
   "execution_count": 30,
   "metadata": {},
   "outputs": [],
   "source": [
    "%matplotlib inline\n",
    "joined_aggregation_all = pd.read_csv(\"Organised/aggregation/joined_aggregation.csv\")\n",
    "joined_aggregation = joined_aggregation_all[joined_aggregation_all[\"snapshot\"] == 1]\n",
    "\n",
    "#(ggplot(joined_aggregation)         # defining what data to use\n",
    "#  + aes(x='epoch', y = \"CPU\")    # defining what variable to use\n",
    "#  + geom_line(size=0.5, color = \"red\") # defining the type of plot to use\n",
    "# )"
   ]
  },
  {
   "cell_type": "code",
   "execution_count": 35,
   "metadata": {},
   "outputs": [
    {
     "data": {
      "text/plain": "<Figure size 640x480 with 1 Axes>",
      "image/png": "[encoded data removed]"
     },
     "metadata": {},
     "output_type": "display_data"
    },
    {
     "data": {
      "text/plain": "<ggplot: (126105603094)>"
     },
     "execution_count": 35,
     "metadata": {},
     "output_type": "execute_result"
    }
   ],
   "source": [
    "joined_aggregation_smooth_all = pd.read_csv(\"Organised/aggregation/6_smooth_aggregation.csv\")\n",
    "joined_aggregation_smooth = joined_aggregation_smooth_all[joined_aggregation_smooth_all[\"snapshot\"] == 1]\n",
    "\n",
    "(ggplot(joined_aggregation_smooth)         # defining what data to use\n",
    " + aes(x='epoch', y = \"CPU\")    # defining what variable to use\n",
    " + geom_line(size=0.5, color = \"red\") # defining the type of plot to use\n",
    ")"
   ]
  },
  {
   "cell_type": "code",
   "execution_count": 89,
   "outputs": [],
   "source": [
    "def calculate_euclidean_distance(data, snapshot1, snapshot2):\n",
    "    a = data[data[\"snapshot\"] == snapshot1].head(496)\n",
    "    b = data[data[\"snapshot\"] == snapshot2].head(496)\n",
    "    cpu_dst = distance.euclidean(a['CPU'], b['CPU'])\n",
    "    ram_dst = distance.euclidean(a['RAM'], b['RAM'])\n",
    "    print(\"snapshot:\"+str(snapshot1)+\" and \"+\"snapshot:\"+str(snapshot2))\n",
    "    print(\"CPU distance:\"+str(cpu_dst))\n",
    "    print(\"RAM distance:\"+str(ram_dst))\n",
    "    print(\"\\n\")\n",
    "\n",
    "def calculate_dtw(data, snapshot1, snapshot2, data2=pd.DataFrame()):\n",
    "    if data2.empty:\n",
    "        data2 = data\n",
    "    a = data[data[\"snapshot\"] == snapshot1].head(496)\n",
    "    b = data2[data2[\"snapshot\"] == snapshot2].head(496)\n",
    "    alignment_cpu = dtw(a['CPU'], b['CPU'], keep_internals=True)\n",
    "    alignment_ram = dtw(a['RAM'], b['RAM'], keep_internals=True)\n",
    "    print(\"snapshot:\"+str(snapshot1)+\" and \"+\"snapshot:\"+str(snapshot2))\n",
    "    print(\"CPU distance:\"+str(alignment_cpu.distance))\n",
    "    print(\"CPU normalized distance:\"+str(alignment_cpu.normalizedDistance))\n",
    "    print(\"RAM distance:\"+str(alignment_ram.distance))\n",
    "    print(\"RAM normalized distance:\"+str(alignment_ram.normalizedDistance))\n",
    "    print(\"\\n\")\n",
    "    #alignment.plot(type=\"threeway\")\n",
    "    #dtw(a['CPU'], b['CPU'], keep_internals=True,\n",
    "    #step_pattern=rabinerJuangStepPattern(6, \"c\"))\\\n",
    "    #.plot(type=\"twoway\",offset=-2)"
   ],
   "metadata": {
    "collapsed": false,
    "pycharm": {
     "name": "#%%\n"
    }
   }
  },
  {
   "cell_type": "code",
   "execution_count": 78,
   "outputs": [
    {
     "name": "stdout",
     "output_type": "stream",
     "text": [
      "snapshot:0 and snapshot:1\n",
      "CPU distance:982.2344526639248\n",
      "RAM distance:34.884523789210604\n",
      "\n",
      "\n",
      "snapshot:0 and snapshot:2\n",
      "CPU distance:466.87459772405697\n",
      "RAM distance:4.543126676640235\n",
      "\n",
      "\n",
      "snapshot:1 and snapshot:2\n",
      "CPU distance:984.4933265390883\n",
      "RAM distance:33.514922049737784\n",
      "\n",
      "\n"
     ]
    }
   ],
   "source": [
    "calculate_euclidean_distance(joined_aggregation_all, 0, 1)\n",
    "calculate_euclidean_distance(joined_aggregation_all, 0, 2)\n",
    "calculate_euclidean_distance(joined_aggregation_all, 1, 2)"
   ],
   "metadata": {
    "collapsed": false,
    "pycharm": {
     "name": "#%%\n"
    }
   }
  },
  {
   "cell_type": "code",
   "execution_count": 90,
   "outputs": [
    {
     "name": "stdout",
     "output_type": "stream",
     "text": [
      "snapshot:0 and snapshot:1\n",
      "CPU distance:5160.199999999988\n",
      "CPU normalized distance:5.20181451612902\n",
      "RAM distance:228.10000000000008\n",
      "RAM normalized distance:0.22993951612903235\n",
      "\n",
      "\n",
      "snapshot:0 and snapshot:2\n",
      "CPU distance:2352.5999999999976\n",
      "CPU normalized distance:2.371572580645159\n",
      "RAM distance:126.20000000000132\n",
      "RAM normalized distance:0.1272177419354852\n",
      "\n",
      "\n",
      "snapshot:1 and snapshot:2\n",
      "CPU distance:4878.3999999999905\n",
      "CPU normalized distance:4.917741935483861\n",
      "RAM distance:194.2\n",
      "RAM normalized distance:0.19576612903225804\n",
      "\n",
      "\n"
     ]
    }
   ],
   "source": [
    "calculate_dtw(joined_aggregation_all, 0, 1)\n",
    "calculate_dtw(joined_aggregation_all, 0, 2)\n",
    "calculate_dtw(joined_aggregation_all, 1, 2)"
   ],
   "metadata": {
    "collapsed": false,
    "pycharm": {
     "name": "#%%\n"
    }
   }
  },
  {
   "cell_type": "code",
   "execution_count": 91,
   "outputs": [
    {
     "name": "stdout",
     "output_type": "stream",
     "text": [
      "snapshot:0 and snapshot:1\n",
      "CPU distance:693.6797718688357\n",
      "RAM distance:32.895730726037996\n",
      "\n",
      "\n",
      "snapshot:0 and snapshot:2\n",
      "CPU distance:247.45143786205813\n",
      "RAM distance:4.475075418358908\n",
      "\n",
      "\n",
      "snapshot:1 and snapshot:2\n",
      "CPU distance:672.6505059836051\n",
      "RAM distance:31.539682940701862\n",
      "\n",
      "\n"
     ]
    }
   ],
   "source": [
    "calculate_euclidean_distance(joined_aggregation_smooth_all, 0, 1)\n",
    "calculate_euclidean_distance(joined_aggregation_smooth_all, 0, 2)\n",
    "calculate_euclidean_distance(joined_aggregation_smooth_all, 1, 2)"
   ],
   "metadata": {
    "collapsed": false,
    "pycharm": {
     "name": "#%%\n"
    }
   }
  },
  {
   "cell_type": "code",
   "execution_count": 92,
   "outputs": [
    {
     "name": "stdout",
     "output_type": "stream",
     "text": [
      "snapshot:0 and snapshot:1\n",
      "CPU distance:2954.6799999999675\n",
      "CPU normalized distance:2.978508064516096\n",
      "RAM distance:192.11000000000018\n",
      "RAM normalized distance:0.1936592741935486\n",
      "\n",
      "\n",
      "snapshot:0 and snapshot:2\n",
      "CPU distance:1037.34\n",
      "CPU normalized distance:1.0457056451612903\n",
      "RAM distance:97.67000000000156\n",
      "RAM normalized distance:0.09845766129032416\n",
      "\n",
      "\n",
      "snapshot:1 and snapshot:2\n",
      "CPU distance:2961.989999999971\n",
      "CPU normalized distance:2.9858770161290034\n",
      "RAM distance:180.57\n",
      "RAM normalized distance:0.18202620967741934\n",
      "\n",
      "\n"
     ]
    }
   ],
   "source": [
    "calculate_dtw(joined_aggregation_smooth_all, 0, 1)\n",
    "calculate_dtw(joined_aggregation_smooth_all, 0, 2)\n",
    "calculate_dtw(joined_aggregation_smooth_all, 1, 2)"
   ],
   "metadata": {
    "collapsed": false,
    "pycharm": {
     "name": "#%%\n"
    }
   }
  },
  {
   "cell_type": "code",
   "execution_count": 94,
   "outputs": [
    {
     "name": "stdout",
     "output_type": "stream",
     "text": [
      "snapshot:0 and snapshot:1\n",
      "CPU distance:3491.199999999994\n",
      "CPU normalized distance:5.395981452859341\n",
      "RAM distance:190.3999999999998\n",
      "RAM normalized distance:0.2942812982998451\n",
      "\n",
      "\n",
      "snapshot:0 and snapshot:2\n",
      "CPU distance:3374.599999999993\n",
      "CPU normalized distance:5.314330708661406\n",
      "RAM distance:201.0\n",
      "RAM normalized distance:0.3165354330708661\n",
      "\n",
      "\n",
      "snapshot:1 and snapshot:2\n",
      "CPU distance:4265.199999999994\n",
      "CPU normalized distance:6.716850393700779\n",
      "RAM distance:144.99999999999997\n",
      "RAM normalized distance:0.22834645669291334\n",
      "\n",
      "\n"
     ]
    }
   ],
   "source": [
    "# Compare two different functions\n",
    "joined_filtration_all = pd.read_csv(\"Organised/filtration/joined_filtration.csv\")\n",
    "calculate_dtw(joined_aggregation_all, 0, 1, joined_filtration_all)\n",
    "calculate_dtw(joined_aggregation_all, 0, 2, joined_filtration_all)\n",
    "calculate_dtw(joined_aggregation_all, 1, 2, joined_filtration_all)\n"
   ],
   "metadata": {
    "collapsed": false,
    "pycharm": {
     "name": "#%%\n"
    }
   }
  }
 ],
 "metadata": {
  "kernelspec": {
   "display_name": "Python 3",
   "language": "python",
   "name": "python3"
  },
  "language_info": {
   "codemirror_mode": {
    "name": "ipython",
    "version": 3
   },
   "file_extension": ".py",
   "mimetype": "text/x-python",
   "name": "python",
   "nbconvert_exporter": "python",
   "pygments_lexer": "ipython3",
   "version": "3.10.2"
  }
 },
 "nbformat": 4,
 "nbformat_minor": 0
}