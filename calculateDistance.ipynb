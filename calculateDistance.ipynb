{
 "cells": [
  {
   "cell_type": "code",
   "execution_count": null,
   "metadata": {
    "pycharm": {
     "name": "#%%\n"
    }
   },
   "outputs": [],
   "source": [
    "from plotnine import *\n",
    "from scipy.spatial import distance\n",
    "import pandas as pd\n",
    "from dtw import *\n",
    "import dtaidistance as dd\n",
    "from dtaidistance import dtw_visualisation as dtwvis"
   ]
  },
  {
   "cell_type": "code",
   "execution_count": null,
   "metadata": {},
   "outputs": [],
   "source": [
    "%matplotlib inline\n",
    "joined_aggregation_all = pd.read_csv(\"Organised/aggregation/joined_aggregation.csv\")\n",
    "joined_aggregation = joined_aggregation_all[joined_aggregation_all[\"snapshot\"] == 1]\n",
    "\n",
    "(ggplot(joined_aggregation)         # defining what data to use\n",
    "  + aes(x='epoch', y = \"CPU\")    # defining what variable to use\n",
    "  + geom_line(size=0.5, color = \"red\") # defining the type of plot to use\n",
    " )"
   ]
  },
  {
   "cell_type": "code",
   "execution_count": null,
   "metadata": {
    "pycharm": {
     "name": "#%%\n"
    }
   },
   "outputs": [],
   "source": [
    "joined_aggregation_smooth_all = pd.read_csv(\"Organised/aggregation/12_joined_smooth_aggregation.csv\")\n",
    "joined_aggregation_smooth = joined_aggregation_smooth_all[joined_aggregation_smooth_all[\"snapshot\"] == 1]\n",
    "\n",
    "(ggplot(joined_aggregation_smooth)         # defining what data to use\n",
    " + aes(x='epoch', y = \"CPU\")    # defining what variable to use\n",
    " + geom_line(size=0.5, color = \"red\") # defining the type of plot to use\n",
    ")"
   ]
  },
  {
   "cell_type": "code",
   "execution_count": null,
   "metadata": {
    "pycharm": {
     "name": "#%%\n"
    }
   },
   "outputs": [],
   "source": [
    "standardised_joined_aggregation_smooth_all = pd.read_csv(\"Organised/aggregation/12_standardised_smooth_aggregation.csv\")\n",
    "standardised_aggregation = pd.read_csv(\"Organised/aggregation/standardised_aggregation.csv\")\n",
    "joined_filtration_smooth_all = pd.read_csv(\"Organised/filtration/12_joined_smooth_filtration.csv\")\n",
    "joined_filtration_all = pd.read_csv(\"Organised/filtration/joined_filtration.csv\")\n",
    "standardised_joined_filtration_smooth_all = pd.read_csv(\"Organised/filtration/12_standardised_smooth_filtration.csv\")\n",
    "standardised_joined_filtration = pd.read_csv(\"Organised/filtration/standardised_filtration.csv\")"
   ]
  },
  {
   "cell_type": "code",
   "execution_count": null,
   "metadata": {
    "pycharm": {
     "name": "#%%\n"
    }
   },
   "outputs": [],
   "source": [
    "def calculate_euclidean_distance(data, snapshot1, snapshot2, max_length):\n",
    "    a = data[data[\"snapshot\"] == snapshot1].head(max_length)\n",
    "    b = data[data[\"snapshot\"] == snapshot2].head(max_length)\n",
    "    cpu_dst = distance.euclidean(a['CPU'], b['CPU'])\n",
    "    ram_dst = distance.euclidean(a['RAM'], b['RAM'])\n",
    "    return cpu_dst, ram_dst\n",
    "\n",
    "def calculate_dtw_dtw_library(data, snapshot1, snapshot2, data2=pd.DataFrame()):\n",
    "    if data2.empty:\n",
    "        data2 = data\n",
    "    a = data[data[\"snapshot\"] == snapshot1]\n",
    "    b = data2[data2[\"snapshot\"] == snapshot2]\n",
    "    step_pattern = symmetric2\n",
    "    alignment_cpu = dtw(a['CPU'], b['CPU'], step_pattern=step_pattern, keep_internals=True)\n",
    "    alignment_ram = dtw(a['RAM'], b['RAM'], step_pattern=step_pattern, keep_internals=True)\n",
    "    #fig = dtw(a['CPU'], b['CPU'], keep_internals=True, step_pattern=step_pattern).plot(type=\"twoway\",offset=-2)\n",
    "    #fig.get_figure().savefig(\"dtw_dtw_library.png\")\n",
    "    return alignment_cpu.normalizedDistance, alignment_cpu.distance, alignment_ram.normalizedDistance, alignment_ram.distance\n",
    "\n",
    "def calculate_dtw_dtaidistance_library(data, snapshot1, snapshot2, data2=pd.DataFrame()):\n",
    "    if data2.empty:\n",
    "        data2 = data\n",
    "    a = data[data[\"snapshot\"] == snapshot1]\n",
    "    b = data2[data2[\"snapshot\"] == snapshot2]\n",
    "    d_cpu = dd.dtw.distance(a['CPU'].to_numpy(), b['CPU'].to_numpy())\n",
    "    path = dd.dtw.warping_path(a['CPU'].to_numpy(), b['CPU'].to_numpy())\n",
    "    dtwvis.plot_warping(a['CPU'].to_numpy(), b['CPU'].to_numpy(), path, filename=\"dtw_dtaidistance_library.png\")\n",
    "\n",
    "    d_ram = dd.dtw.distance(a['RAM'].to_numpy(), b['RAM'].to_numpy())\n",
    "    return d_cpu, d_ram"
   ]
  },
  {
   "cell_type": "code",
   "execution_count": null,
   "metadata": {
    "pycharm": {
     "name": "#%%\n"
    }
   },
   "outputs": [],
   "source": [
    "def draw_comparison_diagram(data, snapshot1, snapshot2, title=\"Title\", y_data = \"CPU\", data2=pd.DataFrame(), max_length=496):\n",
    "    if data2.empty:\n",
    "        data2 = data\n",
    "    a = data[data[\"snapshot\"] == snapshot1]\n",
    "    b = data2[data2[\"snapshot\"] == snapshot2]\n",
    "    comparison_data = pd.concat([a, b])\n",
    "    euc_cpu_dist, euc_ram_dist = calculate_euclidean_distance(comparison_data, snapshot1, snapshot2, max_length)\n",
    "    dtw_cpu_dist_normalized, dtw_cpu_dist, dtw_ram_dist_normalized, dtw_ram_dist = \\\n",
    "        calculate_dtw_dtw_library(a, snapshot1, snapshot2, b)\n",
    "    dtaidistance_cpu, dtaidistance_ram = calculate_dtw_dtaidistance_library(a, snapshot1, snapshot2, b)\n",
    "    if y_data == \"CPU\":\n",
    "        euc_dist = euc_cpu_dist\n",
    "        dtw_dist_normalized = dtw_cpu_dist_normalized\n",
    "        dtw_dist = dtw_cpu_dist\n",
    "        dtaidistance = dtaidistance_cpu\n",
    "    else:\n",
    "        euc_dist = euc_ram_dist\n",
    "        dtw_dist_normalized = dtw_ram_dist_normalized\n",
    "        dtw_dist = dtw_ram_dist\n",
    "        dtaidistance = dtaidistance_ram\n",
    "    return qplot(data=comparison_data, x=\"epoch\", y=y_data,\n",
    "          facets=\"snapshot\",\n",
    "          color = \"factor(snapshot)\",\n",
    "          geom=\"line\",\n",
    "          xlab=\"Epoch\", ylab=y_data,\n",
    "          main=title\n",
    "               + \"\\nEuclidan distance:\"+ str(round(euc_dist, 2))\n",
    "               + \"\\nDTW normalized distance - dtw library:\"+ str(round(dtw_dist_normalized, 2))\n",
    "               + \"\\nDTW distance - dtw library:\"+ str(round(dtw_dist, 2))\n",
    "               + \"\\nDTW distance - dtaidistance library:\"+ str(round(dtaidistance, 2))) \\\n",
    "    + \\\n",
    "    theme(figure_size=(11,6))"
   ]
  },
  {
   "cell_type": "markdown",
   "metadata": {},
   "source": [
    "## Distance - identical data"
   ]
  },
  {
   "cell_type": "code",
   "execution_count": null,
   "metadata": {
    "pycharm": {
     "name": "#%%\n"
    }
   },
   "outputs": [],
   "source": [
    "print(draw_comparison_diagram(joined_aggregation_all, 1, 1, \"Two identical data\"))"
   ]
  },
  {
   "cell_type": "markdown",
   "metadata": {},
   "source": [
    "## Distance - joined aggregation"
   ]
  },
  {
   "cell_type": "code",
   "execution_count": null,
   "metadata": {
    "pycharm": {
     "name": "#%%\n"
    }
   },
   "outputs": [],
   "source": [
    "## CPU\n",
    "print(draw_comparison_diagram(joined_aggregation_all, 0, 1, \"Aggregation 0 1\"))\n",
    "print(draw_comparison_diagram(joined_aggregation_all, 0, 2, \"Aggregation 0 2\"))\n",
    "print(draw_comparison_diagram(joined_aggregation_all, 1, 2, \"Aggregation 1 2\"))\n",
    "## RAM\n",
    "print(draw_comparison_diagram(joined_aggregation_all, 0, 1, \"Aggregation 0 1\", \"RAM\"))\n",
    "print(draw_comparison_diagram(joined_aggregation_all, 0, 2, \"Aggregation 0 2\", \"RAM\"))\n",
    "print(draw_comparison_diagram(joined_aggregation_all, 1, 2, \"Aggregation 1 2\", \"RAM\"))"
   ]
  },
  {
   "cell_type": "markdown",
   "metadata": {},
   "source": [
    "## Distance - standardised aggregation"
   ]
  },
  {
   "cell_type": "code",
   "execution_count": null,
   "metadata": {
    "pycharm": {
     "name": "#%%\n"
    }
   },
   "outputs": [],
   "source": [
    "## CPU\n",
    "print(draw_comparison_diagram(standardised_aggregation, 0, 1, \"Aggregation 0 1\"))\n",
    "print(draw_comparison_diagram(standardised_aggregation, 0, 2, \"Aggregation 0 2\"))\n",
    "print(draw_comparison_diagram(standardised_aggregation, 1, 2, \"Aggregation 1 2\"))\n",
    "## RAM\n",
    "print(draw_comparison_diagram(standardised_aggregation, 0, 1, \"Aggregation 0 1\", \"RAM\"))\n",
    "print(draw_comparison_diagram(standardised_aggregation, 0, 2, \"Aggregation 0 2\", \"RAM\"))\n",
    "print(draw_comparison_diagram(standardised_aggregation, 1, 2, \"Aggregation 1 2\", \"RAM\"))"
   ]
  },
  {
   "cell_type": "markdown",
   "metadata": {},
   "source": [
    "## Distance - smooth aggregation"
   ]
  },
  {
   "cell_type": "code",
   "execution_count": null,
   "metadata": {
    "pycharm": {
     "name": "#%%\n"
    }
   },
   "outputs": [],
   "source": [
    "## CPU\n",
    "print(draw_comparison_diagram(joined_aggregation_smooth_all, 0, 1, \"Smooth aggregation 0 1\"))\n",
    "print(draw_comparison_diagram(joined_aggregation_smooth_all, 0, 2, \"Smooth aggregation 0 2\"))\n",
    "print(draw_comparison_diagram(joined_aggregation_smooth_all, 1, 2, \"Smooth aggregation 1 2\"))\n",
    "## RAM\n",
    "print(draw_comparison_diagram(joined_aggregation_smooth_all, 0, 1, \"Smooth aggregation 0 1\", \"RAM\"))\n",
    "print(draw_comparison_diagram(joined_aggregation_smooth_all, 0, 2, \"Smooth aggregation 0 2\", \"RAM\"))\n",
    "print(draw_comparison_diagram(joined_aggregation_smooth_all, 1, 2, \"Smooth aggregation 1 2\", \"RAM\"))"
   ]
  },
  {
   "cell_type": "markdown",
   "metadata": {},
   "source": [
    "## Distance - standardised smooth aggregation"
   ]
  },
  {
   "cell_type": "code",
   "execution_count": null,
   "metadata": {
    "pycharm": {
     "name": "#%%\n"
    }
   },
   "outputs": [],
   "source": [
    "## CPU\n",
    "print(draw_comparison_diagram(standardised_joined_aggregation_smooth_all, 0, 1, \"Smooth aggregation 0 1\"))\n",
    "print(draw_comparison_diagram(standardised_joined_aggregation_smooth_all, 0, 2, \"Smooth aggregation 0 2\"))\n",
    "print(draw_comparison_diagram(standardised_joined_aggregation_smooth_all, 1, 2, \"Smooth aggregation 1 2\"))\n",
    "## RAM\n",
    "print(draw_comparison_diagram(standardised_joined_aggregation_smooth_all, 0, 1, \"Smooth aggregation 0 1\", \"RAM\"))\n",
    "print(draw_comparison_diagram(standardised_joined_aggregation_smooth_all, 0, 2, \"Smooth aggregation 0 2\", \"RAM\"))\n",
    "print(draw_comparison_diagram(standardised_joined_aggregation_smooth_all, 1, 2, \"Smooth aggregation 1 2\", \"RAM\"))"
   ]
  },
  {
   "cell_type": "markdown",
   "metadata": {},
   "source": [
    "## Distance - filtration vs aggregation"
   ]
  },
  {
   "cell_type": "code",
   "execution_count": null,
   "outputs": [],
   "source": [
    "# Compare two different functions\n",
    "## CPU\n",
    "print(draw_comparison_diagram(joined_aggregation_all, 0, 1,  \"Aggregation vs Filtration 0 1\", \"CPU\", joined_filtration_all, 151))\n",
    "print(draw_comparison_diagram(joined_aggregation_all, 0, 2,  \"Aggregation vs Filtration 0 2\", \"CPU\", joined_filtration_all, 139))\n",
    "print(draw_comparison_diagram(joined_aggregation_all, 1, 2,  \"Aggregation vs Filtration 1 2\", \"CPU\", joined_filtration_all, 139))\n",
    "\n",
    "## RAM\n",
    "print(draw_comparison_diagram(joined_aggregation_all, 0, 1,  \"Aggregation vs Filtration 0 1\", \"RAM\", joined_filtration_all, 151))\n",
    "print(draw_comparison_diagram(joined_aggregation_all, 0, 2,  \"Aggregation vs Filtration 0 2\", \"RAM\", joined_filtration_all, 139))\n",
    "print(draw_comparison_diagram(joined_aggregation_all, 1, 2,  \"Aggregation vs Filtration 1 2\", \"RAM\", joined_filtration_all, 139))"
   ],
   "metadata": {
    "collapsed": false,
    "pycharm": {
     "name": "#%%\n"
    }
   }
  },
  {
   "cell_type": "markdown",
   "source": [
    "## Distance - standardised filtration vs aggregation"
   ],
   "metadata": {
    "collapsed": false
   }
  },
  {
   "cell_type": "code",
   "execution_count": null,
   "outputs": [],
   "source": [
    "# Compare two different functions\n",
    "## CPU\n",
    "print(draw_comparison_diagram(standardised_aggregation, 0, 1,  \"Aggregation vs Filtration 0 1\", \"CPU\", standardised_joined_filtration, 151))\n",
    "print(draw_comparison_diagram(standardised_aggregation, 0, 2,  \"Aggregation vs Filtration 0 2\", \"CPU\", standardised_joined_filtration, 139))\n",
    "print(draw_comparison_diagram(standardised_aggregation, 1, 2,  \"Aggregation vs Filtration 1 2\", \"CPU\", standardised_joined_filtration, 139))\n",
    "\n",
    "## RAM\n",
    "print(draw_comparison_diagram(standardised_aggregation, 0, 1,  \"Aggregation vs Filtration 0 1\", \"RAM\", standardised_joined_filtration, 151))\n",
    "print(draw_comparison_diagram(standardised_aggregation, 0, 2,  \"Aggregation vs Filtration 0 2\", \"RAM\", standardised_joined_filtration, 139))\n",
    "print(draw_comparison_diagram(standardised_aggregation, 1, 2,  \"Aggregation vs Filtration 1 2\", \"RAM\", standardised_joined_filtration, 139))"
   ],
   "metadata": {
    "collapsed": false,
    "pycharm": {
     "name": "#%%\n"
    }
   }
  },
  {
   "cell_type": "markdown",
   "source": [
    "## Distance - smooth filtration vs aggregation"
   ],
   "metadata": {
    "collapsed": false
   }
  },
  {
   "cell_type": "code",
   "execution_count": null,
   "metadata": {
    "pycharm": {
     "name": "#%%\n"
    }
   },
   "outputs": [],
   "source": [
    "# Compare two different functions\n",
    "## CPU\n",
    "print(draw_comparison_diagram(joined_aggregation_smooth_all, 0, 1,  \"Aggregation vs Filtration 0 1\", \"CPU\", joined_filtration_smooth_all, 151))\n",
    "print(draw_comparison_diagram(joined_aggregation_smooth_all, 0, 2,  \"Aggregation vs Filtration 0 2\", \"CPU\", joined_filtration_smooth_all, 139))\n",
    "print(draw_comparison_diagram(joined_aggregation_smooth_all, 1, 2,  \"Aggregation vs Filtration 1 2\", \"CPU\", joined_filtration_smooth_all, 139))\n",
    "\n",
    "## RAM\n",
    "print(draw_comparison_diagram(joined_aggregation_smooth_all, 0, 1,  \"Aggregation vs Filtration 0 1\", \"RAM\", joined_filtration_smooth_all, 151))\n",
    "print(draw_comparison_diagram(joined_aggregation_smooth_all, 0, 2,  \"Aggregation vs Filtration 0 2\", \"RAM\", joined_filtration_smooth_all, 139))\n",
    "print(draw_comparison_diagram(joined_aggregation_smooth_all, 1, 2,  \"Aggregation vs Filtration 1 2\", \"RAM\", joined_filtration_smooth_all, 139))"
   ]
  },
  {
   "cell_type": "markdown",
   "source": [
    "## Distance - standardised smooth filtration vs aggregation"
   ],
   "metadata": {
    "collapsed": false
   }
  },
  {
   "cell_type": "code",
   "execution_count": null,
   "outputs": [],
   "source": [
    "# Compare two different functions\n",
    "## CPU\n",
    "print(draw_comparison_diagram(standardised_joined_aggregation_smooth_all, 0, 1,  \"Aggregation vs Filtration 0 1\", \"CPU\", standardised_joined_filtration_smooth_all, 151))\n",
    "print(draw_comparison_diagram(standardised_joined_aggregation_smooth_all, 0, 2,  \"Aggregation vs Filtration 0 2\", \"CPU\", standardised_joined_filtration_smooth_all, 139))\n",
    "print(draw_comparison_diagram(standardised_joined_aggregation_smooth_all, 1, 2,  \"Aggregation vs Filtration 1 2\", \"CPU\", standardised_joined_filtration_smooth_all, 139))\n",
    "\n",
    "## RAM\n",
    "print(draw_comparison_diagram(standardised_joined_aggregation_smooth_all, 0, 1,  \"Aggregation vs Filtration 0 1\", \"RAM\", standardised_joined_filtration_smooth_all, 151))\n",
    "print(draw_comparison_diagram(standardised_joined_aggregation_smooth_all, 0, 2,  \"Aggregation vs Filtration 0 2\", \"RAM\", standardised_joined_filtration_smooth_all, 139))\n",
    "print(draw_comparison_diagram(standardised_joined_aggregation_smooth_all, 1, 2,  \"Aggregation vs Filtration 1 2\", \"RAM\", standardised_joined_filtration_smooth_all, 139))"
   ],
   "metadata": {
    "collapsed": false,
    "pycharm": {
     "name": "#%%\n"
    }
   }
  }
 ],
 "metadata": {
  "kernelspec": {
   "display_name": "Python 3 (ipykernel)",
   "language": "python",
   "name": "python3"
  },
  "language_info": {
   "codemirror_mode": {
    "name": "ipython",
    "version": 3
   },
   "file_extension": ".py",
   "mimetype": "text/x-python",
   "name": "python",
   "nbconvert_exporter": "python",
   "pygments_lexer": "ipython3",
   "version": "3.8.5"
  }
 },
 "nbformat": 4,
 "nbformat_minor": 1
}